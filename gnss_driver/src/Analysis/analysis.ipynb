{
 "cells": [
  {
   "cell_type": "code",
   "execution_count": 1,
   "metadata": {},
   "outputs": [],
   "source": [
    "import bagpy\n",
    "from bagpy import bagreader"
   ]
  },
  {
   "cell_type": "code",
   "execution_count": 2,
   "metadata": {},
   "outputs": [],
   "source": [
    "#stationary_open = bagreader('/home/laleth/Robotic Sensing and Navigation/Lab0/LAB0_ws/src/Data/open_stationary.bag')\n",
    "#walking_open = bagreader('/home/laleth/Robotic Sensing and Navigation/Lab0/LAB0_ws/src/Data/open_walking.bag')\n",
    "\n",
    "#stationary_occluded = bagreader('/home/laleth/Robotic Sensing and Navigation/Lab0/LAB0_ws/src/Data/occluded_stationary.bag')\n",
    "#walking_occluded = bagreader('/home/laleth/Robotic Sensing and Navigation/Lab0/LAB0_ws/src/Data/occluded_walking.bag')"
   ]
  },
  {
   "cell_type": "code",
   "execution_count": 3,
   "metadata": {},
   "outputs": [],
   "source": [
    "#stationary_open.topic_table"
   ]
  },
  {
   "cell_type": "code",
   "execution_count": 4,
   "metadata": {},
   "outputs": [],
   "source": [
    "#gps_data_op_s = stationary_open.message_by_topic('/gps')\n",
    "#gps_data_op_w = walking_open.message_by_topic('/gps')\n",
    "\n",
    "#gps_data_oc_s = stationary_occluded.message_by_topic('/gps')\n",
    "#gps_data_oc_w = walking_occluded.message_by_topic('/gps')"
   ]
  },
  {
   "cell_type": "code",
   "execution_count": 5,
   "metadata": {},
   "outputs": [],
   "source": [
    "import pandas as pd\n",
    "df_op_s = pd.read_csv('open_stationary/gps.csv')\n",
    "df_op_w = pd.read_csv('open_walking/gps.csv')\n",
    "\n",
    "df_oc_s = pd.read_csv('occluded_stationary/gps.csv')\n",
    "df_oc_w = pd.read_csv('occluded_walking/gps.csv')"
   ]
  },
  {
   "cell_type": "code",
   "execution_count": 6,
   "metadata": {},
   "outputs": [
    {
     "data": {
      "text/html": [
       "<div>\n",
       "<style scoped>\n",
       "    .dataframe tbody tr th:only-of-type {\n",
       "        vertical-align: middle;\n",
       "    }\n",
       "\n",
       "    .dataframe tbody tr th {\n",
       "        vertical-align: top;\n",
       "    }\n",
       "\n",
       "    .dataframe thead th {\n",
       "        text-align: right;\n",
       "    }\n",
       "</style>\n",
       "<table border=\"1\" class=\"dataframe\">\n",
       "  <thead>\n",
       "    <tr style=\"text-align: right;\">\n",
       "      <th></th>\n",
       "      <th>Time</th>\n",
       "      <th>Header.seq</th>\n",
       "      <th>Header.stamp.secs</th>\n",
       "      <th>Header.stamp.nsecs</th>\n",
       "      <th>Header.frame_id</th>\n",
       "      <th>Latitude</th>\n",
       "      <th>Longitude</th>\n",
       "      <th>Altitude</th>\n",
       "      <th>HDOP</th>\n",
       "      <th>Fix_quality</th>\n",
       "      <th>UTM_easting</th>\n",
       "      <th>UTM_northing</th>\n",
       "      <th>UTC</th>\n",
       "      <th>Zone</th>\n",
       "      <th>Letter</th>\n",
       "    </tr>\n",
       "  </thead>\n",
       "  <tbody>\n",
       "    <tr>\n",
       "      <th>22</th>\n",
       "      <td>1.677021e+09</td>\n",
       "      <td>43</td>\n",
       "      <td>231541</td>\n",
       "      <td>0</td>\n",
       "      <td>GPS1_Frame</td>\n",
       "      <td>42.308220</td>\n",
       "      <td>-71.106049</td>\n",
       "      <td>25.700001</td>\n",
       "      <td>1.54</td>\n",
       "      <td>5</td>\n",
       "      <td>326422.81250</td>\n",
       "      <td>4686146.5</td>\n",
       "      <td>231541.0</td>\n",
       "      <td>19</td>\n",
       "      <td>T</td>\n",
       "    </tr>\n",
       "    <tr>\n",
       "      <th>23</th>\n",
       "      <td>1.677021e+09</td>\n",
       "      <td>44</td>\n",
       "      <td>231543</td>\n",
       "      <td>0</td>\n",
       "      <td>GPS1_Frame</td>\n",
       "      <td>42.308228</td>\n",
       "      <td>-71.106033</td>\n",
       "      <td>26.700001</td>\n",
       "      <td>1.54</td>\n",
       "      <td>5</td>\n",
       "      <td>326423.65625</td>\n",
       "      <td>4686147.5</td>\n",
       "      <td>231543.0</td>\n",
       "      <td>19</td>\n",
       "      <td>T</td>\n",
       "    </tr>\n",
       "    <tr>\n",
       "      <th>24</th>\n",
       "      <td>1.677021e+09</td>\n",
       "      <td>45</td>\n",
       "      <td>231544</td>\n",
       "      <td>0</td>\n",
       "      <td>GPS1_Frame</td>\n",
       "      <td>42.308235</td>\n",
       "      <td>-71.106033</td>\n",
       "      <td>26.700001</td>\n",
       "      <td>1.54</td>\n",
       "      <td>5</td>\n",
       "      <td>326424.00000</td>\n",
       "      <td>4686148.0</td>\n",
       "      <td>231544.0</td>\n",
       "      <td>19</td>\n",
       "      <td>T</td>\n",
       "    </tr>\n",
       "    <tr>\n",
       "      <th>25</th>\n",
       "      <td>1.677021e+09</td>\n",
       "      <td>46</td>\n",
       "      <td>231545</td>\n",
       "      <td>0</td>\n",
       "      <td>GPS1_Frame</td>\n",
       "      <td>42.308239</td>\n",
       "      <td>-71.106033</td>\n",
       "      <td>26.900000</td>\n",
       "      <td>1.28</td>\n",
       "      <td>5</td>\n",
       "      <td>326424.09375</td>\n",
       "      <td>4686148.0</td>\n",
       "      <td>231545.0</td>\n",
       "      <td>19</td>\n",
       "      <td>T</td>\n",
       "    </tr>\n",
       "    <tr>\n",
       "      <th>26</th>\n",
       "      <td>1.677021e+09</td>\n",
       "      <td>47</td>\n",
       "      <td>231546</td>\n",
       "      <td>0</td>\n",
       "      <td>GPS1_Frame</td>\n",
       "      <td>42.308239</td>\n",
       "      <td>-71.106026</td>\n",
       "      <td>26.900000</td>\n",
       "      <td>1.28</td>\n",
       "      <td>5</td>\n",
       "      <td>326424.18750</td>\n",
       "      <td>4686148.5</td>\n",
       "      <td>231546.0</td>\n",
       "      <td>19</td>\n",
       "      <td>T</td>\n",
       "    </tr>\n",
       "  </tbody>\n",
       "</table>\n",
       "</div>"
      ],
      "text/plain": [
       "            Time  Header.seq  Header.stamp.secs  Header.stamp.nsecs  \\\n",
       "22  1.677021e+09          43             231541                   0   \n",
       "23  1.677021e+09          44             231543                   0   \n",
       "24  1.677021e+09          45             231544                   0   \n",
       "25  1.677021e+09          46             231545                   0   \n",
       "26  1.677021e+09          47             231546                   0   \n",
       "\n",
       "   Header.frame_id   Latitude  Longitude   Altitude  HDOP  Fix_quality  \\\n",
       "22      GPS1_Frame  42.308220 -71.106049  25.700001  1.54            5   \n",
       "23      GPS1_Frame  42.308228 -71.106033  26.700001  1.54            5   \n",
       "24      GPS1_Frame  42.308235 -71.106033  26.700001  1.54            5   \n",
       "25      GPS1_Frame  42.308239 -71.106033  26.900000  1.28            5   \n",
       "26      GPS1_Frame  42.308239 -71.106026  26.900000  1.28            5   \n",
       "\n",
       "     UTM_easting  UTM_northing       UTC  Zone Letter  \n",
       "22  326422.81250     4686146.5  231541.0    19      T  \n",
       "23  326423.65625     4686147.5  231543.0    19      T  \n",
       "24  326424.00000     4686148.0  231544.0    19      T  \n",
       "25  326424.09375     4686148.0  231545.0    19      T  \n",
       "26  326424.18750     4686148.5  231546.0    19      T  "
      ]
     },
     "execution_count": 6,
     "metadata": {},
     "output_type": "execute_result"
    }
   ],
   "source": [
    "df_oc_s.head()\n",
    "df_oc_w.tail()"
   ]
  },
  {
   "attachments": {},
   "cell_type": "markdown",
   "metadata": {},
   "source": [
    "## Analysis of stationary data from open field\n",
    "Location - Scagnoli-Nihill Athletic Complex in Jamaica Plains\n",
    "\n",
    "From google maps -> lat = 42.30775, lon = -71.10752\n",
    "***"
   ]
  },
  {
   "cell_type": "code",
   "execution_count": 7,
   "metadata": {},
   "outputs": [],
   "source": [
    "# Location - Scagnoli-Nihill Athletic Complex in Jamaica Plains\n",
    "# From google maps -> lat = 42.30775, lon = -71.10752\n",
    "\n",
    "known_lat, known_lon = 42.30775, -71.10752\n",
    "\n",
    "import utm\n",
    "\n",
    "utm_converted = utm.from_latlon(42.30775,-71.10752)\n",
    "\n",
    "known_easting,known_northing,known_zone,known_letter = utm_converted[0],utm_converted[1],utm_converted[2],utm_converted[3]"
   ]
  },
  {
   "cell_type": "code",
   "execution_count": 8,
   "metadata": {},
   "outputs": [
    {
     "data": {
      "text/html": [
       "<div>\n",
       "<style scoped>\n",
       "    .dataframe tbody tr th:only-of-type {\n",
       "        vertical-align: middle;\n",
       "    }\n",
       "\n",
       "    .dataframe tbody tr th {\n",
       "        vertical-align: top;\n",
       "    }\n",
       "\n",
       "    .dataframe thead th {\n",
       "        text-align: right;\n",
       "    }\n",
       "</style>\n",
       "<table border=\"1\" class=\"dataframe\">\n",
       "  <thead>\n",
       "    <tr style=\"text-align: right;\">\n",
       "      <th></th>\n",
       "      <th>Time</th>\n",
       "      <th>Header.seq</th>\n",
       "      <th>Header.stamp.secs</th>\n",
       "      <th>Header.stamp.nsecs</th>\n",
       "      <th>Header.frame_id</th>\n",
       "      <th>Latitude</th>\n",
       "      <th>Longitude</th>\n",
       "      <th>Altitude</th>\n",
       "      <th>HDOP</th>\n",
       "      <th>Fix_quality</th>\n",
       "      <th>UTM_easting</th>\n",
       "      <th>UTM_northing</th>\n",
       "      <th>UTC</th>\n",
       "      <th>Zone</th>\n",
       "      <th>Letter</th>\n",
       "      <th>modified_northing</th>\n",
       "      <th>modified_easting</th>\n",
       "    </tr>\n",
       "  </thead>\n",
       "  <tbody>\n",
       "    <tr>\n",
       "      <th>614</th>\n",
       "      <td>1.677019e+09</td>\n",
       "      <td>617</td>\n",
       "      <td>223820</td>\n",
       "      <td>0</td>\n",
       "      <td>GPS1_Frame</td>\n",
       "      <td>42.308018</td>\n",
       "      <td>-71.107338</td>\n",
       "      <td>26.799999</td>\n",
       "      <td>0.94</td>\n",
       "      <td>4</td>\n",
       "      <td>326315.78125</td>\n",
       "      <td>4686126.5</td>\n",
       "      <td>223820.0</td>\n",
       "      <td>19</td>\n",
       "      <td>T</td>\n",
       "      <td>0.0</td>\n",
       "      <td>0.0</td>\n",
       "    </tr>\n",
       "    <tr>\n",
       "      <th>615</th>\n",
       "      <td>1.677019e+09</td>\n",
       "      <td>618</td>\n",
       "      <td>223821</td>\n",
       "      <td>0</td>\n",
       "      <td>GPS1_Frame</td>\n",
       "      <td>42.308018</td>\n",
       "      <td>-71.107338</td>\n",
       "      <td>26.799999</td>\n",
       "      <td>0.87</td>\n",
       "      <td>4</td>\n",
       "      <td>326315.78125</td>\n",
       "      <td>4686126.5</td>\n",
       "      <td>223821.0</td>\n",
       "      <td>19</td>\n",
       "      <td>T</td>\n",
       "      <td>0.0</td>\n",
       "      <td>0.0</td>\n",
       "    </tr>\n",
       "    <tr>\n",
       "      <th>616</th>\n",
       "      <td>1.677019e+09</td>\n",
       "      <td>619</td>\n",
       "      <td>223822</td>\n",
       "      <td>0</td>\n",
       "      <td>GPS1_Frame</td>\n",
       "      <td>42.308018</td>\n",
       "      <td>-71.107338</td>\n",
       "      <td>26.799999</td>\n",
       "      <td>0.87</td>\n",
       "      <td>4</td>\n",
       "      <td>326315.78125</td>\n",
       "      <td>4686126.5</td>\n",
       "      <td>223822.0</td>\n",
       "      <td>19</td>\n",
       "      <td>T</td>\n",
       "      <td>0.0</td>\n",
       "      <td>0.0</td>\n",
       "    </tr>\n",
       "    <tr>\n",
       "      <th>617</th>\n",
       "      <td>1.677019e+09</td>\n",
       "      <td>620</td>\n",
       "      <td>223823</td>\n",
       "      <td>0</td>\n",
       "      <td>GPS1_Frame</td>\n",
       "      <td>42.308018</td>\n",
       "      <td>-71.107338</td>\n",
       "      <td>26.799999</td>\n",
       "      <td>0.77</td>\n",
       "      <td>4</td>\n",
       "      <td>326315.78125</td>\n",
       "      <td>4686126.5</td>\n",
       "      <td>223823.0</td>\n",
       "      <td>19</td>\n",
       "      <td>T</td>\n",
       "      <td>0.0</td>\n",
       "      <td>0.0</td>\n",
       "    </tr>\n",
       "    <tr>\n",
       "      <th>618</th>\n",
       "      <td>1.677019e+09</td>\n",
       "      <td>621</td>\n",
       "      <td>223824</td>\n",
       "      <td>0</td>\n",
       "      <td>GPS1_Frame</td>\n",
       "      <td>42.308018</td>\n",
       "      <td>-71.107338</td>\n",
       "      <td>26.799999</td>\n",
       "      <td>0.77</td>\n",
       "      <td>4</td>\n",
       "      <td>326315.78125</td>\n",
       "      <td>4686126.5</td>\n",
       "      <td>223824.0</td>\n",
       "      <td>19</td>\n",
       "      <td>T</td>\n",
       "      <td>0.0</td>\n",
       "      <td>0.0</td>\n",
       "    </tr>\n",
       "  </tbody>\n",
       "</table>\n",
       "</div>"
      ],
      "text/plain": [
       "             Time  Header.seq  Header.stamp.secs  Header.stamp.nsecs  \\\n",
       "614  1.677019e+09         617             223820                   0   \n",
       "615  1.677019e+09         618             223821                   0   \n",
       "616  1.677019e+09         619             223822                   0   \n",
       "617  1.677019e+09         620             223823                   0   \n",
       "618  1.677019e+09         621             223824                   0   \n",
       "\n",
       "    Header.frame_id   Latitude  Longitude   Altitude  HDOP  Fix_quality  \\\n",
       "614      GPS1_Frame  42.308018 -71.107338  26.799999  0.94            4   \n",
       "615      GPS1_Frame  42.308018 -71.107338  26.799999  0.87            4   \n",
       "616      GPS1_Frame  42.308018 -71.107338  26.799999  0.87            4   \n",
       "617      GPS1_Frame  42.308018 -71.107338  26.799999  0.77            4   \n",
       "618      GPS1_Frame  42.308018 -71.107338  26.799999  0.77            4   \n",
       "\n",
       "      UTM_easting  UTM_northing       UTC  Zone Letter  modified_northing  \\\n",
       "614  326315.78125     4686126.5  223820.0    19      T                0.0   \n",
       "615  326315.78125     4686126.5  223821.0    19      T                0.0   \n",
       "616  326315.78125     4686126.5  223822.0    19      T                0.0   \n",
       "617  326315.78125     4686126.5  223823.0    19      T                0.0   \n",
       "618  326315.78125     4686126.5  223824.0    19      T                0.0   \n",
       "\n",
       "     modified_easting  \n",
       "614               0.0  \n",
       "615               0.0  \n",
       "616               0.0  \n",
       "617               0.0  \n",
       "618               0.0  "
      ]
     },
     "execution_count": 8,
     "metadata": {},
     "output_type": "execute_result"
    }
   ],
   "source": [
    "# Scaling data\n",
    "df_op_s['modified_northing'] = df_op_s['UTM_northing'] - df_op_s.UTM_northing[0]\n",
    "df_op_s['modified_easting'] = df_op_s['UTM_easting'] - df_op_s.UTM_easting[0]\n",
    "\n",
    "df_op_s.tail()"
   ]
  },
  {
   "cell_type": "code",
   "execution_count": 9,
   "metadata": {},
   "outputs": [
    {
     "data": {
      "application/vnd.plotly.v1+json": {
       "config": {
        "plotlyServerURL": "https://plot.ly"
       },
       "data": [
        {
         "hovertemplate": "Northing (M)=%{x}<br>Easting (M)=%{y}<extra></extra>",
         "legendgroup": "",
         "marker": {
          "color": "#636efa",
          "symbol": "circle"
         },
         "mode": "markers",
         "name": "",
         "orientation": "v",
         "showlegend": false,
         "type": "scatter",
         "x": [
          0,
          0,
          0,
          0,
          0,
          0,
          0,
          0,
          0,
          0,
          0,
          0,
          0,
          0,
          0,
          0,
          0,
          0,
          0,
          0,
          0,
          0,
          0,
          0,
          0,
          0,
          0,
          0,
          0,
          0,
          0,
          0,
          0,
          0,
          0,
          0,
          0,
          0,
          0,
          0,
          0,
          0,
          0,
          0,
          0,
          0,
          0,
          0,
          0,
          0,
          0,
          0,
          0,
          0,
          0,
          0,
          0,
          0,
          0,
          0,
          0,
          0,
          0,
          0,
          0,
          0,
          0,
          0,
          0,
          0,
          0,
          0,
          0,
          0,
          0,
          0,
          0,
          0,
          0,
          0,
          0,
          0,
          0,
          0,
          0,
          0,
          0,
          0,
          0,
          0,
          0,
          0,
          0,
          0,
          0,
          0,
          0,
          0,
          0,
          0,
          0,
          0,
          0,
          0,
          0,
          0,
          0,
          0,
          0,
          0,
          0,
          0,
          0,
          0,
          0,
          0,
          0,
          0,
          0,
          0,
          0,
          0,
          0,
          0,
          0,
          0,
          0,
          0,
          0,
          0,
          0,
          0,
          0,
          0,
          0,
          0,
          0,
          0,
          0,
          0,
          0,
          0,
          0,
          0,
          0,
          0,
          0,
          0,
          0,
          0,
          0,
          0,
          0,
          0,
          0,
          0,
          0,
          0,
          0,
          0,
          0,
          0,
          0,
          0,
          0,
          0,
          0,
          0,
          0,
          0,
          0,
          0,
          0,
          0,
          0,
          0,
          0,
          0,
          0,
          0,
          0,
          0,
          0,
          0,
          0,
          0,
          0,
          0,
          0,
          0,
          0,
          0,
          0,
          0,
          0,
          0,
          0,
          0,
          0,
          0,
          0,
          0,
          0,
          0,
          0,
          0,
          0,
          0,
          0,
          0,
          0,
          0,
          0,
          0,
          0,
          0,
          0,
          0,
          0,
          0,
          0,
          0,
          0,
          0,
          0,
          0,
          0,
          0,
          0,
          0,
          0,
          0,
          0,
          0,
          0,
          0,
          0,
          0,
          0,
          0,
          0,
          0,
          0,
          0,
          0,
          0,
          0,
          0,
          0,
          0,
          0,
          0,
          0,
          0,
          0,
          0,
          0,
          0,
          0,
          0,
          0,
          0,
          0,
          0,
          0,
          0,
          0,
          0,
          0,
          0,
          0,
          0,
          0,
          0,
          0,
          0,
          0,
          0,
          0,
          0,
          0,
          0,
          0,
          0,
          0,
          0,
          0,
          0,
          0,
          0,
          0,
          0,
          0,
          0,
          0,
          0,
          0,
          0,
          0,
          0,
          0,
          0,
          0,
          0,
          0,
          0,
          0,
          0,
          0,
          0,
          0,
          0,
          0,
          0,
          0,
          0,
          0,
          0,
          0,
          0,
          0,
          0,
          0,
          0,
          0,
          0,
          0,
          0,
          0,
          0,
          0,
          0,
          0,
          0,
          0,
          0,
          0,
          0,
          0,
          0,
          0,
          0,
          0,
          0,
          0,
          0,
          0,
          0,
          0,
          0,
          0,
          0,
          0,
          0,
          0,
          0,
          0,
          0,
          0,
          0,
          0,
          0,
          0,
          0,
          0,
          0,
          0,
          0,
          0,
          0,
          0,
          0,
          0,
          0,
          0,
          0,
          0,
          0,
          0,
          0,
          0,
          0,
          0,
          0,
          0,
          0,
          0,
          0,
          0,
          0,
          0,
          0,
          0,
          0,
          0,
          0,
          0,
          0,
          0,
          0,
          0,
          0,
          0,
          0,
          0,
          0,
          0,
          0,
          0,
          0,
          0,
          0,
          0,
          0,
          0,
          0,
          0,
          0,
          0,
          0,
          0,
          0,
          0,
          0,
          0,
          0,
          0,
          0,
          0,
          0,
          0,
          0,
          0,
          0,
          0,
          0,
          0,
          0,
          0,
          0,
          0,
          0,
          0,
          0,
          0,
          0,
          0,
          0,
          0,
          0,
          0,
          0,
          0,
          0,
          0,
          0,
          0,
          0,
          0,
          0,
          0,
          0,
          0,
          0,
          0,
          0,
          0,
          0,
          0,
          0,
          0,
          0,
          0,
          0,
          0,
          0,
          0,
          0,
          0,
          0,
          0,
          0,
          0,
          0,
          0,
          0,
          0,
          0,
          0,
          0,
          0,
          0,
          0,
          0,
          0,
          0,
          0,
          0,
          0,
          0,
          0,
          0,
          0,
          0,
          0,
          0,
          0,
          0,
          0,
          0,
          0,
          0,
          0,
          0,
          0,
          0,
          0,
          0,
          0,
          0,
          0,
          0,
          0,
          0,
          0,
          0,
          0,
          0,
          0,
          0,
          0,
          0,
          0,
          0,
          0,
          0,
          0,
          0,
          0,
          0,
          0,
          0,
          0,
          0,
          0,
          0,
          0,
          0,
          0,
          0,
          0,
          0,
          0,
          0,
          0,
          0,
          0,
          0,
          0,
          0,
          0,
          0,
          0,
          0,
          0,
          0,
          0,
          0,
          0,
          0,
          0,
          0,
          0,
          0,
          0,
          0,
          0,
          0,
          0,
          0,
          0,
          0,
          0,
          0,
          0,
          0,
          0,
          0,
          0,
          0,
          0,
          0,
          0,
          0,
          0,
          0,
          0,
          0,
          0,
          0,
          0,
          0,
          0,
          0,
          0,
          0,
          0,
          0,
          0,
          0,
          0,
          0,
          0,
          0,
          0,
          0,
          0,
          0,
          0
         ],
         "xaxis": "x",
         "y": [
          0,
          0,
          0,
          0,
          0,
          0,
          0,
          0,
          0,
          0,
          0,
          0,
          0,
          0,
          0,
          0,
          0,
          0,
          0,
          0,
          0,
          0,
          0,
          0.03125,
          0.03125,
          0,
          0,
          0,
          0,
          0,
          0,
          0.03125,
          0.03125,
          0,
          0,
          0,
          0.03125,
          0,
          0.03125,
          0,
          0.03125,
          0.03125,
          0,
          0,
          0.03125,
          0.03125,
          0.03125,
          0.03125,
          0.03125,
          0.03125,
          0.03125,
          0.03125,
          0.03125,
          0.03125,
          0.03125,
          0.03125,
          0.03125,
          0.03125,
          0.03125,
          0.03125,
          0.03125,
          0.03125,
          0.03125,
          0.03125,
          0.03125,
          0,
          0.03125,
          0.03125,
          0.03125,
          0.03125,
          0.03125,
          0.03125,
          0,
          0,
          0.03125,
          0,
          0.03125,
          0.03125,
          0.03125,
          0.03125,
          0.03125,
          0.03125,
          0.03125,
          0.03125,
          0.03125,
          0.03125,
          0.03125,
          0,
          0,
          0,
          0,
          0,
          0,
          0,
          0,
          0,
          0,
          0,
          0,
          -0.03125,
          -0.03125,
          -0.03125,
          -0.03125,
          -0.03125,
          -0.03125,
          -0.03125,
          -0.03125,
          -0.03125,
          -0.03125,
          -0.03125,
          -0.03125,
          -0.03125,
          -0.03125,
          -0.03125,
          -0.03125,
          0,
          0,
          0,
          0,
          0,
          0,
          0,
          0,
          0,
          0,
          0,
          0,
          0,
          0,
          0,
          0,
          0,
          0,
          0,
          0,
          0,
          0,
          0,
          0,
          0,
          0,
          0,
          0,
          0,
          0,
          0,
          0,
          0,
          0,
          0,
          0,
          0,
          0,
          0,
          0,
          0,
          0,
          0,
          0,
          0,
          0,
          0,
          0,
          0,
          0,
          0,
          0,
          0,
          0,
          0,
          0,
          0,
          0,
          0,
          0,
          0,
          0,
          0,
          0,
          0,
          0,
          0,
          0,
          0,
          0,
          0,
          0,
          0,
          0,
          0,
          0,
          0,
          0,
          0,
          0,
          0,
          0,
          0,
          0,
          0,
          0,
          0,
          0,
          0,
          0,
          0,
          0,
          0,
          0,
          0,
          0,
          0,
          0,
          0,
          0,
          0,
          0,
          0,
          0,
          0,
          0,
          0,
          0,
          0,
          0,
          0,
          0,
          0,
          0,
          0,
          0,
          0,
          0,
          0,
          0,
          0,
          0,
          0,
          0,
          0,
          0,
          0,
          0,
          0,
          0,
          0,
          0,
          0,
          0,
          0,
          0,
          0,
          0,
          0,
          0,
          0,
          0,
          0,
          0,
          0,
          0,
          0,
          0,
          0,
          0,
          0,
          0,
          0,
          0,
          0,
          0,
          0,
          0,
          0,
          0,
          0,
          0,
          0,
          0,
          0,
          0,
          0,
          0,
          0,
          0,
          0,
          0,
          0,
          0,
          0,
          0,
          0,
          0,
          0,
          0,
          0,
          0,
          0,
          0,
          0,
          0,
          0,
          0,
          0,
          0,
          0,
          0,
          0,
          0,
          0,
          -0.03125,
          -0.03125,
          -0.03125,
          -0.03125,
          -0.03125,
          -0.03125,
          -0.03125,
          0,
          0,
          0,
          0,
          0,
          0,
          0,
          0,
          -0.03125,
          -0.03125,
          0,
          0,
          0,
          0,
          0,
          0,
          0,
          0,
          -0.03125,
          0,
          0,
          0,
          0,
          0,
          0,
          0,
          0,
          0,
          -0.03125,
          -0.03125,
          -0.03125,
          0,
          0,
          -0.03125,
          -0.03125,
          0,
          -0.03125,
          0,
          0,
          -0.03125,
          -0.03125,
          -0.03125,
          -0.03125,
          0,
          0,
          -0.03125,
          -0.03125,
          -0.03125,
          -0.03125,
          -0.03125,
          -0.03125,
          -0.03125,
          -0.03125,
          -0.03125,
          -0.03125,
          -0.03125,
          -0.03125,
          -0.03125,
          -0.03125,
          -0.03125,
          -0.03125,
          -0.03125,
          0,
          0,
          -0.03125,
          -0.03125,
          -0.03125,
          -0.03125,
          -0.03125,
          -0.03125,
          -0.03125,
          -0.03125,
          -0.03125,
          -0.03125,
          0,
          -0.03125,
          -0.03125,
          -0.03125,
          0,
          0,
          -0.03125,
          0,
          0,
          0,
          -0.03125,
          -0.03125,
          -0.03125,
          -0.03125,
          -0.03125,
          0,
          -0.03125,
          -0.03125,
          -0.03125,
          -0.03125,
          -0.03125,
          -0.03125,
          -0.03125,
          -0.03125,
          -0.0625,
          -0.0625,
          -0.0625,
          -0.0625,
          -0.0625,
          -0.0625,
          -0.0625,
          -0.0625,
          -0.0625,
          -0.0625,
          -0.03125,
          -0.03125,
          -0.03125,
          -0.03125,
          -0.03125,
          -0.0625,
          -0.03125,
          -0.0625,
          -0.03125,
          -0.0625,
          -0.0625,
          -0.03125,
          -0.03125,
          -0.03125,
          -0.03125,
          -0.03125,
          -0.03125,
          -0.03125,
          -0.03125,
          -0.03125,
          -0.03125,
          -0.03125,
          -0.03125,
          -0.03125,
          -0.03125,
          -0.03125,
          -0.03125,
          -0.03125,
          -0.03125,
          -0.03125,
          -0.03125,
          -0.03125,
          -0.03125,
          -0.03125,
          -0.03125,
          -0.03125,
          -0.03125,
          -0.03125,
          0,
          -0.03125,
          -0.03125,
          -0.03125,
          -0.03125,
          -0.03125,
          -0.03125,
          -0.03125,
          -0.03125,
          -0.03125,
          -0.03125,
          -0.03125,
          -0.03125,
          -0.03125,
          0,
          -0.03125,
          -0.03125,
          0,
          0,
          -0.03125,
          -0.03125,
          -0.03125,
          0,
          0,
          -0.03125,
          -0.03125,
          0,
          0,
          -0.03125,
          -0.03125,
          0,
          -0.03125,
          -0.03125,
          -0.03125,
          -0.03125,
          -0.03125,
          0,
          0,
          0,
          0,
          -0.03125,
          -0.03125,
          -0.03125,
          -0.03125,
          0,
          -0.03125,
          -0.03125,
          -0.03125,
          -0.03125,
          -0.03125,
          -0.03125,
          0,
          0,
          0,
          0,
          -0.03125,
          0,
          0,
          0,
          0,
          0,
          0,
          0,
          0,
          0,
          -0.03125,
          -0.03125,
          0,
          0,
          0,
          0,
          0,
          0,
          0,
          0,
          0,
          -0.03125,
          -0.03125,
          -0.03125,
          -0.03125,
          -0.03125,
          -0.03125,
          -0.03125,
          -0.03125,
          -0.03125,
          -0.03125,
          -0.03125,
          -0.03125,
          -0.03125,
          0,
          0,
          -0.03125,
          -0.03125,
          -0.03125,
          -0.03125,
          -0.03125,
          -0.03125,
          0,
          -0.03125,
          0,
          0,
          -0.03125,
          -0.03125,
          -0.03125,
          -0.03125,
          0,
          0,
          0,
          -0.03125,
          0,
          -0.03125,
          0,
          -0.03125,
          0,
          -0.03125,
          0,
          0,
          0,
          0,
          0,
          0,
          0,
          0,
          0,
          -0.03125,
          -0.03125,
          0,
          0,
          0,
          0,
          0,
          0,
          0,
          0,
          0,
          0,
          0,
          0,
          0,
          0,
          0,
          0,
          0,
          0,
          0,
          0,
          0,
          0,
          0,
          0,
          0,
          0,
          0,
          0,
          0,
          0
         ],
         "yaxis": "y"
        }
       ],
       "layout": {
        "legend": {
         "tracegroupgap": 0
        },
        "template": {
         "data": {
          "bar": [
           {
            "error_x": {
             "color": "#2a3f5f"
            },
            "error_y": {
             "color": "#2a3f5f"
            },
            "marker": {
             "line": {
              "color": "#E5ECF6",
              "width": 0.5
             },
             "pattern": {
              "fillmode": "overlay",
              "size": 10,
              "solidity": 0.2
             }
            },
            "type": "bar"
           }
          ],
          "barpolar": [
           {
            "marker": {
             "line": {
              "color": "#E5ECF6",
              "width": 0.5
             },
             "pattern": {
              "fillmode": "overlay",
              "size": 10,
              "solidity": 0.2
             }
            },
            "type": "barpolar"
           }
          ],
          "carpet": [
           {
            "aaxis": {
             "endlinecolor": "#2a3f5f",
             "gridcolor": "white",
             "linecolor": "white",
             "minorgridcolor": "white",
             "startlinecolor": "#2a3f5f"
            },
            "baxis": {
             "endlinecolor": "#2a3f5f",
             "gridcolor": "white",
             "linecolor": "white",
             "minorgridcolor": "white",
             "startlinecolor": "#2a3f5f"
            },
            "type": "carpet"
           }
          ],
          "choropleth": [
           {
            "colorbar": {
             "outlinewidth": 0,
             "ticks": ""
            },
            "type": "choropleth"
           }
          ],
          "contour": [
           {
            "colorbar": {
             "outlinewidth": 0,
             "ticks": ""
            },
            "colorscale": [
             [
              0,
              "#0d0887"
             ],
             [
              0.1111111111111111,
              "#46039f"
             ],
             [
              0.2222222222222222,
              "#7201a8"
             ],
             [
              0.3333333333333333,
              "#9c179e"
             ],
             [
              0.4444444444444444,
              "#bd3786"
             ],
             [
              0.5555555555555556,
              "#d8576b"
             ],
             [
              0.6666666666666666,
              "#ed7953"
             ],
             [
              0.7777777777777778,
              "#fb9f3a"
             ],
             [
              0.8888888888888888,
              "#fdca26"
             ],
             [
              1,
              "#f0f921"
             ]
            ],
            "type": "contour"
           }
          ],
          "contourcarpet": [
           {
            "colorbar": {
             "outlinewidth": 0,
             "ticks": ""
            },
            "type": "contourcarpet"
           }
          ],
          "heatmap": [
           {
            "colorbar": {
             "outlinewidth": 0,
             "ticks": ""
            },
            "colorscale": [
             [
              0,
              "#0d0887"
             ],
             [
              0.1111111111111111,
              "#46039f"
             ],
             [
              0.2222222222222222,
              "#7201a8"
             ],
             [
              0.3333333333333333,
              "#9c179e"
             ],
             [
              0.4444444444444444,
              "#bd3786"
             ],
             [
              0.5555555555555556,
              "#d8576b"
             ],
             [
              0.6666666666666666,
              "#ed7953"
             ],
             [
              0.7777777777777778,
              "#fb9f3a"
             ],
             [
              0.8888888888888888,
              "#fdca26"
             ],
             [
              1,
              "#f0f921"
             ]
            ],
            "type": "heatmap"
           }
          ],
          "heatmapgl": [
           {
            "colorbar": {
             "outlinewidth": 0,
             "ticks": ""
            },
            "colorscale": [
             [
              0,
              "#0d0887"
             ],
             [
              0.1111111111111111,
              "#46039f"
             ],
             [
              0.2222222222222222,
              "#7201a8"
             ],
             [
              0.3333333333333333,
              "#9c179e"
             ],
             [
              0.4444444444444444,
              "#bd3786"
             ],
             [
              0.5555555555555556,
              "#d8576b"
             ],
             [
              0.6666666666666666,
              "#ed7953"
             ],
             [
              0.7777777777777778,
              "#fb9f3a"
             ],
             [
              0.8888888888888888,
              "#fdca26"
             ],
             [
              1,
              "#f0f921"
             ]
            ],
            "type": "heatmapgl"
           }
          ],
          "histogram": [
           {
            "marker": {
             "pattern": {
              "fillmode": "overlay",
              "size": 10,
              "solidity": 0.2
             }
            },
            "type": "histogram"
           }
          ],
          "histogram2d": [
           {
            "colorbar": {
             "outlinewidth": 0,
             "ticks": ""
            },
            "colorscale": [
             [
              0,
              "#0d0887"
             ],
             [
              0.1111111111111111,
              "#46039f"
             ],
             [
              0.2222222222222222,
              "#7201a8"
             ],
             [
              0.3333333333333333,
              "#9c179e"
             ],
             [
              0.4444444444444444,
              "#bd3786"
             ],
             [
              0.5555555555555556,
              "#d8576b"
             ],
             [
              0.6666666666666666,
              "#ed7953"
             ],
             [
              0.7777777777777778,
              "#fb9f3a"
             ],
             [
              0.8888888888888888,
              "#fdca26"
             ],
             [
              1,
              "#f0f921"
             ]
            ],
            "type": "histogram2d"
           }
          ],
          "histogram2dcontour": [
           {
            "colorbar": {
             "outlinewidth": 0,
             "ticks": ""
            },
            "colorscale": [
             [
              0,
              "#0d0887"
             ],
             [
              0.1111111111111111,
              "#46039f"
             ],
             [
              0.2222222222222222,
              "#7201a8"
             ],
             [
              0.3333333333333333,
              "#9c179e"
             ],
             [
              0.4444444444444444,
              "#bd3786"
             ],
             [
              0.5555555555555556,
              "#d8576b"
             ],
             [
              0.6666666666666666,
              "#ed7953"
             ],
             [
              0.7777777777777778,
              "#fb9f3a"
             ],
             [
              0.8888888888888888,
              "#fdca26"
             ],
             [
              1,
              "#f0f921"
             ]
            ],
            "type": "histogram2dcontour"
           }
          ],
          "mesh3d": [
           {
            "colorbar": {
             "outlinewidth": 0,
             "ticks": ""
            },
            "type": "mesh3d"
           }
          ],
          "parcoords": [
           {
            "line": {
             "colorbar": {
              "outlinewidth": 0,
              "ticks": ""
             }
            },
            "type": "parcoords"
           }
          ],
          "pie": [
           {
            "automargin": true,
            "type": "pie"
           }
          ],
          "scatter": [
           {
            "fillpattern": {
             "fillmode": "overlay",
             "size": 10,
             "solidity": 0.2
            },
            "type": "scatter"
           }
          ],
          "scatter3d": [
           {
            "line": {
             "colorbar": {
              "outlinewidth": 0,
              "ticks": ""
             }
            },
            "marker": {
             "colorbar": {
              "outlinewidth": 0,
              "ticks": ""
             }
            },
            "type": "scatter3d"
           }
          ],
          "scattercarpet": [
           {
            "marker": {
             "colorbar": {
              "outlinewidth": 0,
              "ticks": ""
             }
            },
            "type": "scattercarpet"
           }
          ],
          "scattergeo": [
           {
            "marker": {
             "colorbar": {
              "outlinewidth": 0,
              "ticks": ""
             }
            },
            "type": "scattergeo"
           }
          ],
          "scattergl": [
           {
            "marker": {
             "colorbar": {
              "outlinewidth": 0,
              "ticks": ""
             }
            },
            "type": "scattergl"
           }
          ],
          "scattermapbox": [
           {
            "marker": {
             "colorbar": {
              "outlinewidth": 0,
              "ticks": ""
             }
            },
            "type": "scattermapbox"
           }
          ],
          "scatterpolar": [
           {
            "marker": {
             "colorbar": {
              "outlinewidth": 0,
              "ticks": ""
             }
            },
            "type": "scatterpolar"
           }
          ],
          "scatterpolargl": [
           {
            "marker": {
             "colorbar": {
              "outlinewidth": 0,
              "ticks": ""
             }
            },
            "type": "scatterpolargl"
           }
          ],
          "scatterternary": [
           {
            "marker": {
             "colorbar": {
              "outlinewidth": 0,
              "ticks": ""
             }
            },
            "type": "scatterternary"
           }
          ],
          "surface": [
           {
            "colorbar": {
             "outlinewidth": 0,
             "ticks": ""
            },
            "colorscale": [
             [
              0,
              "#0d0887"
             ],
             [
              0.1111111111111111,
              "#46039f"
             ],
             [
              0.2222222222222222,
              "#7201a8"
             ],
             [
              0.3333333333333333,
              "#9c179e"
             ],
             [
              0.4444444444444444,
              "#bd3786"
             ],
             [
              0.5555555555555556,
              "#d8576b"
             ],
             [
              0.6666666666666666,
              "#ed7953"
             ],
             [
              0.7777777777777778,
              "#fb9f3a"
             ],
             [
              0.8888888888888888,
              "#fdca26"
             ],
             [
              1,
              "#f0f921"
             ]
            ],
            "type": "surface"
           }
          ],
          "table": [
           {
            "cells": {
             "fill": {
              "color": "#EBF0F8"
             },
             "line": {
              "color": "white"
             }
            },
            "header": {
             "fill": {
              "color": "#C8D4E3"
             },
             "line": {
              "color": "white"
             }
            },
            "type": "table"
           }
          ]
         },
         "layout": {
          "annotationdefaults": {
           "arrowcolor": "#2a3f5f",
           "arrowhead": 0,
           "arrowwidth": 1
          },
          "autotypenumbers": "strict",
          "coloraxis": {
           "colorbar": {
            "outlinewidth": 0,
            "ticks": ""
           }
          },
          "colorscale": {
           "diverging": [
            [
             0,
             "#8e0152"
            ],
            [
             0.1,
             "#c51b7d"
            ],
            [
             0.2,
             "#de77ae"
            ],
            [
             0.3,
             "#f1b6da"
            ],
            [
             0.4,
             "#fde0ef"
            ],
            [
             0.5,
             "#f7f7f7"
            ],
            [
             0.6,
             "#e6f5d0"
            ],
            [
             0.7,
             "#b8e186"
            ],
            [
             0.8,
             "#7fbc41"
            ],
            [
             0.9,
             "#4d9221"
            ],
            [
             1,
             "#276419"
            ]
           ],
           "sequential": [
            [
             0,
             "#0d0887"
            ],
            [
             0.1111111111111111,
             "#46039f"
            ],
            [
             0.2222222222222222,
             "#7201a8"
            ],
            [
             0.3333333333333333,
             "#9c179e"
            ],
            [
             0.4444444444444444,
             "#bd3786"
            ],
            [
             0.5555555555555556,
             "#d8576b"
            ],
            [
             0.6666666666666666,
             "#ed7953"
            ],
            [
             0.7777777777777778,
             "#fb9f3a"
            ],
            [
             0.8888888888888888,
             "#fdca26"
            ],
            [
             1,
             "#f0f921"
            ]
           ],
           "sequentialminus": [
            [
             0,
             "#0d0887"
            ],
            [
             0.1111111111111111,
             "#46039f"
            ],
            [
             0.2222222222222222,
             "#7201a8"
            ],
            [
             0.3333333333333333,
             "#9c179e"
            ],
            [
             0.4444444444444444,
             "#bd3786"
            ],
            [
             0.5555555555555556,
             "#d8576b"
            ],
            [
             0.6666666666666666,
             "#ed7953"
            ],
            [
             0.7777777777777778,
             "#fb9f3a"
            ],
            [
             0.8888888888888888,
             "#fdca26"
            ],
            [
             1,
             "#f0f921"
            ]
           ]
          },
          "colorway": [
           "#636efa",
           "#EF553B",
           "#00cc96",
           "#ab63fa",
           "#FFA15A",
           "#19d3f3",
           "#FF6692",
           "#B6E880",
           "#FF97FF",
           "#FECB52"
          ],
          "font": {
           "color": "#2a3f5f"
          },
          "geo": {
           "bgcolor": "white",
           "lakecolor": "white",
           "landcolor": "#E5ECF6",
           "showlakes": true,
           "showland": true,
           "subunitcolor": "white"
          },
          "hoverlabel": {
           "align": "left"
          },
          "hovermode": "closest",
          "mapbox": {
           "style": "light"
          },
          "paper_bgcolor": "white",
          "plot_bgcolor": "#E5ECF6",
          "polar": {
           "angularaxis": {
            "gridcolor": "white",
            "linecolor": "white",
            "ticks": ""
           },
           "bgcolor": "#E5ECF6",
           "radialaxis": {
            "gridcolor": "white",
            "linecolor": "white",
            "ticks": ""
           }
          },
          "scene": {
           "xaxis": {
            "backgroundcolor": "#E5ECF6",
            "gridcolor": "white",
            "gridwidth": 2,
            "linecolor": "white",
            "showbackground": true,
            "ticks": "",
            "zerolinecolor": "white"
           },
           "yaxis": {
            "backgroundcolor": "#E5ECF6",
            "gridcolor": "white",
            "gridwidth": 2,
            "linecolor": "white",
            "showbackground": true,
            "ticks": "",
            "zerolinecolor": "white"
           },
           "zaxis": {
            "backgroundcolor": "#E5ECF6",
            "gridcolor": "white",
            "gridwidth": 2,
            "linecolor": "white",
            "showbackground": true,
            "ticks": "",
            "zerolinecolor": "white"
           }
          },
          "shapedefaults": {
           "line": {
            "color": "#2a3f5f"
           }
          },
          "ternary": {
           "aaxis": {
            "gridcolor": "white",
            "linecolor": "white",
            "ticks": ""
           },
           "baxis": {
            "gridcolor": "white",
            "linecolor": "white",
            "ticks": ""
           },
           "bgcolor": "#E5ECF6",
           "caxis": {
            "gridcolor": "white",
            "linecolor": "white",
            "ticks": ""
           }
          },
          "title": {
           "x": 0.05
          },
          "xaxis": {
           "automargin": true,
           "gridcolor": "white",
           "linecolor": "white",
           "ticks": "",
           "title": {
            "standoff": 15
           },
           "zerolinecolor": "white",
           "zerolinewidth": 2
          },
          "yaxis": {
           "automargin": true,
           "gridcolor": "white",
           "linecolor": "white",
           "ticks": "",
           "title": {
            "standoff": 15
           },
           "zerolinecolor": "white",
           "zerolinewidth": 2
          }
         }
        },
        "title": {
         "text": "Open Space"
        },
        "xaxis": {
         "anchor": "y",
         "domain": [
          0,
          1
         ],
         "title": {
          "text": "Northing (M)"
         }
        },
        "yaxis": {
         "anchor": "x",
         "domain": [
          0,
          1
         ],
         "title": {
          "text": "Easting (M)"
         }
        }
       }
      }
     },
     "metadata": {},
     "output_type": "display_data"
    }
   ],
   "source": [
    "import plotly.express as px\n",
    "# Scatterplots of the Northing vs. Easting data\n",
    "fig = px.scatter(df_op_s, x=\"modified_northing\", y=\"modified_easting\", labels={\"modified_northing\": \"Northing (M)\", \"modified_easting\": \"Easting (M)\"}, title=\"Open Space\")\n",
    "fig.show()"
   ]
  },
  {
   "attachments": {},
   "cell_type": "markdown",
   "metadata": {},
   "source": [
    "# Range of position\n",
    "northing - 0\n",
    "easting - (-0.06, 0.03)\n",
    "***"
   ]
  },
  {
   "cell_type": "code",
   "execution_count": 10,
   "metadata": {},
   "outputs": [
    {
     "data": {
      "application/vnd.plotly.v1+json": {
       "config": {
        "plotlyServerURL": "https://plot.ly"
       },
       "data": [
        {
         "hovertemplate": "Northing (M)=%{x}<br>Easting (M)=%{y}<extra></extra>",
         "legendgroup": "",
         "marker": {
          "color": "#636efa",
          "symbol": "circle"
         },
         "mode": "markers",
         "name": "",
         "orientation": "v",
         "showlegend": false,
         "type": "scatter",
         "x": [
          0,
          0,
          0,
          0,
          0,
          0,
          0,
          0,
          0,
          0,
          0,
          0,
          0,
          0,
          0,
          0,
          0,
          0,
          0,
          0,
          0,
          0,
          0,
          0,
          0,
          0,
          0,
          0,
          0,
          0,
          0,
          0,
          0,
          0,
          0,
          0,
          0,
          0,
          0,
          0,
          0,
          0,
          0,
          0,
          0,
          0,
          0,
          0,
          0,
          0,
          0,
          0,
          0,
          0,
          0,
          0,
          0,
          0,
          0,
          0,
          0,
          0,
          0,
          0,
          0,
          0,
          0,
          0,
          0,
          0,
          0,
          0,
          0,
          0,
          0,
          0,
          0,
          0,
          0,
          0,
          0,
          0,
          0,
          0,
          0,
          0,
          0,
          0,
          0,
          0,
          0,
          0,
          0,
          0,
          0,
          0,
          0,
          0,
          0,
          0,
          0,
          0,
          0,
          0,
          0,
          0,
          0,
          0,
          0,
          0,
          0,
          0,
          0,
          0,
          0,
          0,
          0,
          0,
          0,
          0,
          0,
          0,
          0,
          0,
          0,
          0,
          0,
          0,
          0,
          0,
          0,
          0,
          0,
          0,
          0,
          0,
          0,
          0,
          0,
          0,
          0,
          0,
          0,
          0,
          0,
          0,
          0,
          0,
          0,
          0,
          0,
          0,
          0,
          0,
          0,
          0,
          0,
          0,
          0,
          0,
          0,
          0,
          0,
          0,
          0,
          0,
          0,
          0,
          0,
          0,
          0,
          0,
          0,
          0,
          0,
          0,
          0,
          0,
          0,
          0,
          0,
          0,
          0,
          0,
          0,
          0,
          0,
          0,
          0,
          0,
          0,
          0,
          0,
          0,
          0,
          0,
          0,
          0,
          0,
          0,
          0,
          0,
          0,
          0,
          0,
          0,
          0,
          0,
          0,
          0,
          0,
          0,
          0,
          0,
          0,
          0,
          0,
          0,
          0,
          0,
          0,
          0,
          0,
          0,
          0,
          0,
          0,
          0,
          0,
          0,
          0,
          0,
          0,
          0,
          0,
          0,
          0,
          0,
          0,
          0,
          0,
          0,
          0,
          0,
          0,
          0,
          0,
          0,
          0,
          0,
          0,
          0,
          0,
          0,
          0,
          0,
          0,
          0,
          0,
          0,
          0,
          0,
          0,
          0,
          0,
          0,
          0,
          0,
          0,
          0,
          0,
          0,
          0,
          0,
          0,
          0,
          0,
          0,
          0,
          0,
          0,
          0,
          0,
          0,
          0,
          0,
          0,
          0,
          0,
          0,
          0,
          0,
          0,
          0,
          0,
          0,
          0,
          0,
          0,
          0,
          0,
          0,
          0,
          0,
          0,
          0,
          0,
          0,
          0,
          0,
          0,
          0,
          0,
          0,
          0,
          0,
          0,
          0,
          0,
          0,
          0,
          0,
          0,
          0,
          0,
          0,
          0,
          0,
          0,
          0,
          0,
          0,
          0,
          0,
          0,
          0,
          0,
          0,
          0,
          0,
          0,
          0,
          0,
          0,
          0,
          0,
          0,
          0,
          0,
          0,
          0,
          0,
          0,
          0,
          0,
          0,
          0,
          0,
          0,
          0,
          0,
          0,
          0,
          0,
          0,
          0,
          0,
          0,
          0,
          0,
          0,
          0,
          0,
          0,
          0,
          0,
          0,
          0,
          0,
          0,
          0,
          0,
          0,
          0,
          0,
          0,
          0,
          0,
          0,
          0,
          0,
          0,
          0,
          0,
          0,
          0,
          0,
          0,
          0,
          0,
          0,
          0,
          0,
          0,
          0,
          0,
          0,
          0,
          0,
          0,
          0,
          0,
          0,
          0,
          0,
          0,
          0,
          0,
          0,
          0,
          0,
          0,
          0,
          0,
          0,
          0,
          0,
          0,
          0,
          0,
          0,
          0,
          0,
          0,
          0,
          0,
          0,
          0,
          0,
          0,
          0,
          0,
          0,
          0,
          0,
          0,
          0,
          0,
          0,
          0,
          0,
          0,
          0,
          0,
          0,
          0,
          0,
          0,
          0,
          0,
          0,
          0,
          0,
          0,
          0,
          0,
          0,
          0,
          0,
          0,
          0,
          0,
          0,
          0,
          0,
          0,
          0,
          0,
          0,
          0,
          0,
          0,
          0,
          0,
          0,
          0,
          0,
          0,
          0,
          0,
          0,
          0,
          0,
          0,
          0,
          0,
          0,
          0,
          0,
          0,
          0,
          0,
          0,
          0,
          0,
          0,
          0,
          0,
          0,
          0,
          0,
          0,
          0,
          0,
          0,
          0,
          0,
          0,
          0,
          0,
          0,
          0,
          0,
          0,
          0,
          0,
          0,
          0,
          0,
          0,
          0,
          0,
          0,
          0,
          0,
          0,
          0,
          0,
          0,
          0,
          0,
          0,
          0,
          0,
          0,
          0,
          0,
          0,
          0,
          0,
          0,
          0,
          0,
          0,
          0,
          0,
          0,
          0,
          0,
          0,
          0,
          0,
          0,
          0,
          0,
          0,
          0,
          0,
          0,
          0,
          0,
          0,
          0,
          0,
          0,
          0,
          0,
          0,
          0,
          0,
          0,
          0,
          0,
          0,
          0,
          0,
          0,
          0,
          0,
          0,
          0,
          0,
          0,
          0,
          0,
          0,
          0,
          0,
          0,
          0,
          0,
          0,
          0,
          0,
          0,
          0,
          0,
          0,
          0,
          0,
          0,
          0,
          0,
          0,
          0,
          0,
          0,
          0,
          0
         ],
         "xaxis": "x",
         "y": [
          0,
          0,
          0,
          0,
          0,
          0,
          0,
          0,
          0,
          0,
          0,
          0,
          0,
          0,
          0,
          0,
          0,
          0,
          0,
          0,
          0,
          0,
          0,
          0.03125,
          0.03125,
          0,
          0,
          0,
          0,
          0,
          0,
          0.03125,
          0.03125,
          0,
          0,
          0,
          0.03125,
          0,
          0.03125,
          0,
          0.03125,
          0.03125,
          0,
          0,
          0.03125,
          0.03125,
          0.03125,
          0.03125,
          0.03125,
          0.03125,
          0.03125,
          0.03125,
          0.03125,
          0.03125,
          0.03125,
          0.03125,
          0.03125,
          0.03125,
          0.03125,
          0.03125,
          0.03125,
          0.03125,
          0.03125,
          0.03125,
          0.03125,
          0,
          0.03125,
          0.03125,
          0.03125,
          0.03125,
          0.03125,
          0.03125,
          0,
          0,
          0.03125,
          0,
          0.03125,
          0.03125,
          0.03125,
          0.03125,
          0.03125,
          0.03125,
          0.03125,
          0.03125,
          0.03125,
          0.03125,
          0.03125,
          0,
          0,
          0,
          0,
          0,
          0,
          0,
          0,
          0,
          0,
          0,
          0,
          -0.03125,
          -0.03125,
          -0.03125,
          -0.03125,
          -0.03125,
          -0.03125,
          -0.03125,
          -0.03125,
          -0.03125,
          -0.03125,
          -0.03125,
          -0.03125,
          -0.03125,
          -0.03125,
          -0.03125,
          -0.03125,
          0,
          0,
          0,
          0,
          0,
          0,
          0,
          0,
          0,
          0,
          0,
          0,
          0,
          0,
          0,
          0,
          0,
          0,
          0,
          0,
          0,
          0,
          0,
          0,
          0,
          0,
          0,
          0,
          0,
          0,
          0,
          0,
          0,
          0,
          0,
          0,
          0,
          0,
          0,
          0,
          0,
          0,
          0,
          0,
          0,
          0,
          0,
          0,
          0,
          0,
          0,
          0,
          0,
          0,
          0,
          0,
          0,
          0,
          0,
          0,
          0,
          0,
          0,
          0,
          0,
          0,
          0,
          0,
          0,
          0,
          0,
          0,
          0,
          0,
          0,
          0,
          0,
          0,
          0,
          0,
          0,
          0,
          0,
          0,
          0,
          0,
          0,
          0,
          0,
          0,
          0,
          0,
          0,
          0,
          0,
          0,
          0,
          0,
          0,
          0,
          0,
          0,
          0,
          0,
          0,
          0,
          0,
          0,
          0,
          0,
          0,
          0,
          0,
          0,
          0,
          0,
          0,
          0,
          0,
          0,
          0,
          0,
          0,
          0,
          0,
          0,
          0,
          0,
          0,
          0,
          0,
          0,
          0,
          0,
          0,
          0,
          0,
          0,
          0,
          0,
          0,
          0,
          0,
          0,
          0,
          0,
          0,
          0,
          0,
          0,
          0,
          0,
          0,
          0,
          0,
          0,
          0,
          0,
          0,
          0,
          0,
          0,
          0,
          0,
          0,
          0,
          0,
          0,
          0,
          0,
          0,
          0,
          0,
          0,
          0,
          0,
          0,
          0,
          0,
          0,
          0,
          0,
          0,
          0,
          0,
          0,
          0,
          0,
          0,
          0,
          0,
          0,
          0,
          0,
          0,
          -0.03125,
          -0.03125,
          -0.03125,
          -0.03125,
          -0.03125,
          -0.03125,
          -0.03125,
          0,
          0,
          0,
          0,
          0,
          0,
          0,
          0,
          -0.03125,
          -0.03125,
          0,
          0,
          0,
          0,
          0,
          0,
          0,
          0,
          -0.03125,
          0,
          0,
          0,
          0,
          0,
          0,
          0,
          0,
          0,
          -0.03125,
          -0.03125,
          -0.03125,
          0,
          0,
          -0.03125,
          -0.03125,
          0,
          -0.03125,
          0,
          0,
          -0.03125,
          -0.03125,
          -0.03125,
          -0.03125,
          0,
          0,
          -0.03125,
          -0.03125,
          -0.03125,
          -0.03125,
          -0.03125,
          -0.03125,
          -0.03125,
          -0.03125,
          -0.03125,
          -0.03125,
          -0.03125,
          -0.03125,
          -0.03125,
          -0.03125,
          -0.03125,
          -0.03125,
          -0.03125,
          0,
          0,
          -0.03125,
          -0.03125,
          -0.03125,
          -0.03125,
          -0.03125,
          -0.03125,
          -0.03125,
          -0.03125,
          -0.03125,
          -0.03125,
          0,
          -0.03125,
          -0.03125,
          -0.03125,
          0,
          0,
          -0.03125,
          0,
          0,
          0,
          -0.03125,
          -0.03125,
          -0.03125,
          -0.03125,
          -0.03125,
          0,
          -0.03125,
          -0.03125,
          -0.03125,
          -0.03125,
          -0.03125,
          -0.03125,
          -0.03125,
          -0.03125,
          -0.0625,
          -0.0625,
          -0.0625,
          -0.0625,
          -0.0625,
          -0.0625,
          -0.0625,
          -0.0625,
          -0.0625,
          -0.0625,
          -0.03125,
          -0.03125,
          -0.03125,
          -0.03125,
          -0.03125,
          -0.0625,
          -0.03125,
          -0.0625,
          -0.03125,
          -0.0625,
          -0.0625,
          -0.03125,
          -0.03125,
          -0.03125,
          -0.03125,
          -0.03125,
          -0.03125,
          -0.03125,
          -0.03125,
          -0.03125,
          -0.03125,
          -0.03125,
          -0.03125,
          -0.03125,
          -0.03125,
          -0.03125,
          -0.03125,
          -0.03125,
          -0.03125,
          -0.03125,
          -0.03125,
          -0.03125,
          -0.03125,
          -0.03125,
          -0.03125,
          -0.03125,
          -0.03125,
          -0.03125,
          0,
          -0.03125,
          -0.03125,
          -0.03125,
          -0.03125,
          -0.03125,
          -0.03125,
          -0.03125,
          -0.03125,
          -0.03125,
          -0.03125,
          -0.03125,
          -0.03125,
          -0.03125,
          0,
          -0.03125,
          -0.03125,
          0,
          0,
          -0.03125,
          -0.03125,
          -0.03125,
          0,
          0,
          -0.03125,
          -0.03125,
          0,
          0,
          -0.03125,
          -0.03125,
          0,
          -0.03125,
          -0.03125,
          -0.03125,
          -0.03125,
          -0.03125,
          0,
          0,
          0,
          0,
          -0.03125,
          -0.03125,
          -0.03125,
          -0.03125,
          0,
          -0.03125,
          -0.03125,
          -0.03125,
          -0.03125,
          -0.03125,
          -0.03125,
          0,
          0,
          0,
          0,
          -0.03125,
          0,
          0,
          0,
          0,
          0,
          0,
          0,
          0,
          0,
          -0.03125,
          -0.03125,
          0,
          0,
          0,
          0,
          0,
          0,
          0,
          0,
          0,
          -0.03125,
          -0.03125,
          -0.03125,
          -0.03125,
          -0.03125,
          -0.03125,
          -0.03125,
          -0.03125,
          -0.03125,
          -0.03125,
          -0.03125,
          -0.03125,
          -0.03125,
          0,
          0,
          -0.03125,
          -0.03125,
          -0.03125,
          -0.03125,
          -0.03125,
          -0.03125,
          0,
          -0.03125,
          0,
          0,
          -0.03125,
          -0.03125,
          -0.03125,
          -0.03125,
          0,
          0,
          0,
          -0.03125,
          0,
          -0.03125,
          0,
          -0.03125,
          0,
          -0.03125,
          0,
          0,
          0,
          0,
          0,
          0,
          0,
          0,
          0,
          -0.03125,
          -0.03125,
          0,
          0,
          0,
          0,
          0,
          0,
          0,
          0,
          0,
          0,
          0,
          0,
          0,
          0,
          0,
          0,
          0,
          0,
          0,
          0,
          0,
          0,
          0,
          0,
          0,
          0,
          0,
          0,
          0,
          0
         ],
         "yaxis": "y"
        },
        {
         "name": "Actual position",
         "type": "scatter",
         "x": [
          -29.37688252143562
         ],
         "y": [
          -15.79851854487788
         ]
        }
       ],
       "layout": {
        "legend": {
         "tracegroupgap": 0
        },
        "template": {
         "data": {
          "bar": [
           {
            "error_x": {
             "color": "#2a3f5f"
            },
            "error_y": {
             "color": "#2a3f5f"
            },
            "marker": {
             "line": {
              "color": "#E5ECF6",
              "width": 0.5
             },
             "pattern": {
              "fillmode": "overlay",
              "size": 10,
              "solidity": 0.2
             }
            },
            "type": "bar"
           }
          ],
          "barpolar": [
           {
            "marker": {
             "line": {
              "color": "#E5ECF6",
              "width": 0.5
             },
             "pattern": {
              "fillmode": "overlay",
              "size": 10,
              "solidity": 0.2
             }
            },
            "type": "barpolar"
           }
          ],
          "carpet": [
           {
            "aaxis": {
             "endlinecolor": "#2a3f5f",
             "gridcolor": "white",
             "linecolor": "white",
             "minorgridcolor": "white",
             "startlinecolor": "#2a3f5f"
            },
            "baxis": {
             "endlinecolor": "#2a3f5f",
             "gridcolor": "white",
             "linecolor": "white",
             "minorgridcolor": "white",
             "startlinecolor": "#2a3f5f"
            },
            "type": "carpet"
           }
          ],
          "choropleth": [
           {
            "colorbar": {
             "outlinewidth": 0,
             "ticks": ""
            },
            "type": "choropleth"
           }
          ],
          "contour": [
           {
            "colorbar": {
             "outlinewidth": 0,
             "ticks": ""
            },
            "colorscale": [
             [
              0,
              "#0d0887"
             ],
             [
              0.1111111111111111,
              "#46039f"
             ],
             [
              0.2222222222222222,
              "#7201a8"
             ],
             [
              0.3333333333333333,
              "#9c179e"
             ],
             [
              0.4444444444444444,
              "#bd3786"
             ],
             [
              0.5555555555555556,
              "#d8576b"
             ],
             [
              0.6666666666666666,
              "#ed7953"
             ],
             [
              0.7777777777777778,
              "#fb9f3a"
             ],
             [
              0.8888888888888888,
              "#fdca26"
             ],
             [
              1,
              "#f0f921"
             ]
            ],
            "type": "contour"
           }
          ],
          "contourcarpet": [
           {
            "colorbar": {
             "outlinewidth": 0,
             "ticks": ""
            },
            "type": "contourcarpet"
           }
          ],
          "heatmap": [
           {
            "colorbar": {
             "outlinewidth": 0,
             "ticks": ""
            },
            "colorscale": [
             [
              0,
              "#0d0887"
             ],
             [
              0.1111111111111111,
              "#46039f"
             ],
             [
              0.2222222222222222,
              "#7201a8"
             ],
             [
              0.3333333333333333,
              "#9c179e"
             ],
             [
              0.4444444444444444,
              "#bd3786"
             ],
             [
              0.5555555555555556,
              "#d8576b"
             ],
             [
              0.6666666666666666,
              "#ed7953"
             ],
             [
              0.7777777777777778,
              "#fb9f3a"
             ],
             [
              0.8888888888888888,
              "#fdca26"
             ],
             [
              1,
              "#f0f921"
             ]
            ],
            "type": "heatmap"
           }
          ],
          "heatmapgl": [
           {
            "colorbar": {
             "outlinewidth": 0,
             "ticks": ""
            },
            "colorscale": [
             [
              0,
              "#0d0887"
             ],
             [
              0.1111111111111111,
              "#46039f"
             ],
             [
              0.2222222222222222,
              "#7201a8"
             ],
             [
              0.3333333333333333,
              "#9c179e"
             ],
             [
              0.4444444444444444,
              "#bd3786"
             ],
             [
              0.5555555555555556,
              "#d8576b"
             ],
             [
              0.6666666666666666,
              "#ed7953"
             ],
             [
              0.7777777777777778,
              "#fb9f3a"
             ],
             [
              0.8888888888888888,
              "#fdca26"
             ],
             [
              1,
              "#f0f921"
             ]
            ],
            "type": "heatmapgl"
           }
          ],
          "histogram": [
           {
            "marker": {
             "pattern": {
              "fillmode": "overlay",
              "size": 10,
              "solidity": 0.2
             }
            },
            "type": "histogram"
           }
          ],
          "histogram2d": [
           {
            "colorbar": {
             "outlinewidth": 0,
             "ticks": ""
            },
            "colorscale": [
             [
              0,
              "#0d0887"
             ],
             [
              0.1111111111111111,
              "#46039f"
             ],
             [
              0.2222222222222222,
              "#7201a8"
             ],
             [
              0.3333333333333333,
              "#9c179e"
             ],
             [
              0.4444444444444444,
              "#bd3786"
             ],
             [
              0.5555555555555556,
              "#d8576b"
             ],
             [
              0.6666666666666666,
              "#ed7953"
             ],
             [
              0.7777777777777778,
              "#fb9f3a"
             ],
             [
              0.8888888888888888,
              "#fdca26"
             ],
             [
              1,
              "#f0f921"
             ]
            ],
            "type": "histogram2d"
           }
          ],
          "histogram2dcontour": [
           {
            "colorbar": {
             "outlinewidth": 0,
             "ticks": ""
            },
            "colorscale": [
             [
              0,
              "#0d0887"
             ],
             [
              0.1111111111111111,
              "#46039f"
             ],
             [
              0.2222222222222222,
              "#7201a8"
             ],
             [
              0.3333333333333333,
              "#9c179e"
             ],
             [
              0.4444444444444444,
              "#bd3786"
             ],
             [
              0.5555555555555556,
              "#d8576b"
             ],
             [
              0.6666666666666666,
              "#ed7953"
             ],
             [
              0.7777777777777778,
              "#fb9f3a"
             ],
             [
              0.8888888888888888,
              "#fdca26"
             ],
             [
              1,
              "#f0f921"
             ]
            ],
            "type": "histogram2dcontour"
           }
          ],
          "mesh3d": [
           {
            "colorbar": {
             "outlinewidth": 0,
             "ticks": ""
            },
            "type": "mesh3d"
           }
          ],
          "parcoords": [
           {
            "line": {
             "colorbar": {
              "outlinewidth": 0,
              "ticks": ""
             }
            },
            "type": "parcoords"
           }
          ],
          "pie": [
           {
            "automargin": true,
            "type": "pie"
           }
          ],
          "scatter": [
           {
            "fillpattern": {
             "fillmode": "overlay",
             "size": 10,
             "solidity": 0.2
            },
            "type": "scatter"
           }
          ],
          "scatter3d": [
           {
            "line": {
             "colorbar": {
              "outlinewidth": 0,
              "ticks": ""
             }
            },
            "marker": {
             "colorbar": {
              "outlinewidth": 0,
              "ticks": ""
             }
            },
            "type": "scatter3d"
           }
          ],
          "scattercarpet": [
           {
            "marker": {
             "colorbar": {
              "outlinewidth": 0,
              "ticks": ""
             }
            },
            "type": "scattercarpet"
           }
          ],
          "scattergeo": [
           {
            "marker": {
             "colorbar": {
              "outlinewidth": 0,
              "ticks": ""
             }
            },
            "type": "scattergeo"
           }
          ],
          "scattergl": [
           {
            "marker": {
             "colorbar": {
              "outlinewidth": 0,
              "ticks": ""
             }
            },
            "type": "scattergl"
           }
          ],
          "scattermapbox": [
           {
            "marker": {
             "colorbar": {
              "outlinewidth": 0,
              "ticks": ""
             }
            },
            "type": "scattermapbox"
           }
          ],
          "scatterpolar": [
           {
            "marker": {
             "colorbar": {
              "outlinewidth": 0,
              "ticks": ""
             }
            },
            "type": "scatterpolar"
           }
          ],
          "scatterpolargl": [
           {
            "marker": {
             "colorbar": {
              "outlinewidth": 0,
              "ticks": ""
             }
            },
            "type": "scatterpolargl"
           }
          ],
          "scatterternary": [
           {
            "marker": {
             "colorbar": {
              "outlinewidth": 0,
              "ticks": ""
             }
            },
            "type": "scatterternary"
           }
          ],
          "surface": [
           {
            "colorbar": {
             "outlinewidth": 0,
             "ticks": ""
            },
            "colorscale": [
             [
              0,
              "#0d0887"
             ],
             [
              0.1111111111111111,
              "#46039f"
             ],
             [
              0.2222222222222222,
              "#7201a8"
             ],
             [
              0.3333333333333333,
              "#9c179e"
             ],
             [
              0.4444444444444444,
              "#bd3786"
             ],
             [
              0.5555555555555556,
              "#d8576b"
             ],
             [
              0.6666666666666666,
              "#ed7953"
             ],
             [
              0.7777777777777778,
              "#fb9f3a"
             ],
             [
              0.8888888888888888,
              "#fdca26"
             ],
             [
              1,
              "#f0f921"
             ]
            ],
            "type": "surface"
           }
          ],
          "table": [
           {
            "cells": {
             "fill": {
              "color": "#EBF0F8"
             },
             "line": {
              "color": "white"
             }
            },
            "header": {
             "fill": {
              "color": "#C8D4E3"
             },
             "line": {
              "color": "white"
             }
            },
            "type": "table"
           }
          ]
         },
         "layout": {
          "annotationdefaults": {
           "arrowcolor": "#2a3f5f",
           "arrowhead": 0,
           "arrowwidth": 1
          },
          "autotypenumbers": "strict",
          "coloraxis": {
           "colorbar": {
            "outlinewidth": 0,
            "ticks": ""
           }
          },
          "colorscale": {
           "diverging": [
            [
             0,
             "#8e0152"
            ],
            [
             0.1,
             "#c51b7d"
            ],
            [
             0.2,
             "#de77ae"
            ],
            [
             0.3,
             "#f1b6da"
            ],
            [
             0.4,
             "#fde0ef"
            ],
            [
             0.5,
             "#f7f7f7"
            ],
            [
             0.6,
             "#e6f5d0"
            ],
            [
             0.7,
             "#b8e186"
            ],
            [
             0.8,
             "#7fbc41"
            ],
            [
             0.9,
             "#4d9221"
            ],
            [
             1,
             "#276419"
            ]
           ],
           "sequential": [
            [
             0,
             "#0d0887"
            ],
            [
             0.1111111111111111,
             "#46039f"
            ],
            [
             0.2222222222222222,
             "#7201a8"
            ],
            [
             0.3333333333333333,
             "#9c179e"
            ],
            [
             0.4444444444444444,
             "#bd3786"
            ],
            [
             0.5555555555555556,
             "#d8576b"
            ],
            [
             0.6666666666666666,
             "#ed7953"
            ],
            [
             0.7777777777777778,
             "#fb9f3a"
            ],
            [
             0.8888888888888888,
             "#fdca26"
            ],
            [
             1,
             "#f0f921"
            ]
           ],
           "sequentialminus": [
            [
             0,
             "#0d0887"
            ],
            [
             0.1111111111111111,
             "#46039f"
            ],
            [
             0.2222222222222222,
             "#7201a8"
            ],
            [
             0.3333333333333333,
             "#9c179e"
            ],
            [
             0.4444444444444444,
             "#bd3786"
            ],
            [
             0.5555555555555556,
             "#d8576b"
            ],
            [
             0.6666666666666666,
             "#ed7953"
            ],
            [
             0.7777777777777778,
             "#fb9f3a"
            ],
            [
             0.8888888888888888,
             "#fdca26"
            ],
            [
             1,
             "#f0f921"
            ]
           ]
          },
          "colorway": [
           "#636efa",
           "#EF553B",
           "#00cc96",
           "#ab63fa",
           "#FFA15A",
           "#19d3f3",
           "#FF6692",
           "#B6E880",
           "#FF97FF",
           "#FECB52"
          ],
          "font": {
           "color": "#2a3f5f"
          },
          "geo": {
           "bgcolor": "white",
           "lakecolor": "white",
           "landcolor": "#E5ECF6",
           "showlakes": true,
           "showland": true,
           "subunitcolor": "white"
          },
          "hoverlabel": {
           "align": "left"
          },
          "hovermode": "closest",
          "mapbox": {
           "style": "light"
          },
          "paper_bgcolor": "white",
          "plot_bgcolor": "#E5ECF6",
          "polar": {
           "angularaxis": {
            "gridcolor": "white",
            "linecolor": "white",
            "ticks": ""
           },
           "bgcolor": "#E5ECF6",
           "radialaxis": {
            "gridcolor": "white",
            "linecolor": "white",
            "ticks": ""
           }
          },
          "scene": {
           "xaxis": {
            "backgroundcolor": "#E5ECF6",
            "gridcolor": "white",
            "gridwidth": 2,
            "linecolor": "white",
            "showbackground": true,
            "ticks": "",
            "zerolinecolor": "white"
           },
           "yaxis": {
            "backgroundcolor": "#E5ECF6",
            "gridcolor": "white",
            "gridwidth": 2,
            "linecolor": "white",
            "showbackground": true,
            "ticks": "",
            "zerolinecolor": "white"
           },
           "zaxis": {
            "backgroundcolor": "#E5ECF6",
            "gridcolor": "white",
            "gridwidth": 2,
            "linecolor": "white",
            "showbackground": true,
            "ticks": "",
            "zerolinecolor": "white"
           }
          },
          "shapedefaults": {
           "line": {
            "color": "#2a3f5f"
           }
          },
          "ternary": {
           "aaxis": {
            "gridcolor": "white",
            "linecolor": "white",
            "ticks": ""
           },
           "baxis": {
            "gridcolor": "white",
            "linecolor": "white",
            "ticks": ""
           },
           "bgcolor": "#E5ECF6",
           "caxis": {
            "gridcolor": "white",
            "linecolor": "white",
            "ticks": ""
           }
          },
          "title": {
           "x": 0.05
          },
          "xaxis": {
           "automargin": true,
           "gridcolor": "white",
           "linecolor": "white",
           "ticks": "",
           "title": {
            "standoff": 15
           },
           "zerolinecolor": "white",
           "zerolinewidth": 2
          },
          "yaxis": {
           "automargin": true,
           "gridcolor": "white",
           "linecolor": "white",
           "ticks": "",
           "title": {
            "standoff": 15
           },
           "zerolinecolor": "white",
           "zerolinewidth": 2
          }
         }
        },
        "title": {
         "text": "Open Space"
        },
        "xaxis": {
         "anchor": "y",
         "domain": [
          0,
          1
         ],
         "title": {
          "text": "Northing (M)"
         }
        },
        "yaxis": {
         "anchor": "x",
         "domain": [
          0,
          1
         ],
         "title": {
          "text": "Easting (M)"
         }
        }
       }
      }
     },
     "metadata": {},
     "output_type": "display_data"
    }
   ],
   "source": [
    "# Comparision between gps and google map position\n",
    "x = known_northing - df_op_s.UTM_northing[0]\n",
    "y = known_easting - df_op_s.UTM_easting[0]\n",
    "fig.add_scatter(x=[x],y=[y],name='Actual position')\n",
    "fig.show()"
   ]
  },
  {
   "cell_type": "code",
   "execution_count": 11,
   "metadata": {},
   "outputs": [
    {
     "data": {
      "text/plain": [
       "array([0.68000001, 0.75      , 0.77999997, 0.73000002, 0.67000002,\n",
       "       0.63999999, 0.75999999, 0.70999998, 0.83999997, 0.87      ,\n",
       "       0.76999998, 0.89999998, 0.64999998, 0.62      , 0.74000001,\n",
       "       0.66000003, 0.69999999, 0.79000002, 0.69      , 0.72000003,\n",
       "       0.88      , 0.92000002, 0.81      , 0.94      ])"
      ]
     },
     "execution_count": 11,
     "metadata": {},
     "output_type": "execute_result"
    }
   ],
   "source": [
    "df_op_s['HDOP'].unique()"
   ]
  },
  {
   "cell_type": "code",
   "execution_count": 12,
   "metadata": {},
   "outputs": [
    {
     "data": {
      "text/plain": [
       "array([0.])"
      ]
     },
     "execution_count": 12,
     "metadata": {},
     "output_type": "execute_result"
    }
   ],
   "source": [
    "df_op_s['modified_northing'].unique()"
   ]
  },
  {
   "cell_type": "code",
   "execution_count": 13,
   "metadata": {},
   "outputs": [
    {
     "data": {
      "text/plain": [
       "array([ 0.     ,  0.03125, -0.03125, -0.0625 ])"
      ]
     },
     "execution_count": 13,
     "metadata": {},
     "output_type": "execute_result"
    }
   ],
   "source": [
    "df_op_s['modified_easting'].unique()"
   ]
  },
  {
   "cell_type": "code",
   "execution_count": 14,
   "metadata": {},
   "outputs": [
    {
     "data": {
      "text/plain": [
       "array([4])"
      ]
     },
     "execution_count": 14,
     "metadata": {},
     "output_type": "execute_result"
    }
   ],
   "source": [
    "df_op_s[\"Fix_quality\"].unique()"
   ]
  },
  {
   "attachments": {},
   "cell_type": "markdown",
   "metadata": {},
   "source": [
    "From the scatter plot we can observe that the data collected from GPS puck has a decent precision in temrs of position. We can assume that, since the HDOP value was greater than 1 some error in precision may occur.\n",
    "***"
   ]
  },
  {
   "cell_type": "code",
   "execution_count": 15,
   "metadata": {},
   "outputs": [
    {
     "data": {
      "text/html": [
       "<div>\n",
       "<style scoped>\n",
       "    .dataframe tbody tr th:only-of-type {\n",
       "        vertical-align: middle;\n",
       "    }\n",
       "\n",
       "    .dataframe tbody tr th {\n",
       "        vertical-align: top;\n",
       "    }\n",
       "\n",
       "    .dataframe thead th {\n",
       "        text-align: right;\n",
       "    }\n",
       "</style>\n",
       "<table border=\"1\" class=\"dataframe\">\n",
       "  <thead>\n",
       "    <tr style=\"text-align: right;\">\n",
       "      <th></th>\n",
       "      <th>Time</th>\n",
       "      <th>Header.seq</th>\n",
       "      <th>Header.stamp.secs</th>\n",
       "      <th>Header.stamp.nsecs</th>\n",
       "      <th>Header.frame_id</th>\n",
       "      <th>Latitude</th>\n",
       "      <th>Longitude</th>\n",
       "      <th>Altitude</th>\n",
       "      <th>HDOP</th>\n",
       "      <th>Fix_quality</th>\n",
       "      <th>UTM_easting</th>\n",
       "      <th>UTM_northing</th>\n",
       "      <th>UTC</th>\n",
       "      <th>Zone</th>\n",
       "      <th>Letter</th>\n",
       "      <th>modified_northing</th>\n",
       "      <th>modified_easting</th>\n",
       "      <th>error</th>\n",
       "    </tr>\n",
       "  </thead>\n",
       "  <tbody>\n",
       "    <tr>\n",
       "      <th>614</th>\n",
       "      <td>1.677019e+09</td>\n",
       "      <td>617</td>\n",
       "      <td>223820</td>\n",
       "      <td>0</td>\n",
       "      <td>GPS1_Frame</td>\n",
       "      <td>42.308018</td>\n",
       "      <td>-71.107338</td>\n",
       "      <td>26.799999</td>\n",
       "      <td>0.94</td>\n",
       "      <td>4</td>\n",
       "      <td>326315.78125</td>\n",
       "      <td>4686126.5</td>\n",
       "      <td>223820.0</td>\n",
       "      <td>19</td>\n",
       "      <td>T</td>\n",
       "      <td>0.0</td>\n",
       "      <td>0.0</td>\n",
       "      <td>33.355575</td>\n",
       "    </tr>\n",
       "    <tr>\n",
       "      <th>615</th>\n",
       "      <td>1.677019e+09</td>\n",
       "      <td>618</td>\n",
       "      <td>223821</td>\n",
       "      <td>0</td>\n",
       "      <td>GPS1_Frame</td>\n",
       "      <td>42.308018</td>\n",
       "      <td>-71.107338</td>\n",
       "      <td>26.799999</td>\n",
       "      <td>0.87</td>\n",
       "      <td>4</td>\n",
       "      <td>326315.78125</td>\n",
       "      <td>4686126.5</td>\n",
       "      <td>223821.0</td>\n",
       "      <td>19</td>\n",
       "      <td>T</td>\n",
       "      <td>0.0</td>\n",
       "      <td>0.0</td>\n",
       "      <td>33.355575</td>\n",
       "    </tr>\n",
       "    <tr>\n",
       "      <th>616</th>\n",
       "      <td>1.677019e+09</td>\n",
       "      <td>619</td>\n",
       "      <td>223822</td>\n",
       "      <td>0</td>\n",
       "      <td>GPS1_Frame</td>\n",
       "      <td>42.308018</td>\n",
       "      <td>-71.107338</td>\n",
       "      <td>26.799999</td>\n",
       "      <td>0.87</td>\n",
       "      <td>4</td>\n",
       "      <td>326315.78125</td>\n",
       "      <td>4686126.5</td>\n",
       "      <td>223822.0</td>\n",
       "      <td>19</td>\n",
       "      <td>T</td>\n",
       "      <td>0.0</td>\n",
       "      <td>0.0</td>\n",
       "      <td>33.355575</td>\n",
       "    </tr>\n",
       "    <tr>\n",
       "      <th>617</th>\n",
       "      <td>1.677019e+09</td>\n",
       "      <td>620</td>\n",
       "      <td>223823</td>\n",
       "      <td>0</td>\n",
       "      <td>GPS1_Frame</td>\n",
       "      <td>42.308018</td>\n",
       "      <td>-71.107338</td>\n",
       "      <td>26.799999</td>\n",
       "      <td>0.77</td>\n",
       "      <td>4</td>\n",
       "      <td>326315.78125</td>\n",
       "      <td>4686126.5</td>\n",
       "      <td>223823.0</td>\n",
       "      <td>19</td>\n",
       "      <td>T</td>\n",
       "      <td>0.0</td>\n",
       "      <td>0.0</td>\n",
       "      <td>33.355575</td>\n",
       "    </tr>\n",
       "    <tr>\n",
       "      <th>618</th>\n",
       "      <td>1.677019e+09</td>\n",
       "      <td>621</td>\n",
       "      <td>223824</td>\n",
       "      <td>0</td>\n",
       "      <td>GPS1_Frame</td>\n",
       "      <td>42.308018</td>\n",
       "      <td>-71.107338</td>\n",
       "      <td>26.799999</td>\n",
       "      <td>0.77</td>\n",
       "      <td>4</td>\n",
       "      <td>326315.78125</td>\n",
       "      <td>4686126.5</td>\n",
       "      <td>223824.0</td>\n",
       "      <td>19</td>\n",
       "      <td>T</td>\n",
       "      <td>0.0</td>\n",
       "      <td>0.0</td>\n",
       "      <td>33.355575</td>\n",
       "    </tr>\n",
       "  </tbody>\n",
       "</table>\n",
       "</div>"
      ],
      "text/plain": [
       "             Time  Header.seq  Header.stamp.secs  Header.stamp.nsecs  \\\n",
       "614  1.677019e+09         617             223820                   0   \n",
       "615  1.677019e+09         618             223821                   0   \n",
       "616  1.677019e+09         619             223822                   0   \n",
       "617  1.677019e+09         620             223823                   0   \n",
       "618  1.677019e+09         621             223824                   0   \n",
       "\n",
       "    Header.frame_id   Latitude  Longitude   Altitude  HDOP  Fix_quality  \\\n",
       "614      GPS1_Frame  42.308018 -71.107338  26.799999  0.94            4   \n",
       "615      GPS1_Frame  42.308018 -71.107338  26.799999  0.87            4   \n",
       "616      GPS1_Frame  42.308018 -71.107338  26.799999  0.87            4   \n",
       "617      GPS1_Frame  42.308018 -71.107338  26.799999  0.77            4   \n",
       "618      GPS1_Frame  42.308018 -71.107338  26.799999  0.77            4   \n",
       "\n",
       "      UTM_easting  UTM_northing       UTC  Zone Letter  modified_northing  \\\n",
       "614  326315.78125     4686126.5  223820.0    19      T                0.0   \n",
       "615  326315.78125     4686126.5  223821.0    19      T                0.0   \n",
       "616  326315.78125     4686126.5  223822.0    19      T                0.0   \n",
       "617  326315.78125     4686126.5  223823.0    19      T                0.0   \n",
       "618  326315.78125     4686126.5  223824.0    19      T                0.0   \n",
       "\n",
       "     modified_easting      error  \n",
       "614               0.0  33.355575  \n",
       "615               0.0  33.355575  \n",
       "616               0.0  33.355575  \n",
       "617               0.0  33.355575  \n",
       "618               0.0  33.355575  "
      ]
     },
     "execution_count": 15,
     "metadata": {},
     "output_type": "execute_result"
    }
   ],
   "source": [
    "# Calculating error in terms of position using eucledian distance\n",
    "import math\n",
    "df_op_s['error'] = ((df_op_s['modified_northing']-x)**2 + (df_op_s['modified_easting']-y)**2)**(1/2)\n",
    "df_op_s.tail()"
   ]
  },
  {
   "cell_type": "code",
   "execution_count": 16,
   "metadata": {},
   "outputs": [
    {
     "data": {
      "text/plain": [
       "array([[<matplotlib.axes._subplots.AxesSubplot object at 0x7f18912753d0>]],\n",
       "      dtype=object)"
      ]
     },
     "execution_count": 16,
     "metadata": {},
     "output_type": "execute_result"
    },
    {
     "data": {
      "image/png": "[encoded data removed]",
      "text/plain": [
       "<Figure size 640x480 with 1 Axes>"
      ]
     },
     "metadata": {},
     "output_type": "display_data"
    }
   ],
   "source": [
    "df_op_s.hist(column='error')"
   ]
  },
  {
   "attachments": {},
   "cell_type": "markdown",
   "metadata": {},
   "source": [
    "Observing the histogram we can see that the error in terms of distance from known position is in range between (31,32) which is pretty small. And we can also see that majority of the error is approximately the mean error. This may indicate that the location where the data was taken and the reference vlaues may not be the same. And the outliers may be causes due to the precision error.\n",
    "***"
   ]
  },
  {
   "cell_type": "code",
   "execution_count": 17,
   "metadata": {},
   "outputs": [
    {
     "data": {
      "text/plain": [
       "33.35163533414928"
      ]
     },
     "execution_count": 17,
     "metadata": {},
     "output_type": "execute_result"
    }
   ],
   "source": [
    "mean_error = df_op_s['error'].mean()\n",
    "mean_error"
   ]
  },
  {
   "cell_type": "code",
   "execution_count": 18,
   "metadata": {},
   "outputs": [
    {
     "data": {
      "text/plain": [
       "33.35557546934365"
      ]
     },
     "execution_count": 18,
     "metadata": {},
     "output_type": "execute_result"
    }
   ],
   "source": [
    "medain = df_op_s['error'].median()\n",
    "medain"
   ]
  },
  {
   "attachments": {},
   "cell_type": "markdown",
   "metadata": {},
   "source": [
    "The error in terms of position may occur due to the following two reasons:\n",
    "\n",
    "1. Because of HDOP value\n",
    "2. The reference laitude and longitude that is derived from google maps may not exactly be where the GPS data was recorded. \n",
    "***"
   ]
  },
  {
   "cell_type": "code",
   "execution_count": 19,
   "metadata": {},
   "outputs": [
    {
     "data": {
      "application/vnd.plotly.v1+json": {
       "config": {
        "plotlyServerURL": "https://plot.ly"
       },
       "data": [
        {
         "hovertemplate": "Time in Seconds=%{x}<br>Altitude (M)=%{y}<extra></extra>",
         "legendgroup": "",
         "marker": {
          "color": "#636efa",
          "symbol": "circle"
         },
         "mode": "markers",
         "name": "",
         "orientation": "v",
         "showlegend": false,
         "type": "scatter",
         "x": [
          222806,
          222807,
          222808,
          222809,
          222810,
          222811,
          222812,
          222813,
          222814,
          222815,
          222816,
          222817,
          222818,
          222819,
          222820,
          222821,
          222822,
          222823,
          222824,
          222825,
          222826,
          222827,
          222828,
          222829,
          222830,
          222831,
          222832,
          222833,
          222834,
          222835,
          222836,
          222837,
          222838,
          222839,
          222840,
          222841,
          222842,
          222843,
          222844,
          222845,
          222846,
          222847,
          222848,
          222849,
          222850,
          222851,
          222852,
          222853,
          222854,
          222855,
          222856,
          222857,
          222858,
          222859,
          222900,
          222901,
          222902,
          222903,
          222904,
          222905,
          222906,
          222907,
          222908,
          222909,
          222910,
          222911,
          222912,
          222913,
          222914,
          222915,
          222916,
          222917,
          222918,
          222919,
          222920,
          222921,
          222922,
          222923,
          222924,
          222925,
          222926,
          222927,
          222928,
          222929,
          222930,
          222931,
          222932,
          222933,
          222934,
          222935,
          222936,
          222937,
          222938,
          222939,
          222940,
          222941,
          222942,
          222943,
          222944,
          222945,
          222946,
          222947,
          222948,
          222949,
          222950,
          222951,
          222952,
          222953,
          222954,
          222955,
          222956,
          222957,
          222958,
          222959,
          223000,
          223001,
          223002,
          223003,
          223004,
          223005,
          223006,
          223007,
          223008,
          223009,
          223010,
          223011,
          223012,
          223013,
          223014,
          223015,
          223016,
          223017,
          223018,
          223019,
          223020,
          223021,
          223022,
          223023,
          223024,
          223025,
          223026,
          223027,
          223028,
          223029,
          223030,
          223031,
          223032,
          223033,
          223034,
          223035,
          223036,
          223037,
          223038,
          223039,
          223040,
          223041,
          223042,
          223043,
          223044,
          223045,
          223046,
          223047,
          223048,
          223049,
          223050,
          223051,
          223052,
          223053,
          223054,
          223055,
          223056,
          223057,
          223058,
          223059,
          223100,
          223101,
          223102,
          223103,
          223104,
          223105,
          223106,
          223107,
          223108,
          223109,
          223110,
          223111,
          223112,
          223113,
          223114,
          223115,
          223116,
          223117,
          223118,
          223119,
          223120,
          223121,
          223122,
          223123,
          223124,
          223125,
          223126,
          223127,
          223128,
          223129,
          223130,
          223131,
          223132,
          223133,
          223134,
          223135,
          223136,
          223137,
          223138,
          223139,
          223140,
          223141,
          223142,
          223143,
          223144,
          223145,
          223146,
          223147,
          223148,
          223149,
          223150,
          223151,
          223152,
          223153,
          223154,
          223155,
          223156,
          223157,
          223158,
          223159,
          223200,
          223201,
          223202,
          223203,
          223204,
          223205,
          223206,
          223207,
          223208,
          223209,
          223210,
          223211,
          223212,
          223213,
          223214,
          223215,
          223216,
          223217,
          223218,
          223219,
          223220,
          223221,
          223222,
          223223,
          223224,
          223225,
          223226,
          223227,
          223228,
          223229,
          223230,
          223231,
          223232,
          223233,
          223234,
          223235,
          223236,
          223237,
          223238,
          223239,
          223240,
          223241,
          223242,
          223243,
          223244,
          223245,
          223246,
          223247,
          223248,
          223249,
          223250,
          223251,
          223252,
          223253,
          223254,
          223255,
          223256,
          223257,
          223258,
          223259,
          223300,
          223301,
          223302,
          223303,
          223304,
          223305,
          223306,
          223307,
          223308,
          223309,
          223310,
          223311,
          223312,
          223313,
          223314,
          223315,
          223316,
          223317,
          223318,
          223319,
          223320,
          223321,
          223322,
          223323,
          223324,
          223325,
          223326,
          223327,
          223328,
          223329,
          223330,
          223331,
          223332,
          223333,
          223334,
          223335,
          223336,
          223337,
          223338,
          223339,
          223340,
          223341,
          223342,
          223343,
          223344,
          223345,
          223346,
          223347,
          223348,
          223349,
          223350,
          223351,
          223352,
          223353,
          223354,
          223355,
          223356,
          223357,
          223358,
          223359,
          223400,
          223401,
          223402,
          223403,
          223404,
          223405,
          223406,
          223407,
          223408,
          223409,
          223410,
          223411,
          223412,
          223413,
          223414,
          223415,
          223416,
          223417,
          223418,
          223419,
          223420,
          223421,
          223422,
          223423,
          223424,
          223425,
          223426,
          223427,
          223428,
          223429,
          223430,
          223431,
          223432,
          223433,
          223434,
          223435,
          223436,
          223437,
          223438,
          223439,
          223440,
          223441,
          223442,
          223443,
          223444,
          223445,
          223446,
          223447,
          223448,
          223449,
          223450,
          223451,
          223452,
          223453,
          223454,
          223455,
          223456,
          223457,
          223458,
          223459,
          223500,
          223501,
          223502,
          223503,
          223504,
          223505,
          223506,
          223507,
          223508,
          223509,
          223510,
          223511,
          223512,
          223513,
          223514,
          223515,
          223516,
          223517,
          223518,
          223519,
          223520,
          223521,
          223522,
          223523,
          223524,
          223525,
          223526,
          223527,
          223528,
          223529,
          223530,
          223531,
          223532,
          223533,
          223534,
          223535,
          223536,
          223537,
          223538,
          223539,
          223540,
          223541,
          223542,
          223543,
          223544,
          223545,
          223546,
          223547,
          223548,
          223549,
          223550,
          223551,
          223552,
          223553,
          223554,
          223555,
          223556,
          223557,
          223558,
          223559,
          223600,
          223601,
          223602,
          223603,
          223604,
          223605,
          223606,
          223607,
          223608,
          223609,
          223610,
          223611,
          223612,
          223613,
          223614,
          223615,
          223616,
          223617,
          223618,
          223619,
          223620,
          223621,
          223622,
          223623,
          223624,
          223625,
          223626,
          223627,
          223628,
          223629,
          223630,
          223631,
          223632,
          223633,
          223634,
          223635,
          223636,
          223637,
          223638,
          223639,
          223640,
          223641,
          223642,
          223643,
          223644,
          223645,
          223646,
          223647,
          223648,
          223649,
          223650,
          223651,
          223652,
          223653,
          223654,
          223655,
          223656,
          223657,
          223658,
          223659,
          223700,
          223701,
          223702,
          223703,
          223704,
          223705,
          223706,
          223707,
          223708,
          223709,
          223710,
          223711,
          223712,
          223713,
          223714,
          223715,
          223716,
          223717,
          223718,
          223719,
          223720,
          223721,
          223722,
          223723,
          223724,
          223725,
          223726,
          223727,
          223728,
          223729,
          223730,
          223731,
          223732,
          223733,
          223734,
          223735,
          223736,
          223737,
          223738,
          223739,
          223740,
          223741,
          223742,
          223743,
          223744,
          223745,
          223746,
          223747,
          223748,
          223749,
          223750,
          223751,
          223752,
          223753,
          223754,
          223755,
          223756,
          223757,
          223758,
          223759,
          223800,
          223801,
          223802,
          223803,
          223804,
          223805,
          223806,
          223807,
          223808,
          223809,
          223810,
          223811,
          223812,
          223813,
          223814,
          223815,
          223816,
          223817,
          223818,
          223819,
          223820,
          223821,
          223822,
          223823,
          223824
         ],
         "xaxis": "x",
         "y": [
          26.799999237060547,
          26.799999237060547,
          26.799999237060547,
          26.799999237060547,
          26.700000762939453,
          26.799999237060547,
          26.700000762939453,
          26.700000762939453,
          26.799999237060547,
          26.799999237060547,
          26.700000762939453,
          26.799999237060547,
          26.799999237060547,
          26.799999237060547,
          26.799999237060547,
          26.799999237060547,
          26.799999237060547,
          26.700000762939453,
          26.700000762939453,
          26.700000762939453,
          26.700000762939453,
          26.700000762939453,
          26.700000762939453,
          26.700000762939453,
          26.700000762939453,
          26.700000762939453,
          26.700000762939453,
          26.700000762939453,
          26.700000762939453,
          26.700000762939453,
          26.700000762939453,
          26.700000762939453,
          26.799999237060547,
          26.799999237060547,
          26.700000762939453,
          26.700000762939453,
          26.700000762939453,
          26.700000762939453,
          26.700000762939453,
          26.700000762939453,
          26.700000762939453,
          26.700000762939453,
          26.700000762939453,
          26.700000762939453,
          26.700000762939453,
          26.700000762939453,
          26.799999237060547,
          26.799999237060547,
          26.799999237060547,
          26.700000762939453,
          26.700000762939453,
          26.799999237060547,
          26.799999237060547,
          26.799999237060547,
          26.799999237060547,
          26.799999237060547,
          26.700000762939453,
          26.700000762939453,
          26.700000762939453,
          26.700000762939453,
          26.700000762939453,
          26.700000762939453,
          26.700000762939453,
          26.700000762939453,
          26.700000762939453,
          26.799999237060547,
          26.799999237060547,
          26.700000762939453,
          26.700000762939453,
          26.700000762939453,
          26.700000762939453,
          26.799999237060547,
          26.700000762939453,
          26.700000762939453,
          26.700000762939453,
          26.700000762939453,
          26.700000762939453,
          26.799999237060547,
          26.700000762939453,
          26.799999237060547,
          26.799999237060547,
          26.700000762939453,
          26.700000762939453,
          26.700000762939453,
          26.799999237060547,
          26.799999237060547,
          26.799999237060547,
          26.799999237060547,
          26.799999237060547,
          26.799999237060547,
          26.799999237060547,
          26.799999237060547,
          26.799999237060547,
          26.700000762939453,
          26.799999237060547,
          26.700000762939453,
          26.700000762939453,
          26.799999237060547,
          26.700000762939453,
          26.700000762939453,
          26.700000762939453,
          26.700000762939453,
          26.700000762939453,
          26.700000762939453,
          26.700000762939453,
          26.700000762939453,
          26.700000762939453,
          26.700000762939453,
          26.700000762939453,
          26.700000762939453,
          26.700000762939453,
          26.700000762939453,
          26.700000762939453,
          26.700000762939453,
          26.700000762939453,
          26.799999237060547,
          26.799999237060547,
          26.799999237060547,
          26.799999237060547,
          26.799999237060547,
          26.799999237060547,
          26.799999237060547,
          26.799999237060547,
          26.799999237060547,
          26.799999237060547,
          26.799999237060547,
          26.799999237060547,
          26.799999237060547,
          26.799999237060547,
          26.799999237060547,
          26.799999237060547,
          26.799999237060547,
          26.799999237060547,
          26.799999237060547,
          26.799999237060547,
          26.799999237060547,
          26.799999237060547,
          26.799999237060547,
          26.799999237060547,
          26.799999237060547,
          26.799999237060547,
          26.799999237060547,
          26.799999237060547,
          26.799999237060547,
          26.799999237060547,
          26.799999237060547,
          26.700000762939453,
          26.700000762939453,
          26.700000762939453,
          26.700000762939453,
          26.799999237060547,
          26.799999237060547,
          26.799999237060547,
          26.799999237060547,
          26.799999237060547,
          26.799999237060547,
          26.799999237060547,
          26.799999237060547,
          26.799999237060547,
          26.799999237060547,
          26.700000762939453,
          26.700000762939453,
          26.799999237060547,
          26.799999237060547,
          26.799999237060547,
          26.799999237060547,
          26.799999237060547,
          26.799999237060547,
          26.799999237060547,
          26.799999237060547,
          26.700000762939453,
          26.799999237060547,
          26.799999237060547,
          26.799999237060547,
          26.799999237060547,
          26.799999237060547,
          26.700000762939453,
          26.700000762939453,
          26.799999237060547,
          26.799999237060547,
          26.799999237060547,
          26.799999237060547,
          26.799999237060547,
          26.799999237060547,
          26.799999237060547,
          26.799999237060547,
          26.799999237060547,
          26.799999237060547,
          26.799999237060547,
          26.799999237060547,
          26.799999237060547,
          26.799999237060547,
          26.799999237060547,
          26.799999237060547,
          26.799999237060547,
          26.799999237060547,
          26.799999237060547,
          26.799999237060547,
          26.799999237060547,
          26.799999237060547,
          26.799999237060547,
          26.799999237060547,
          26.799999237060547,
          26.799999237060547,
          26.799999237060547,
          26.799999237060547,
          26.799999237060547,
          26.799999237060547,
          26.799999237060547,
          26.799999237060547,
          26.799999237060547,
          26.799999237060547,
          26.799999237060547,
          26.799999237060547,
          26.799999237060547,
          26.799999237060547,
          26.799999237060547,
          26.799999237060547,
          26.799999237060547,
          26.799999237060547,
          26.799999237060547,
          26.799999237060547,
          26.799999237060547,
          26.799999237060547,
          26.799999237060547,
          26.799999237060547,
          26.799999237060547,
          26.799999237060547,
          26.799999237060547,
          26.799999237060547,
          26.799999237060547,
          26.799999237060547,
          26.799999237060547,
          26.799999237060547,
          26.799999237060547,
          26.799999237060547,
          26.799999237060547,
          26.799999237060547,
          26.799999237060547,
          26.799999237060547,
          26.799999237060547,
          26.799999237060547,
          26.799999237060547,
          26.799999237060547,
          26.799999237060547,
          26.799999237060547,
          26.799999237060547,
          26.799999237060547,
          26.799999237060547,
          26.799999237060547,
          26.799999237060547,
          26.799999237060547,
          26.799999237060547,
          26.799999237060547,
          26.799999237060547,
          26.799999237060547,
          26.700000762939453,
          26.700000762939453,
          26.700000762939453,
          26.700000762939453,
          26.700000762939453,
          26.700000762939453,
          26.700000762939453,
          26.700000762939453,
          26.700000762939453,
          26.799999237060547,
          26.799999237060547,
          26.700000762939453,
          26.700000762939453,
          26.700000762939453,
          26.700000762939453,
          26.799999237060547,
          26.799999237060547,
          26.799999237060547,
          26.799999237060547,
          26.799999237060547,
          26.799999237060547,
          26.799999237060547,
          26.799999237060547,
          26.799999237060547,
          26.799999237060547,
          26.799999237060547,
          26.799999237060547,
          26.799999237060547,
          26.799999237060547,
          26.799999237060547,
          26.700000762939453,
          26.700000762939453,
          26.700000762939453,
          26.700000762939453,
          26.799999237060547,
          26.799999237060547,
          26.799999237060547,
          26.700000762939453,
          26.700000762939453,
          26.799999237060547,
          26.799999237060547,
          26.799999237060547,
          26.799999237060547,
          26.799999237060547,
          26.799999237060547,
          26.799999237060547,
          26.799999237060547,
          26.799999237060547,
          26.799999237060547,
          26.799999237060547,
          26.700000762939453,
          26.799999237060547,
          26.799999237060547,
          26.799999237060547,
          26.799999237060547,
          26.799999237060547,
          26.799999237060547,
          26.799999237060547,
          26.799999237060547,
          26.799999237060547,
          26.799999237060547,
          26.799999237060547,
          26.799999237060547,
          26.700000762939453,
          26.799999237060547,
          26.799999237060547,
          26.799999237060547,
          26.799999237060547,
          26.799999237060547,
          26.799999237060547,
          26.799999237060547,
          26.799999237060547,
          26.799999237060547,
          26.799999237060547,
          26.799999237060547,
          26.799999237060547,
          26.799999237060547,
          26.799999237060547,
          26.799999237060547,
          26.799999237060547,
          26.799999237060547,
          26.799999237060547,
          26.700000762939453,
          26.700000762939453,
          26.700000762939453,
          26.799999237060547,
          26.799999237060547,
          26.799999237060547,
          26.799999237060547,
          26.799999237060547,
          26.799999237060547,
          26.799999237060547,
          26.799999237060547,
          26.799999237060547,
          26.799999237060547,
          26.799999237060547,
          26.799999237060547,
          26.799999237060547,
          26.799999237060547,
          26.799999237060547,
          26.799999237060547,
          26.799999237060547,
          26.799999237060547,
          26.799999237060547,
          26.799999237060547,
          26.799999237060547,
          26.799999237060547,
          26.799999237060547,
          26.799999237060547,
          26.799999237060547,
          26.799999237060547,
          26.799999237060547,
          26.799999237060547,
          26.799999237060547,
          26.799999237060547,
          26.799999237060547,
          26.799999237060547,
          26.799999237060547,
          26.799999237060547,
          26.799999237060547,
          26.799999237060547,
          26.799999237060547,
          26.799999237060547,
          26.799999237060547,
          26.799999237060547,
          26.799999237060547,
          26.799999237060547,
          26.799999237060547,
          26.799999237060547,
          26.799999237060547,
          26.799999237060547,
          26.799999237060547,
          26.799999237060547,
          26.799999237060547,
          26.799999237060547,
          26.799999237060547,
          26.799999237060547,
          26.799999237060547,
          26.799999237060547,
          26.799999237060547,
          26.799999237060547,
          26.799999237060547,
          26.799999237060547,
          26.799999237060547,
          26.799999237060547,
          26.799999237060547,
          26.799999237060547,
          26.799999237060547,
          26.799999237060547,
          26.799999237060547,
          26.799999237060547,
          26.799999237060547,
          26.799999237060547,
          26.799999237060547,
          26.799999237060547,
          26.799999237060547,
          26.799999237060547,
          26.799999237060547,
          26.799999237060547,
          26.799999237060547,
          26.799999237060547,
          26.899999618530277,
          26.799999237060547,
          26.899999618530277,
          26.899999618530277,
          26.899999618530277,
          26.899999618530277,
          26.799999237060547,
          26.799999237060547,
          26.799999237060547,
          26.799999237060547,
          26.799999237060547,
          26.799999237060547,
          26.799999237060547,
          26.799999237060547,
          26.799999237060547,
          26.799999237060547,
          26.799999237060547,
          26.799999237060547,
          26.799999237060547,
          26.799999237060547,
          26.799999237060547,
          26.799999237060547,
          26.799999237060547,
          26.799999237060547,
          26.799999237060547,
          26.799999237060547,
          26.799999237060547,
          26.799999237060547,
          26.799999237060547,
          26.799999237060547,
          26.799999237060547,
          26.799999237060547,
          26.799999237060547,
          26.799999237060547,
          26.799999237060547,
          26.799999237060547,
          26.799999237060547,
          26.799999237060547,
          26.799999237060547,
          26.799999237060547,
          26.799999237060547,
          26.799999237060547,
          26.799999237060547,
          26.799999237060547,
          26.799999237060547,
          26.799999237060547,
          26.799999237060547,
          26.799999237060547,
          26.799999237060547,
          26.799999237060547,
          26.799999237060547,
          26.799999237060547,
          26.799999237060547,
          26.799999237060547,
          26.799999237060547,
          26.799999237060547,
          26.799999237060547,
          26.799999237060547,
          26.799999237060547,
          26.799999237060547,
          26.799999237060547,
          26.799999237060547,
          26.799999237060547,
          26.799999237060547,
          26.799999237060547,
          26.799999237060547,
          26.799999237060547,
          26.799999237060547,
          26.799999237060547,
          26.799999237060547,
          26.799999237060547,
          26.799999237060547,
          26.799999237060547,
          26.799999237060547,
          26.799999237060547,
          26.799999237060547,
          26.799999237060547,
          26.799999237060547,
          26.799999237060547,
          26.799999237060547,
          26.799999237060547,
          26.799999237060547,
          26.799999237060547,
          26.700000762939453,
          26.799999237060547,
          26.700000762939453,
          26.799999237060547,
          26.799999237060547,
          26.799999237060547,
          26.799999237060547,
          26.700000762939453,
          26.799999237060547,
          26.799999237060547,
          26.799999237060547,
          26.799999237060547,
          26.799999237060547,
          26.799999237060547,
          26.799999237060547,
          26.799999237060547,
          26.799999237060547,
          26.799999237060547,
          26.799999237060547,
          26.799999237060547,
          26.799999237060547,
          26.799999237060547,
          26.799999237060547,
          26.799999237060547,
          26.799999237060547,
          26.799999237060547,
          26.799999237060547,
          26.799999237060547,
          26.799999237060547,
          26.799999237060547,
          26.799999237060547,
          26.799999237060547,
          26.799999237060547,
          26.799999237060547,
          26.799999237060547,
          26.799999237060547,
          26.799999237060547,
          26.799999237060547,
          26.799999237060547,
          26.799999237060547,
          26.799999237060547,
          26.799999237060547,
          26.799999237060547,
          26.799999237060547,
          26.799999237060547,
          26.799999237060547,
          26.799999237060547,
          26.799999237060547,
          26.799999237060547,
          26.799999237060547,
          26.799999237060547,
          26.799999237060547,
          26.799999237060547,
          26.799999237060547,
          26.799999237060547,
          26.799999237060547,
          26.799999237060547,
          26.799999237060547,
          26.799999237060547,
          26.799999237060547,
          26.799999237060547,
          26.799999237060547,
          26.799999237060547,
          26.799999237060547,
          26.799999237060547,
          26.799999237060547,
          26.799999237060547,
          26.799999237060547,
          26.799999237060547,
          26.799999237060547,
          26.799999237060547,
          26.799999237060547,
          26.799999237060547,
          26.799999237060547,
          26.799999237060547,
          26.799999237060547,
          26.799999237060547,
          26.799999237060547,
          26.799999237060547,
          26.799999237060547,
          26.799999237060547,
          26.799999237060547,
          26.799999237060547,
          26.799999237060547,
          26.799999237060547,
          26.799999237060547,
          26.799999237060547,
          26.799999237060547,
          26.799999237060547,
          26.799999237060547,
          26.799999237060547,
          26.799999237060547,
          26.799999237060547,
          26.799999237060547,
          26.799999237060547,
          26.799999237060547,
          26.799999237060547,
          26.799999237060547,
          26.799999237060547,
          26.799999237060547,
          26.799999237060547,
          26.799999237060547,
          26.799999237060547,
          26.799999237060547,
          26.799999237060547,
          26.799999237060547,
          26.799999237060547,
          26.799999237060547,
          26.799999237060547,
          26.799999237060547,
          26.799999237060547,
          26.799999237060547,
          26.799999237060547,
          26.799999237060547,
          26.799999237060547,
          26.799999237060547,
          26.799999237060547,
          26.799999237060547,
          26.799999237060547
         ],
         "yaxis": "y"
        }
       ],
       "layout": {
        "legend": {
         "tracegroupgap": 0
        },
        "template": {
         "data": {
          "bar": [
           {
            "error_x": {
             "color": "#2a3f5f"
            },
            "error_y": {
             "color": "#2a3f5f"
            },
            "marker": {
             "line": {
              "color": "#E5ECF6",
              "width": 0.5
             },
             "pattern": {
              "fillmode": "overlay",
              "size": 10,
              "solidity": 0.2
             }
            },
            "type": "bar"
           }
          ],
          "barpolar": [
           {
            "marker": {
             "line": {
              "color": "#E5ECF6",
              "width": 0.5
             },
             "pattern": {
              "fillmode": "overlay",
              "size": 10,
              "solidity": 0.2
             }
            },
            "type": "barpolar"
           }
          ],
          "carpet": [
           {
            "aaxis": {
             "endlinecolor": "#2a3f5f",
             "gridcolor": "white",
             "linecolor": "white",
             "minorgridcolor": "white",
             "startlinecolor": "#2a3f5f"
            },
            "baxis": {
             "endlinecolor": "#2a3f5f",
             "gridcolor": "white",
             "linecolor": "white",
             "minorgridcolor": "white",
             "startlinecolor": "#2a3f5f"
            },
            "type": "carpet"
           }
          ],
          "choropleth": [
           {
            "colorbar": {
             "outlinewidth": 0,
             "ticks": ""
            },
            "type": "choropleth"
           }
          ],
          "contour": [
           {
            "colorbar": {
             "outlinewidth": 0,
             "ticks": ""
            },
            "colorscale": [
             [
              0,
              "#0d0887"
             ],
             [
              0.1111111111111111,
              "#46039f"
             ],
             [
              0.2222222222222222,
              "#7201a8"
             ],
             [
              0.3333333333333333,
              "#9c179e"
             ],
             [
              0.4444444444444444,
              "#bd3786"
             ],
             [
              0.5555555555555556,
              "#d8576b"
             ],
             [
              0.6666666666666666,
              "#ed7953"
             ],
             [
              0.7777777777777778,
              "#fb9f3a"
             ],
             [
              0.8888888888888888,
              "#fdca26"
             ],
             [
              1,
              "#f0f921"
             ]
            ],
            "type": "contour"
           }
          ],
          "contourcarpet": [
           {
            "colorbar": {
             "outlinewidth": 0,
             "ticks": ""
            },
            "type": "contourcarpet"
           }
          ],
          "heatmap": [
           {
            "colorbar": {
             "outlinewidth": 0,
             "ticks": ""
            },
            "colorscale": [
             [
              0,
              "#0d0887"
             ],
             [
              0.1111111111111111,
              "#46039f"
             ],
             [
              0.2222222222222222,
              "#7201a8"
             ],
             [
              0.3333333333333333,
              "#9c179e"
             ],
             [
              0.4444444444444444,
              "#bd3786"
             ],
             [
              0.5555555555555556,
              "#d8576b"
             ],
             [
              0.6666666666666666,
              "#ed7953"
             ],
             [
              0.7777777777777778,
              "#fb9f3a"
             ],
             [
              0.8888888888888888,
              "#fdca26"
             ],
             [
              1,
              "#f0f921"
             ]
            ],
            "type": "heatmap"
           }
          ],
          "heatmapgl": [
           {
            "colorbar": {
             "outlinewidth": 0,
             "ticks": ""
            },
            "colorscale": [
             [
              0,
              "#0d0887"
             ],
             [
              0.1111111111111111,
              "#46039f"
             ],
             [
              0.2222222222222222,
              "#7201a8"
             ],
             [
              0.3333333333333333,
              "#9c179e"
             ],
             [
              0.4444444444444444,
              "#bd3786"
             ],
             [
              0.5555555555555556,
              "#d8576b"
             ],
             [
              0.6666666666666666,
              "#ed7953"
             ],
             [
              0.7777777777777778,
              "#fb9f3a"
             ],
             [
              0.8888888888888888,
              "#fdca26"
             ],
             [
              1,
              "#f0f921"
             ]
            ],
            "type": "heatmapgl"
           }
          ],
          "histogram": [
           {
            "marker": {
             "pattern": {
              "fillmode": "overlay",
              "size": 10,
              "solidity": 0.2
             }
            },
            "type": "histogram"
           }
          ],
          "histogram2d": [
           {
            "colorbar": {
             "outlinewidth": 0,
             "ticks": ""
            },
            "colorscale": [
             [
              0,
              "#0d0887"
             ],
             [
              0.1111111111111111,
              "#46039f"
             ],
             [
              0.2222222222222222,
              "#7201a8"
             ],
             [
              0.3333333333333333,
              "#9c179e"
             ],
             [
              0.4444444444444444,
              "#bd3786"
             ],
             [
              0.5555555555555556,
              "#d8576b"
             ],
             [
              0.6666666666666666,
              "#ed7953"
             ],
             [
              0.7777777777777778,
              "#fb9f3a"
             ],
             [
              0.8888888888888888,
              "#fdca26"
             ],
             [
              1,
              "#f0f921"
             ]
            ],
            "type": "histogram2d"
           }
          ],
          "histogram2dcontour": [
           {
            "colorbar": {
             "outlinewidth": 0,
             "ticks": ""
            },
            "colorscale": [
             [
              0,
              "#0d0887"
             ],
             [
              0.1111111111111111,
              "#46039f"
             ],
             [
              0.2222222222222222,
              "#7201a8"
             ],
             [
              0.3333333333333333,
              "#9c179e"
             ],
             [
              0.4444444444444444,
              "#bd3786"
             ],
             [
              0.5555555555555556,
              "#d8576b"
             ],
             [
              0.6666666666666666,
              "#ed7953"
             ],
             [
              0.7777777777777778,
              "#fb9f3a"
             ],
             [
              0.8888888888888888,
              "#fdca26"
             ],
             [
              1,
              "#f0f921"
             ]
            ],
            "type": "histogram2dcontour"
           }
          ],
          "mesh3d": [
           {
            "colorbar": {
             "outlinewidth": 0,
             "ticks": ""
            },
            "type": "mesh3d"
           }
          ],
          "parcoords": [
           {
            "line": {
             "colorbar": {
              "outlinewidth": 0,
              "ticks": ""
             }
            },
            "type": "parcoords"
           }
          ],
          "pie": [
           {
            "automargin": true,
            "type": "pie"
           }
          ],
          "scatter": [
           {
            "fillpattern": {
             "fillmode": "overlay",
             "size": 10,
             "solidity": 0.2
            },
            "type": "scatter"
           }
          ],
          "scatter3d": [
           {
            "line": {
             "colorbar": {
              "outlinewidth": 0,
              "ticks": ""
             }
            },
            "marker": {
             "colorbar": {
              "outlinewidth": 0,
              "ticks": ""
             }
            },
            "type": "scatter3d"
           }
          ],
          "scattercarpet": [
           {
            "marker": {
             "colorbar": {
              "outlinewidth": 0,
              "ticks": ""
             }
            },
            "type": "scattercarpet"
           }
          ],
          "scattergeo": [
           {
            "marker": {
             "colorbar": {
              "outlinewidth": 0,
              "ticks": ""
             }
            },
            "type": "scattergeo"
           }
          ],
          "scattergl": [
           {
            "marker": {
             "colorbar": {
              "outlinewidth": 0,
              "ticks": ""
             }
            },
            "type": "scattergl"
           }
          ],
          "scattermapbox": [
           {
            "marker": {
             "colorbar": {
              "outlinewidth": 0,
              "ticks": ""
             }
            },
            "type": "scattermapbox"
           }
          ],
          "scatterpolar": [
           {
            "marker": {
             "colorbar": {
              "outlinewidth": 0,
              "ticks": ""
             }
            },
            "type": "scatterpolar"
           }
          ],
          "scatterpolargl": [
           {
            "marker": {
             "colorbar": {
              "outlinewidth": 0,
              "ticks": ""
             }
            },
            "type": "scatterpolargl"
           }
          ],
          "scatterternary": [
           {
            "marker": {
             "colorbar": {
              "outlinewidth": 0,
              "ticks": ""
             }
            },
            "type": "scatterternary"
           }
          ],
          "surface": [
           {
            "colorbar": {
             "outlinewidth": 0,
             "ticks": ""
            },
            "colorscale": [
             [
              0,
              "#0d0887"
             ],
             [
              0.1111111111111111,
              "#46039f"
             ],
             [
              0.2222222222222222,
              "#7201a8"
             ],
             [
              0.3333333333333333,
              "#9c179e"
             ],
             [
              0.4444444444444444,
              "#bd3786"
             ],
             [
              0.5555555555555556,
              "#d8576b"
             ],
             [
              0.6666666666666666,
              "#ed7953"
             ],
             [
              0.7777777777777778,
              "#fb9f3a"
             ],
             [
              0.8888888888888888,
              "#fdca26"
             ],
             [
              1,
              "#f0f921"
             ]
            ],
            "type": "surface"
           }
          ],
          "table": [
           {
            "cells": {
             "fill": {
              "color": "#EBF0F8"
             },
             "line": {
              "color": "white"
             }
            },
            "header": {
             "fill": {
              "color": "#C8D4E3"
             },
             "line": {
              "color": "white"
             }
            },
            "type": "table"
           }
          ]
         },
         "layout": {
          "annotationdefaults": {
           "arrowcolor": "#2a3f5f",
           "arrowhead": 0,
           "arrowwidth": 1
          },
          "autotypenumbers": "strict",
          "coloraxis": {
           "colorbar": {
            "outlinewidth": 0,
            "ticks": ""
           }
          },
          "colorscale": {
           "diverging": [
            [
             0,
             "#8e0152"
            ],
            [
             0.1,
             "#c51b7d"
            ],
            [
             0.2,
             "#de77ae"
            ],
            [
             0.3,
             "#f1b6da"
            ],
            [
             0.4,
             "#fde0ef"
            ],
            [
             0.5,
             "#f7f7f7"
            ],
            [
             0.6,
             "#e6f5d0"
            ],
            [
             0.7,
             "#b8e186"
            ],
            [
             0.8,
             "#7fbc41"
            ],
            [
             0.9,
             "#4d9221"
            ],
            [
             1,
             "#276419"
            ]
           ],
           "sequential": [
            [
             0,
             "#0d0887"
            ],
            [
             0.1111111111111111,
             "#46039f"
            ],
            [
             0.2222222222222222,
             "#7201a8"
            ],
            [
             0.3333333333333333,
             "#9c179e"
            ],
            [
             0.4444444444444444,
             "#bd3786"
            ],
            [
             0.5555555555555556,
             "#d8576b"
            ],
            [
             0.6666666666666666,
             "#ed7953"
            ],
            [
             0.7777777777777778,
             "#fb9f3a"
            ],
            [
             0.8888888888888888,
             "#fdca26"
            ],
            [
             1,
             "#f0f921"
            ]
           ],
           "sequentialminus": [
            [
             0,
             "#0d0887"
            ],
            [
             0.1111111111111111,
             "#46039f"
            ],
            [
             0.2222222222222222,
             "#7201a8"
            ],
            [
             0.3333333333333333,
             "#9c179e"
            ],
            [
             0.4444444444444444,
             "#bd3786"
            ],
            [
             0.5555555555555556,
             "#d8576b"
            ],
            [
             0.6666666666666666,
             "#ed7953"
            ],
            [
             0.7777777777777778,
             "#fb9f3a"
            ],
            [
             0.8888888888888888,
             "#fdca26"
            ],
            [
             1,
             "#f0f921"
            ]
           ]
          },
          "colorway": [
           "#636efa",
           "#EF553B",
           "#00cc96",
           "#ab63fa",
           "#FFA15A",
           "#19d3f3",
           "#FF6692",
           "#B6E880",
           "#FF97FF",
           "#FECB52"
          ],
          "font": {
           "color": "#2a3f5f"
          },
          "geo": {
           "bgcolor": "white",
           "lakecolor": "white",
           "landcolor": "#E5ECF6",
           "showlakes": true,
           "showland": true,
           "subunitcolor": "white"
          },
          "hoverlabel": {
           "align": "left"
          },
          "hovermode": "closest",
          "mapbox": {
           "style": "light"
          },
          "paper_bgcolor": "white",
          "plot_bgcolor": "#E5ECF6",
          "polar": {
           "angularaxis": {
            "gridcolor": "white",
            "linecolor": "white",
            "ticks": ""
           },
           "bgcolor": "#E5ECF6",
           "radialaxis": {
            "gridcolor": "white",
            "linecolor": "white",
            "ticks": ""
           }
          },
          "scene": {
           "xaxis": {
            "backgroundcolor": "#E5ECF6",
            "gridcolor": "white",
            "gridwidth": 2,
            "linecolor": "white",
            "showbackground": true,
            "ticks": "",
            "zerolinecolor": "white"
           },
           "yaxis": {
            "backgroundcolor": "#E5ECF6",
            "gridcolor": "white",
            "gridwidth": 2,
            "linecolor": "white",
            "showbackground": true,
            "ticks": "",
            "zerolinecolor": "white"
           },
           "zaxis": {
            "backgroundcolor": "#E5ECF6",
            "gridcolor": "white",
            "gridwidth": 2,
            "linecolor": "white",
            "showbackground": true,
            "ticks": "",
            "zerolinecolor": "white"
           }
          },
          "shapedefaults": {
           "line": {
            "color": "#2a3f5f"
           }
          },
          "ternary": {
           "aaxis": {
            "gridcolor": "white",
            "linecolor": "white",
            "ticks": ""
           },
           "baxis": {
            "gridcolor": "white",
            "linecolor": "white",
            "ticks": ""
           },
           "bgcolor": "#E5ECF6",
           "caxis": {
            "gridcolor": "white",
            "linecolor": "white",
            "ticks": ""
           }
          },
          "title": {
           "x": 0.05
          },
          "xaxis": {
           "automargin": true,
           "gridcolor": "white",
           "linecolor": "white",
           "ticks": "",
           "title": {
            "standoff": 15
           },
           "zerolinecolor": "white",
           "zerolinewidth": 2
          },
          "yaxis": {
           "automargin": true,
           "gridcolor": "white",
           "linecolor": "white",
           "ticks": "",
           "title": {
            "standoff": 15
           },
           "zerolinecolor": "white",
           "zerolinewidth": 2
          }
         }
        },
        "title": {
         "text": "Open Space"
        },
        "xaxis": {
         "anchor": "y",
         "domain": [
          0,
          1
         ],
         "title": {
          "text": "Time in Seconds"
         }
        },
        "yaxis": {
         "anchor": "x",
         "domain": [
          0,
          1
         ],
         "title": {
          "text": "Altitude (M)"
         }
        }
       }
      }
     },
     "metadata": {},
     "output_type": "display_data"
    }
   ],
   "source": [
    "# Scatter plot of altitude vs time\n",
    "\n",
    "fig_1 = px.scatter(df_op_s, x=\"UTC\", y=\"Altitude\",labels={\"Altitude\": \"Altitude (M)\", \"UTC\": \"Time in Seconds\"}, title=\"Open Space\")\n",
    "fig_1.show()"
   ]
  },
  {
   "attachments": {},
   "cell_type": "markdown",
   "metadata": {},
   "source": [
    "## Analysis of stationary data from occuled field\n",
    "Location - 3411 Washington Street, Jamaica Plains\n",
    "\n",
    "From google maps -> lat - 42.30835809421112, lon - -71.1060346304591\n",
    "***"
   ]
  },
  {
   "cell_type": "code",
   "execution_count": 20,
   "metadata": {},
   "outputs": [],
   "source": [
    "known_lat, known_lon = 42.30835809421112, -71.1060346304591\n",
    "\n",
    "\n",
    "utm_converted = utm.from_latlon(known_lat,known_lon)\n",
    "\n",
    "known_easting,known_northing,known_zone,known_letter = utm_converted[0],utm_converted[1],utm_converted[2],utm_converted[3]"
   ]
  },
  {
   "cell_type": "code",
   "execution_count": 21,
   "metadata": {},
   "outputs": [],
   "source": [
    "# Scaling data\n",
    "df_oc_s['modified_northing'] = df_oc_s['UTM_northing'] - df_oc_s.UTM_northing[0]\n",
    "df_oc_s['modified_easting'] = df_oc_s['UTM_easting'] - df_oc_s.UTM_easting[0]"
   ]
  },
  {
   "cell_type": "code",
   "execution_count": null,
   "metadata": {},
   "outputs": [],
   "source": []
  },
  {
   "cell_type": "code",
   "execution_count": 22,
   "metadata": {},
   "outputs": [
    {
     "data": {
      "application/vnd.plotly.v1+json": {
       "config": {
        "plotlyServerURL": "https://plot.ly"
       },
       "data": [
        {
         "hovertemplate": "Northing (M)=%{x}<br>Easting (M)=%{y}<br>HDOP=%{marker.color}<extra></extra>",
         "legendgroup": "",
         "marker": {
          "color": [
           0.8799999952316284,
           0.8799999952316284,
           0.8799999952316284,
           0.8799999952316284,
           0.8799999952316284,
           0.8799999952316284,
           0.8799999952316284,
           0.949999988079071,
           0.949999988079071,
           0.949999988079071,
           0.949999988079071,
           0.949999988079071,
           0.8899999856948853,
           0.8899999856948853,
           0.8899999856948853,
           0.8899999856948853,
           0.949999988079071,
           0.949999988079071,
           0.8899999856948853,
           0.8899999856948853,
           0.8899999856948853,
           0.949999988079071,
           0.8799999952316284,
           0.8799999952316284,
           0.8799999952316284,
           0.949999988079071,
           0.8799999952316284,
           0.8799999952316284,
           0.8799999952316284,
           0.8799999952316284,
           0.8799999952316284,
           0.8600000143051147,
           0.8600000143051147,
           0.8600000143051147,
           0.8600000143051147,
           0.8600000143051147,
           0.8500000238418579,
           0.8500000238418579,
           0.8799999952316284,
           0.8799999952316284,
           0.8500000238418579,
           0.8500000238418579,
           0.8500000238418579,
           0.8500000238418579,
           0.8500000238418579,
           0.8500000238418579,
           0.8500000238418579,
           0.8500000238418579,
           0.8500000238418579,
           0.8500000238418579,
           0.8399999737739563,
           0.8399999737739563,
           0.8399999737739563,
           0.8500000238418579,
           0.8399999737739563,
           0.8500000238418579,
           0.8399999737739563,
           0.8399999737739563,
           0.8399999737739563,
           0.8399999737739563,
           0.8399999737739563,
           0.8399999737739563,
           0.8500000238418579,
           0.8500000238418579,
           0.8500000238418579,
           0.8399999737739563,
           0.8399999737739563,
           0.8500000238418579,
           0.8500000238418579,
           0.8500000238418579,
           0.8500000238418579,
           0.8500000238418579,
           0.8500000238418579,
           0.8799999952316284,
           0.8799999952316284,
           0.8799999952316284,
           0.8799999952316284,
           0.8799999952316284,
           0.8799999952316284,
           0.949999988079071,
           0.949999988079071,
           0.949999988079071,
           0.949999988079071,
           0.949999988079071,
           0.8999999761581421,
           0.8999999761581421,
           0.8999999761581421,
           0.8999999761581421,
           0.8500000238418579,
           0.8500000238418579,
           0.8299999833106995,
           0.8299999833106995,
           0.8500000238418579,
           0.8799999952316284,
           0.8799999952316284,
           0.8799999952316284,
           0.8999999761581421,
           0.8999999761581421,
           0.8799999952316284,
           0.8799999952316284,
           0.8500000238418579,
           0.8700000047683716,
           0.9399999976158142,
           0.9399999976158142,
           0.8899999856948853,
           0.9399999976158142,
           0.9399999976158142,
           0.9399999976158142,
           0.9399999976158142,
           0.9399999976158142,
           0.8899999856948853,
           0.8899999856948853,
           0.8899999856948853,
           0.8899999856948853,
           0.8899999856948853,
           0.8899999856948853,
           0.8500000238418579,
           0.8500000238418579,
           0.8500000238418579,
           0.8500000238418579,
           0.8500000238418579,
           0.8899999856948853,
           0.8899999856948853,
           0.8899999856948853,
           0.8899999856948853,
           0.8899999856948853,
           0.8899999856948853,
           0.8899999856948853,
           0.8500000238418579,
           0.8500000238418579,
           0.8500000238418579,
           0.8500000238418579,
           0.8600000143051147,
           0.8600000143051147,
           0.8500000238418579,
           0.8500000238418579,
           0.8500000238418579,
           0.8500000238418579,
           0.8500000238418579,
           0.8500000238418579,
           0.8500000238418579,
           0.949999988079071,
           0.949999988079071,
           0.949999988079071,
           0.8899999856948853,
           0.8899999856948853,
           0.8899999856948853,
           0.8899999856948853,
           0.8899999856948853,
           0.8899999856948853,
           0.8899999856948853,
           0.8899999856948853,
           0.8899999856948853,
           0.8899999856948853,
           0.8899999856948853,
           0.949999988079071,
           0.949999988079071,
           0.949999988079071,
           0.800000011920929,
           0.800000011920929,
           0.800000011920929,
           0.7900000214576721,
           0.7900000214576721,
           0.7900000214576721,
           0.800000011920929,
           0.800000011920929,
           0.800000011920929,
           0.8899999856948853,
           0.8500000238418579,
           0.8500000238418579,
           0.8500000238418579,
           0.8500000238418579,
           0.8600000143051147,
           0.9100000262260436,
           0.9100000262260436,
           0.9100000262260436,
           0.8700000047683716,
           0.8500000238418579,
           0.8500000238418579,
           0.8899999856948853,
           0.8899999856948853,
           0.8899999856948853,
           0.8899999856948853,
           0.949999988079071,
           0.949999988079071,
           0.949999988079071,
           0.8700000047683716,
           0.8700000047683716,
           0.8700000047683716,
           0.8700000047683716,
           0.8500000238418579,
           0.8500000238418579,
           0.8700000047683716,
           0.8700000047683716,
           0.8700000047683716,
           0.8700000047683716,
           0.8700000047683716,
           0.8700000047683716,
           0.8700000047683716,
           0.8700000047683716,
           0.8700000047683716,
           0.8700000047683716,
           0.8700000047683716,
           0.8700000047683716,
           0.8700000047683716,
           0.8700000047683716,
           0.8700000047683716,
           0.8700000047683716,
           0.9399999976158142,
           0.9399999976158142,
           0.9399999976158142,
           0.9399999976158142,
           0.8899999856948853,
           0.8899999856948853,
           0.8899999856948853,
           0.8899999856948853,
           0.8899999856948853,
           0.8899999856948853,
           0.8899999856948853,
           0.8899999856948853,
           0.8899999856948853,
           0.800000011920929,
           0.8600000143051147,
           0.7900000214576721,
           0.7900000214576721,
           0.7900000214576721,
           0.7900000214576721,
           0.7900000214576721,
           0.7900000214576721,
           0.8600000143051147,
           0.7599999904632568,
           0.7599999904632568,
           0.7599999904632568,
           0.7599999904632568,
           0.7599999904632568,
           0.7599999904632568,
           0.7599999904632568,
           0.8600000143051147,
           0.8600000143051147,
           0.8600000143051147,
           0.8600000143051147,
           0.8600000143051147,
           0.8600000143051147,
           0.8600000143051147,
           0.8600000143051147,
           0.8600000143051147,
           0.8600000143051147,
           0.8600000143051147,
           0.8199999928474426,
           0.8199999928474426,
           0.8199999928474426,
           0.8199999928474426,
           0.8199999928474426,
           0.8199999928474426,
           0.8199999928474426,
           0.8199999928474426,
           0.7699999809265137,
           0.7699999809265137,
           0.7699999809265137,
           0.8199999928474426,
           0.8199999928474426,
           0.8600000143051147,
           0.8600000143051147,
           0.8600000143051147,
           0.7900000214576721,
           0.7900000214576721,
           0.7699999809265137,
           0.7699999809265137,
           0.7900000214576721,
           0.7900000214576721,
           0.8600000143051147,
           0.8600000143051147,
           0.8600000143051147,
           0.8600000143051147,
           0.7900000214576721,
           0.7900000214576721,
           0.7900000214576721,
           0.7900000214576721,
           0.6899999976158142,
           0.7599999904632568,
           0.7599999904632568,
           0.7599999904632568,
           0.7599999904632568,
           0.7599999904632568,
           0.7599999904632568,
           0.7599999904632568,
           0.7599999904632568,
           0.7599999904632568,
           0.7599999904632568,
           0.7599999904632568,
           0.7599999904632568,
           0.7599999904632568,
           0.6899999976158142,
           0.6899999976158142,
           0.7099999785423279,
           0.7099999785423279,
           0.7099999785423279,
           0.7099999785423279,
           0.7099999785423279,
           0.7099999785423279,
           0.6899999976158142,
           0.7599999904632568,
           0.7599999904632568,
           0.7599999904632568,
           0.7900000214576721,
           0.7900000214576721,
           0.7599999904632568,
           0.7699999809265137,
           0.7699999809265137,
           0.8100000023841858,
           0.8100000023841858,
           0.8100000023841858,
           0.7699999809265137,
           0.7699999809265137,
           0.7599999904632568,
           0.7599999904632568,
           0.7599999904632568,
           0.7599999904632568,
           0.7599999904632568,
           0.7599999904632568,
           0.7599999904632568,
           0.7599999904632568,
           0.7599999904632568,
           0.7400000095367432,
           0.7400000095367432,
           0.7400000095367432,
           0.75,
           0.75,
           0.75,
           0.75,
           0.75,
           0.75,
           0.7400000095367432,
           0.7400000095367432,
           0.7400000095367432,
           0.7400000095367432,
           0.7400000095367432,
           0.6700000166893005,
           0.6700000166893005,
           0.6600000262260437,
           0.6600000262260437,
           0.6600000262260437,
           0.6600000262260437,
           0.6600000262260437,
           0.6600000262260437,
           0.6600000262260437,
           0.6800000071525574,
           0.6800000071525574,
           0.6800000071525574,
           0.75,
           0.75,
           0.75,
           0.75,
           0.75,
           0.75,
           0.75,
           0.75,
           0.75,
           0.75,
           0.75,
           0.75,
           0.75,
           0.75,
           0.75,
           0.75,
           0.75,
           0.75,
           0.7699999809265137,
           0.7699999809265137,
           0.7699999809265137,
           0.7699999809265137,
           0.7699999809265137,
           0.7699999809265137,
           0.7699999809265137,
           0.7200000286102295,
           0.7200000286102295,
           0.800000011920929,
           0.800000011920929,
           0.800000011920929,
           0.8500000238418579,
           0.8500000238418579,
           0.8500000238418579,
           0.8500000238418579,
           0.8500000238418579,
           0.7599999904632568,
           0.7599999904632568,
           0.75,
           0.8500000238418579,
           0.8500000238418579,
           0.8500000238418579,
           0.8500000238418579,
           0.7900000214576721,
           0.7300000190734863,
           0.699999988079071,
           0.699999988079071,
           0.8100000023841858,
           0.8100000023841858,
           0.8600000143051147,
           0.8600000143051147,
           0.8600000143051147,
           0.8500000238418579,
           0.8500000238418579,
           0.8500000238418579,
           0.7699999809265137,
           0.7699999809265137,
           0.8500000238418579,
           0.7699999809265137,
           0.7699999809265137,
           0.7699999809265137,
           0.7699999809265137,
           0.7599999904632568,
           0.7599999904632568,
           0.7599999904632568,
           0.7599999904632568,
           0.7599999904632568,
           0.800000011920929,
           0.800000011920929,
           0.800000011920929,
           0.8100000023841858,
           0.8100000023841858,
           0.8100000023841858,
           0.8100000023841858,
           0.7599999904632568,
           0.7599999904632568,
           0.7699999809265137,
           0.7699999809265137,
           0.7699999809265137,
           0.7699999809265137,
           0.7599999904632568,
           0.7599999904632568,
           0.7400000095367432,
           0.7400000095367432,
           0.7200000286102295,
           0.7200000286102295,
           0.7200000286102295,
           0.7200000286102295,
           0.7200000286102295,
           0.7200000286102295,
           0.7200000286102295,
           0.7200000286102295,
           0.7200000286102295,
           0.7200000286102295,
           0.7200000286102295,
           0.75,
           0.7200000286102295,
           0.7200000286102295,
           0.7200000286102295,
           0.7200000286102295,
           0.7200000286102295,
           0.7200000286102295,
           0.7400000095367432,
           0.7400000095367432,
           0.75,
           0.7599999904632568,
           0.7599999904632568,
           0.7599999904632568,
           0.7599999904632568,
           0.7599999904632568,
           0.7599999904632568,
           0.7599999904632568,
           0.7400000095367432,
           0.7599999904632568,
           0.7400000095367432,
           0.7599999904632568,
           0.7599999904632568,
           0.7599999904632568,
           0.7699999809265137,
           0.7699999809265137,
           0.7699999809265137,
           0.7400000095367432,
           0.7400000095367432,
           0.7400000095367432,
           0.7200000286102295,
           0.7200000286102295,
           0.7200000286102295,
           0.7200000286102295,
           0.7300000190734863,
           0.7300000190734863,
           0.7599999904632568,
           0.7599999904632568,
           0.7599999904632568,
           0.7599999904632568,
           0.7400000095367432,
           0.7699999809265137,
           0.7699999809265137,
           0.7699999809265137,
           0.7400000095367432,
           0.7400000095367432,
           0.7400000095367432,
           0.7400000095367432,
           0.7200000286102295,
           0.7599999904632568,
           0.7300000190734863,
           0.7300000190734863,
           0.7300000190734863,
           0.7300000190734863,
           0.7300000190734863,
           0.7400000095367432,
           0.7400000095367432,
           0.7400000095367432,
           0.7400000095367432,
           0.7400000095367432,
           0.75,
           0.75,
           0.75,
           0.75,
           0.7400000095367432,
           0.7200000286102295,
           0.7200000286102295,
           0.7200000286102295,
           0.7200000286102295,
           0.7200000286102295,
           0.7400000095367432,
           0.7400000095367432,
           0.7400000095367432,
           0.7400000095367432,
           0.7400000095367432,
           0.7599999904632568,
           0.7599999904632568,
           0.7599999904632568,
           0.7599999904632568,
           0.7699999809265137,
           0.7599999904632568,
           0.7599999904632568,
           0.7699999809265137,
           0.7699999809265137,
           0.7699999809265137,
           0.7599999904632568,
           0.7599999904632568,
           0.7599999904632568,
           0.7400000095367432,
           0.7400000095367432,
           0.7400000095367432,
           0.7400000095367432,
           0.7400000095367432,
           0.7400000095367432,
           0.75,
           0.75,
           0.75,
           0.75,
           0.75,
           0.75
          ],
          "coloraxis": "coloraxis",
          "symbol": "circle"
         },
         "mode": "markers",
         "name": "",
         "orientation": "v",
         "showlegend": false,
         "type": "scatter",
         "x": [
          0,
          0,
          0,
          -0.5,
          -0.5,
          -0.5,
          -0.5,
          -0.5,
          -0.5,
          -0.5,
          -0.5,
          -0.5,
          -0.5,
          -0.5,
          -0.5,
          -0.5,
          -0.5,
          -0.5,
          -0.5,
          -0.5,
          -0.5,
          -0.5,
          -0.5,
          -0.5,
          -0.5,
          -0.5,
          -0.5,
          -0.5,
          -0.5,
          -0.5,
          -0.5,
          -0.5,
          -0.5,
          -0.5,
          -0.5,
          -1,
          -1,
          -1,
          -1,
          -1,
          -1,
          -1,
          -1.5,
          -1.5,
          -1.5,
          -1.5,
          -1.5,
          -1.5,
          -1.5,
          -1.5,
          -1.5,
          -1.5,
          -1.5,
          -1.5,
          -1.5,
          -1.5,
          -1.5,
          -1.5,
          -2,
          -2,
          -2,
          -2,
          -2,
          -2,
          -2,
          -2,
          -2,
          -2,
          -2,
          -2,
          -2,
          -2,
          -2,
          -2,
          -2,
          -2,
          -2,
          -2,
          -2,
          -2,
          -2,
          -2.5,
          -2.5,
          -2.5,
          -2.5,
          -2.5,
          -2.5,
          -2.5,
          -2.5,
          -2.5,
          -2.5,
          -2.5,
          -2.5,
          -2.5,
          -2.5,
          -2,
          -2,
          -2,
          -2,
          -2,
          -2,
          -2,
          -2,
          -2,
          -2,
          -2,
          -2,
          -2,
          -2,
          -2,
          -2,
          -2,
          -2,
          -2,
          -2,
          -2,
          -2,
          -2,
          -2,
          -2,
          -2,
          -2,
          -2,
          -2,
          -2,
          -2,
          -2,
          -2,
          -2,
          -2,
          -2,
          -2,
          -2,
          -2,
          -2,
          -2,
          -2,
          -2,
          -2,
          -2,
          -2,
          -2,
          -2,
          -2,
          -2,
          -2,
          -2,
          -2,
          -2,
          -2,
          -2,
          -2,
          -2,
          -2,
          -2,
          -2,
          -2,
          -2,
          -2,
          -2,
          -2,
          -2,
          -2,
          -2,
          -2,
          -1.5,
          -1.5,
          -1.5,
          -1.5,
          -1.5,
          -1.5,
          -1.5,
          -1.5,
          -1.5,
          -1.5,
          -1.5,
          -1.5,
          -1.5,
          -1.5,
          -1.5,
          -1.5,
          -1.5,
          -1.5,
          -1.5,
          -1.5,
          -1.5,
          -1.5,
          -1.5,
          -1.5,
          -1.5,
          -1.5,
          -1.5,
          -1.5,
          -1.5,
          -1.5,
          -1.5,
          -1.5,
          -1.5,
          -1.5,
          -1.5,
          -1.5,
          -1.5,
          -1.5,
          -1.5,
          -1.5,
          -1.5,
          -1.5,
          -1.5,
          -1.5,
          -1.5,
          -1.5,
          -1.5,
          -1.5,
          -1.5,
          -1.5,
          -1.5,
          -1.5,
          -1.5,
          -1.5,
          -1.5,
          -1.5,
          -1.5,
          -1.5,
          -1.5,
          -1.5,
          -1.5,
          -1.5,
          -1.5,
          -1.5,
          -1.5,
          -1.5,
          -1.5,
          -1.5,
          -1.5,
          -1.5,
          -1.5,
          -1.5,
          -1.5,
          -1.5,
          -1.5,
          -1.5,
          -1.5,
          -1.5,
          -1.5,
          -1.5,
          -1.5,
          -1.5,
          -1.5,
          -1.5,
          -1.5,
          -1.5,
          -1.5,
          -1.5,
          -1.5,
          -1.5,
          -1.5,
          -1.5,
          -1.5,
          -1.5,
          -1.5,
          -1.5,
          -1.5,
          -1.5,
          -1.5,
          -1.5,
          -1.5,
          -1.5,
          -1.5,
          -1.5,
          -1.5,
          -1.5,
          -1.5,
          -1.5,
          -1.5,
          -1.5,
          -1.5,
          -1.5,
          -1.5,
          -1.5,
          -1.5,
          -1.5,
          -1.5,
          -1.5,
          -1.5,
          -1.5,
          -1.5,
          -1.5,
          -1.5,
          -1.5,
          -1.5,
          -1.5,
          -1.5,
          -1.5,
          -1.5,
          -1.5,
          -1.5,
          -1.5,
          -1.5,
          -1.5,
          -1.5,
          -1.5,
          -1.5,
          -1.5,
          -1.5,
          -1.5,
          -1.5,
          -1.5,
          -1.5,
          -1.5,
          -1.5,
          -1.5,
          -1.5,
          -1.5,
          -1.5,
          -1.5,
          -1.5,
          -1.5,
          -1.5,
          -1.5,
          -1.5,
          -1.5,
          -1.5,
          -1.5,
          -1.5,
          -1.5,
          -1.5,
          -1.5,
          -1.5,
          -1.5,
          -1.5,
          -1.5,
          -1.5,
          -1.5,
          -1.5,
          -1.5,
          -1.5,
          -1.5,
          -1.5,
          -1.5,
          -1.5,
          -1.5,
          -1.5,
          -1.5,
          -1.5,
          -1.5,
          -1.5,
          -1.5,
          -1.5,
          -1.5,
          -1.5,
          -1.5,
          -1.5,
          -1.5,
          -1.5,
          -1.5,
          -1.5,
          -1.5,
          -1.5,
          -1.5,
          -1,
          -1,
          -1,
          -1,
          -1,
          -1,
          -1,
          -1,
          -1,
          -1,
          -1,
          -1,
          -1,
          -1,
          -1,
          -1,
          -1,
          -1,
          -1,
          -1,
          -1,
          -1,
          -1,
          -1,
          -1,
          -1,
          -1,
          -1,
          -1,
          -1,
          -1,
          -1,
          -1,
          -1,
          -1,
          -1,
          -1,
          -1,
          -1,
          -1,
          -1,
          -1,
          -1,
          -1,
          -1,
          -1,
          -1,
          -1,
          -1,
          -1,
          -1,
          -1,
          -1,
          -1,
          -1,
          -1,
          -1,
          -1,
          -1,
          -1,
          -1,
          -1,
          -1,
          -1,
          -1,
          -1,
          -1,
          -1,
          -1,
          -1,
          -1,
          -1,
          -1,
          -1,
          -1,
          -1,
          -1,
          -1,
          -1,
          -1,
          -1,
          -1,
          -1,
          -1,
          -1,
          -1,
          -1,
          -1,
          -1,
          -1,
          -1,
          -1,
          -1,
          -1,
          -1,
          -1,
          -1,
          -1,
          -1,
          -1,
          -1,
          -1,
          -1,
          -1,
          -1,
          -1,
          -1,
          -1,
          -1,
          -1,
          -1,
          -1,
          -1,
          -1,
          -1,
          -1,
          -1,
          -1,
          -1,
          -1,
          -1,
          -1,
          -1,
          -1,
          -1,
          -1,
          -1,
          -1,
          -1,
          -1,
          -1,
          -1,
          -1,
          -1,
          -1,
          -1,
          -1,
          -1,
          -1,
          -1,
          -1,
          -1,
          -1,
          -1,
          -1,
          -1,
          -1,
          -1,
          -1,
          -1,
          -1,
          -1,
          -1,
          -1,
          -1,
          -1,
          -1,
          -1,
          -1,
          -1,
          -1,
          -1,
          -1,
          -1,
          -1,
          -1,
          -1,
          -1,
          -1,
          -1,
          -1,
          -1,
          -1,
          -1,
          -1,
          -1,
          -1,
          -1,
          -1,
          -1,
          -1,
          -1,
          -1
         ],
         "xaxis": "x",
         "y": [
          0,
          0.25,
          0.4375,
          0.65625,
          0.875,
          1.03125,
          1.09375,
          1.125,
          1.125,
          1.0625,
          1.0625,
          1.09375,
          1.125,
          1.1875,
          1.28125,
          1.3125,
          1.34375,
          1.34375,
          1.375,
          1.4375,
          1.5625,
          1.625,
          1.71875,
          1.8125,
          1.875,
          1.90625,
          1.96875,
          2.0625,
          2.1875,
          2.3125,
          2.40625,
          2.5,
          2.5625,
          2.65625,
          2.75,
          2.8125,
          2.875,
          3,
          3.09375,
          3.25,
          3.34375,
          3.4375,
          3.53125,
          3.59375,
          3.65625,
          3.6875,
          3.71875,
          3.75,
          3.8125,
          3.875,
          3.96875,
          4.0625,
          4.125,
          4.15625,
          4.15625,
          4.09375,
          4.0625,
          4.0625,
          4.0625,
          4.09375,
          4.0625,
          4.0625,
          4.03125,
          4,
          3.96875,
          3.9375,
          3.90625,
          3.875,
          3.84375,
          3.8125,
          3.8125,
          3.78125,
          3.75,
          3.71875,
          3.6875,
          3.65625,
          3.625,
          3.625,
          3.625,
          3.59375,
          3.5625,
          3.5625,
          3.53125,
          3.5,
          3.46875,
          3.40625,
          3.375,
          3.375,
          3.375,
          3.40625,
          3.4375,
          3.4375,
          3.4375,
          3.46875,
          3.5,
          3.5,
          3.5,
          3.46875,
          3.40625,
          3.40625,
          3.34375,
          3.3125,
          3.28125,
          3.25,
          3.1875,
          3.1875,
          3.1875,
          3.15625,
          3.15625,
          3.125,
          3.09375,
          3.0625,
          3.03125,
          3.09375,
          3.15625,
          3.21875,
          3.25,
          3.28125,
          3.34375,
          3.34375,
          3.34375,
          3.34375,
          3.375,
          3.40625,
          3.46875,
          3.5,
          3.5625,
          3.59375,
          3.59375,
          3.59375,
          3.625,
          3.6875,
          3.6875,
          3.6875,
          3.71875,
          3.75,
          3.75,
          3.75,
          3.78125,
          3.8125,
          3.8125,
          3.8125,
          3.8125,
          3.8125,
          3.78125,
          3.78125,
          3.75,
          3.71875,
          3.6875,
          3.6875,
          3.6875,
          3.6875,
          3.6875,
          3.625,
          3.59375,
          3.5625,
          3.5625,
          3.5625,
          3.53125,
          3.53125,
          3.53125,
          3.53125,
          3.5,
          3.5,
          3.5,
          3.5,
          3.5,
          3.5,
          3.53125,
          3.53125,
          3.53125,
          3.53125,
          3.5,
          3.5,
          3.5,
          3.46875,
          3.46875,
          3.46875,
          3.46875,
          3.46875,
          3.46875,
          3.5,
          3.5,
          3.5,
          3.5,
          3.5,
          3.53125,
          3.53125,
          3.53125,
          3.53125,
          3.53125,
          3.53125,
          3.53125,
          3.53125,
          3.53125,
          3.53125,
          3.53125,
          3.53125,
          3.53125,
          3.53125,
          3.53125,
          3.53125,
          3.53125,
          3.53125,
          3.5625,
          3.53125,
          3.53125,
          3.53125,
          3.53125,
          3.53125,
          3.53125,
          3.53125,
          3.53125,
          3.53125,
          3.53125,
          3.53125,
          3.53125,
          3.53125,
          3.53125,
          3.53125,
          3.53125,
          3.53125,
          3.53125,
          3.53125,
          3.53125,
          3.53125,
          3.53125,
          3.53125,
          3.53125,
          3.53125,
          3.53125,
          3.53125,
          3.53125,
          3.53125,
          3.5625,
          3.5625,
          3.59375,
          3.59375,
          3.5625,
          3.59375,
          3.59375,
          3.59375,
          3.5625,
          3.59375,
          3.5625,
          3.5625,
          3.5625,
          3.5625,
          3.59375,
          3.59375,
          3.59375,
          3.59375,
          3.59375,
          3.59375,
          3.59375,
          3.59375,
          3.59375,
          3.59375,
          3.59375,
          3.59375,
          3.625,
          3.59375,
          3.59375,
          3.59375,
          3.59375,
          3.59375,
          3.59375,
          3.59375,
          3.59375,
          3.59375,
          3.59375,
          3.59375,
          3.59375,
          3.59375,
          3.59375,
          3.59375,
          3.59375,
          3.59375,
          3.59375,
          3.59375,
          3.59375,
          3.625,
          3.59375,
          3.59375,
          3.59375,
          3.59375,
          3.59375,
          3.5625,
          3.59375,
          3.5625,
          3.5625,
          3.5625,
          3.5625,
          3.5625,
          3.53125,
          3.53125,
          3.53125,
          3.53125,
          3.53125,
          3.53125,
          3.53125,
          3.53125,
          3.53125,
          3.53125,
          3.53125,
          3.53125,
          3.53125,
          3.53125,
          3.53125,
          3.5,
          3.5,
          3.5,
          3.5,
          3.46875,
          3.46875,
          3.46875,
          3.4375,
          3.4375,
          3.46875,
          3.46875,
          3.46875,
          3.4375,
          3.4375,
          3.4375,
          3.4375,
          3.4375,
          3.4375,
          3.40625,
          3.40625,
          3.375,
          3.375,
          3.34375,
          3.34375,
          3.3125,
          3.3125,
          3.3125,
          3.3125,
          3.28125,
          3.28125,
          3.25,
          3.25,
          3.25,
          3.25,
          3.21875,
          3.25,
          3.25,
          3.21875,
          3.21875,
          3.21875,
          3.21875,
          3.21875,
          3.21875,
          3.21875,
          3.21875,
          3.21875,
          3.21875,
          3.21875,
          3.21875,
          3.1875,
          3.1875,
          3.1875,
          3.1875,
          3.15625,
          3.15625,
          3.15625,
          3.15625,
          3.15625,
          3.15625,
          3.15625,
          3.15625,
          3.15625,
          3.15625,
          3.125,
          3.125,
          3.125,
          3.09375,
          3.09375,
          3.0625,
          3.0625,
          3.03125,
          3.03125,
          3.03125,
          3,
          3,
          2.96875,
          2.96875,
          2.96875,
          2.96875,
          2.96875,
          2.9375,
          2.9375,
          2.9375,
          2.9375,
          2.9375,
          2.9375,
          2.9375,
          2.9375,
          2.9375,
          2.9375,
          2.9375,
          2.9375,
          2.9375,
          2.9375,
          2.9375,
          2.90625,
          2.90625,
          2.9375,
          2.90625,
          2.90625,
          2.90625,
          2.90625,
          2.875,
          2.875,
          2.875,
          2.875,
          2.84375,
          2.875,
          2.875,
          2.875,
          2.875,
          2.875,
          2.875,
          2.875,
          2.875,
          2.875,
          2.875,
          2.875,
          2.875,
          2.875,
          2.875,
          2.90625,
          2.90625,
          2.90625,
          2.90625,
          2.90625,
          2.90625,
          2.9375,
          2.90625,
          2.90625,
          2.9375,
          2.9375,
          2.90625,
          2.9375,
          2.9375,
          2.96875,
          2.9375,
          2.9375,
          2.9375,
          2.9375,
          2.9375,
          2.9375,
          2.9375,
          2.90625,
          2.9375,
          2.9375,
          2.9375,
          2.9375,
          2.96875,
          2.96875,
          2.96875,
          2.96875,
          2.96875,
          3,
          2.96875,
          3,
          3,
          3,
          3,
          3,
          3,
          3,
          3,
          3,
          3,
          3,
          3,
          3,
          3,
          3,
          3,
          3,
          3,
          3,
          3,
          3,
          3,
          3,
          3,
          3,
          3,
          3,
          3,
          3,
          3,
          3,
          3,
          3,
          3,
          3,
          3,
          3.03125,
          3.03125,
          3.03125,
          3.03125,
          3.03125,
          3.03125,
          3.03125,
          3.03125,
          3.03125,
          3.03125,
          3.03125,
          3.03125,
          3.03125,
          3.03125,
          3.03125,
          3.03125,
          3.03125,
          3.03125,
          3.03125,
          3.03125,
          3.03125,
          3.03125,
          3.03125,
          3,
          3.03125,
          3.03125,
          3.03125,
          3.03125,
          3.03125,
          3.03125,
          3.03125,
          3.03125,
          3.03125,
          3.03125,
          3.03125,
          3.03125,
          3.03125,
          3,
          3.03125,
          3.03125,
          3.03125,
          3.03125
         ],
         "yaxis": "y"
        }
       ],
       "layout": {
        "coloraxis": {
         "colorbar": {
          "title": {
           "text": "HDOP"
          }
         },
         "colorscale": [
          [
           0,
           "#0d0887"
          ],
          [
           0.1111111111111111,
           "#46039f"
          ],
          [
           0.2222222222222222,
           "#7201a8"
          ],
          [
           0.3333333333333333,
           "#9c179e"
          ],
          [
           0.4444444444444444,
           "#bd3786"
          ],
          [
           0.5555555555555556,
           "#d8576b"
          ],
          [
           0.6666666666666666,
           "#ed7953"
          ],
          [
           0.7777777777777778,
           "#fb9f3a"
          ],
          [
           0.8888888888888888,
           "#fdca26"
          ],
          [
           1,
           "#f0f921"
          ]
         ]
        },
        "legend": {
         "tracegroupgap": 0
        },
        "template": {
         "data": {
          "bar": [
           {
            "error_x": {
             "color": "#2a3f5f"
            },
            "error_y": {
             "color": "#2a3f5f"
            },
            "marker": {
             "line": {
              "color": "#E5ECF6",
              "width": 0.5
             },
             "pattern": {
              "fillmode": "overlay",
              "size": 10,
              "solidity": 0.2
             }
            },
            "type": "bar"
           }
          ],
          "barpolar": [
           {
            "marker": {
             "line": {
              "color": "#E5ECF6",
              "width": 0.5
             },
             "pattern": {
              "fillmode": "overlay",
              "size": 10,
              "solidity": 0.2
             }
            },
            "type": "barpolar"
           }
          ],
          "carpet": [
           {
            "aaxis": {
             "endlinecolor": "#2a3f5f",
             "gridcolor": "white",
             "linecolor": "white",
             "minorgridcolor": "white",
             "startlinecolor": "#2a3f5f"
            },
            "baxis": {
             "endlinecolor": "#2a3f5f",
             "gridcolor": "white",
             "linecolor": "white",
             "minorgridcolor": "white",
             "startlinecolor": "#2a3f5f"
            },
            "type": "carpet"
           }
          ],
          "choropleth": [
           {
            "colorbar": {
             "outlinewidth": 0,
             "ticks": ""
            },
            "type": "choropleth"
           }
          ],
          "contour": [
           {
            "colorbar": {
             "outlinewidth": 0,
             "ticks": ""
            },
            "colorscale": [
             [
              0,
              "#0d0887"
             ],
             [
              0.1111111111111111,
              "#46039f"
             ],
             [
              0.2222222222222222,
              "#7201a8"
             ],
             [
              0.3333333333333333,
              "#9c179e"
             ],
             [
              0.4444444444444444,
              "#bd3786"
             ],
             [
              0.5555555555555556,
              "#d8576b"
             ],
             [
              0.6666666666666666,
              "#ed7953"
             ],
             [
              0.7777777777777778,
              "#fb9f3a"
             ],
             [
              0.8888888888888888,
              "#fdca26"
             ],
             [
              1,
              "#f0f921"
             ]
            ],
            "type": "contour"
           }
          ],
          "contourcarpet": [
           {
            "colorbar": {
             "outlinewidth": 0,
             "ticks": ""
            },
            "type": "contourcarpet"
           }
          ],
          "heatmap": [
           {
            "colorbar": {
             "outlinewidth": 0,
             "ticks": ""
            },
            "colorscale": [
             [
              0,
              "#0d0887"
             ],
             [
              0.1111111111111111,
              "#46039f"
             ],
             [
              0.2222222222222222,
              "#7201a8"
             ],
             [
              0.3333333333333333,
              "#9c179e"
             ],
             [
              0.4444444444444444,
              "#bd3786"
             ],
             [
              0.5555555555555556,
              "#d8576b"
             ],
             [
              0.6666666666666666,
              "#ed7953"
             ],
             [
              0.7777777777777778,
              "#fb9f3a"
             ],
             [
              0.8888888888888888,
              "#fdca26"
             ],
             [
              1,
              "#f0f921"
             ]
            ],
            "type": "heatmap"
           }
          ],
          "heatmapgl": [
           {
            "colorbar": {
             "outlinewidth": 0,
             "ticks": ""
            },
            "colorscale": [
             [
              0,
              "#0d0887"
             ],
             [
              0.1111111111111111,
              "#46039f"
             ],
             [
              0.2222222222222222,
              "#7201a8"
             ],
             [
              0.3333333333333333,
              "#9c179e"
             ],
             [
              0.4444444444444444,
              "#bd3786"
             ],
             [
              0.5555555555555556,
              "#d8576b"
             ],
             [
              0.6666666666666666,
              "#ed7953"
             ],
             [
              0.7777777777777778,
              "#fb9f3a"
             ],
             [
              0.8888888888888888,
              "#fdca26"
             ],
             [
              1,
              "#f0f921"
             ]
            ],
            "type": "heatmapgl"
           }
          ],
          "histogram": [
           {
            "marker": {
             "pattern": {
              "fillmode": "overlay",
              "size": 10,
              "solidity": 0.2
             }
            },
            "type": "histogram"
           }
          ],
          "histogram2d": [
           {
            "colorbar": {
             "outlinewidth": 0,
             "ticks": ""
            },
            "colorscale": [
             [
              0,
              "#0d0887"
             ],
             [
              0.1111111111111111,
              "#46039f"
             ],
             [
              0.2222222222222222,
              "#7201a8"
             ],
             [
              0.3333333333333333,
              "#9c179e"
             ],
             [
              0.4444444444444444,
              "#bd3786"
             ],
             [
              0.5555555555555556,
              "#d8576b"
             ],
             [
              0.6666666666666666,
              "#ed7953"
             ],
             [
              0.7777777777777778,
              "#fb9f3a"
             ],
             [
              0.8888888888888888,
              "#fdca26"
             ],
             [
              1,
              "#f0f921"
             ]
            ],
            "type": "histogram2d"
           }
          ],
          "histogram2dcontour": [
           {
            "colorbar": {
             "outlinewidth": 0,
             "ticks": ""
            },
            "colorscale": [
             [
              0,
              "#0d0887"
             ],
             [
              0.1111111111111111,
              "#46039f"
             ],
             [
              0.2222222222222222,
              "#7201a8"
             ],
             [
              0.3333333333333333,
              "#9c179e"
             ],
             [
              0.4444444444444444,
              "#bd3786"
             ],
             [
              0.5555555555555556,
              "#d8576b"
             ],
             [
              0.6666666666666666,
              "#ed7953"
             ],
             [
              0.7777777777777778,
              "#fb9f3a"
             ],
             [
              0.8888888888888888,
              "#fdca26"
             ],
             [
              1,
              "#f0f921"
             ]
            ],
            "type": "histogram2dcontour"
           }
          ],
          "mesh3d": [
           {
            "colorbar": {
             "outlinewidth": 0,
             "ticks": ""
            },
            "type": "mesh3d"
           }
          ],
          "parcoords": [
           {
            "line": {
             "colorbar": {
              "outlinewidth": 0,
              "ticks": ""
             }
            },
            "type": "parcoords"
           }
          ],
          "pie": [
           {
            "automargin": true,
            "type": "pie"
           }
          ],
          "scatter": [
           {
            "fillpattern": {
             "fillmode": "overlay",
             "size": 10,
             "solidity": 0.2
            },
            "type": "scatter"
           }
          ],
          "scatter3d": [
           {
            "line": {
             "colorbar": {
              "outlinewidth": 0,
              "ticks": ""
             }
            },
            "marker": {
             "colorbar": {
              "outlinewidth": 0,
              "ticks": ""
             }
            },
            "type": "scatter3d"
           }
          ],
          "scattercarpet": [
           {
            "marker": {
             "colorbar": {
              "outlinewidth": 0,
              "ticks": ""
             }
            },
            "type": "scattercarpet"
           }
          ],
          "scattergeo": [
           {
            "marker": {
             "colorbar": {
              "outlinewidth": 0,
              "ticks": ""
             }
            },
            "type": "scattergeo"
           }
          ],
          "scattergl": [
           {
            "marker": {
             "colorbar": {
              "outlinewidth": 0,
              "ticks": ""
             }
            },
            "type": "scattergl"
           }
          ],
          "scattermapbox": [
           {
            "marker": {
             "colorbar": {
              "outlinewidth": 0,
              "ticks": ""
             }
            },
            "type": "scattermapbox"
           }
          ],
          "scatterpolar": [
           {
            "marker": {
             "colorbar": {
              "outlinewidth": 0,
              "ticks": ""
             }
            },
            "type": "scatterpolar"
           }
          ],
          "scatterpolargl": [
           {
            "marker": {
             "colorbar": {
              "outlinewidth": 0,
              "ticks": ""
             }
            },
            "type": "scatterpolargl"
           }
          ],
          "scatterternary": [
           {
            "marker": {
             "colorbar": {
              "outlinewidth": 0,
              "ticks": ""
             }
            },
            "type": "scatterternary"
           }
          ],
          "surface": [
           {
            "colorbar": {
             "outlinewidth": 0,
             "ticks": ""
            },
            "colorscale": [
             [
              0,
              "#0d0887"
             ],
             [
              0.1111111111111111,
              "#46039f"
             ],
             [
              0.2222222222222222,
              "#7201a8"
             ],
             [
              0.3333333333333333,
              "#9c179e"
             ],
             [
              0.4444444444444444,
              "#bd3786"
             ],
             [
              0.5555555555555556,
              "#d8576b"
             ],
             [
              0.6666666666666666,
              "#ed7953"
             ],
             [
              0.7777777777777778,
              "#fb9f3a"
             ],
             [
              0.8888888888888888,
              "#fdca26"
             ],
             [
              1,
              "#f0f921"
             ]
            ],
            "type": "surface"
           }
          ],
          "table": [
           {
            "cells": {
             "fill": {
              "color": "#EBF0F8"
             },
             "line": {
              "color": "white"
             }
            },
            "header": {
             "fill": {
              "color": "#C8D4E3"
             },
             "line": {
              "color": "white"
             }
            },
            "type": "table"
           }
          ]
         },
         "layout": {
          "annotationdefaults": {
           "arrowcolor": "#2a3f5f",
           "arrowhead": 0,
           "arrowwidth": 1
          },
          "autotypenumbers": "strict",
          "coloraxis": {
           "colorbar": {
            "outlinewidth": 0,
            "ticks": ""
           }
          },
          "colorscale": {
           "diverging": [
            [
             0,
             "#8e0152"
            ],
            [
             0.1,
             "#c51b7d"
            ],
            [
             0.2,
             "#de77ae"
            ],
            [
             0.3,
             "#f1b6da"
            ],
            [
             0.4,
             "#fde0ef"
            ],
            [
             0.5,
             "#f7f7f7"
            ],
            [
             0.6,
             "#e6f5d0"
            ],
            [
             0.7,
             "#b8e186"
            ],
            [
             0.8,
             "#7fbc41"
            ],
            [
             0.9,
             "#4d9221"
            ],
            [
             1,
             "#276419"
            ]
           ],
           "sequential": [
            [
             0,
             "#0d0887"
            ],
            [
             0.1111111111111111,
             "#46039f"
            ],
            [
             0.2222222222222222,
             "#7201a8"
            ],
            [
             0.3333333333333333,
             "#9c179e"
            ],
            [
             0.4444444444444444,
             "#bd3786"
            ],
            [
             0.5555555555555556,
             "#d8576b"
            ],
            [
             0.6666666666666666,
             "#ed7953"
            ],
            [
             0.7777777777777778,
             "#fb9f3a"
            ],
            [
             0.8888888888888888,
             "#fdca26"
            ],
            [
             1,
             "#f0f921"
            ]
           ],
           "sequentialminus": [
            [
             0,
             "#0d0887"
            ],
            [
             0.1111111111111111,
             "#46039f"
            ],
            [
             0.2222222222222222,
             "#7201a8"
            ],
            [
             0.3333333333333333,
             "#9c179e"
            ],
            [
             0.4444444444444444,
             "#bd3786"
            ],
            [
             0.5555555555555556,
             "#d8576b"
            ],
            [
             0.6666666666666666,
             "#ed7953"
            ],
            [
             0.7777777777777778,
             "#fb9f3a"
            ],
            [
             0.8888888888888888,
             "#fdca26"
            ],
            [
             1,
             "#f0f921"
            ]
           ]
          },
          "colorway": [
           "#636efa",
           "#EF553B",
           "#00cc96",
           "#ab63fa",
           "#FFA15A",
           "#19d3f3",
           "#FF6692",
           "#B6E880",
           "#FF97FF",
           "#FECB52"
          ],
          "font": {
           "color": "#2a3f5f"
          },
          "geo": {
           "bgcolor": "white",
           "lakecolor": "white",
           "landcolor": "#E5ECF6",
           "showlakes": true,
           "showland": true,
           "subunitcolor": "white"
          },
          "hoverlabel": {
           "align": "left"
          },
          "hovermode": "closest",
          "mapbox": {
           "style": "light"
          },
          "paper_bgcolor": "white",
          "plot_bgcolor": "#E5ECF6",
          "polar": {
           "angularaxis": {
            "gridcolor": "white",
            "linecolor": "white",
            "ticks": ""
           },
           "bgcolor": "#E5ECF6",
           "radialaxis": {
            "gridcolor": "white",
            "linecolor": "white",
            "ticks": ""
           }
          },
          "scene": {
           "xaxis": {
            "backgroundcolor": "#E5ECF6",
            "gridcolor": "white",
            "gridwidth": 2,
            "linecolor": "white",
            "showbackground": true,
            "ticks": "",
            "zerolinecolor": "white"
           },
           "yaxis": {
            "backgroundcolor": "#E5ECF6",
            "gridcolor": "white",
            "gridwidth": 2,
            "linecolor": "white",
            "showbackground": true,
            "ticks": "",
            "zerolinecolor": "white"
           },
           "zaxis": {
            "backgroundcolor": "#E5ECF6",
            "gridcolor": "white",
            "gridwidth": 2,
            "linecolor": "white",
            "showbackground": true,
            "ticks": "",
            "zerolinecolor": "white"
           }
          },
          "shapedefaults": {
           "line": {
            "color": "#2a3f5f"
           }
          },
          "ternary": {
           "aaxis": {
            "gridcolor": "white",
            "linecolor": "white",
            "ticks": ""
           },
           "baxis": {
            "gridcolor": "white",
            "linecolor": "white",
            "ticks": ""
           },
           "bgcolor": "#E5ECF6",
           "caxis": {
            "gridcolor": "white",
            "linecolor": "white",
            "ticks": ""
           }
          },
          "title": {
           "x": 0.05
          },
          "xaxis": {
           "automargin": true,
           "gridcolor": "white",
           "linecolor": "white",
           "ticks": "",
           "title": {
            "standoff": 15
           },
           "zerolinecolor": "white",
           "zerolinewidth": 2
          },
          "yaxis": {
           "automargin": true,
           "gridcolor": "white",
           "linecolor": "white",
           "ticks": "",
           "title": {
            "standoff": 15
           },
           "zerolinecolor": "white",
           "zerolinewidth": 2
          }
         }
        },
        "title": {
         "text": "Occluded Space"
        },
        "xaxis": {
         "anchor": "y",
         "domain": [
          0,
          1
         ],
         "title": {
          "text": "Northing (M)"
         }
        },
        "yaxis": {
         "anchor": "x",
         "domain": [
          0,
          1
         ],
         "title": {
          "text": "Easting (M)"
         }
        }
       }
      }
     },
     "metadata": {},
     "output_type": "display_data"
    }
   ],
   "source": [
    "fig = px.scatter(df_oc_s, x=\"modified_northing\", y=\"modified_easting\", color=\"HDOP\",labels={\"modified_northing\": \"Northing (M)\", \"modified_easting\": \"Easting (M)\"}, title=\"Occluded Space\")\n",
    "fig.show()"
   ]
  },
  {
   "attachments": {},
   "cell_type": "markdown",
   "metadata": {},
   "source": [
    "# Range of position\n",
    "\n",
    "northing - (-2.5,0)\n",
    "eastng - (0,4.5)\n",
    "\n",
    "Immediately we can see that the range of GPS data is larger than that one collected in an open field. This shows that in occuled space, the data may be more imprecise. This may be due to the multi-path effect caused by buildings reflecting GPS signals.\n",
    "***"
   ]
  },
  {
   "cell_type": "code",
   "execution_count": 23,
   "metadata": {},
   "outputs": [
    {
     "data": {
      "application/vnd.plotly.v1+json": {
       "config": {
        "plotlyServerURL": "https://plot.ly"
       },
       "data": [
        {
         "hovertemplate": "Northing (M)=%{x}<br>Easting (M)=%{y}<br>HDOP=%{marker.color}<extra></extra>",
         "legendgroup": "",
         "marker": {
          "color": [
           0.8799999952316284,
           0.8799999952316284,
           0.8799999952316284,
           0.8799999952316284,
           0.8799999952316284,
           0.8799999952316284,
           0.8799999952316284,
           0.949999988079071,
           0.949999988079071,
           0.949999988079071,
           0.949999988079071,
           0.949999988079071,
           0.8899999856948853,
           0.8899999856948853,
           0.8899999856948853,
           0.8899999856948853,
           0.949999988079071,
           0.949999988079071,
           0.8899999856948853,
           0.8899999856948853,
           0.8899999856948853,
           0.949999988079071,
           0.8799999952316284,
           0.8799999952316284,
           0.8799999952316284,
           0.949999988079071,
           0.8799999952316284,
           0.8799999952316284,
           0.8799999952316284,
           0.8799999952316284,
           0.8799999952316284,
           0.8600000143051147,
           0.8600000143051147,
           0.8600000143051147,
           0.8600000143051147,
           0.8600000143051147,
           0.8500000238418579,
           0.8500000238418579,
           0.8799999952316284,
           0.8799999952316284,
           0.8500000238418579,
           0.8500000238418579,
           0.8500000238418579,
           0.8500000238418579,
           0.8500000238418579,
           0.8500000238418579,
           0.8500000238418579,
           0.8500000238418579,
           0.8500000238418579,
           0.8500000238418579,
           0.8399999737739563,
           0.8399999737739563,
           0.8399999737739563,
           0.8500000238418579,
           0.8399999737739563,
           0.8500000238418579,
           0.8399999737739563,
           0.8399999737739563,
           0.8399999737739563,
           0.8399999737739563,
           0.8399999737739563,
           0.8399999737739563,
           0.8500000238418579,
           0.8500000238418579,
           0.8500000238418579,
           0.8399999737739563,
           0.8399999737739563,
           0.8500000238418579,
           0.8500000238418579,
           0.8500000238418579,
           0.8500000238418579,
           0.8500000238418579,
           0.8500000238418579,
           0.8799999952316284,
           0.8799999952316284,
           0.8799999952316284,
           0.8799999952316284,
           0.8799999952316284,
           0.8799999952316284,
           0.949999988079071,
           0.949999988079071,
           0.949999988079071,
           0.949999988079071,
           0.949999988079071,
           0.8999999761581421,
           0.8999999761581421,
           0.8999999761581421,
           0.8999999761581421,
           0.8500000238418579,
           0.8500000238418579,
           0.8299999833106995,
           0.8299999833106995,
           0.8500000238418579,
           0.8799999952316284,
           0.8799999952316284,
           0.8799999952316284,
           0.8999999761581421,
           0.8999999761581421,
           0.8799999952316284,
           0.8799999952316284,
           0.8500000238418579,
           0.8700000047683716,
           0.9399999976158142,
           0.9399999976158142,
           0.8899999856948853,
           0.9399999976158142,
           0.9399999976158142,
           0.9399999976158142,
           0.9399999976158142,
           0.9399999976158142,
           0.8899999856948853,
           0.8899999856948853,
           0.8899999856948853,
           0.8899999856948853,
           0.8899999856948853,
           0.8899999856948853,
           0.8500000238418579,
           0.8500000238418579,
           0.8500000238418579,
           0.8500000238418579,
           0.8500000238418579,
           0.8899999856948853,
           0.8899999856948853,
           0.8899999856948853,
           0.8899999856948853,
           0.8899999856948853,
           0.8899999856948853,
           0.8899999856948853,
           0.8500000238418579,
           0.8500000238418579,
           0.8500000238418579,
           0.8500000238418579,
           0.8600000143051147,
           0.8600000143051147,
           0.8500000238418579,
           0.8500000238418579,
           0.8500000238418579,
           0.8500000238418579,
           0.8500000238418579,
           0.8500000238418579,
           0.8500000238418579,
           0.949999988079071,
           0.949999988079071,
           0.949999988079071,
           0.8899999856948853,
           0.8899999856948853,
           0.8899999856948853,
           0.8899999856948853,
           0.8899999856948853,
           0.8899999856948853,
           0.8899999856948853,
           0.8899999856948853,
           0.8899999856948853,
           0.8899999856948853,
           0.8899999856948853,
           0.949999988079071,
           0.949999988079071,
           0.949999988079071,
           0.800000011920929,
           0.800000011920929,
           0.800000011920929,
           0.7900000214576721,
           0.7900000214576721,
           0.7900000214576721,
           0.800000011920929,
           0.800000011920929,
           0.800000011920929,
           0.8899999856948853,
           0.8500000238418579,
           0.8500000238418579,
           0.8500000238418579,
           0.8500000238418579,
           0.8600000143051147,
           0.9100000262260436,
           0.9100000262260436,
           0.9100000262260436,
           0.8700000047683716,
           0.8500000238418579,
           0.8500000238418579,
           0.8899999856948853,
           0.8899999856948853,
           0.8899999856948853,
           0.8899999856948853,
           0.949999988079071,
           0.949999988079071,
           0.949999988079071,
           0.8700000047683716,
           0.8700000047683716,
           0.8700000047683716,
           0.8700000047683716,
           0.8500000238418579,
           0.8500000238418579,
           0.8700000047683716,
           0.8700000047683716,
           0.8700000047683716,
           0.8700000047683716,
           0.8700000047683716,
           0.8700000047683716,
           0.8700000047683716,
           0.8700000047683716,
           0.8700000047683716,
           0.8700000047683716,
           0.8700000047683716,
           0.8700000047683716,
           0.8700000047683716,
           0.8700000047683716,
           0.8700000047683716,
           0.8700000047683716,
           0.9399999976158142,
           0.9399999976158142,
           0.9399999976158142,
           0.9399999976158142,
           0.8899999856948853,
           0.8899999856948853,
           0.8899999856948853,
           0.8899999856948853,
           0.8899999856948853,
           0.8899999856948853,
           0.8899999856948853,
           0.8899999856948853,
           0.8899999856948853,
           0.800000011920929,
           0.8600000143051147,
           0.7900000214576721,
           0.7900000214576721,
           0.7900000214576721,
           0.7900000214576721,
           0.7900000214576721,
           0.7900000214576721,
           0.8600000143051147,
           0.7599999904632568,
           0.7599999904632568,
           0.7599999904632568,
           0.7599999904632568,
           0.7599999904632568,
           0.7599999904632568,
           0.7599999904632568,
           0.8600000143051147,
           0.8600000143051147,
           0.8600000143051147,
           0.8600000143051147,
           0.8600000143051147,
           0.8600000143051147,
           0.8600000143051147,
           0.8600000143051147,
           0.8600000143051147,
           0.8600000143051147,
           0.8600000143051147,
           0.8199999928474426,
           0.8199999928474426,
           0.8199999928474426,
           0.8199999928474426,
           0.8199999928474426,
           0.8199999928474426,
           0.8199999928474426,
           0.8199999928474426,
           0.7699999809265137,
           0.7699999809265137,
           0.7699999809265137,
           0.8199999928474426,
           0.8199999928474426,
           0.8600000143051147,
           0.8600000143051147,
           0.8600000143051147,
           0.7900000214576721,
           0.7900000214576721,
           0.7699999809265137,
           0.7699999809265137,
           0.7900000214576721,
           0.7900000214576721,
           0.8600000143051147,
           0.8600000143051147,
           0.8600000143051147,
           0.8600000143051147,
           0.7900000214576721,
           0.7900000214576721,
           0.7900000214576721,
           0.7900000214576721,
           0.6899999976158142,
           0.7599999904632568,
           0.7599999904632568,
           0.7599999904632568,
           0.7599999904632568,
           0.7599999904632568,
           0.7599999904632568,
           0.7599999904632568,
           0.7599999904632568,
           0.7599999904632568,
           0.7599999904632568,
           0.7599999904632568,
           0.7599999904632568,
           0.7599999904632568,
           0.6899999976158142,
           0.6899999976158142,
           0.7099999785423279,
           0.7099999785423279,
           0.7099999785423279,
           0.7099999785423279,
           0.7099999785423279,
           0.7099999785423279,
           0.6899999976158142,
           0.7599999904632568,
           0.7599999904632568,
           0.7599999904632568,
           0.7900000214576721,
           0.7900000214576721,
           0.7599999904632568,
           0.7699999809265137,
           0.7699999809265137,
           0.8100000023841858,
           0.8100000023841858,
           0.8100000023841858,
           0.7699999809265137,
           0.7699999809265137,
           0.7599999904632568,
           0.7599999904632568,
           0.7599999904632568,
           0.7599999904632568,
           0.7599999904632568,
           0.7599999904632568,
           0.7599999904632568,
           0.7599999904632568,
           0.7599999904632568,
           0.7400000095367432,
           0.7400000095367432,
           0.7400000095367432,
           0.75,
           0.75,
           0.75,
           0.75,
           0.75,
           0.75,
           0.7400000095367432,
           0.7400000095367432,
           0.7400000095367432,
           0.7400000095367432,
           0.7400000095367432,
           0.6700000166893005,
           0.6700000166893005,
           0.6600000262260437,
           0.6600000262260437,
           0.6600000262260437,
           0.6600000262260437,
           0.6600000262260437,
           0.6600000262260437,
           0.6600000262260437,
           0.6800000071525574,
           0.6800000071525574,
           0.6800000071525574,
           0.75,
           0.75,
           0.75,
           0.75,
           0.75,
           0.75,
           0.75,
           0.75,
           0.75,
           0.75,
           0.75,
           0.75,
           0.75,
           0.75,
           0.75,
           0.75,
           0.75,
           0.75,
           0.7699999809265137,
           0.7699999809265137,
           0.7699999809265137,
           0.7699999809265137,
           0.7699999809265137,
           0.7699999809265137,
           0.7699999809265137,
           0.7200000286102295,
           0.7200000286102295,
           0.800000011920929,
           0.800000011920929,
           0.800000011920929,
           0.8500000238418579,
           0.8500000238418579,
           0.8500000238418579,
           0.8500000238418579,
           0.8500000238418579,
           0.7599999904632568,
           0.7599999904632568,
           0.75,
           0.8500000238418579,
           0.8500000238418579,
           0.8500000238418579,
           0.8500000238418579,
           0.7900000214576721,
           0.7300000190734863,
           0.699999988079071,
           0.699999988079071,
           0.8100000023841858,
           0.8100000023841858,
           0.8600000143051147,
           0.8600000143051147,
           0.8600000143051147,
           0.8500000238418579,
           0.8500000238418579,
           0.8500000238418579,
           0.7699999809265137,
           0.7699999809265137,
           0.8500000238418579,
           0.7699999809265137,
           0.7699999809265137,
           0.7699999809265137,
           0.7699999809265137,
           0.7599999904632568,
           0.7599999904632568,
           0.7599999904632568,
           0.7599999904632568,
           0.7599999904632568,
           0.800000011920929,
           0.800000011920929,
           0.800000011920929,
           0.8100000023841858,
           0.8100000023841858,
           0.8100000023841858,
           0.8100000023841858,
           0.7599999904632568,
           0.7599999904632568,
           0.7699999809265137,
           0.7699999809265137,
           0.7699999809265137,
           0.7699999809265137,
           0.7599999904632568,
           0.7599999904632568,
           0.7400000095367432,
           0.7400000095367432,
           0.7200000286102295,
           0.7200000286102295,
           0.7200000286102295,
           0.7200000286102295,
           0.7200000286102295,
           0.7200000286102295,
           0.7200000286102295,
           0.7200000286102295,
           0.7200000286102295,
           0.7200000286102295,
           0.7200000286102295,
           0.75,
           0.7200000286102295,
           0.7200000286102295,
           0.7200000286102295,
           0.7200000286102295,
           0.7200000286102295,
           0.7200000286102295,
           0.7400000095367432,
           0.7400000095367432,
           0.75,
           0.7599999904632568,
           0.7599999904632568,
           0.7599999904632568,
           0.7599999904632568,
           0.7599999904632568,
           0.7599999904632568,
           0.7599999904632568,
           0.7400000095367432,
           0.7599999904632568,
           0.7400000095367432,
           0.7599999904632568,
           0.7599999904632568,
           0.7599999904632568,
           0.7699999809265137,
           0.7699999809265137,
           0.7699999809265137,
           0.7400000095367432,
           0.7400000095367432,
           0.7400000095367432,
           0.7200000286102295,
           0.7200000286102295,
           0.7200000286102295,
           0.7200000286102295,
           0.7300000190734863,
           0.7300000190734863,
           0.7599999904632568,
           0.7599999904632568,
           0.7599999904632568,
           0.7599999904632568,
           0.7400000095367432,
           0.7699999809265137,
           0.7699999809265137,
           0.7699999809265137,
           0.7400000095367432,
           0.7400000095367432,
           0.7400000095367432,
           0.7400000095367432,
           0.7200000286102295,
           0.7599999904632568,
           0.7300000190734863,
           0.7300000190734863,
           0.7300000190734863,
           0.7300000190734863,
           0.7300000190734863,
           0.7400000095367432,
           0.7400000095367432,
           0.7400000095367432,
           0.7400000095367432,
           0.7400000095367432,
           0.75,
           0.75,
           0.75,
           0.75,
           0.7400000095367432,
           0.7200000286102295,
           0.7200000286102295,
           0.7200000286102295,
           0.7200000286102295,
           0.7200000286102295,
           0.7400000095367432,
           0.7400000095367432,
           0.7400000095367432,
           0.7400000095367432,
           0.7400000095367432,
           0.7599999904632568,
           0.7599999904632568,
           0.7599999904632568,
           0.7599999904632568,
           0.7699999809265137,
           0.7599999904632568,
           0.7599999904632568,
           0.7699999809265137,
           0.7699999809265137,
           0.7699999809265137,
           0.7599999904632568,
           0.7599999904632568,
           0.7599999904632568,
           0.7400000095367432,
           0.7400000095367432,
           0.7400000095367432,
           0.7400000095367432,
           0.7400000095367432,
           0.7400000095367432,
           0.75,
           0.75,
           0.75,
           0.75,
           0.75,
           0.75
          ],
          "coloraxis": "coloraxis",
          "symbol": "circle"
         },
         "mode": "markers",
         "name": "",
         "orientation": "v",
         "showlegend": false,
         "type": "scatter",
         "x": [
          0,
          0,
          0,
          -0.5,
          -0.5,
          -0.5,
          -0.5,
          -0.5,
          -0.5,
          -0.5,
          -0.5,
          -0.5,
          -0.5,
          -0.5,
          -0.5,
          -0.5,
          -0.5,
          -0.5,
          -0.5,
          -0.5,
          -0.5,
          -0.5,
          -0.5,
          -0.5,
          -0.5,
          -0.5,
          -0.5,
          -0.5,
          -0.5,
          -0.5,
          -0.5,
          -0.5,
          -0.5,
          -0.5,
          -0.5,
          -1,
          -1,
          -1,
          -1,
          -1,
          -1,
          -1,
          -1.5,
          -1.5,
          -1.5,
          -1.5,
          -1.5,
          -1.5,
          -1.5,
          -1.5,
          -1.5,
          -1.5,
          -1.5,
          -1.5,
          -1.5,
          -1.5,
          -1.5,
          -1.5,
          -2,
          -2,
          -2,
          -2,
          -2,
          -2,
          -2,
          -2,
          -2,
          -2,
          -2,
          -2,
          -2,
          -2,
          -2,
          -2,
          -2,
          -2,
          -2,
          -2,
          -2,
          -2,
          -2,
          -2.5,
          -2.5,
          -2.5,
          -2.5,
          -2.5,
          -2.5,
          -2.5,
          -2.5,
          -2.5,
          -2.5,
          -2.5,
          -2.5,
          -2.5,
          -2.5,
          -2,
          -2,
          -2,
          -2,
          -2,
          -2,
          -2,
          -2,
          -2,
          -2,
          -2,
          -2,
          -2,
          -2,
          -2,
          -2,
          -2,
          -2,
          -2,
          -2,
          -2,
          -2,
          -2,
          -2,
          -2,
          -2,
          -2,
          -2,
          -2,
          -2,
          -2,
          -2,
          -2,
          -2,
          -2,
          -2,
          -2,
          -2,
          -2,
          -2,
          -2,
          -2,
          -2,
          -2,
          -2,
          -2,
          -2,
          -2,
          -2,
          -2,
          -2,
          -2,
          -2,
          -2,
          -2,
          -2,
          -2,
          -2,
          -2,
          -2,
          -2,
          -2,
          -2,
          -2,
          -2,
          -2,
          -2,
          -2,
          -2,
          -2,
          -1.5,
          -1.5,
          -1.5,
          -1.5,
          -1.5,
          -1.5,
          -1.5,
          -1.5,
          -1.5,
          -1.5,
          -1.5,
          -1.5,
          -1.5,
          -1.5,
          -1.5,
          -1.5,
          -1.5,
          -1.5,
          -1.5,
          -1.5,
          -1.5,
          -1.5,
          -1.5,
          -1.5,
          -1.5,
          -1.5,
          -1.5,
          -1.5,
          -1.5,
          -1.5,
          -1.5,
          -1.5,
          -1.5,
          -1.5,
          -1.5,
          -1.5,
          -1.5,
          -1.5,
          -1.5,
          -1.5,
          -1.5,
          -1.5,
          -1.5,
          -1.5,
          -1.5,
          -1.5,
          -1.5,
          -1.5,
          -1.5,
          -1.5,
          -1.5,
          -1.5,
          -1.5,
          -1.5,
          -1.5,
          -1.5,
          -1.5,
          -1.5,
          -1.5,
          -1.5,
          -1.5,
          -1.5,
          -1.5,
          -1.5,
          -1.5,
          -1.5,
          -1.5,
          -1.5,
          -1.5,
          -1.5,
          -1.5,
          -1.5,
          -1.5,
          -1.5,
          -1.5,
          -1.5,
          -1.5,
          -1.5,
          -1.5,
          -1.5,
          -1.5,
          -1.5,
          -1.5,
          -1.5,
          -1.5,
          -1.5,
          -1.5,
          -1.5,
          -1.5,
          -1.5,
          -1.5,
          -1.5,
          -1.5,
          -1.5,
          -1.5,
          -1.5,
          -1.5,
          -1.5,
          -1.5,
          -1.5,
          -1.5,
          -1.5,
          -1.5,
          -1.5,
          -1.5,
          -1.5,
          -1.5,
          -1.5,
          -1.5,
          -1.5,
          -1.5,
          -1.5,
          -1.5,
          -1.5,
          -1.5,
          -1.5,
          -1.5,
          -1.5,
          -1.5,
          -1.5,
          -1.5,
          -1.5,
          -1.5,
          -1.5,
          -1.5,
          -1.5,
          -1.5,
          -1.5,
          -1.5,
          -1.5,
          -1.5,
          -1.5,
          -1.5,
          -1.5,
          -1.5,
          -1.5,
          -1.5,
          -1.5,
          -1.5,
          -1.5,
          -1.5,
          -1.5,
          -1.5,
          -1.5,
          -1.5,
          -1.5,
          -1.5,
          -1.5,
          -1.5,
          -1.5,
          -1.5,
          -1.5,
          -1.5,
          -1.5,
          -1.5,
          -1.5,
          -1.5,
          -1.5,
          -1.5,
          -1.5,
          -1.5,
          -1.5,
          -1.5,
          -1.5,
          -1.5,
          -1.5,
          -1.5,
          -1.5,
          -1.5,
          -1.5,
          -1.5,
          -1.5,
          -1.5,
          -1.5,
          -1.5,
          -1.5,
          -1.5,
          -1.5,
          -1.5,
          -1.5,
          -1.5,
          -1.5,
          -1.5,
          -1.5,
          -1.5,
          -1.5,
          -1.5,
          -1.5,
          -1.5,
          -1.5,
          -1.5,
          -1.5,
          -1.5,
          -1.5,
          -1,
          -1,
          -1,
          -1,
          -1,
          -1,
          -1,
          -1,
          -1,
          -1,
          -1,
          -1,
          -1,
          -1,
          -1,
          -1,
          -1,
          -1,
          -1,
          -1,
          -1,
          -1,
          -1,
          -1,
          -1,
          -1,
          -1,
          -1,
          -1,
          -1,
          -1,
          -1,
          -1,
          -1,
          -1,
          -1,
          -1,
          -1,
          -1,
          -1,
          -1,
          -1,
          -1,
          -1,
          -1,
          -1,
          -1,
          -1,
          -1,
          -1,
          -1,
          -1,
          -1,
          -1,
          -1,
          -1,
          -1,
          -1,
          -1,
          -1,
          -1,
          -1,
          -1,
          -1,
          -1,
          -1,
          -1,
          -1,
          -1,
          -1,
          -1,
          -1,
          -1,
          -1,
          -1,
          -1,
          -1,
          -1,
          -1,
          -1,
          -1,
          -1,
          -1,
          -1,
          -1,
          -1,
          -1,
          -1,
          -1,
          -1,
          -1,
          -1,
          -1,
          -1,
          -1,
          -1,
          -1,
          -1,
          -1,
          -1,
          -1,
          -1,
          -1,
          -1,
          -1,
          -1,
          -1,
          -1,
          -1,
          -1,
          -1,
          -1,
          -1,
          -1,
          -1,
          -1,
          -1,
          -1,
          -1,
          -1,
          -1,
          -1,
          -1,
          -1,
          -1,
          -1,
          -1,
          -1,
          -1,
          -1,
          -1,
          -1,
          -1,
          -1,
          -1,
          -1,
          -1,
          -1,
          -1,
          -1,
          -1,
          -1,
          -1,
          -1,
          -1,
          -1,
          -1,
          -1,
          -1,
          -1,
          -1,
          -1,
          -1,
          -1,
          -1,
          -1,
          -1,
          -1,
          -1,
          -1,
          -1,
          -1,
          -1,
          -1,
          -1,
          -1,
          -1,
          -1,
          -1,
          -1,
          -1,
          -1,
          -1,
          -1,
          -1,
          -1,
          -1,
          -1,
          -1,
          -1,
          -1,
          -1,
          -1
         ],
         "xaxis": "x",
         "y": [
          0,
          0.25,
          0.4375,
          0.65625,
          0.875,
          1.03125,
          1.09375,
          1.125,
          1.125,
          1.0625,
          1.0625,
          1.09375,
          1.125,
          1.1875,
          1.28125,
          1.3125,
          1.34375,
          1.34375,
          1.375,
          1.4375,
          1.5625,
          1.625,
          1.71875,
          1.8125,
          1.875,
          1.90625,
          1.96875,
          2.0625,
          2.1875,
          2.3125,
          2.40625,
          2.5,
          2.5625,
          2.65625,
          2.75,
          2.8125,
          2.875,
          3,
          3.09375,
          3.25,
          3.34375,
          3.4375,
          3.53125,
          3.59375,
          3.65625,
          3.6875,
          3.71875,
          3.75,
          3.8125,
          3.875,
          3.96875,
          4.0625,
          4.125,
          4.15625,
          4.15625,
          4.09375,
          4.0625,
          4.0625,
          4.0625,
          4.09375,
          4.0625,
          4.0625,
          4.03125,
          4,
          3.96875,
          3.9375,
          3.90625,
          3.875,
          3.84375,
          3.8125,
          3.8125,
          3.78125,
          3.75,
          3.71875,
          3.6875,
          3.65625,
          3.625,
          3.625,
          3.625,
          3.59375,
          3.5625,
          3.5625,
          3.53125,
          3.5,
          3.46875,
          3.40625,
          3.375,
          3.375,
          3.375,
          3.40625,
          3.4375,
          3.4375,
          3.4375,
          3.46875,
          3.5,
          3.5,
          3.5,
          3.46875,
          3.40625,
          3.40625,
          3.34375,
          3.3125,
          3.28125,
          3.25,
          3.1875,
          3.1875,
          3.1875,
          3.15625,
          3.15625,
          3.125,
          3.09375,
          3.0625,
          3.03125,
          3.09375,
          3.15625,
          3.21875,
          3.25,
          3.28125,
          3.34375,
          3.34375,
          3.34375,
          3.34375,
          3.375,
          3.40625,
          3.46875,
          3.5,
          3.5625,
          3.59375,
          3.59375,
          3.59375,
          3.625,
          3.6875,
          3.6875,
          3.6875,
          3.71875,
          3.75,
          3.75,
          3.75,
          3.78125,
          3.8125,
          3.8125,
          3.8125,
          3.8125,
          3.8125,
          3.78125,
          3.78125,
          3.75,
          3.71875,
          3.6875,
          3.6875,
          3.6875,
          3.6875,
          3.6875,
          3.625,
          3.59375,
          3.5625,
          3.5625,
          3.5625,
          3.53125,
          3.53125,
          3.53125,
          3.53125,
          3.5,
          3.5,
          3.5,
          3.5,
          3.5,
          3.5,
          3.53125,
          3.53125,
          3.53125,
          3.53125,
          3.5,
          3.5,
          3.5,
          3.46875,
          3.46875,
          3.46875,
          3.46875,
          3.46875,
          3.46875,
          3.5,
          3.5,
          3.5,
          3.5,
          3.5,
          3.53125,
          3.53125,
          3.53125,
          3.53125,
          3.53125,
          3.53125,
          3.53125,
          3.53125,
          3.53125,
          3.53125,
          3.53125,
          3.53125,
          3.53125,
          3.53125,
          3.53125,
          3.53125,
          3.53125,
          3.53125,
          3.5625,
          3.53125,
          3.53125,
          3.53125,
          3.53125,
          3.53125,
          3.53125,
          3.53125,
          3.53125,
          3.53125,
          3.53125,
          3.53125,
          3.53125,
          3.53125,
          3.53125,
          3.53125,
          3.53125,
          3.53125,
          3.53125,
          3.53125,
          3.53125,
          3.53125,
          3.53125,
          3.53125,
          3.53125,
          3.53125,
          3.53125,
          3.53125,
          3.53125,
          3.53125,
          3.5625,
          3.5625,
          3.59375,
          3.59375,
          3.5625,
          3.59375,
          3.59375,
          3.59375,
          3.5625,
          3.59375,
          3.5625,
          3.5625,
          3.5625,
          3.5625,
          3.59375,
          3.59375,
          3.59375,
          3.59375,
          3.59375,
          3.59375,
          3.59375,
          3.59375,
          3.59375,
          3.59375,
          3.59375,
          3.59375,
          3.625,
          3.59375,
          3.59375,
          3.59375,
          3.59375,
          3.59375,
          3.59375,
          3.59375,
          3.59375,
          3.59375,
          3.59375,
          3.59375,
          3.59375,
          3.59375,
          3.59375,
          3.59375,
          3.59375,
          3.59375,
          3.59375,
          3.59375,
          3.59375,
          3.625,
          3.59375,
          3.59375,
          3.59375,
          3.59375,
          3.59375,
          3.5625,
          3.59375,
          3.5625,
          3.5625,
          3.5625,
          3.5625,
          3.5625,
          3.53125,
          3.53125,
          3.53125,
          3.53125,
          3.53125,
          3.53125,
          3.53125,
          3.53125,
          3.53125,
          3.53125,
          3.53125,
          3.53125,
          3.53125,
          3.53125,
          3.53125,
          3.5,
          3.5,
          3.5,
          3.5,
          3.46875,
          3.46875,
          3.46875,
          3.4375,
          3.4375,
          3.46875,
          3.46875,
          3.46875,
          3.4375,
          3.4375,
          3.4375,
          3.4375,
          3.4375,
          3.4375,
          3.40625,
          3.40625,
          3.375,
          3.375,
          3.34375,
          3.34375,
          3.3125,
          3.3125,
          3.3125,
          3.3125,
          3.28125,
          3.28125,
          3.25,
          3.25,
          3.25,
          3.25,
          3.21875,
          3.25,
          3.25,
          3.21875,
          3.21875,
          3.21875,
          3.21875,
          3.21875,
          3.21875,
          3.21875,
          3.21875,
          3.21875,
          3.21875,
          3.21875,
          3.21875,
          3.1875,
          3.1875,
          3.1875,
          3.1875,
          3.15625,
          3.15625,
          3.15625,
          3.15625,
          3.15625,
          3.15625,
          3.15625,
          3.15625,
          3.15625,
          3.15625,
          3.125,
          3.125,
          3.125,
          3.09375,
          3.09375,
          3.0625,
          3.0625,
          3.03125,
          3.03125,
          3.03125,
          3,
          3,
          2.96875,
          2.96875,
          2.96875,
          2.96875,
          2.96875,
          2.9375,
          2.9375,
          2.9375,
          2.9375,
          2.9375,
          2.9375,
          2.9375,
          2.9375,
          2.9375,
          2.9375,
          2.9375,
          2.9375,
          2.9375,
          2.9375,
          2.9375,
          2.90625,
          2.90625,
          2.9375,
          2.90625,
          2.90625,
          2.90625,
          2.90625,
          2.875,
          2.875,
          2.875,
          2.875,
          2.84375,
          2.875,
          2.875,
          2.875,
          2.875,
          2.875,
          2.875,
          2.875,
          2.875,
          2.875,
          2.875,
          2.875,
          2.875,
          2.875,
          2.875,
          2.90625,
          2.90625,
          2.90625,
          2.90625,
          2.90625,
          2.90625,
          2.9375,
          2.90625,
          2.90625,
          2.9375,
          2.9375,
          2.90625,
          2.9375,
          2.9375,
          2.96875,
          2.9375,
          2.9375,
          2.9375,
          2.9375,
          2.9375,
          2.9375,
          2.9375,
          2.90625,
          2.9375,
          2.9375,
          2.9375,
          2.9375,
          2.96875,
          2.96875,
          2.96875,
          2.96875,
          2.96875,
          3,
          2.96875,
          3,
          3,
          3,
          3,
          3,
          3,
          3,
          3,
          3,
          3,
          3,
          3,
          3,
          3,
          3,
          3,
          3,
          3,
          3,
          3,
          3,
          3,
          3,
          3,
          3,
          3,
          3,
          3,
          3,
          3,
          3,
          3,
          3,
          3,
          3,
          3,
          3.03125,
          3.03125,
          3.03125,
          3.03125,
          3.03125,
          3.03125,
          3.03125,
          3.03125,
          3.03125,
          3.03125,
          3.03125,
          3.03125,
          3.03125,
          3.03125,
          3.03125,
          3.03125,
          3.03125,
          3.03125,
          3.03125,
          3.03125,
          3.03125,
          3.03125,
          3.03125,
          3,
          3.03125,
          3.03125,
          3.03125,
          3.03125,
          3.03125,
          3.03125,
          3.03125,
          3.03125,
          3.03125,
          3.03125,
          3.03125,
          3.03125,
          3.03125,
          3,
          3.03125,
          3.03125,
          3.03125,
          3.03125
         ],
         "yaxis": "y"
        },
        {
         "name": "Actual position",
         "type": "scatter",
         "x": [
          18.615585557185113
         ],
         "y": [
          -6.9489208607701585
         ]
        }
       ],
       "layout": {
        "coloraxis": {
         "colorbar": {
          "title": {
           "text": "HDOP"
          }
         },
         "colorscale": [
          [
           0,
           "#0d0887"
          ],
          [
           0.1111111111111111,
           "#46039f"
          ],
          [
           0.2222222222222222,
           "#7201a8"
          ],
          [
           0.3333333333333333,
           "#9c179e"
          ],
          [
           0.4444444444444444,
           "#bd3786"
          ],
          [
           0.5555555555555556,
           "#d8576b"
          ],
          [
           0.6666666666666666,
           "#ed7953"
          ],
          [
           0.7777777777777778,
           "#fb9f3a"
          ],
          [
           0.8888888888888888,
           "#fdca26"
          ],
          [
           1,
           "#f0f921"
          ]
         ]
        },
        "legend": {
         "tracegroupgap": 0
        },
        "template": {
         "data": {
          "bar": [
           {
            "error_x": {
             "color": "#2a3f5f"
            },
            "error_y": {
             "color": "#2a3f5f"
            },
            "marker": {
             "line": {
              "color": "#E5ECF6",
              "width": 0.5
             },
             "pattern": {
              "fillmode": "overlay",
              "size": 10,
              "solidity": 0.2
             }
            },
            "type": "bar"
           }
          ],
          "barpolar": [
           {
            "marker": {
             "line": {
              "color": "#E5ECF6",
              "width": 0.5
             },
             "pattern": {
              "fillmode": "overlay",
              "size": 10,
              "solidity": 0.2
             }
            },
            "type": "barpolar"
           }
          ],
          "carpet": [
           {
            "aaxis": {
             "endlinecolor": "#2a3f5f",
             "gridcolor": "white",
             "linecolor": "white",
             "minorgridcolor": "white",
             "startlinecolor": "#2a3f5f"
            },
            "baxis": {
             "endlinecolor": "#2a3f5f",
             "gridcolor": "white",
             "linecolor": "white",
             "minorgridcolor": "white",
             "startlinecolor": "#2a3f5f"
            },
            "type": "carpet"
           }
          ],
          "choropleth": [
           {
            "colorbar": {
             "outlinewidth": 0,
             "ticks": ""
            },
            "type": "choropleth"
           }
          ],
          "contour": [
           {
            "colorbar": {
             "outlinewidth": 0,
             "ticks": ""
            },
            "colorscale": [
             [
              0,
              "#0d0887"
             ],
             [
              0.1111111111111111,
              "#46039f"
             ],
             [
              0.2222222222222222,
              "#7201a8"
             ],
             [
              0.3333333333333333,
              "#9c179e"
             ],
             [
              0.4444444444444444,
              "#bd3786"
             ],
             [
              0.5555555555555556,
              "#d8576b"
             ],
             [
              0.6666666666666666,
              "#ed7953"
             ],
             [
              0.7777777777777778,
              "#fb9f3a"
             ],
             [
              0.8888888888888888,
              "#fdca26"
             ],
             [
              1,
              "#f0f921"
             ]
            ],
            "type": "contour"
           }
          ],
          "contourcarpet": [
           {
            "colorbar": {
             "outlinewidth": 0,
             "ticks": ""
            },
            "type": "contourcarpet"
           }
          ],
          "heatmap": [
           {
            "colorbar": {
             "outlinewidth": 0,
             "ticks": ""
            },
            "colorscale": [
             [
              0,
              "#0d0887"
             ],
             [
              0.1111111111111111,
              "#46039f"
             ],
             [
              0.2222222222222222,
              "#7201a8"
             ],
             [
              0.3333333333333333,
              "#9c179e"
             ],
             [
              0.4444444444444444,
              "#bd3786"
             ],
             [
              0.5555555555555556,
              "#d8576b"
             ],
             [
              0.6666666666666666,
              "#ed7953"
             ],
             [
              0.7777777777777778,
              "#fb9f3a"
             ],
             [
              0.8888888888888888,
              "#fdca26"
             ],
             [
              1,
              "#f0f921"
             ]
            ],
            "type": "heatmap"
           }
          ],
          "heatmapgl": [
           {
            "colorbar": {
             "outlinewidth": 0,
             "ticks": ""
            },
            "colorscale": [
             [
              0,
              "#0d0887"
             ],
             [
              0.1111111111111111,
              "#46039f"
             ],
             [
              0.2222222222222222,
              "#7201a8"
             ],
             [
              0.3333333333333333,
              "#9c179e"
             ],
             [
              0.4444444444444444,
              "#bd3786"
             ],
             [
              0.5555555555555556,
              "#d8576b"
             ],
             [
              0.6666666666666666,
              "#ed7953"
             ],
             [
              0.7777777777777778,
              "#fb9f3a"
             ],
             [
              0.8888888888888888,
              "#fdca26"
             ],
             [
              1,
              "#f0f921"
             ]
            ],
            "type": "heatmapgl"
           }
          ],
          "histogram": [
           {
            "marker": {
             "pattern": {
              "fillmode": "overlay",
              "size": 10,
              "solidity": 0.2
             }
            },
            "type": "histogram"
           }
          ],
          "histogram2d": [
           {
            "colorbar": {
             "outlinewidth": 0,
             "ticks": ""
            },
            "colorscale": [
             [
              0,
              "#0d0887"
             ],
             [
              0.1111111111111111,
              "#46039f"
             ],
             [
              0.2222222222222222,
              "#7201a8"
             ],
             [
              0.3333333333333333,
              "#9c179e"
             ],
             [
              0.4444444444444444,
              "#bd3786"
             ],
             [
              0.5555555555555556,
              "#d8576b"
             ],
             [
              0.6666666666666666,
              "#ed7953"
             ],
             [
              0.7777777777777778,
              "#fb9f3a"
             ],
             [
              0.8888888888888888,
              "#fdca26"
             ],
             [
              1,
              "#f0f921"
             ]
            ],
            "type": "histogram2d"
           }
          ],
          "histogram2dcontour": [
           {
            "colorbar": {
             "outlinewidth": 0,
             "ticks": ""
            },
            "colorscale": [
             [
              0,
              "#0d0887"
             ],
             [
              0.1111111111111111,
              "#46039f"
             ],
             [
              0.2222222222222222,
              "#7201a8"
             ],
             [
              0.3333333333333333,
              "#9c179e"
             ],
             [
              0.4444444444444444,
              "#bd3786"
             ],
             [
              0.5555555555555556,
              "#d8576b"
             ],
             [
              0.6666666666666666,
              "#ed7953"
             ],
             [
              0.7777777777777778,
              "#fb9f3a"
             ],
             [
              0.8888888888888888,
              "#fdca26"
             ],
             [
              1,
              "#f0f921"
             ]
            ],
            "type": "histogram2dcontour"
           }
          ],
          "mesh3d": [
           {
            "colorbar": {
             "outlinewidth": 0,
             "ticks": ""
            },
            "type": "mesh3d"
           }
          ],
          "parcoords": [
           {
            "line": {
             "colorbar": {
              "outlinewidth": 0,
              "ticks": ""
             }
            },
            "type": "parcoords"
           }
          ],
          "pie": [
           {
            "automargin": true,
            "type": "pie"
           }
          ],
          "scatter": [
           {
            "fillpattern": {
             "fillmode": "overlay",
             "size": 10,
             "solidity": 0.2
            },
            "type": "scatter"
           }
          ],
          "scatter3d": [
           {
            "line": {
             "colorbar": {
              "outlinewidth": 0,
              "ticks": ""
             }
            },
            "marker": {
             "colorbar": {
              "outlinewidth": 0,
              "ticks": ""
             }
            },
            "type": "scatter3d"
           }
          ],
          "scattercarpet": [
           {
            "marker": {
             "colorbar": {
              "outlinewidth": 0,
              "ticks": ""
             }
            },
            "type": "scattercarpet"
           }
          ],
          "scattergeo": [
           {
            "marker": {
             "colorbar": {
              "outlinewidth": 0,
              "ticks": ""
             }
            },
            "type": "scattergeo"
           }
          ],
          "scattergl": [
           {
            "marker": {
             "colorbar": {
              "outlinewidth": 0,
              "ticks": ""
             }
            },
            "type": "scattergl"
           }
          ],
          "scattermapbox": [
           {
            "marker": {
             "colorbar": {
              "outlinewidth": 0,
              "ticks": ""
             }
            },
            "type": "scattermapbox"
           }
          ],
          "scatterpolar": [
           {
            "marker": {
             "colorbar": {
              "outlinewidth": 0,
              "ticks": ""
             }
            },
            "type": "scatterpolar"
           }
          ],
          "scatterpolargl": [
           {
            "marker": {
             "colorbar": {
              "outlinewidth": 0,
              "ticks": ""
             }
            },
            "type": "scatterpolargl"
           }
          ],
          "scatterternary": [
           {
            "marker": {
             "colorbar": {
              "outlinewidth": 0,
              "ticks": ""
             }
            },
            "type": "scatterternary"
           }
          ],
          "surface": [
           {
            "colorbar": {
             "outlinewidth": 0,
             "ticks": ""
            },
            "colorscale": [
             [
              0,
              "#0d0887"
             ],
             [
              0.1111111111111111,
              "#46039f"
             ],
             [
              0.2222222222222222,
              "#7201a8"
             ],
             [
              0.3333333333333333,
              "#9c179e"
             ],
             [
              0.4444444444444444,
              "#bd3786"
             ],
             [
              0.5555555555555556,
              "#d8576b"
             ],
             [
              0.6666666666666666,
              "#ed7953"
             ],
             [
              0.7777777777777778,
              "#fb9f3a"
             ],
             [
              0.8888888888888888,
              "#fdca26"
             ],
             [
              1,
              "#f0f921"
             ]
            ],
            "type": "surface"
           }
          ],
          "table": [
           {
            "cells": {
             "fill": {
              "color": "#EBF0F8"
             },
             "line": {
              "color": "white"
             }
            },
            "header": {
             "fill": {
              "color": "#C8D4E3"
             },
             "line": {
              "color": "white"
             }
            },
            "type": "table"
           }
          ]
         },
         "layout": {
          "annotationdefaults": {
           "arrowcolor": "#2a3f5f",
           "arrowhead": 0,
           "arrowwidth": 1
          },
          "autotypenumbers": "strict",
          "coloraxis": {
           "colorbar": {
            "outlinewidth": 0,
            "ticks": ""
           }
          },
          "colorscale": {
           "diverging": [
            [
             0,
             "#8e0152"
            ],
            [
             0.1,
             "#c51b7d"
            ],
            [
             0.2,
             "#de77ae"
            ],
            [
             0.3,
             "#f1b6da"
            ],
            [
             0.4,
             "#fde0ef"
            ],
            [
             0.5,
             "#f7f7f7"
            ],
            [
             0.6,
             "#e6f5d0"
            ],
            [
             0.7,
             "#b8e186"
            ],
            [
             0.8,
             "#7fbc41"
            ],
            [
             0.9,
             "#4d9221"
            ],
            [
             1,
             "#276419"
            ]
           ],
           "sequential": [
            [
             0,
             "#0d0887"
            ],
            [
             0.1111111111111111,
             "#46039f"
            ],
            [
             0.2222222222222222,
             "#7201a8"
            ],
            [
             0.3333333333333333,
             "#9c179e"
            ],
            [
             0.4444444444444444,
             "#bd3786"
            ],
            [
             0.5555555555555556,
             "#d8576b"
            ],
            [
             0.6666666666666666,
             "#ed7953"
            ],
            [
             0.7777777777777778,
             "#fb9f3a"
            ],
            [
             0.8888888888888888,
             "#fdca26"
            ],
            [
             1,
             "#f0f921"
            ]
           ],
           "sequentialminus": [
            [
             0,
             "#0d0887"
            ],
            [
             0.1111111111111111,
             "#46039f"
            ],
            [
             0.2222222222222222,
             "#7201a8"
            ],
            [
             0.3333333333333333,
             "#9c179e"
            ],
            [
             0.4444444444444444,
             "#bd3786"
            ],
            [
             0.5555555555555556,
             "#d8576b"
            ],
            [
             0.6666666666666666,
             "#ed7953"
            ],
            [
             0.7777777777777778,
             "#fb9f3a"
            ],
            [
             0.8888888888888888,
             "#fdca26"
            ],
            [
             1,
             "#f0f921"
            ]
           ]
          },
          "colorway": [
           "#636efa",
           "#EF553B",
           "#00cc96",
           "#ab63fa",
           "#FFA15A",
           "#19d3f3",
           "#FF6692",
           "#B6E880",
           "#FF97FF",
           "#FECB52"
          ],
          "font": {
           "color": "#2a3f5f"
          },
          "geo": {
           "bgcolor": "white",
           "lakecolor": "white",
           "landcolor": "#E5ECF6",
           "showlakes": true,
           "showland": true,
           "subunitcolor": "white"
          },
          "hoverlabel": {
           "align": "left"
          },
          "hovermode": "closest",
          "mapbox": {
           "style": "light"
          },
          "paper_bgcolor": "white",
          "plot_bgcolor": "#E5ECF6",
          "polar": {
           "angularaxis": {
            "gridcolor": "white",
            "linecolor": "white",
            "ticks": ""
           },
           "bgcolor": "#E5ECF6",
           "radialaxis": {
            "gridcolor": "white",
            "linecolor": "white",
            "ticks": ""
           }
          },
          "scene": {
           "xaxis": {
            "backgroundcolor": "#E5ECF6",
            "gridcolor": "white",
            "gridwidth": 2,
            "linecolor": "white",
            "showbackground": true,
            "ticks": "",
            "zerolinecolor": "white"
           },
           "yaxis": {
            "backgroundcolor": "#E5ECF6",
            "gridcolor": "white",
            "gridwidth": 2,
            "linecolor": "white",
            "showbackground": true,
            "ticks": "",
            "zerolinecolor": "white"
           },
           "zaxis": {
            "backgroundcolor": "#E5ECF6",
            "gridcolor": "white",
            "gridwidth": 2,
            "linecolor": "white",
            "showbackground": true,
            "ticks": "",
            "zerolinecolor": "white"
           }
          },
          "shapedefaults": {
           "line": {
            "color": "#2a3f5f"
           }
          },
          "ternary": {
           "aaxis": {
            "gridcolor": "white",
            "linecolor": "white",
            "ticks": ""
           },
           "baxis": {
            "gridcolor": "white",
            "linecolor": "white",
            "ticks": ""
           },
           "bgcolor": "#E5ECF6",
           "caxis": {
            "gridcolor": "white",
            "linecolor": "white",
            "ticks": ""
           }
          },
          "title": {
           "x": 0.05
          },
          "xaxis": {
           "automargin": true,
           "gridcolor": "white",
           "linecolor": "white",
           "ticks": "",
           "title": {
            "standoff": 15
           },
           "zerolinecolor": "white",
           "zerolinewidth": 2
          },
          "yaxis": {
           "automargin": true,
           "gridcolor": "white",
           "linecolor": "white",
           "ticks": "",
           "title": {
            "standoff": 15
           },
           "zerolinecolor": "white",
           "zerolinewidth": 2
          }
         }
        },
        "title": {
         "text": "Occluded Space"
        },
        "xaxis": {
         "anchor": "y",
         "domain": [
          0,
          1
         ],
         "title": {
          "text": "Northing (M)"
         }
        },
        "yaxis": {
         "anchor": "x",
         "domain": [
          0,
          1
         ],
         "title": {
          "text": "Easting (M)"
         }
        }
       }
      }
     },
     "metadata": {},
     "output_type": "display_data"
    }
   ],
   "source": [
    "# Comparision between gps and google map position\n",
    "x = known_northing - df_oc_s.UTM_northing[0]\n",
    "y = known_easting - df_oc_s.UTM_easting[0]\n",
    "fig.add_scatter(x=[x],y=[y],name='Actual position')\n",
    "fig.show()"
   ]
  },
  {
   "cell_type": "code",
   "execution_count": 24,
   "metadata": {},
   "outputs": [
    {
     "data": {
      "text/html": [
       "<div>\n",
       "<style scoped>\n",
       "    .dataframe tbody tr th:only-of-type {\n",
       "        vertical-align: middle;\n",
       "    }\n",
       "\n",
       "    .dataframe tbody tr th {\n",
       "        vertical-align: top;\n",
       "    }\n",
       "\n",
       "    .dataframe thead th {\n",
       "        text-align: right;\n",
       "    }\n",
       "</style>\n",
       "<table border=\"1\" class=\"dataframe\">\n",
       "  <thead>\n",
       "    <tr style=\"text-align: right;\">\n",
       "      <th></th>\n",
       "      <th>Time</th>\n",
       "      <th>Header.seq</th>\n",
       "      <th>Header.stamp.secs</th>\n",
       "      <th>Header.stamp.nsecs</th>\n",
       "      <th>Header.frame_id</th>\n",
       "      <th>Latitude</th>\n",
       "      <th>Longitude</th>\n",
       "      <th>Altitude</th>\n",
       "      <th>HDOP</th>\n",
       "      <th>Fix_quality</th>\n",
       "      <th>UTM_easting</th>\n",
       "      <th>UTM_northing</th>\n",
       "      <th>UTC</th>\n",
       "      <th>Zone</th>\n",
       "      <th>Letter</th>\n",
       "      <th>modified_northing</th>\n",
       "      <th>modified_easting</th>\n",
       "      <th>error</th>\n",
       "    </tr>\n",
       "  </thead>\n",
       "  <tbody>\n",
       "    <tr>\n",
       "      <th>0</th>\n",
       "      <td>1.677020e+09</td>\n",
       "      <td>19</td>\n",
       "      <td>230101</td>\n",
       "      <td>0</td>\n",
       "      <td>GPS1_Frame</td>\n",
       "      <td>42.308193</td>\n",
       "      <td>-71.105942</td>\n",
       "      <td>18.700001</td>\n",
       "      <td>0.88</td>\n",
       "      <td>5</td>\n",
       "      <td>326431.03125</td>\n",
       "      <td>4686143.0</td>\n",
       "      <td>230101.0</td>\n",
       "      <td>19</td>\n",
       "      <td>T</td>\n",
       "      <td>0.0</td>\n",
       "      <td>0.00000</td>\n",
       "      <td>19.870267</td>\n",
       "    </tr>\n",
       "    <tr>\n",
       "      <th>1</th>\n",
       "      <td>1.677020e+09</td>\n",
       "      <td>20</td>\n",
       "      <td>230102</td>\n",
       "      <td>0</td>\n",
       "      <td>GPS1_Frame</td>\n",
       "      <td>42.308193</td>\n",
       "      <td>-71.105942</td>\n",
       "      <td>18.900000</td>\n",
       "      <td>0.88</td>\n",
       "      <td>5</td>\n",
       "      <td>326431.28125</td>\n",
       "      <td>4686143.0</td>\n",
       "      <td>230102.0</td>\n",
       "      <td>19</td>\n",
       "      <td>T</td>\n",
       "      <td>0.0</td>\n",
       "      <td>0.25000</td>\n",
       "      <td>19.959070</td>\n",
       "    </tr>\n",
       "    <tr>\n",
       "      <th>2</th>\n",
       "      <td>1.677020e+09</td>\n",
       "      <td>21</td>\n",
       "      <td>230103</td>\n",
       "      <td>0</td>\n",
       "      <td>GPS1_Frame</td>\n",
       "      <td>42.308189</td>\n",
       "      <td>-71.105942</td>\n",
       "      <td>19.100000</td>\n",
       "      <td>0.88</td>\n",
       "      <td>5</td>\n",
       "      <td>326431.46875</td>\n",
       "      <td>4686143.0</td>\n",
       "      <td>230103.0</td>\n",
       "      <td>19</td>\n",
       "      <td>T</td>\n",
       "      <td>0.0</td>\n",
       "      <td>0.43750</td>\n",
       "      <td>20.027462</td>\n",
       "    </tr>\n",
       "    <tr>\n",
       "      <th>3</th>\n",
       "      <td>1.677020e+09</td>\n",
       "      <td>22</td>\n",
       "      <td>230104</td>\n",
       "      <td>0</td>\n",
       "      <td>GPS1_Frame</td>\n",
       "      <td>42.308189</td>\n",
       "      <td>-71.105934</td>\n",
       "      <td>19.400000</td>\n",
       "      <td>0.88</td>\n",
       "      <td>5</td>\n",
       "      <td>326431.68750</td>\n",
       "      <td>4686142.5</td>\n",
       "      <td>230104.0</td>\n",
       "      <td>19</td>\n",
       "      <td>T</td>\n",
       "      <td>-0.5</td>\n",
       "      <td>0.65625</td>\n",
       "      <td>20.572901</td>\n",
       "    </tr>\n",
       "    <tr>\n",
       "      <th>4</th>\n",
       "      <td>1.677020e+09</td>\n",
       "      <td>23</td>\n",
       "      <td>230105</td>\n",
       "      <td>0</td>\n",
       "      <td>GPS1_Frame</td>\n",
       "      <td>42.308189</td>\n",
       "      <td>-71.105934</td>\n",
       "      <td>19.600000</td>\n",
       "      <td>0.88</td>\n",
       "      <td>5</td>\n",
       "      <td>326431.90625</td>\n",
       "      <td>4686142.5</td>\n",
       "      <td>230105.0</td>\n",
       "      <td>19</td>\n",
       "      <td>T</td>\n",
       "      <td>-0.5</td>\n",
       "      <td>0.87500</td>\n",
       "      <td>20.654766</td>\n",
       "    </tr>\n",
       "    <tr>\n",
       "      <th>...</th>\n",
       "      <td>...</td>\n",
       "      <td>...</td>\n",
       "      <td>...</td>\n",
       "      <td>...</td>\n",
       "      <td>...</td>\n",
       "      <td>...</td>\n",
       "      <td>...</td>\n",
       "      <td>...</td>\n",
       "      <td>...</td>\n",
       "      <td>...</td>\n",
       "      <td>...</td>\n",
       "      <td>...</td>\n",
       "      <td>...</td>\n",
       "      <td>...</td>\n",
       "      <td>...</td>\n",
       "      <td>...</td>\n",
       "      <td>...</td>\n",
       "      <td>...</td>\n",
       "    </tr>\n",
       "    <tr>\n",
       "      <th>537</th>\n",
       "      <td>1.677021e+09</td>\n",
       "      <td>556</td>\n",
       "      <td>230958</td>\n",
       "      <td>0</td>\n",
       "      <td>GPS1_Frame</td>\n",
       "      <td>42.308186</td>\n",
       "      <td>-71.105911</td>\n",
       "      <td>21.500000</td>\n",
       "      <td>0.75</td>\n",
       "      <td>5</td>\n",
       "      <td>326434.03125</td>\n",
       "      <td>4686142.0</td>\n",
       "      <td>230958.0</td>\n",
       "      <td>19</td>\n",
       "      <td>T</td>\n",
       "      <td>-1.0</td>\n",
       "      <td>3.00000</td>\n",
       "      <td>21.994368</td>\n",
       "    </tr>\n",
       "    <tr>\n",
       "      <th>538</th>\n",
       "      <td>1.677021e+09</td>\n",
       "      <td>557</td>\n",
       "      <td>230959</td>\n",
       "      <td>0</td>\n",
       "      <td>GPS1_Frame</td>\n",
       "      <td>42.308186</td>\n",
       "      <td>-71.105911</td>\n",
       "      <td>21.500000</td>\n",
       "      <td>0.75</td>\n",
       "      <td>5</td>\n",
       "      <td>326434.06250</td>\n",
       "      <td>4686142.0</td>\n",
       "      <td>230959.0</td>\n",
       "      <td>19</td>\n",
       "      <td>T</td>\n",
       "      <td>-1.0</td>\n",
       "      <td>3.03125</td>\n",
       "      <td>22.008521</td>\n",
       "    </tr>\n",
       "    <tr>\n",
       "      <th>539</th>\n",
       "      <td>1.677021e+09</td>\n",
       "      <td>558</td>\n",
       "      <td>231000</td>\n",
       "      <td>0</td>\n",
       "      <td>GPS1_Frame</td>\n",
       "      <td>42.308186</td>\n",
       "      <td>-71.105911</td>\n",
       "      <td>21.600000</td>\n",
       "      <td>0.75</td>\n",
       "      <td>5</td>\n",
       "      <td>326434.06250</td>\n",
       "      <td>4686142.0</td>\n",
       "      <td>231000.0</td>\n",
       "      <td>19</td>\n",
       "      <td>T</td>\n",
       "      <td>-1.0</td>\n",
       "      <td>3.03125</td>\n",
       "      <td>22.008521</td>\n",
       "    </tr>\n",
       "    <tr>\n",
       "      <th>540</th>\n",
       "      <td>1.677021e+09</td>\n",
       "      <td>559</td>\n",
       "      <td>231001</td>\n",
       "      <td>0</td>\n",
       "      <td>GPS1_Frame</td>\n",
       "      <td>42.308186</td>\n",
       "      <td>-71.105911</td>\n",
       "      <td>21.600000</td>\n",
       "      <td>0.75</td>\n",
       "      <td>5</td>\n",
       "      <td>326434.06250</td>\n",
       "      <td>4686142.0</td>\n",
       "      <td>231001.0</td>\n",
       "      <td>19</td>\n",
       "      <td>T</td>\n",
       "      <td>-1.0</td>\n",
       "      <td>3.03125</td>\n",
       "      <td>22.008521</td>\n",
       "    </tr>\n",
       "    <tr>\n",
       "      <th>541</th>\n",
       "      <td>1.677021e+09</td>\n",
       "      <td>560</td>\n",
       "      <td>231002</td>\n",
       "      <td>0</td>\n",
       "      <td>GPS1_Frame</td>\n",
       "      <td>42.308186</td>\n",
       "      <td>-71.105911</td>\n",
       "      <td>21.500000</td>\n",
       "      <td>0.75</td>\n",
       "      <td>5</td>\n",
       "      <td>326434.06250</td>\n",
       "      <td>4686142.0</td>\n",
       "      <td>231002.0</td>\n",
       "      <td>19</td>\n",
       "      <td>T</td>\n",
       "      <td>-1.0</td>\n",
       "      <td>3.03125</td>\n",
       "      <td>22.008521</td>\n",
       "    </tr>\n",
       "  </tbody>\n",
       "</table>\n",
       "<p>542 rows × 18 columns</p>\n",
       "</div>"
      ],
      "text/plain": [
       "             Time  Header.seq  Header.stamp.secs  Header.stamp.nsecs  \\\n",
       "0    1.677020e+09          19             230101                   0   \n",
       "1    1.677020e+09          20             230102                   0   \n",
       "2    1.677020e+09          21             230103                   0   \n",
       "3    1.677020e+09          22             230104                   0   \n",
       "4    1.677020e+09          23             230105                   0   \n",
       "..            ...         ...                ...                 ...   \n",
       "537  1.677021e+09         556             230958                   0   \n",
       "538  1.677021e+09         557             230959                   0   \n",
       "539  1.677021e+09         558             231000                   0   \n",
       "540  1.677021e+09         559             231001                   0   \n",
       "541  1.677021e+09         560             231002                   0   \n",
       "\n",
       "    Header.frame_id   Latitude  Longitude   Altitude  HDOP  Fix_quality  \\\n",
       "0        GPS1_Frame  42.308193 -71.105942  18.700001  0.88            5   \n",
       "1        GPS1_Frame  42.308193 -71.105942  18.900000  0.88            5   \n",
       "2        GPS1_Frame  42.308189 -71.105942  19.100000  0.88            5   \n",
       "3        GPS1_Frame  42.308189 -71.105934  19.400000  0.88            5   \n",
       "4        GPS1_Frame  42.308189 -71.105934  19.600000  0.88            5   \n",
       "..              ...        ...        ...        ...   ...          ...   \n",
       "537      GPS1_Frame  42.308186 -71.105911  21.500000  0.75            5   \n",
       "538      GPS1_Frame  42.308186 -71.105911  21.500000  0.75            5   \n",
       "539      GPS1_Frame  42.308186 -71.105911  21.600000  0.75            5   \n",
       "540      GPS1_Frame  42.308186 -71.105911  21.600000  0.75            5   \n",
       "541      GPS1_Frame  42.308186 -71.105911  21.500000  0.75            5   \n",
       "\n",
       "      UTM_easting  UTM_northing       UTC  Zone Letter  modified_northing  \\\n",
       "0    326431.03125     4686143.0  230101.0    19      T                0.0   \n",
       "1    326431.28125     4686143.0  230102.0    19      T                0.0   \n",
       "2    326431.46875     4686143.0  230103.0    19      T                0.0   \n",
       "3    326431.68750     4686142.5  230104.0    19      T               -0.5   \n",
       "4    326431.90625     4686142.5  230105.0    19      T               -0.5   \n",
       "..            ...           ...       ...   ...    ...                ...   \n",
       "537  326434.03125     4686142.0  230958.0    19      T               -1.0   \n",
       "538  326434.06250     4686142.0  230959.0    19      T               -1.0   \n",
       "539  326434.06250     4686142.0  231000.0    19      T               -1.0   \n",
       "540  326434.06250     4686142.0  231001.0    19      T               -1.0   \n",
       "541  326434.06250     4686142.0  231002.0    19      T               -1.0   \n",
       "\n",
       "     modified_easting      error  \n",
       "0             0.00000  19.870267  \n",
       "1             0.25000  19.959070  \n",
       "2             0.43750  20.027462  \n",
       "3             0.65625  20.572901  \n",
       "4             0.87500  20.654766  \n",
       "..                ...        ...  \n",
       "537           3.00000  21.994368  \n",
       "538           3.03125  22.008521  \n",
       "539           3.03125  22.008521  \n",
       "540           3.03125  22.008521  \n",
       "541           3.03125  22.008521  \n",
       "\n",
       "[542 rows x 18 columns]"
      ]
     },
     "execution_count": 24,
     "metadata": {},
     "output_type": "execute_result"
    }
   ],
   "source": [
    "df_oc_s['error'] = ((df_oc_s['modified_northing']-x)**2 + (df_oc_s['modified_easting']-y)**2)**(1/2)\n",
    "df_oc_s"
   ]
  },
  {
   "cell_type": "code",
   "execution_count": 25,
   "metadata": {},
   "outputs": [
    {
     "data": {
      "text/plain": [
       "array([0.88      , 0.94999999, 0.88999999, 0.86000001, 0.85000002,\n",
       "       0.83999997, 0.89999998, 0.82999998, 0.87      , 0.94      ,\n",
       "       0.80000001, 0.79000002, 0.91000003, 0.75999999, 0.81999999,\n",
       "       0.76999998, 0.69      , 0.70999998, 0.81      , 0.74000001,\n",
       "       0.75      , 0.67000002, 0.66000003, 0.68000001, 0.72000003,\n",
       "       0.73000002, 0.69999999])"
      ]
     },
     "execution_count": 25,
     "metadata": {},
     "output_type": "execute_result"
    }
   ],
   "source": [
    "df_oc_s[\"HDOP\"].unique()"
   ]
  },
  {
   "cell_type": "code",
   "execution_count": 26,
   "metadata": {},
   "outputs": [
    {
     "data": {
      "text/plain": [
       "array([5])"
      ]
     },
     "execution_count": 26,
     "metadata": {},
     "output_type": "execute_result"
    }
   ],
   "source": [
    "df_oc_s[\"Fix_quality\"].unique()"
   ]
  },
  {
   "attachments": {},
   "cell_type": "markdown",
   "metadata": {},
   "source": [
    "We can aslo see that in occulded space the data contains different HDOP values despite being taken in a stationary spot. This also affects the accuracy and precision of data.\n",
    "***"
   ]
  },
  {
   "cell_type": "code",
   "execution_count": 27,
   "metadata": {},
   "outputs": [
    {
     "data": {
      "text/plain": [
       "array([[<matplotlib.axes._subplots.AxesSubplot object at 0x7f1890118d00>]],\n",
       "      dtype=object)"
      ]
     },
     "execution_count": 27,
     "metadata": {},
     "output_type": "execute_result"
    },
    {
     "data": {
      "image/png": "[encoded data removed]",
      "text/plain": [
       "<Figure size 640x480 with 1 Axes>"
      ]
     },
     "metadata": {},
     "output_type": "display_data"
    }
   ],
   "source": [
    "df_oc_s.hist(column='error')"
   ]
  },
  {
   "attachments": {},
   "cell_type": "markdown",
   "metadata": {},
   "source": [
    "We can see that the error histograms range is larger (19,23). But we can observe that most errors are in between the vlaue (22,23) which is less that that of one in the open field. This may be because the data values when HDOP was 1.1 was higher in number resulting in more precision than that one in open field where the HDOP was 1.2. Hence we can assume that the data received from GPS was more closer to the reference location. Still difference in actual positon where the data was recorded contributes to the error. And the large range of errors may be due to the difference in HDOP values.\n",
    "***"
   ]
  },
  {
   "cell_type": "code",
   "execution_count": 28,
   "metadata": {},
   "outputs": [
    {
     "data": {
      "text/plain": [
       "22.423836328488758"
      ]
     },
     "execution_count": 28,
     "metadata": {},
     "output_type": "execute_result"
    }
   ],
   "source": [
    "mean_error = df_oc_s['error'].mean()\n",
    "mean_error"
   ]
  },
  {
   "cell_type": "code",
   "execution_count": 29,
   "metadata": {},
   "outputs": [
    {
     "data": {
      "text/plain": [
       "22.653137718024272"
      ]
     },
     "execution_count": 29,
     "metadata": {},
     "output_type": "execute_result"
    }
   ],
   "source": [
    "medain = df_oc_s['error'].median()\n",
    "medain"
   ]
  },
  {
   "cell_type": "code",
   "execution_count": 30,
   "metadata": {},
   "outputs": [
    {
     "data": {
      "application/vnd.plotly.v1+json": {
       "config": {
        "plotlyServerURL": "https://plot.ly"
       },
       "data": [
        {
         "hovertemplate": "Time in Seconds=%{x}<br>Altitude (M)=%{y}<extra></extra>",
         "legendgroup": "",
         "marker": {
          "color": "#636efa",
          "symbol": "circle"
         },
         "mode": "markers",
         "name": "",
         "orientation": "v",
         "showlegend": false,
         "type": "scatter",
         "x": [
          230101,
          230102,
          230103,
          230104,
          230105,
          230106,
          230107,
          230108,
          230109,
          230110,
          230111,
          230112,
          230113,
          230114,
          230115,
          230116,
          230117,
          230118,
          230119,
          230120,
          230121,
          230122,
          230123,
          230124,
          230125,
          230126,
          230127,
          230128,
          230129,
          230130,
          230131,
          230132,
          230133,
          230134,
          230135,
          230136,
          230137,
          230138,
          230139,
          230140,
          230141,
          230142,
          230143,
          230144,
          230145,
          230146,
          230147,
          230148,
          230149,
          230150,
          230151,
          230152,
          230153,
          230154,
          230155,
          230156,
          230157,
          230158,
          230159,
          230200,
          230201,
          230202,
          230203,
          230204,
          230205,
          230206,
          230207,
          230208,
          230209,
          230210,
          230211,
          230212,
          230213,
          230214,
          230215,
          230216,
          230217,
          230218,
          230219,
          230220,
          230221,
          230222,
          230223,
          230224,
          230225,
          230226,
          230227,
          230228,
          230229,
          230230,
          230231,
          230232,
          230233,
          230234,
          230235,
          230236,
          230237,
          230238,
          230239,
          230240,
          230241,
          230242,
          230243,
          230244,
          230245,
          230246,
          230247,
          230248,
          230249,
          230250,
          230251,
          230252,
          230253,
          230254,
          230255,
          230256,
          230257,
          230258,
          230259,
          230300,
          230301,
          230302,
          230303,
          230304,
          230305,
          230306,
          230307,
          230308,
          230309,
          230310,
          230311,
          230312,
          230313,
          230314,
          230315,
          230316,
          230317,
          230318,
          230319,
          230320,
          230321,
          230322,
          230323,
          230324,
          230325,
          230326,
          230327,
          230328,
          230329,
          230330,
          230331,
          230332,
          230333,
          230334,
          230335,
          230336,
          230337,
          230338,
          230339,
          230340,
          230341,
          230342,
          230343,
          230344,
          230345,
          230346,
          230347,
          230348,
          230349,
          230350,
          230351,
          230352,
          230353,
          230354,
          230355,
          230356,
          230357,
          230358,
          230359,
          230400,
          230401,
          230402,
          230403,
          230404,
          230405,
          230406,
          230407,
          230408,
          230409,
          230410,
          230411,
          230412,
          230413,
          230414,
          230415,
          230416,
          230417,
          230418,
          230419,
          230420,
          230421,
          230422,
          230423,
          230424,
          230425,
          230426,
          230427,
          230428,
          230429,
          230430,
          230431,
          230432,
          230433,
          230434,
          230435,
          230436,
          230437,
          230438,
          230439,
          230440,
          230441,
          230442,
          230443,
          230444,
          230445,
          230446,
          230447,
          230448,
          230449,
          230450,
          230451,
          230452,
          230453,
          230454,
          230455,
          230456,
          230457,
          230458,
          230459,
          230500,
          230501,
          230502,
          230503,
          230504,
          230505,
          230506,
          230507,
          230508,
          230509,
          230510,
          230511,
          230512,
          230513,
          230514,
          230515,
          230516,
          230517,
          230518,
          230519,
          230520,
          230521,
          230522,
          230523,
          230524,
          230525,
          230526,
          230527,
          230528,
          230529,
          230530,
          230531,
          230532,
          230533,
          230534,
          230535,
          230536,
          230537,
          230538,
          230539,
          230540,
          230541,
          230542,
          230543,
          230544,
          230545,
          230546,
          230547,
          230548,
          230549,
          230550,
          230551,
          230552,
          230553,
          230554,
          230555,
          230556,
          230557,
          230558,
          230559,
          230600,
          230601,
          230602,
          230603,
          230604,
          230605,
          230606,
          230607,
          230608,
          230609,
          230610,
          230611,
          230612,
          230613,
          230614,
          230615,
          230616,
          230617,
          230618,
          230619,
          230620,
          230621,
          230622,
          230623,
          230624,
          230625,
          230626,
          230627,
          230628,
          230629,
          230630,
          230631,
          230632,
          230633,
          230634,
          230635,
          230636,
          230637,
          230638,
          230639,
          230640,
          230641,
          230642,
          230643,
          230644,
          230645,
          230646,
          230647,
          230648,
          230649,
          230650,
          230651,
          230652,
          230653,
          230654,
          230655,
          230656,
          230657,
          230658,
          230659,
          230700,
          230701,
          230702,
          230703,
          230704,
          230705,
          230706,
          230707,
          230708,
          230709,
          230710,
          230711,
          230712,
          230713,
          230714,
          230715,
          230716,
          230717,
          230718,
          230719,
          230720,
          230721,
          230722,
          230723,
          230724,
          230725,
          230726,
          230727,
          230728,
          230729,
          230730,
          230731,
          230732,
          230733,
          230734,
          230735,
          230736,
          230737,
          230738,
          230739,
          230740,
          230741,
          230742,
          230743,
          230744,
          230745,
          230746,
          230747,
          230748,
          230749,
          230750,
          230751,
          230752,
          230753,
          230754,
          230755,
          230756,
          230757,
          230758,
          230759,
          230800,
          230801,
          230802,
          230803,
          230804,
          230805,
          230806,
          230807,
          230808,
          230809,
          230810,
          230811,
          230812,
          230813,
          230814,
          230815,
          230816,
          230817,
          230818,
          230819,
          230820,
          230821,
          230822,
          230823,
          230824,
          230825,
          230826,
          230827,
          230828,
          230829,
          230830,
          230831,
          230832,
          230833,
          230834,
          230835,
          230836,
          230837,
          230838,
          230839,
          230840,
          230841,
          230842,
          230843,
          230844,
          230845,
          230846,
          230847,
          230848,
          230849,
          230850,
          230851,
          230852,
          230853,
          230854,
          230855,
          230856,
          230857,
          230858,
          230859,
          230900,
          230901,
          230902,
          230903,
          230904,
          230905,
          230906,
          230907,
          230908,
          230909,
          230910,
          230911,
          230912,
          230913,
          230914,
          230915,
          230916,
          230917,
          230918,
          230919,
          230920,
          230921,
          230922,
          230923,
          230924,
          230925,
          230926,
          230927,
          230928,
          230929,
          230930,
          230931,
          230932,
          230933,
          230934,
          230935,
          230936,
          230937,
          230938,
          230939,
          230940,
          230941,
          230942,
          230943,
          230944,
          230945,
          230946,
          230947,
          230948,
          230949,
          230950,
          230951,
          230952,
          230953,
          230954,
          230955,
          230956,
          230957,
          230958,
          230959,
          231000,
          231001,
          231002
         ],
         "xaxis": "x",
         "y": [
          18.700000762939453,
          18.899999618530277,
          19.100000381469727,
          19.399999618530277,
          19.600000381469727,
          19.799999237060547,
          19.899999618530277,
          20,
          20,
          20,
          20,
          20.100000381469727,
          20.299999237060547,
          20.5,
          20.700000762939453,
          20.799999237060547,
          21,
          21.100000381469727,
          21.200000762939453,
          21.299999237060547,
          21.399999618530277,
          21.600000381469727,
          21.799999237060547,
          22,
          22,
          21.899999618530277,
          21.899999618530277,
          21.799999237060547,
          21.799999237060547,
          21.899999618530277,
          22,
          22.100000381469727,
          22.200000762939453,
          22.200000762939453,
          22.299999237060547,
          22.399999618530277,
          22.399999618530277,
          22.399999618530277,
          22.399999618530277,
          22.5,
          22.5,
          22.600000381469727,
          22.600000381469727,
          22.700000762939453,
          22.700000762939453,
          22.700000762939453,
          22.700000762939453,
          22.600000381469727,
          22.5,
          22.600000381469727,
          22.5,
          22.5,
          22.5,
          22.5,
          22.5,
          22.600000381469727,
          22.600000381469727,
          22.700000762939453,
          22.700000762939453,
          22.799999237060547,
          22.899999618530277,
          22.899999618530277,
          22.799999237060547,
          22.799999237060547,
          22.700000762939453,
          22.700000762939453,
          22.600000381469727,
          22.5,
          22.5,
          22.399999618530277,
          22.399999618530277,
          22.399999618530277,
          22.299999237060547,
          22.299999237060547,
          22.299999237060547,
          22.299999237060547,
          22.299999237060547,
          22.200000762939453,
          22.200000762939453,
          22.200000762939453,
          22.200000762939453,
          22.100000381469727,
          22.100000381469727,
          22.100000381469727,
          22,
          22,
          21.899999618530277,
          21.799999237060547,
          21.799999237060547,
          21.799999237060547,
          21.799999237060547,
          21.799999237060547,
          21.799999237060547,
          21.799999237060547,
          21.799999237060547,
          21.700000762939453,
          21.700000762939453,
          21.600000381469727,
          21.600000381469727,
          21.5,
          21.5,
          21.5,
          21.5,
          21.5,
          21.399999618530277,
          21.399999618530277,
          21.299999237060547,
          21.200000762939453,
          21.200000762939453,
          21.200000762939453,
          21.100000381469727,
          21.100000381469727,
          21.100000381469727,
          21.100000381469727,
          21.100000381469727,
          21.100000381469727,
          21.100000381469727,
          21.100000381469727,
          21.100000381469727,
          21.100000381469727,
          21.100000381469727,
          21.100000381469727,
          21.100000381469727,
          21.100000381469727,
          21.200000762939453,
          21.200000762939453,
          21.200000762939453,
          21.200000762939453,
          21.200000762939453,
          21.200000762939453,
          21.200000762939453,
          21.200000762939453,
          21.200000762939453,
          21.200000762939453,
          21.200000762939453,
          21.200000762939453,
          21.200000762939453,
          21.200000762939453,
          21.200000762939453,
          21.299999237060547,
          21.200000762939453,
          21.200000762939453,
          21.299999237060547,
          21.299999237060547,
          21.299999237060547,
          21.299999237060547,
          21.299999237060547,
          21.299999237060547,
          21.299999237060547,
          21.399999618530277,
          21.399999618530277,
          21.399999618530277,
          21.399999618530277,
          21.399999618530277,
          21.399999618530277,
          21.5,
          21.5,
          21.5,
          21.5,
          21.5,
          21.5,
          21.5,
          21.5,
          21.5,
          21.5,
          21.5,
          21.5,
          21.5,
          21.5,
          21.5,
          21.5,
          21.5,
          21.5,
          21.600000381469727,
          21.5,
          21.600000381469727,
          21.600000381469727,
          21.5,
          21.600000381469727,
          21.600000381469727,
          21.600000381469727,
          21.600000381469727,
          21.600000381469727,
          21.600000381469727,
          21.600000381469727,
          21.600000381469727,
          21.600000381469727,
          21.600000381469727,
          21.600000381469727,
          21.600000381469727,
          21.600000381469727,
          21.600000381469727,
          21.600000381469727,
          21.600000381469727,
          21.600000381469727,
          21.600000381469727,
          21.600000381469727,
          21.600000381469727,
          21.600000381469727,
          21.600000381469727,
          21.600000381469727,
          21.600000381469727,
          21.600000381469727,
          21.600000381469727,
          21.600000381469727,
          21.600000381469727,
          21.600000381469727,
          21.600000381469727,
          21.600000381469727,
          21.600000381469727,
          21.600000381469727,
          21.600000381469727,
          21.600000381469727,
          21.600000381469727,
          21.600000381469727,
          21.600000381469727,
          21.600000381469727,
          21.600000381469727,
          21.600000381469727,
          21.600000381469727,
          21.600000381469727,
          21.600000381469727,
          21.600000381469727,
          21.600000381469727,
          21.600000381469727,
          21.600000381469727,
          21.600000381469727,
          21.600000381469727,
          21.600000381469727,
          21.600000381469727,
          21.600000381469727,
          21.600000381469727,
          21.600000381469727,
          21.600000381469727,
          21.600000381469727,
          21.600000381469727,
          21.600000381469727,
          21.600000381469727,
          21.600000381469727,
          21.600000381469727,
          21.600000381469727,
          21.600000381469727,
          21.600000381469727,
          21.600000381469727,
          21.600000381469727,
          21.600000381469727,
          21.600000381469727,
          21.600000381469727,
          21.600000381469727,
          21.600000381469727,
          21.600000381469727,
          21.600000381469727,
          21.600000381469727,
          21.600000381469727,
          21.600000381469727,
          21.600000381469727,
          21.600000381469727,
          21.600000381469727,
          21.600000381469727,
          21.600000381469727,
          21.600000381469727,
          21.600000381469727,
          21.600000381469727,
          21.600000381469727,
          21.600000381469727,
          21.600000381469727,
          21.600000381469727,
          21.600000381469727,
          21.600000381469727,
          21.600000381469727,
          21.600000381469727,
          21.600000381469727,
          21.600000381469727,
          21.600000381469727,
          21.600000381469727,
          21.700000762939453,
          21.700000762939453,
          21.700000762939453,
          21.700000762939453,
          21.700000762939453,
          21.700000762939453,
          21.700000762939453,
          21.700000762939453,
          21.700000762939453,
          21.700000762939453,
          21.700000762939453,
          21.700000762939453,
          21.700000762939453,
          21.700000762939453,
          21.700000762939453,
          21.700000762939453,
          21.700000762939453,
          21.700000762939453,
          21.700000762939453,
          21.700000762939453,
          21.600000381469727,
          21.700000762939453,
          21.700000762939453,
          21.700000762939453,
          21.700000762939453,
          21.700000762939453,
          21.600000381469727,
          21.600000381469727,
          21.600000381469727,
          21.600000381469727,
          21.600000381469727,
          21.600000381469727,
          21.600000381469727,
          21.600000381469727,
          21.600000381469727,
          21.600000381469727,
          21.600000381469727,
          21.600000381469727,
          21.600000381469727,
          21.600000381469727,
          21.600000381469727,
          21.600000381469727,
          21.600000381469727,
          21.700000762939453,
          21.600000381469727,
          21.700000762939453,
          21.600000381469727,
          21.700000762939453,
          21.700000762939453,
          21.700000762939453,
          21.700000762939453,
          21.700000762939453,
          21.700000762939453,
          21.700000762939453,
          21.600000381469727,
          21.700000762939453,
          21.700000762939453,
          21.700000762939453,
          21.600000381469727,
          21.700000762939453,
          21.700000762939453,
          21.700000762939453,
          21.700000762939453,
          21.700000762939453,
          21.700000762939453,
          21.700000762939453,
          21.700000762939453,
          21.700000762939453,
          21.700000762939453,
          21.700000762939453,
          21.700000762939453,
          21.700000762939453,
          21.700000762939453,
          21.700000762939453,
          21.700000762939453,
          21.700000762939453,
          21.700000762939453,
          21.700000762939453,
          21.700000762939453,
          21.700000762939453,
          21.700000762939453,
          21.700000762939453,
          21.700000762939453,
          21.700000762939453,
          21.700000762939453,
          21.700000762939453,
          21.700000762939453,
          21.700000762939453,
          21.700000762939453,
          21.700000762939453,
          21.700000762939453,
          21.700000762939453,
          21.700000762939453,
          21.700000762939453,
          21.700000762939453,
          21.700000762939453,
          21.700000762939453,
          21.700000762939453,
          21.700000762939453,
          21.700000762939453,
          21.700000762939453,
          21.700000762939453,
          21.700000762939453,
          21.700000762939453,
          21.700000762939453,
          21.700000762939453,
          21.700000762939453,
          21.700000762939453,
          21.700000762939453,
          21.700000762939453,
          21.700000762939453,
          21.700000762939453,
          21.700000762939453,
          21.700000762939453,
          21.700000762939453,
          21.700000762939453,
          21.700000762939453,
          21.700000762939453,
          21.700000762939453,
          21.700000762939453,
          21.700000762939453,
          21.700000762939453,
          21.700000762939453,
          21.700000762939453,
          21.700000762939453,
          21.700000762939453,
          21.700000762939453,
          21.700000762939453,
          21.700000762939453,
          21.700000762939453,
          21.700000762939453,
          21.700000762939453,
          21.700000762939453,
          21.700000762939453,
          21.600000381469727,
          21.600000381469727,
          21.700000762939453,
          21.600000381469727,
          21.600000381469727,
          21.600000381469727,
          21.600000381469727,
          21.600000381469727,
          21.600000381469727,
          21.600000381469727,
          21.600000381469727,
          21.600000381469727,
          21.600000381469727,
          21.600000381469727,
          21.600000381469727,
          21.600000381469727,
          21.600000381469727,
          21.600000381469727,
          21.600000381469727,
          21.600000381469727,
          21.600000381469727,
          21.600000381469727,
          21.600000381469727,
          21.600000381469727,
          21.600000381469727,
          21.600000381469727,
          21.600000381469727,
          21.600000381469727,
          21.5,
          21.5,
          21.600000381469727,
          21.5,
          21.5,
          21.5,
          21.5,
          21.600000381469727,
          21.5,
          21.5,
          21.5,
          21.600000381469727,
          21.600000381469727,
          21.600000381469727,
          21.5,
          21.5,
          21.5,
          21.5,
          21.5,
          21.5,
          21.600000381469727,
          21.600000381469727,
          21.5,
          21.600000381469727,
          21.600000381469727,
          21.600000381469727,
          21.600000381469727,
          21.600000381469727,
          21.600000381469727,
          21.600000381469727,
          21.600000381469727,
          21.600000381469727,
          21.600000381469727,
          21.600000381469727,
          21.600000381469727,
          21.600000381469727,
          21.600000381469727,
          21.600000381469727,
          21.5,
          21.600000381469727,
          21.600000381469727,
          21.600000381469727,
          21.600000381469727,
          21.600000381469727,
          21.600000381469727,
          21.600000381469727,
          21.600000381469727,
          21.600000381469727,
          21.600000381469727,
          21.600000381469727,
          21.600000381469727,
          21.600000381469727,
          21.600000381469727,
          21.600000381469727,
          21.600000381469727,
          21.600000381469727,
          21.600000381469727,
          21.600000381469727,
          21.600000381469727,
          21.600000381469727,
          21.600000381469727,
          21.600000381469727,
          21.600000381469727,
          21.600000381469727,
          21.600000381469727,
          21.600000381469727,
          21.600000381469727,
          21.600000381469727,
          21.600000381469727,
          21.600000381469727,
          21.600000381469727,
          21.600000381469727,
          21.600000381469727,
          21.600000381469727,
          21.600000381469727,
          21.600000381469727,
          21.600000381469727,
          21.600000381469727,
          21.600000381469727,
          21.600000381469727,
          21.600000381469727,
          21.600000381469727,
          21.600000381469727,
          21.600000381469727,
          21.600000381469727,
          21.600000381469727,
          21.600000381469727,
          21.600000381469727,
          21.600000381469727,
          21.600000381469727,
          21.600000381469727,
          21.600000381469727,
          21.600000381469727,
          21.600000381469727,
          21.600000381469727,
          21.600000381469727,
          21.600000381469727,
          21.600000381469727,
          21.600000381469727,
          21.5,
          21.5,
          21.5,
          21.600000381469727,
          21.600000381469727,
          21.5
         ],
         "yaxis": "y"
        }
       ],
       "layout": {
        "legend": {
         "tracegroupgap": 0
        },
        "template": {
         "data": {
          "bar": [
           {
            "error_x": {
             "color": "#2a3f5f"
            },
            "error_y": {
             "color": "#2a3f5f"
            },
            "marker": {
             "line": {
              "color": "#E5ECF6",
              "width": 0.5
             },
             "pattern": {
              "fillmode": "overlay",
              "size": 10,
              "solidity": 0.2
             }
            },
            "type": "bar"
           }
          ],
          "barpolar": [
           {
            "marker": {
             "line": {
              "color": "#E5ECF6",
              "width": 0.5
             },
             "pattern": {
              "fillmode": "overlay",
              "size": 10,
              "solidity": 0.2
             }
            },
            "type": "barpolar"
           }
          ],
          "carpet": [
           {
            "aaxis": {
             "endlinecolor": "#2a3f5f",
             "gridcolor": "white",
             "linecolor": "white",
             "minorgridcolor": "white",
             "startlinecolor": "#2a3f5f"
            },
            "baxis": {
             "endlinecolor": "#2a3f5f",
             "gridcolor": "white",
             "linecolor": "white",
             "minorgridcolor": "white",
             "startlinecolor": "#2a3f5f"
            },
            "type": "carpet"
           }
          ],
          "choropleth": [
           {
            "colorbar": {
             "outlinewidth": 0,
             "ticks": ""
            },
            "type": "choropleth"
           }
          ],
          "contour": [
           {
            "colorbar": {
             "outlinewidth": 0,
             "ticks": ""
            },
            "colorscale": [
             [
              0,
              "#0d0887"
             ],
             [
              0.1111111111111111,
              "#46039f"
             ],
             [
              0.2222222222222222,
              "#7201a8"
             ],
             [
              0.3333333333333333,
              "#9c179e"
             ],
             [
              0.4444444444444444,
              "#bd3786"
             ],
             [
              0.5555555555555556,
              "#d8576b"
             ],
             [
              0.6666666666666666,
              "#ed7953"
             ],
             [
              0.7777777777777778,
              "#fb9f3a"
             ],
             [
              0.8888888888888888,
              "#fdca26"
             ],
             [
              1,
              "#f0f921"
             ]
            ],
            "type": "contour"
           }
          ],
          "contourcarpet": [
           {
            "colorbar": {
             "outlinewidth": 0,
             "ticks": ""
            },
            "type": "contourcarpet"
           }
          ],
          "heatmap": [
           {
            "colorbar": {
             "outlinewidth": 0,
             "ticks": ""
            },
            "colorscale": [
             [
              0,
              "#0d0887"
             ],
             [
              0.1111111111111111,
              "#46039f"
             ],
             [
              0.2222222222222222,
              "#7201a8"
             ],
             [
              0.3333333333333333,
              "#9c179e"
             ],
             [
              0.4444444444444444,
              "#bd3786"
             ],
             [
              0.5555555555555556,
              "#d8576b"
             ],
             [
              0.6666666666666666,
              "#ed7953"
             ],
             [
              0.7777777777777778,
              "#fb9f3a"
             ],
             [
              0.8888888888888888,
              "#fdca26"
             ],
             [
              1,
              "#f0f921"
             ]
            ],
            "type": "heatmap"
           }
          ],
          "heatmapgl": [
           {
            "colorbar": {
             "outlinewidth": 0,
             "ticks": ""
            },
            "colorscale": [
             [
              0,
              "#0d0887"
             ],
             [
              0.1111111111111111,
              "#46039f"
             ],
             [
              0.2222222222222222,
              "#7201a8"
             ],
             [
              0.3333333333333333,
              "#9c179e"
             ],
             [
              0.4444444444444444,
              "#bd3786"
             ],
             [
              0.5555555555555556,
              "#d8576b"
             ],
             [
              0.6666666666666666,
              "#ed7953"
             ],
             [
              0.7777777777777778,
              "#fb9f3a"
             ],
             [
              0.8888888888888888,
              "#fdca26"
             ],
             [
              1,
              "#f0f921"
             ]
            ],
            "type": "heatmapgl"
           }
          ],
          "histogram": [
           {
            "marker": {
             "pattern": {
              "fillmode": "overlay",
              "size": 10,
              "solidity": 0.2
             }
            },
            "type": "histogram"
           }
          ],
          "histogram2d": [
           {
            "colorbar": {
             "outlinewidth": 0,
             "ticks": ""
            },
            "colorscale": [
             [
              0,
              "#0d0887"
             ],
             [
              0.1111111111111111,
              "#46039f"
             ],
             [
              0.2222222222222222,
              "#7201a8"
             ],
             [
              0.3333333333333333,
              "#9c179e"
             ],
             [
              0.4444444444444444,
              "#bd3786"
             ],
             [
              0.5555555555555556,
              "#d8576b"
             ],
             [
              0.6666666666666666,
              "#ed7953"
             ],
             [
              0.7777777777777778,
              "#fb9f3a"
             ],
             [
              0.8888888888888888,
              "#fdca26"
             ],
             [
              1,
              "#f0f921"
             ]
            ],
            "type": "histogram2d"
           }
          ],
          "histogram2dcontour": [
           {
            "colorbar": {
             "outlinewidth": 0,
             "ticks": ""
            },
            "colorscale": [
             [
              0,
              "#0d0887"
             ],
             [
              0.1111111111111111,
              "#46039f"
             ],
             [
              0.2222222222222222,
              "#7201a8"
             ],
             [
              0.3333333333333333,
              "#9c179e"
             ],
             [
              0.4444444444444444,
              "#bd3786"
             ],
             [
              0.5555555555555556,
              "#d8576b"
             ],
             [
              0.6666666666666666,
              "#ed7953"
             ],
             [
              0.7777777777777778,
              "#fb9f3a"
             ],
             [
              0.8888888888888888,
              "#fdca26"
             ],
             [
              1,
              "#f0f921"
             ]
            ],
            "type": "histogram2dcontour"
           }
          ],
          "mesh3d": [
           {
            "colorbar": {
             "outlinewidth": 0,
             "ticks": ""
            },
            "type": "mesh3d"
           }
          ],
          "parcoords": [
           {
            "line": {
             "colorbar": {
              "outlinewidth": 0,
              "ticks": ""
             }
            },
            "type": "parcoords"
           }
          ],
          "pie": [
           {
            "automargin": true,
            "type": "pie"
           }
          ],
          "scatter": [
           {
            "fillpattern": {
             "fillmode": "overlay",
             "size": 10,
             "solidity": 0.2
            },
            "type": "scatter"
           }
          ],
          "scatter3d": [
           {
            "line": {
             "colorbar": {
              "outlinewidth": 0,
              "ticks": ""
             }
            },
            "marker": {
             "colorbar": {
              "outlinewidth": 0,
              "ticks": ""
             }
            },
            "type": "scatter3d"
           }
          ],
          "scattercarpet": [
           {
            "marker": {
             "colorbar": {
              "outlinewidth": 0,
              "ticks": ""
             }
            },
            "type": "scattercarpet"
           }
          ],
          "scattergeo": [
           {
            "marker": {
             "colorbar": {
              "outlinewidth": 0,
              "ticks": ""
             }
            },
            "type": "scattergeo"
           }
          ],
          "scattergl": [
           {
            "marker": {
             "colorbar": {
              "outlinewidth": 0,
              "ticks": ""
             }
            },
            "type": "scattergl"
           }
          ],
          "scattermapbox": [
           {
            "marker": {
             "colorbar": {
              "outlinewidth": 0,
              "ticks": ""
             }
            },
            "type": "scattermapbox"
           }
          ],
          "scatterpolar": [
           {
            "marker": {
             "colorbar": {
              "outlinewidth": 0,
              "ticks": ""
             }
            },
            "type": "scatterpolar"
           }
          ],
          "scatterpolargl": [
           {
            "marker": {
             "colorbar": {
              "outlinewidth": 0,
              "ticks": ""
             }
            },
            "type": "scatterpolargl"
           }
          ],
          "scatterternary": [
           {
            "marker": {
             "colorbar": {
              "outlinewidth": 0,
              "ticks": ""
             }
            },
            "type": "scatterternary"
           }
          ],
          "surface": [
           {
            "colorbar": {
             "outlinewidth": 0,
             "ticks": ""
            },
            "colorscale": [
             [
              0,
              "#0d0887"
             ],
             [
              0.1111111111111111,
              "#46039f"
             ],
             [
              0.2222222222222222,
              "#7201a8"
             ],
             [
              0.3333333333333333,
              "#9c179e"
             ],
             [
              0.4444444444444444,
              "#bd3786"
             ],
             [
              0.5555555555555556,
              "#d8576b"
             ],
             [
              0.6666666666666666,
              "#ed7953"
             ],
             [
              0.7777777777777778,
              "#fb9f3a"
             ],
             [
              0.8888888888888888,
              "#fdca26"
             ],
             [
              1,
              "#f0f921"
             ]
            ],
            "type": "surface"
           }
          ],
          "table": [
           {
            "cells": {
             "fill": {
              "color": "#EBF0F8"
             },
             "line": {
              "color": "white"
             }
            },
            "header": {
             "fill": {
              "color": "#C8D4E3"
             },
             "line": {
              "color": "white"
             }
            },
            "type": "table"
           }
          ]
         },
         "layout": {
          "annotationdefaults": {
           "arrowcolor": "#2a3f5f",
           "arrowhead": 0,
           "arrowwidth": 1
          },
          "autotypenumbers": "strict",
          "coloraxis": {
           "colorbar": {
            "outlinewidth": 0,
            "ticks": ""
           }
          },
          "colorscale": {
           "diverging": [
            [
             0,
             "#8e0152"
            ],
            [
             0.1,
             "#c51b7d"
            ],
            [
             0.2,
             "#de77ae"
            ],
            [
             0.3,
             "#f1b6da"
            ],
            [
             0.4,
             "#fde0ef"
            ],
            [
             0.5,
             "#f7f7f7"
            ],
            [
             0.6,
             "#e6f5d0"
            ],
            [
             0.7,
             "#b8e186"
            ],
            [
             0.8,
             "#7fbc41"
            ],
            [
             0.9,
             "#4d9221"
            ],
            [
             1,
             "#276419"
            ]
           ],
           "sequential": [
            [
             0,
             "#0d0887"
            ],
            [
             0.1111111111111111,
             "#46039f"
            ],
            [
             0.2222222222222222,
             "#7201a8"
            ],
            [
             0.3333333333333333,
             "#9c179e"
            ],
            [
             0.4444444444444444,
             "#bd3786"
            ],
            [
             0.5555555555555556,
             "#d8576b"
            ],
            [
             0.6666666666666666,
             "#ed7953"
            ],
            [
             0.7777777777777778,
             "#fb9f3a"
            ],
            [
             0.8888888888888888,
             "#fdca26"
            ],
            [
             1,
             "#f0f921"
            ]
           ],
           "sequentialminus": [
            [
             0,
             "#0d0887"
            ],
            [
             0.1111111111111111,
             "#46039f"
            ],
            [
             0.2222222222222222,
             "#7201a8"
            ],
            [
             0.3333333333333333,
             "#9c179e"
            ],
            [
             0.4444444444444444,
             "#bd3786"
            ],
            [
             0.5555555555555556,
             "#d8576b"
            ],
            [
             0.6666666666666666,
             "#ed7953"
            ],
            [
             0.7777777777777778,
             "#fb9f3a"
            ],
            [
             0.8888888888888888,
             "#fdca26"
            ],
            [
             1,
             "#f0f921"
            ]
           ]
          },
          "colorway": [
           "#636efa",
           "#EF553B",
           "#00cc96",
           "#ab63fa",
           "#FFA15A",
           "#19d3f3",
           "#FF6692",
           "#B6E880",
           "#FF97FF",
           "#FECB52"
          ],
          "font": {
           "color": "#2a3f5f"
          },
          "geo": {
           "bgcolor": "white",
           "lakecolor": "white",
           "landcolor": "#E5ECF6",
           "showlakes": true,
           "showland": true,
           "subunitcolor": "white"
          },
          "hoverlabel": {
           "align": "left"
          },
          "hovermode": "closest",
          "mapbox": {
           "style": "light"
          },
          "paper_bgcolor": "white",
          "plot_bgcolor": "#E5ECF6",
          "polar": {
           "angularaxis": {
            "gridcolor": "white",
            "linecolor": "white",
            "ticks": ""
           },
           "bgcolor": "#E5ECF6",
           "radialaxis": {
            "gridcolor": "white",
            "linecolor": "white",
            "ticks": ""
           }
          },
          "scene": {
           "xaxis": {
            "backgroundcolor": "#E5ECF6",
            "gridcolor": "white",
            "gridwidth": 2,
            "linecolor": "white",
            "showbackground": true,
            "ticks": "",
            "zerolinecolor": "white"
           },
           "yaxis": {
            "backgroundcolor": "#E5ECF6",
            "gridcolor": "white",
            "gridwidth": 2,
            "linecolor": "white",
            "showbackground": true,
            "ticks": "",
            "zerolinecolor": "white"
           },
           "zaxis": {
            "backgroundcolor": "#E5ECF6",
            "gridcolor": "white",
            "gridwidth": 2,
            "linecolor": "white",
            "showbackground": true,
            "ticks": "",
            "zerolinecolor": "white"
           }
          },
          "shapedefaults": {
           "line": {
            "color": "#2a3f5f"
           }
          },
          "ternary": {
           "aaxis": {
            "gridcolor": "white",
            "linecolor": "white",
            "ticks": ""
           },
           "baxis": {
            "gridcolor": "white",
            "linecolor": "white",
            "ticks": ""
           },
           "bgcolor": "#E5ECF6",
           "caxis": {
            "gridcolor": "white",
            "linecolor": "white",
            "ticks": ""
           }
          },
          "title": {
           "x": 0.05
          },
          "xaxis": {
           "automargin": true,
           "gridcolor": "white",
           "linecolor": "white",
           "ticks": "",
           "title": {
            "standoff": 15
           },
           "zerolinecolor": "white",
           "zerolinewidth": 2
          },
          "yaxis": {
           "automargin": true,
           "gridcolor": "white",
           "linecolor": "white",
           "ticks": "",
           "title": {
            "standoff": 15
           },
           "zerolinecolor": "white",
           "zerolinewidth": 2
          }
         }
        },
        "title": {
         "text": "Occluded Space"
        },
        "xaxis": {
         "anchor": "y",
         "domain": [
          0,
          1
         ],
         "title": {
          "text": "Time in Seconds"
         }
        },
        "yaxis": {
         "anchor": "x",
         "domain": [
          0,
          1
         ],
         "title": {
          "text": "Altitude (M)"
         }
        }
       }
      }
     },
     "metadata": {},
     "output_type": "display_data"
    }
   ],
   "source": [
    "# Scatter plot of altitude vs time\n",
    "\n",
    "fig_1 = px.scatter(df_oc_s, x=\"UTC\", y=\"Altitude\",labels={\"Altitude\": \"Altitude (M)\", \"UTC\": \"Time in Seconds\"}, title=\"Occluded Space\")\n",
    "fig_1.show()"
   ]
  },
  {
   "attachments": {},
   "cell_type": "markdown",
   "metadata": {},
   "source": [
    "## Analysis of walking data from open field\n",
    "Location - Scagnoli-Nihill Athletic Complex in Jamaica Plains\n",
    "\n",
    "From google maps -> lat = 42.30775, lon = -71.10752\n",
    "***"
   ]
  },
  {
   "cell_type": "code",
   "execution_count": 31,
   "metadata": {},
   "outputs": [
    {
     "data": {
      "text/html": [
       "<div>\n",
       "<style scoped>\n",
       "    .dataframe tbody tr th:only-of-type {\n",
       "        vertical-align: middle;\n",
       "    }\n",
       "\n",
       "    .dataframe tbody tr th {\n",
       "        vertical-align: top;\n",
       "    }\n",
       "\n",
       "    .dataframe thead th {\n",
       "        text-align: right;\n",
       "    }\n",
       "</style>\n",
       "<table border=\"1\" class=\"dataframe\">\n",
       "  <thead>\n",
       "    <tr style=\"text-align: right;\">\n",
       "      <th></th>\n",
       "      <th>Time</th>\n",
       "      <th>Header.seq</th>\n",
       "      <th>Header.stamp.secs</th>\n",
       "      <th>Header.stamp.nsecs</th>\n",
       "      <th>Header.frame_id</th>\n",
       "      <th>Latitude</th>\n",
       "      <th>Longitude</th>\n",
       "      <th>Altitude</th>\n",
       "      <th>HDOP</th>\n",
       "      <th>Fix_quality</th>\n",
       "      <th>UTM_easting</th>\n",
       "      <th>UTM_northing</th>\n",
       "      <th>UTC</th>\n",
       "      <th>Zone</th>\n",
       "      <th>Letter</th>\n",
       "    </tr>\n",
       "  </thead>\n",
       "  <tbody>\n",
       "    <tr>\n",
       "      <th>0</th>\n",
       "      <td>1.677019e+09</td>\n",
       "      <td>735</td>\n",
       "      <td>224025</td>\n",
       "      <td>0</td>\n",
       "      <td>GPS1_Frame</td>\n",
       "      <td>42.307976</td>\n",
       "      <td>-71.107376</td>\n",
       "      <td>28.0</td>\n",
       "      <td>0.74</td>\n",
       "      <td>5</td>\n",
       "      <td>326312.18750</td>\n",
       "      <td>4686122.0</td>\n",
       "      <td>224025.0</td>\n",
       "      <td>19</td>\n",
       "      <td>T</td>\n",
       "    </tr>\n",
       "    <tr>\n",
       "      <th>1</th>\n",
       "      <td>1.677019e+09</td>\n",
       "      <td>736</td>\n",
       "      <td>224026</td>\n",
       "      <td>0</td>\n",
       "      <td>GPS1_Frame</td>\n",
       "      <td>42.307972</td>\n",
       "      <td>-71.107368</td>\n",
       "      <td>28.0</td>\n",
       "      <td>0.74</td>\n",
       "      <td>5</td>\n",
       "      <td>326312.90625</td>\n",
       "      <td>4686121.5</td>\n",
       "      <td>224026.0</td>\n",
       "      <td>19</td>\n",
       "      <td>T</td>\n",
       "    </tr>\n",
       "    <tr>\n",
       "      <th>2</th>\n",
       "      <td>1.677019e+09</td>\n",
       "      <td>737</td>\n",
       "      <td>224027</td>\n",
       "      <td>0</td>\n",
       "      <td>GPS1_Frame</td>\n",
       "      <td>42.307968</td>\n",
       "      <td>-71.107368</td>\n",
       "      <td>28.0</td>\n",
       "      <td>0.74</td>\n",
       "      <td>5</td>\n",
       "      <td>326313.37500</td>\n",
       "      <td>4686121.0</td>\n",
       "      <td>224027.0</td>\n",
       "      <td>19</td>\n",
       "      <td>T</td>\n",
       "    </tr>\n",
       "    <tr>\n",
       "      <th>3</th>\n",
       "      <td>1.677019e+09</td>\n",
       "      <td>738</td>\n",
       "      <td>224028</td>\n",
       "      <td>0</td>\n",
       "      <td>GPS1_Frame</td>\n",
       "      <td>42.307964</td>\n",
       "      <td>-71.107361</td>\n",
       "      <td>28.1</td>\n",
       "      <td>0.74</td>\n",
       "      <td>5</td>\n",
       "      <td>326313.93750</td>\n",
       "      <td>4686120.5</td>\n",
       "      <td>224028.0</td>\n",
       "      <td>19</td>\n",
       "      <td>T</td>\n",
       "    </tr>\n",
       "    <tr>\n",
       "      <th>4</th>\n",
       "      <td>1.677019e+09</td>\n",
       "      <td>739</td>\n",
       "      <td>224029</td>\n",
       "      <td>0</td>\n",
       "      <td>GPS1_Frame</td>\n",
       "      <td>42.307961</td>\n",
       "      <td>-71.107353</td>\n",
       "      <td>28.5</td>\n",
       "      <td>0.70</td>\n",
       "      <td>5</td>\n",
       "      <td>326314.59375</td>\n",
       "      <td>4686120.5</td>\n",
       "      <td>224029.0</td>\n",
       "      <td>19</td>\n",
       "      <td>T</td>\n",
       "    </tr>\n",
       "  </tbody>\n",
       "</table>\n",
       "</div>"
      ],
      "text/plain": [
       "           Time  Header.seq  Header.stamp.secs  Header.stamp.nsecs  \\\n",
       "0  1.677019e+09         735             224025                   0   \n",
       "1  1.677019e+09         736             224026                   0   \n",
       "2  1.677019e+09         737             224027                   0   \n",
       "3  1.677019e+09         738             224028                   0   \n",
       "4  1.677019e+09         739             224029                   0   \n",
       "\n",
       "  Header.frame_id   Latitude  Longitude  Altitude  HDOP  Fix_quality  \\\n",
       "0      GPS1_Frame  42.307976 -71.107376      28.0  0.74            5   \n",
       "1      GPS1_Frame  42.307972 -71.107368      28.0  0.74            5   \n",
       "2      GPS1_Frame  42.307968 -71.107368      28.0  0.74            5   \n",
       "3      GPS1_Frame  42.307964 -71.107361      28.1  0.74            5   \n",
       "4      GPS1_Frame  42.307961 -71.107353      28.5  0.70            5   \n",
       "\n",
       "    UTM_easting  UTM_northing       UTC  Zone Letter  \n",
       "0  326312.18750     4686122.0  224025.0    19      T  \n",
       "1  326312.90625     4686121.5  224026.0    19      T  \n",
       "2  326313.37500     4686121.0  224027.0    19      T  \n",
       "3  326313.93750     4686120.5  224028.0    19      T  \n",
       "4  326314.59375     4686120.5  224029.0    19      T  "
      ]
     },
     "execution_count": 31,
     "metadata": {},
     "output_type": "execute_result"
    }
   ],
   "source": [
    "\n",
    "known_lat, known_lon = 42.30775, -71.10752\n",
    "\n",
    "utm_converted = utm.from_latlon(42.30775,-71.10752)\n",
    "\n",
    "known_easting,known_northing,known_zone,known_letter = utm_converted[0],utm_converted[1],utm_converted[2],utm_converted[3]\n",
    "\n",
    "df_op_w.head()"
   ]
  },
  {
   "cell_type": "code",
   "execution_count": 32,
   "metadata": {},
   "outputs": [],
   "source": [
    "# Scaling data\n",
    "df_op_w['modified_northing'] = df_op_w['UTM_northing'] - df_op_w.UTM_northing[0]\n",
    "df_op_w['modified_easting'] = df_op_w['UTM_easting'] - df_op_w.UTM_easting[0]"
   ]
  },
  {
   "cell_type": "code",
   "execution_count": 33,
   "metadata": {},
   "outputs": [
    {
     "data": {
      "application/vnd.plotly.v1+json": {
       "config": {
        "plotlyServerURL": "https://plot.ly"
       },
       "data": [
        {
         "hovertemplate": "Northing (M)=%{x}<br>Easting (M)=%{y}<extra></extra>",
         "legendgroup": "",
         "marker": {
          "color": "#636efa",
          "symbol": "circle"
         },
         "mode": "markers",
         "name": "",
         "orientation": "v",
         "showlegend": false,
         "type": "scatter",
         "x": [
          0,
          -0.5,
          -1,
          -1.5,
          -1.5,
          -2,
          -2.5,
          -3,
          -3.5,
          -4,
          -4.5,
          -5,
          -5.5,
          -6,
          -6.5,
          -7,
          -7.5,
          -8,
          -8.5,
          -9,
          -9,
          -9.5,
          -10,
          -10.5,
          -11,
          -11,
          -11.5,
          -12,
          -12.5,
          -13,
          -13.5,
          -14,
          -14.5,
          -15,
          -15.5,
          -16,
          -16.5,
          -17.5,
          -18,
          -18,
          -18.5,
          -19,
          -19.5,
          -20,
          -20.5,
          -21,
          -21.5,
          -22,
          -22,
          -21.5,
          -21,
          -20.5,
          -20,
          -19.5,
          -19,
          -18.5,
          -18,
          -17.5,
          -17,
          -16.5,
          -16,
          -15.5,
          -15,
          -14.5,
          -13.5,
          -13,
          -12.5,
          -12,
          -11.5,
          -11,
          -10.5,
          -10,
          -9.5,
          -9,
          -8.5,
          -7.5,
          -7,
          -6.5,
          -6,
          -5.5,
          -5,
          -4.5,
          -4,
          -3.5,
          -2.5,
          -2,
          -1.5,
          -1,
          -0.5,
          0,
          1,
          1
         ],
         "xaxis": "x",
         "y": [
          0,
          0.71875,
          1.1875,
          1.75,
          2.40625,
          3,
          3.46875,
          4.0625,
          4.6875,
          5.375,
          6.03125,
          6.78125,
          7.46875,
          8.0625,
          8.71875,
          9.34375,
          10.09375,
          10.75,
          11.40625,
          12.03125,
          12.65625,
          13.375,
          13.9375,
          14.46875,
          15.0625,
          15.65625,
          16.25,
          16.6875,
          16.75,
          16.5625,
          16.1875,
          15.875,
          15.46875,
          14.90625,
          14.375,
          13.90625,
          13.53125,
          13.15625,
          12.6875,
          12.34375,
          11.96875,
          11.5625,
          11.15625,
          10.75,
          10.25,
          9.8125,
          9.375,
          8.875,
          8.34375,
          7.71875,
          7.03125,
          6.46875,
          5.875,
          5.15625,
          4.53125,
          3.90625,
          3.15625,
          2.53125,
          1.90625,
          1.3125,
          0.6875,
          0.0625,
          -0.59375,
          -1.3125,
          -1.90625,
          -2.5,
          -3.1875,
          -3.75,
          -4.40625,
          -5.09375,
          -5.71875,
          -6.21875,
          -6.78125,
          -6.90625,
          -6.65625,
          -6.3125,
          -5.8125,
          -5.25,
          -4.71875,
          -4.21875,
          -3.78125,
          -3.3125,
          -2.875,
          -2.40625,
          -2,
          -1.5625,
          -1.125,
          -0.6875,
          -0.21875,
          0.25,
          0.6875,
          0.96875
         ],
         "yaxis": "y"
        }
       ],
       "layout": {
        "legend": {
         "tracegroupgap": 0
        },
        "template": {
         "data": {
          "bar": [
           {
            "error_x": {
             "color": "#2a3f5f"
            },
            "error_y": {
             "color": "#2a3f5f"
            },
            "marker": {
             "line": {
              "color": "#E5ECF6",
              "width": 0.5
             },
             "pattern": {
              "fillmode": "overlay",
              "size": 10,
              "solidity": 0.2
             }
            },
            "type": "bar"
           }
          ],
          "barpolar": [
           {
            "marker": {
             "line": {
              "color": "#E5ECF6",
              "width": 0.5
             },
             "pattern": {
              "fillmode": "overlay",
              "size": 10,
              "solidity": 0.2
             }
            },
            "type": "barpolar"
           }
          ],
          "carpet": [
           {
            "aaxis": {
             "endlinecolor": "#2a3f5f",
             "gridcolor": "white",
             "linecolor": "white",
             "minorgridcolor": "white",
             "startlinecolor": "#2a3f5f"
            },
            "baxis": {
             "endlinecolor": "#2a3f5f",
             "gridcolor": "white",
             "linecolor": "white",
             "minorgridcolor": "white",
             "startlinecolor": "#2a3f5f"
            },
            "type": "carpet"
           }
          ],
          "choropleth": [
           {
            "colorbar": {
             "outlinewidth": 0,
             "ticks": ""
            },
            "type": "choropleth"
           }
          ],
          "contour": [
           {
            "colorbar": {
             "outlinewidth": 0,
             "ticks": ""
            },
            "colorscale": [
             [
              0,
              "#0d0887"
             ],
             [
              0.1111111111111111,
              "#46039f"
             ],
             [
              0.2222222222222222,
              "#7201a8"
             ],
             [
              0.3333333333333333,
              "#9c179e"
             ],
             [
              0.4444444444444444,
              "#bd3786"
             ],
             [
              0.5555555555555556,
              "#d8576b"
             ],
             [
              0.6666666666666666,
              "#ed7953"
             ],
             [
              0.7777777777777778,
              "#fb9f3a"
             ],
             [
              0.8888888888888888,
              "#fdca26"
             ],
             [
              1,
              "#f0f921"
             ]
            ],
            "type": "contour"
           }
          ],
          "contourcarpet": [
           {
            "colorbar": {
             "outlinewidth": 0,
             "ticks": ""
            },
            "type": "contourcarpet"
           }
          ],
          "heatmap": [
           {
            "colorbar": {
             "outlinewidth": 0,
             "ticks": ""
            },
            "colorscale": [
             [
              0,
              "#0d0887"
             ],
             [
              0.1111111111111111,
              "#46039f"
             ],
             [
              0.2222222222222222,
              "#7201a8"
             ],
             [
              0.3333333333333333,
              "#9c179e"
             ],
             [
              0.4444444444444444,
              "#bd3786"
             ],
             [
              0.5555555555555556,
              "#d8576b"
             ],
             [
              0.6666666666666666,
              "#ed7953"
             ],
             [
              0.7777777777777778,
              "#fb9f3a"
             ],
             [
              0.8888888888888888,
              "#fdca26"
             ],
             [
              1,
              "#f0f921"
             ]
            ],
            "type": "heatmap"
           }
          ],
          "heatmapgl": [
           {
            "colorbar": {
             "outlinewidth": 0,
             "ticks": ""
            },
            "colorscale": [
             [
              0,
              "#0d0887"
             ],
             [
              0.1111111111111111,
              "#46039f"
             ],
             [
              0.2222222222222222,
              "#7201a8"
             ],
             [
              0.3333333333333333,
              "#9c179e"
             ],
             [
              0.4444444444444444,
              "#bd3786"
             ],
             [
              0.5555555555555556,
              "#d8576b"
             ],
             [
              0.6666666666666666,
              "#ed7953"
             ],
             [
              0.7777777777777778,
              "#fb9f3a"
             ],
             [
              0.8888888888888888,
              "#fdca26"
             ],
             [
              1,
              "#f0f921"
             ]
            ],
            "type": "heatmapgl"
           }
          ],
          "histogram": [
           {
            "marker": {
             "pattern": {
              "fillmode": "overlay",
              "size": 10,
              "solidity": 0.2
             }
            },
            "type": "histogram"
           }
          ],
          "histogram2d": [
           {
            "colorbar": {
             "outlinewidth": 0,
             "ticks": ""
            },
            "colorscale": [
             [
              0,
              "#0d0887"
             ],
             [
              0.1111111111111111,
              "#46039f"
             ],
             [
              0.2222222222222222,
              "#7201a8"
             ],
             [
              0.3333333333333333,
              "#9c179e"
             ],
             [
              0.4444444444444444,
              "#bd3786"
             ],
             [
              0.5555555555555556,
              "#d8576b"
             ],
             [
              0.6666666666666666,
              "#ed7953"
             ],
             [
              0.7777777777777778,
              "#fb9f3a"
             ],
             [
              0.8888888888888888,
              "#fdca26"
             ],
             [
              1,
              "#f0f921"
             ]
            ],
            "type": "histogram2d"
           }
          ],
          "histogram2dcontour": [
           {
            "colorbar": {
             "outlinewidth": 0,
             "ticks": ""
            },
            "colorscale": [
             [
              0,
              "#0d0887"
             ],
             [
              0.1111111111111111,
              "#46039f"
             ],
             [
              0.2222222222222222,
              "#7201a8"
             ],
             [
              0.3333333333333333,
              "#9c179e"
             ],
             [
              0.4444444444444444,
              "#bd3786"
             ],
             [
              0.5555555555555556,
              "#d8576b"
             ],
             [
              0.6666666666666666,
              "#ed7953"
             ],
             [
              0.7777777777777778,
              "#fb9f3a"
             ],
             [
              0.8888888888888888,
              "#fdca26"
             ],
             [
              1,
              "#f0f921"
             ]
            ],
            "type": "histogram2dcontour"
           }
          ],
          "mesh3d": [
           {
            "colorbar": {
             "outlinewidth": 0,
             "ticks": ""
            },
            "type": "mesh3d"
           }
          ],
          "parcoords": [
           {
            "line": {
             "colorbar": {
              "outlinewidth": 0,
              "ticks": ""
             }
            },
            "type": "parcoords"
           }
          ],
          "pie": [
           {
            "automargin": true,
            "type": "pie"
           }
          ],
          "scatter": [
           {
            "fillpattern": {
             "fillmode": "overlay",
             "size": 10,
             "solidity": 0.2
            },
            "type": "scatter"
           }
          ],
          "scatter3d": [
           {
            "line": {
             "colorbar": {
              "outlinewidth": 0,
              "ticks": ""
             }
            },
            "marker": {
             "colorbar": {
              "outlinewidth": 0,
              "ticks": ""
             }
            },
            "type": "scatter3d"
           }
          ],
          "scattercarpet": [
           {
            "marker": {
             "colorbar": {
              "outlinewidth": 0,
              "ticks": ""
             }
            },
            "type": "scattercarpet"
           }
          ],
          "scattergeo": [
           {
            "marker": {
             "colorbar": {
              "outlinewidth": 0,
              "ticks": ""
             }
            },
            "type": "scattergeo"
           }
          ],
          "scattergl": [
           {
            "marker": {
             "colorbar": {
              "outlinewidth": 0,
              "ticks": ""
             }
            },
            "type": "scattergl"
           }
          ],
          "scattermapbox": [
           {
            "marker": {
             "colorbar": {
              "outlinewidth": 0,
              "ticks": ""
             }
            },
            "type": "scattermapbox"
           }
          ],
          "scatterpolar": [
           {
            "marker": {
             "colorbar": {
              "outlinewidth": 0,
              "ticks": ""
             }
            },
            "type": "scatterpolar"
           }
          ],
          "scatterpolargl": [
           {
            "marker": {
             "colorbar": {
              "outlinewidth": 0,
              "ticks": ""
             }
            },
            "type": "scatterpolargl"
           }
          ],
          "scatterternary": [
           {
            "marker": {
             "colorbar": {
              "outlinewidth": 0,
              "ticks": ""
             }
            },
            "type": "scatterternary"
           }
          ],
          "surface": [
           {
            "colorbar": {
             "outlinewidth": 0,
             "ticks": ""
            },
            "colorscale": [
             [
              0,
              "#0d0887"
             ],
             [
              0.1111111111111111,
              "#46039f"
             ],
             [
              0.2222222222222222,
              "#7201a8"
             ],
             [
              0.3333333333333333,
              "#9c179e"
             ],
             [
              0.4444444444444444,
              "#bd3786"
             ],
             [
              0.5555555555555556,
              "#d8576b"
             ],
             [
              0.6666666666666666,
              "#ed7953"
             ],
             [
              0.7777777777777778,
              "#fb9f3a"
             ],
             [
              0.8888888888888888,
              "#fdca26"
             ],
             [
              1,
              "#f0f921"
             ]
            ],
            "type": "surface"
           }
          ],
          "table": [
           {
            "cells": {
             "fill": {
              "color": "#EBF0F8"
             },
             "line": {
              "color": "white"
             }
            },
            "header": {
             "fill": {
              "color": "#C8D4E3"
             },
             "line": {
              "color": "white"
             }
            },
            "type": "table"
           }
          ]
         },
         "layout": {
          "annotationdefaults": {
           "arrowcolor": "#2a3f5f",
           "arrowhead": 0,
           "arrowwidth": 1
          },
          "autotypenumbers": "strict",
          "coloraxis": {
           "colorbar": {
            "outlinewidth": 0,
            "ticks": ""
           }
          },
          "colorscale": {
           "diverging": [
            [
             0,
             "#8e0152"
            ],
            [
             0.1,
             "#c51b7d"
            ],
            [
             0.2,
             "#de77ae"
            ],
            [
             0.3,
             "#f1b6da"
            ],
            [
             0.4,
             "#fde0ef"
            ],
            [
             0.5,
             "#f7f7f7"
            ],
            [
             0.6,
             "#e6f5d0"
            ],
            [
             0.7,
             "#b8e186"
            ],
            [
             0.8,
             "#7fbc41"
            ],
            [
             0.9,
             "#4d9221"
            ],
            [
             1,
             "#276419"
            ]
           ],
           "sequential": [
            [
             0,
             "#0d0887"
            ],
            [
             0.1111111111111111,
             "#46039f"
            ],
            [
             0.2222222222222222,
             "#7201a8"
            ],
            [
             0.3333333333333333,
             "#9c179e"
            ],
            [
             0.4444444444444444,
             "#bd3786"
            ],
            [
             0.5555555555555556,
             "#d8576b"
            ],
            [
             0.6666666666666666,
             "#ed7953"
            ],
            [
             0.7777777777777778,
             "#fb9f3a"
            ],
            [
             0.8888888888888888,
             "#fdca26"
            ],
            [
             1,
             "#f0f921"
            ]
           ],
           "sequentialminus": [
            [
             0,
             "#0d0887"
            ],
            [
             0.1111111111111111,
             "#46039f"
            ],
            [
             0.2222222222222222,
             "#7201a8"
            ],
            [
             0.3333333333333333,
             "#9c179e"
            ],
            [
             0.4444444444444444,
             "#bd3786"
            ],
            [
             0.5555555555555556,
             "#d8576b"
            ],
            [
             0.6666666666666666,
             "#ed7953"
            ],
            [
             0.7777777777777778,
             "#fb9f3a"
            ],
            [
             0.8888888888888888,
             "#fdca26"
            ],
            [
             1,
             "#f0f921"
            ]
           ]
          },
          "colorway": [
           "#636efa",
           "#EF553B",
           "#00cc96",
           "#ab63fa",
           "#FFA15A",
           "#19d3f3",
           "#FF6692",
           "#B6E880",
           "#FF97FF",
           "#FECB52"
          ],
          "font": {
           "color": "#2a3f5f"
          },
          "geo": {
           "bgcolor": "white",
           "lakecolor": "white",
           "landcolor": "#E5ECF6",
           "showlakes": true,
           "showland": true,
           "subunitcolor": "white"
          },
          "hoverlabel": {
           "align": "left"
          },
          "hovermode": "closest",
          "mapbox": {
           "style": "light"
          },
          "paper_bgcolor": "white",
          "plot_bgcolor": "#E5ECF6",
          "polar": {
           "angularaxis": {
            "gridcolor": "white",
            "linecolor": "white",
            "ticks": ""
           },
           "bgcolor": "#E5ECF6",
           "radialaxis": {
            "gridcolor": "white",
            "linecolor": "white",
            "ticks": ""
           }
          },
          "scene": {
           "xaxis": {
            "backgroundcolor": "#E5ECF6",
            "gridcolor": "white",
            "gridwidth": 2,
            "linecolor": "white",
            "showbackground": true,
            "ticks": "",
            "zerolinecolor": "white"
           },
           "yaxis": {
            "backgroundcolor": "#E5ECF6",
            "gridcolor": "white",
            "gridwidth": 2,
            "linecolor": "white",
            "showbackground": true,
            "ticks": "",
            "zerolinecolor": "white"
           },
           "zaxis": {
            "backgroundcolor": "#E5ECF6",
            "gridcolor": "white",
            "gridwidth": 2,
            "linecolor": "white",
            "showbackground": true,
            "ticks": "",
            "zerolinecolor": "white"
           }
          },
          "shapedefaults": {
           "line": {
            "color": "#2a3f5f"
           }
          },
          "ternary": {
           "aaxis": {
            "gridcolor": "white",
            "linecolor": "white",
            "ticks": ""
           },
           "baxis": {
            "gridcolor": "white",
            "linecolor": "white",
            "ticks": ""
           },
           "bgcolor": "#E5ECF6",
           "caxis": {
            "gridcolor": "white",
            "linecolor": "white",
            "ticks": ""
           }
          },
          "title": {
           "x": 0.05
          },
          "xaxis": {
           "automargin": true,
           "gridcolor": "white",
           "linecolor": "white",
           "ticks": "",
           "title": {
            "standoff": 15
           },
           "zerolinecolor": "white",
           "zerolinewidth": 2
          },
          "yaxis": {
           "automargin": true,
           "gridcolor": "white",
           "linecolor": "white",
           "ticks": "",
           "title": {
            "standoff": 15
           },
           "zerolinecolor": "white",
           "zerolinewidth": 2
          }
         }
        },
        "title": {
         "text": "Moving in Open Space"
        },
        "xaxis": {
         "anchor": "y",
         "domain": [
          0,
          1
         ],
         "title": {
          "text": "Northing (M)"
         }
        },
        "yaxis": {
         "anchor": "x",
         "domain": [
          0,
          1
         ],
         "title": {
          "text": "Easting (M)"
         }
        }
       }
      }
     },
     "metadata": {},
     "output_type": "display_data"
    }
   ],
   "source": [
    "fig = px.scatter(df_op_w, x=\"modified_northing\", y=\"modified_easting\", labels={\"modified_northing\":\"Northing (M)\",\"modified_easting\": \"Easting (M)\"}, title=\"Moving in Open Space\")\n",
    "fig.show()"
   ]
  },
  {
   "cell_type": "code",
   "execution_count": 34,
   "metadata": {},
   "outputs": [
    {
     "data": {
      "application/vnd.plotly.v1+json": {
       "config": {
        "plotlyServerURL": "https://plot.ly"
       },
       "data": [
        {
         "hovertemplate": "Time in Seconds=%{x}<br>Altitude (M)=%{y}<extra></extra>",
         "legendgroup": "",
         "marker": {
          "color": "#636efa",
          "symbol": "circle"
         },
         "mode": "markers",
         "name": "",
         "orientation": "v",
         "showlegend": false,
         "type": "scatter",
         "x": [
          224025,
          224026,
          224027,
          224028,
          224029,
          224030,
          224031,
          224032,
          224033,
          224034,
          224035,
          224036,
          224037,
          224038,
          224039,
          224040,
          224041,
          224042,
          224043,
          224044,
          224045,
          224046,
          224047,
          224048,
          224049,
          224050,
          224051,
          224052,
          224053,
          224054,
          224055,
          224056,
          224057,
          224058,
          224059,
          224100,
          224101,
          224102,
          224103,
          224104,
          224105,
          224106,
          224107,
          224108,
          224109,
          224110,
          224111,
          224112,
          224113,
          224114,
          224115,
          224116,
          224117,
          224118,
          224119,
          224120,
          224121,
          224122,
          224123,
          224124,
          224125,
          224126,
          224127,
          224128,
          224129,
          224130,
          224131,
          224132,
          224133,
          224134,
          224135,
          224136,
          224137,
          224138,
          224139,
          224140,
          224141,
          224142,
          224143,
          224144,
          224145,
          224146,
          224147,
          224148,
          224149,
          224150,
          224151,
          224152,
          224153,
          224154,
          224155,
          224156
         ],
         "xaxis": "x",
         "y": [
          28,
          28,
          28,
          28.100000381469727,
          28.5,
          28.5,
          28.5,
          28.5,
          28.5,
          28.5,
          28.5,
          28.5,
          28.600000381469727,
          28.600000381469727,
          28.600000381469727,
          28.600000381469727,
          28.600000381469727,
          28.700000762939453,
          28.700000762939453,
          28.700000762939453,
          28.600000381469727,
          28.600000381469727,
          28.600000381469727,
          28.600000381469727,
          28.5,
          28.5,
          28.5,
          28.5,
          28.5,
          28.700000762939453,
          28.700000762939453,
          28.700000762939453,
          28.700000762939453,
          28.799999237060547,
          28.700000762939453,
          28.600000381469727,
          28.5,
          28.600000381469727,
          28.600000381469727,
          28.600000381469727,
          28.600000381469727,
          28.600000381469727,
          28.600000381469727,
          28.700000762939453,
          28.600000381469727,
          28.600000381469727,
          28.600000381469727,
          28.700000762939453,
          28.700000762939453,
          28.700000762939453,
          28.700000762939453,
          28.899999618530277,
          28.899999618530277,
          29,
          29.100000381469727,
          29,
          29.100000381469727,
          29.100000381469727,
          29.200000762939453,
          29.200000762939453,
          29.299999237060547,
          29.299999237060547,
          29.5,
          29.700000762939453,
          29.799999237060547,
          29.799999237060547,
          29.899999618530277,
          30,
          30,
          30.100000381469727,
          30.100000381469727,
          30.100000381469727,
          30.100000381469727,
          30.100000381469727,
          30,
          30.100000381469727,
          30,
          30,
          30,
          29.899999618530277,
          29.799999237060547,
          29.799999237060547,
          29.700000762939453,
          29.600000381469727,
          29.5,
          29.399999618530277,
          29.299999237060547,
          29.299999237060547,
          29.200000762939453,
          29.100000381469727,
          29.200000762939453,
          29.100000381469727
         ],
         "yaxis": "y"
        }
       ],
       "layout": {
        "legend": {
         "tracegroupgap": 0
        },
        "template": {
         "data": {
          "bar": [
           {
            "error_x": {
             "color": "#2a3f5f"
            },
            "error_y": {
             "color": "#2a3f5f"
            },
            "marker": {
             "line": {
              "color": "#E5ECF6",
              "width": 0.5
             },
             "pattern": {
              "fillmode": "overlay",
              "size": 10,
              "solidity": 0.2
             }
            },
            "type": "bar"
           }
          ],
          "barpolar": [
           {
            "marker": {
             "line": {
              "color": "#E5ECF6",
              "width": 0.5
             },
             "pattern": {
              "fillmode": "overlay",
              "size": 10,
              "solidity": 0.2
             }
            },
            "type": "barpolar"
           }
          ],
          "carpet": [
           {
            "aaxis": {
             "endlinecolor": "#2a3f5f",
             "gridcolor": "white",
             "linecolor": "white",
             "minorgridcolor": "white",
             "startlinecolor": "#2a3f5f"
            },
            "baxis": {
             "endlinecolor": "#2a3f5f",
             "gridcolor": "white",
             "linecolor": "white",
             "minorgridcolor": "white",
             "startlinecolor": "#2a3f5f"
            },
            "type": "carpet"
           }
          ],
          "choropleth": [
           {
            "colorbar": {
             "outlinewidth": 0,
             "ticks": ""
            },
            "type": "choropleth"
           }
          ],
          "contour": [
           {
            "colorbar": {
             "outlinewidth": 0,
             "ticks": ""
            },
            "colorscale": [
             [
              0,
              "#0d0887"
             ],
             [
              0.1111111111111111,
              "#46039f"
             ],
             [
              0.2222222222222222,
              "#7201a8"
             ],
             [
              0.3333333333333333,
              "#9c179e"
             ],
             [
              0.4444444444444444,
              "#bd3786"
             ],
             [
              0.5555555555555556,
              "#d8576b"
             ],
             [
              0.6666666666666666,
              "#ed7953"
             ],
             [
              0.7777777777777778,
              "#fb9f3a"
             ],
             [
              0.8888888888888888,
              "#fdca26"
             ],
             [
              1,
              "#f0f921"
             ]
            ],
            "type": "contour"
           }
          ],
          "contourcarpet": [
           {
            "colorbar": {
             "outlinewidth": 0,
             "ticks": ""
            },
            "type": "contourcarpet"
           }
          ],
          "heatmap": [
           {
            "colorbar": {
             "outlinewidth": 0,
             "ticks": ""
            },
            "colorscale": [
             [
              0,
              "#0d0887"
             ],
             [
              0.1111111111111111,
              "#46039f"
             ],
             [
              0.2222222222222222,
              "#7201a8"
             ],
             [
              0.3333333333333333,
              "#9c179e"
             ],
             [
              0.4444444444444444,
              "#bd3786"
             ],
             [
              0.5555555555555556,
              "#d8576b"
             ],
             [
              0.6666666666666666,
              "#ed7953"
             ],
             [
              0.7777777777777778,
              "#fb9f3a"
             ],
             [
              0.8888888888888888,
              "#fdca26"
             ],
             [
              1,
              "#f0f921"
             ]
            ],
            "type": "heatmap"
           }
          ],
          "heatmapgl": [
           {
            "colorbar": {
             "outlinewidth": 0,
             "ticks": ""
            },
            "colorscale": [
             [
              0,
              "#0d0887"
             ],
             [
              0.1111111111111111,
              "#46039f"
             ],
             [
              0.2222222222222222,
              "#7201a8"
             ],
             [
              0.3333333333333333,
              "#9c179e"
             ],
             [
              0.4444444444444444,
              "#bd3786"
             ],
             [
              0.5555555555555556,
              "#d8576b"
             ],
             [
              0.6666666666666666,
              "#ed7953"
             ],
             [
              0.7777777777777778,
              "#fb9f3a"
             ],
             [
              0.8888888888888888,
              "#fdca26"
             ],
             [
              1,
              "#f0f921"
             ]
            ],
            "type": "heatmapgl"
           }
          ],
          "histogram": [
           {
            "marker": {
             "pattern": {
              "fillmode": "overlay",
              "size": 10,
              "solidity": 0.2
             }
            },
            "type": "histogram"
           }
          ],
          "histogram2d": [
           {
            "colorbar": {
             "outlinewidth": 0,
             "ticks": ""
            },
            "colorscale": [
             [
              0,
              "#0d0887"
             ],
             [
              0.1111111111111111,
              "#46039f"
             ],
             [
              0.2222222222222222,
              "#7201a8"
             ],
             [
              0.3333333333333333,
              "#9c179e"
             ],
             [
              0.4444444444444444,
              "#bd3786"
             ],
             [
              0.5555555555555556,
              "#d8576b"
             ],
             [
              0.6666666666666666,
              "#ed7953"
             ],
             [
              0.7777777777777778,
              "#fb9f3a"
             ],
             [
              0.8888888888888888,
              "#fdca26"
             ],
             [
              1,
              "#f0f921"
             ]
            ],
            "type": "histogram2d"
           }
          ],
          "histogram2dcontour": [
           {
            "colorbar": {
             "outlinewidth": 0,
             "ticks": ""
            },
            "colorscale": [
             [
              0,
              "#0d0887"
             ],
             [
              0.1111111111111111,
              "#46039f"
             ],
             [
              0.2222222222222222,
              "#7201a8"
             ],
             [
              0.3333333333333333,
              "#9c179e"
             ],
             [
              0.4444444444444444,
              "#bd3786"
             ],
             [
              0.5555555555555556,
              "#d8576b"
             ],
             [
              0.6666666666666666,
              "#ed7953"
             ],
             [
              0.7777777777777778,
              "#fb9f3a"
             ],
             [
              0.8888888888888888,
              "#fdca26"
             ],
             [
              1,
              "#f0f921"
             ]
            ],
            "type": "histogram2dcontour"
           }
          ],
          "mesh3d": [
           {
            "colorbar": {
             "outlinewidth": 0,
             "ticks": ""
            },
            "type": "mesh3d"
           }
          ],
          "parcoords": [
           {
            "line": {
             "colorbar": {
              "outlinewidth": 0,
              "ticks": ""
             }
            },
            "type": "parcoords"
           }
          ],
          "pie": [
           {
            "automargin": true,
            "type": "pie"
           }
          ],
          "scatter": [
           {
            "fillpattern": {
             "fillmode": "overlay",
             "size": 10,
             "solidity": 0.2
            },
            "type": "scatter"
           }
          ],
          "scatter3d": [
           {
            "line": {
             "colorbar": {
              "outlinewidth": 0,
              "ticks": ""
             }
            },
            "marker": {
             "colorbar": {
              "outlinewidth": 0,
              "ticks": ""
             }
            },
            "type": "scatter3d"
           }
          ],
          "scattercarpet": [
           {
            "marker": {
             "colorbar": {
              "outlinewidth": 0,
              "ticks": ""
             }
            },
            "type": "scattercarpet"
           }
          ],
          "scattergeo": [
           {
            "marker": {
             "colorbar": {
              "outlinewidth": 0,
              "ticks": ""
             }
            },
            "type": "scattergeo"
           }
          ],
          "scattergl": [
           {
            "marker": {
             "colorbar": {
              "outlinewidth": 0,
              "ticks": ""
             }
            },
            "type": "scattergl"
           }
          ],
          "scattermapbox": [
           {
            "marker": {
             "colorbar": {
              "outlinewidth": 0,
              "ticks": ""
             }
            },
            "type": "scattermapbox"
           }
          ],
          "scatterpolar": [
           {
            "marker": {
             "colorbar": {
              "outlinewidth": 0,
              "ticks": ""
             }
            },
            "type": "scatterpolar"
           }
          ],
          "scatterpolargl": [
           {
            "marker": {
             "colorbar": {
              "outlinewidth": 0,
              "ticks": ""
             }
            },
            "type": "scatterpolargl"
           }
          ],
          "scatterternary": [
           {
            "marker": {
             "colorbar": {
              "outlinewidth": 0,
              "ticks": ""
             }
            },
            "type": "scatterternary"
           }
          ],
          "surface": [
           {
            "colorbar": {
             "outlinewidth": 0,
             "ticks": ""
            },
            "colorscale": [
             [
              0,
              "#0d0887"
             ],
             [
              0.1111111111111111,
              "#46039f"
             ],
             [
              0.2222222222222222,
              "#7201a8"
             ],
             [
              0.3333333333333333,
              "#9c179e"
             ],
             [
              0.4444444444444444,
              "#bd3786"
             ],
             [
              0.5555555555555556,
              "#d8576b"
             ],
             [
              0.6666666666666666,
              "#ed7953"
             ],
             [
              0.7777777777777778,
              "#fb9f3a"
             ],
             [
              0.8888888888888888,
              "#fdca26"
             ],
             [
              1,
              "#f0f921"
             ]
            ],
            "type": "surface"
           }
          ],
          "table": [
           {
            "cells": {
             "fill": {
              "color": "#EBF0F8"
             },
             "line": {
              "color": "white"
             }
            },
            "header": {
             "fill": {
              "color": "#C8D4E3"
             },
             "line": {
              "color": "white"
             }
            },
            "type": "table"
           }
          ]
         },
         "layout": {
          "annotationdefaults": {
           "arrowcolor": "#2a3f5f",
           "arrowhead": 0,
           "arrowwidth": 1
          },
          "autotypenumbers": "strict",
          "coloraxis": {
           "colorbar": {
            "outlinewidth": 0,
            "ticks": ""
           }
          },
          "colorscale": {
           "diverging": [
            [
             0,
             "#8e0152"
            ],
            [
             0.1,
             "#c51b7d"
            ],
            [
             0.2,
             "#de77ae"
            ],
            [
             0.3,
             "#f1b6da"
            ],
            [
             0.4,
             "#fde0ef"
            ],
            [
             0.5,
             "#f7f7f7"
            ],
            [
             0.6,
             "#e6f5d0"
            ],
            [
             0.7,
             "#b8e186"
            ],
            [
             0.8,
             "#7fbc41"
            ],
            [
             0.9,
             "#4d9221"
            ],
            [
             1,
             "#276419"
            ]
           ],
           "sequential": [
            [
             0,
             "#0d0887"
            ],
            [
             0.1111111111111111,
             "#46039f"
            ],
            [
             0.2222222222222222,
             "#7201a8"
            ],
            [
             0.3333333333333333,
             "#9c179e"
            ],
            [
             0.4444444444444444,
             "#bd3786"
            ],
            [
             0.5555555555555556,
             "#d8576b"
            ],
            [
             0.6666666666666666,
             "#ed7953"
            ],
            [
             0.7777777777777778,
             "#fb9f3a"
            ],
            [
             0.8888888888888888,
             "#fdca26"
            ],
            [
             1,
             "#f0f921"
            ]
           ],
           "sequentialminus": [
            [
             0,
             "#0d0887"
            ],
            [
             0.1111111111111111,
             "#46039f"
            ],
            [
             0.2222222222222222,
             "#7201a8"
            ],
            [
             0.3333333333333333,
             "#9c179e"
            ],
            [
             0.4444444444444444,
             "#bd3786"
            ],
            [
             0.5555555555555556,
             "#d8576b"
            ],
            [
             0.6666666666666666,
             "#ed7953"
            ],
            [
             0.7777777777777778,
             "#fb9f3a"
            ],
            [
             0.8888888888888888,
             "#fdca26"
            ],
            [
             1,
             "#f0f921"
            ]
           ]
          },
          "colorway": [
           "#636efa",
           "#EF553B",
           "#00cc96",
           "#ab63fa",
           "#FFA15A",
           "#19d3f3",
           "#FF6692",
           "#B6E880",
           "#FF97FF",
           "#FECB52"
          ],
          "font": {
           "color": "#2a3f5f"
          },
          "geo": {
           "bgcolor": "white",
           "lakecolor": "white",
           "landcolor": "#E5ECF6",
           "showlakes": true,
           "showland": true,
           "subunitcolor": "white"
          },
          "hoverlabel": {
           "align": "left"
          },
          "hovermode": "closest",
          "mapbox": {
           "style": "light"
          },
          "paper_bgcolor": "white",
          "plot_bgcolor": "#E5ECF6",
          "polar": {
           "angularaxis": {
            "gridcolor": "white",
            "linecolor": "white",
            "ticks": ""
           },
           "bgcolor": "#E5ECF6",
           "radialaxis": {
            "gridcolor": "white",
            "linecolor": "white",
            "ticks": ""
           }
          },
          "scene": {
           "xaxis": {
            "backgroundcolor": "#E5ECF6",
            "gridcolor": "white",
            "gridwidth": 2,
            "linecolor": "white",
            "showbackground": true,
            "ticks": "",
            "zerolinecolor": "white"
           },
           "yaxis": {
            "backgroundcolor": "#E5ECF6",
            "gridcolor": "white",
            "gridwidth": 2,
            "linecolor": "white",
            "showbackground": true,
            "ticks": "",
            "zerolinecolor": "white"
           },
           "zaxis": {
            "backgroundcolor": "#E5ECF6",
            "gridcolor": "white",
            "gridwidth": 2,
            "linecolor": "white",
            "showbackground": true,
            "ticks": "",
            "zerolinecolor": "white"
           }
          },
          "shapedefaults": {
           "line": {
            "color": "#2a3f5f"
           }
          },
          "ternary": {
           "aaxis": {
            "gridcolor": "white",
            "linecolor": "white",
            "ticks": ""
           },
           "baxis": {
            "gridcolor": "white",
            "linecolor": "white",
            "ticks": ""
           },
           "bgcolor": "#E5ECF6",
           "caxis": {
            "gridcolor": "white",
            "linecolor": "white",
            "ticks": ""
           }
          },
          "title": {
           "x": 0.05
          },
          "xaxis": {
           "automargin": true,
           "gridcolor": "white",
           "linecolor": "white",
           "ticks": "",
           "title": {
            "standoff": 15
           },
           "zerolinecolor": "white",
           "zerolinewidth": 2
          },
          "yaxis": {
           "automargin": true,
           "gridcolor": "white",
           "linecolor": "white",
           "ticks": "",
           "title": {
            "standoff": 15
           },
           "zerolinecolor": "white",
           "zerolinewidth": 2
          }
         }
        },
        "title": {
         "text": "Walking"
        },
        "xaxis": {
         "anchor": "y",
         "domain": [
          0,
          1
         ],
         "title": {
          "text": "Time in Seconds"
         }
        },
        "yaxis": {
         "anchor": "x",
         "domain": [
          0,
          1
         ],
         "title": {
          "text": "Altitude (M)"
         }
        }
       }
      }
     },
     "metadata": {},
     "output_type": "display_data"
    }
   ],
   "source": [
    "# Scatter plot of altitude vs time\n",
    "\n",
    "fig_1 = px.scatter(df_op_w, x=\"UTC\", y=\"Altitude\",labels={\"Altitude\": \"Altitude (M)\", \"UTC\": \"Time in Seconds\"}, title=\"Walking\")\n",
    "fig_1.show()"
   ]
  },
  {
   "attachments": {},
   "cell_type": "markdown",
   "metadata": {},
   "source": [
    "## Analysis of walking data in occluded space\n",
    "\n",
    "Location - 3411 Washington Street, Jamaica Plains\n",
    "\n",
    "From google maps -> lat - 42.30835809421112, lon - -71.1060346304591\n",
    "***"
   ]
  },
  {
   "cell_type": "code",
   "execution_count": 35,
   "metadata": {},
   "outputs": [
    {
     "data": {
      "text/html": [
       "<div>\n",
       "<style scoped>\n",
       "    .dataframe tbody tr th:only-of-type {\n",
       "        vertical-align: middle;\n",
       "    }\n",
       "\n",
       "    .dataframe tbody tr th {\n",
       "        vertical-align: top;\n",
       "    }\n",
       "\n",
       "    .dataframe thead th {\n",
       "        text-align: right;\n",
       "    }\n",
       "</style>\n",
       "<table border=\"1\" class=\"dataframe\">\n",
       "  <thead>\n",
       "    <tr style=\"text-align: right;\">\n",
       "      <th></th>\n",
       "      <th>Time</th>\n",
       "      <th>Header.seq</th>\n",
       "      <th>Header.stamp.secs</th>\n",
       "      <th>Header.stamp.nsecs</th>\n",
       "      <th>Header.frame_id</th>\n",
       "      <th>Latitude</th>\n",
       "      <th>Longitude</th>\n",
       "      <th>Altitude</th>\n",
       "      <th>HDOP</th>\n",
       "      <th>Fix_quality</th>\n",
       "      <th>UTM_easting</th>\n",
       "      <th>UTM_northing</th>\n",
       "      <th>UTC</th>\n",
       "      <th>Zone</th>\n",
       "      <th>Letter</th>\n",
       "    </tr>\n",
       "  </thead>\n",
       "  <tbody>\n",
       "    <tr>\n",
       "      <th>0</th>\n",
       "      <td>1.677021e+09</td>\n",
       "      <td>21</td>\n",
       "      <td>231444</td>\n",
       "      <td>0</td>\n",
       "      <td>GPS1_Frame</td>\n",
       "      <td>42.308220</td>\n",
       "      <td>-71.106026</td>\n",
       "      <td>18.100000</td>\n",
       "      <td>1.76</td>\n",
       "      <td>5</td>\n",
       "      <td>326424.34375</td>\n",
       "      <td>4686146.0</td>\n",
       "      <td>231444.0</td>\n",
       "      <td>19</td>\n",
       "      <td>T</td>\n",
       "    </tr>\n",
       "    <tr>\n",
       "      <th>1</th>\n",
       "      <td>1.677021e+09</td>\n",
       "      <td>22</td>\n",
       "      <td>231504</td>\n",
       "      <td>0</td>\n",
       "      <td>GPS1_Frame</td>\n",
       "      <td>42.308239</td>\n",
       "      <td>-71.106071</td>\n",
       "      <td>20.200001</td>\n",
       "      <td>1.28</td>\n",
       "      <td>5</td>\n",
       "      <td>326420.46875</td>\n",
       "      <td>4686148.5</td>\n",
       "      <td>231504.0</td>\n",
       "      <td>19</td>\n",
       "      <td>T</td>\n",
       "    </tr>\n",
       "    <tr>\n",
       "      <th>2</th>\n",
       "      <td>1.677021e+09</td>\n",
       "      <td>23</td>\n",
       "      <td>231506</td>\n",
       "      <td>0</td>\n",
       "      <td>GPS1_Frame</td>\n",
       "      <td>42.308231</td>\n",
       "      <td>-71.106079</td>\n",
       "      <td>20.299999</td>\n",
       "      <td>1.21</td>\n",
       "      <td>5</td>\n",
       "      <td>326419.96875</td>\n",
       "      <td>4686147.5</td>\n",
       "      <td>231506.0</td>\n",
       "      <td>19</td>\n",
       "      <td>T</td>\n",
       "    </tr>\n",
       "    <tr>\n",
       "      <th>3</th>\n",
       "      <td>1.677021e+09</td>\n",
       "      <td>24</td>\n",
       "      <td>231507</td>\n",
       "      <td>0</td>\n",
       "      <td>GPS1_Frame</td>\n",
       "      <td>42.308228</td>\n",
       "      <td>-71.106087</td>\n",
       "      <td>20.500000</td>\n",
       "      <td>1.02</td>\n",
       "      <td>5</td>\n",
       "      <td>326419.68750</td>\n",
       "      <td>4686147.5</td>\n",
       "      <td>231507.0</td>\n",
       "      <td>19</td>\n",
       "      <td>T</td>\n",
       "    </tr>\n",
       "    <tr>\n",
       "      <th>4</th>\n",
       "      <td>1.677021e+09</td>\n",
       "      <td>25</td>\n",
       "      <td>231508</td>\n",
       "      <td>0</td>\n",
       "      <td>GPS1_Frame</td>\n",
       "      <td>42.308228</td>\n",
       "      <td>-71.106087</td>\n",
       "      <td>20.500000</td>\n",
       "      <td>0.96</td>\n",
       "      <td>5</td>\n",
       "      <td>326419.21875</td>\n",
       "      <td>4686147.0</td>\n",
       "      <td>231508.0</td>\n",
       "      <td>19</td>\n",
       "      <td>T</td>\n",
       "    </tr>\n",
       "  </tbody>\n",
       "</table>\n",
       "</div>"
      ],
      "text/plain": [
       "           Time  Header.seq  Header.stamp.secs  Header.stamp.nsecs  \\\n",
       "0  1.677021e+09          21             231444                   0   \n",
       "1  1.677021e+09          22             231504                   0   \n",
       "2  1.677021e+09          23             231506                   0   \n",
       "3  1.677021e+09          24             231507                   0   \n",
       "4  1.677021e+09          25             231508                   0   \n",
       "\n",
       "  Header.frame_id   Latitude  Longitude   Altitude  HDOP  Fix_quality  \\\n",
       "0      GPS1_Frame  42.308220 -71.106026  18.100000  1.76            5   \n",
       "1      GPS1_Frame  42.308239 -71.106071  20.200001  1.28            5   \n",
       "2      GPS1_Frame  42.308231 -71.106079  20.299999  1.21            5   \n",
       "3      GPS1_Frame  42.308228 -71.106087  20.500000  1.02            5   \n",
       "4      GPS1_Frame  42.308228 -71.106087  20.500000  0.96            5   \n",
       "\n",
       "    UTM_easting  UTM_northing       UTC  Zone Letter  \n",
       "0  326424.34375     4686146.0  231444.0    19      T  \n",
       "1  326420.46875     4686148.5  231504.0    19      T  \n",
       "2  326419.96875     4686147.5  231506.0    19      T  \n",
       "3  326419.68750     4686147.5  231507.0    19      T  \n",
       "4  326419.21875     4686147.0  231508.0    19      T  "
      ]
     },
     "execution_count": 35,
     "metadata": {},
     "output_type": "execute_result"
    }
   ],
   "source": [
    "known_lat, known_lon = 42.3083, -71.1060\n",
    "\n",
    "utm_converted = utm.from_latlon(known_lat, known_lon)\n",
    "\n",
    "known_easting,known_northing,known_zone,known_letter = utm_converted[0],utm_converted[1],utm_converted[2],utm_converted[3]\n",
    "\n",
    "df_oc_w.head()"
   ]
  },
  {
   "cell_type": "code",
   "execution_count": 36,
   "metadata": {},
   "outputs": [],
   "source": [
    "# Scaling data\n",
    "df_oc_w['modified_northing'] = df_oc_w['UTM_northing'] - df_oc_w.UTM_northing[0]\n",
    "df_oc_w['modified_easting'] = df_oc_w['UTM_easting'] - df_oc_w.UTM_easting[0]"
   ]
  },
  {
   "cell_type": "code",
   "execution_count": 37,
   "metadata": {},
   "outputs": [
    {
     "data": {
      "application/vnd.plotly.v1+json": {
       "config": {
        "plotlyServerURL": "https://plot.ly"
       },
       "data": [
        {
         "hovertemplate": "Northing (M)=%{x}<br>Easting (M)=%{y}<extra></extra>",
         "legendgroup": "",
         "marker": {
          "color": "#636efa",
          "symbol": "circle"
         },
         "mode": "markers",
         "name": "",
         "orientation": "v",
         "showlegend": false,
         "type": "scatter",
         "x": [
          0,
          2.5,
          1.5,
          1.5,
          1,
          0.5,
          0,
          -1,
          -1,
          -1.5,
          -1.5,
          -1.5,
          -2,
          -2,
          -2.5,
          -3.5,
          -3,
          -2.5,
          -2,
          -1.5,
          -0.5,
          0,
          0.5,
          1.5,
          2,
          2,
          2.5
         ],
         "xaxis": "x",
         "y": [
          0,
          -3.875,
          -4.375,
          -4.65625,
          -5.125,
          -5.625,
          -6.0625,
          -6.625,
          -6.96875,
          -7.40625,
          -7.96875,
          -8.21875,
          -8.59375,
          -9,
          -9.375,
          -3.4375,
          -3.1875,
          -2.9375,
          -2.59375,
          -2.28125,
          -1.96875,
          -1.8125,
          -1.53125,
          -0.6875,
          -0.34375,
          -0.25,
          -0.15625
         ],
         "yaxis": "y"
        }
       ],
       "layout": {
        "legend": {
         "tracegroupgap": 0
        },
        "template": {
         "data": {
          "bar": [
           {
            "error_x": {
             "color": "#2a3f5f"
            },
            "error_y": {
             "color": "#2a3f5f"
            },
            "marker": {
             "line": {
              "color": "#E5ECF6",
              "width": 0.5
             },
             "pattern": {
              "fillmode": "overlay",
              "size": 10,
              "solidity": 0.2
             }
            },
            "type": "bar"
           }
          ],
          "barpolar": [
           {
            "marker": {
             "line": {
              "color": "#E5ECF6",
              "width": 0.5
             },
             "pattern": {
              "fillmode": "overlay",
              "size": 10,
              "solidity": 0.2
             }
            },
            "type": "barpolar"
           }
          ],
          "carpet": [
           {
            "aaxis": {
             "endlinecolor": "#2a3f5f",
             "gridcolor": "white",
             "linecolor": "white",
             "minorgridcolor": "white",
             "startlinecolor": "#2a3f5f"
            },
            "baxis": {
             "endlinecolor": "#2a3f5f",
             "gridcolor": "white",
             "linecolor": "white",
             "minorgridcolor": "white",
             "startlinecolor": "#2a3f5f"
            },
            "type": "carpet"
           }
          ],
          "choropleth": [
           {
            "colorbar": {
             "outlinewidth": 0,
             "ticks": ""
            },
            "type": "choropleth"
           }
          ],
          "contour": [
           {
            "colorbar": {
             "outlinewidth": 0,
             "ticks": ""
            },
            "colorscale": [
             [
              0,
              "#0d0887"
             ],
             [
              0.1111111111111111,
              "#46039f"
             ],
             [
              0.2222222222222222,
              "#7201a8"
             ],
             [
              0.3333333333333333,
              "#9c179e"
             ],
             [
              0.4444444444444444,
              "#bd3786"
             ],
             [
              0.5555555555555556,
              "#d8576b"
             ],
             [
              0.6666666666666666,
              "#ed7953"
             ],
             [
              0.7777777777777778,
              "#fb9f3a"
             ],
             [
              0.8888888888888888,
              "#fdca26"
             ],
             [
              1,
              "#f0f921"
             ]
            ],
            "type": "contour"
           }
          ],
          "contourcarpet": [
           {
            "colorbar": {
             "outlinewidth": 0,
             "ticks": ""
            },
            "type": "contourcarpet"
           }
          ],
          "heatmap": [
           {
            "colorbar": {
             "outlinewidth": 0,
             "ticks": ""
            },
            "colorscale": [
             [
              0,
              "#0d0887"
             ],
             [
              0.1111111111111111,
              "#46039f"
             ],
             [
              0.2222222222222222,
              "#7201a8"
             ],
             [
              0.3333333333333333,
              "#9c179e"
             ],
             [
              0.4444444444444444,
              "#bd3786"
             ],
             [
              0.5555555555555556,
              "#d8576b"
             ],
             [
              0.6666666666666666,
              "#ed7953"
             ],
             [
              0.7777777777777778,
              "#fb9f3a"
             ],
             [
              0.8888888888888888,
              "#fdca26"
             ],
             [
              1,
              "#f0f921"
             ]
            ],
            "type": "heatmap"
           }
          ],
          "heatmapgl": [
           {
            "colorbar": {
             "outlinewidth": 0,
             "ticks": ""
            },
            "colorscale": [
             [
              0,
              "#0d0887"
             ],
             [
              0.1111111111111111,
              "#46039f"
             ],
             [
              0.2222222222222222,
              "#7201a8"
             ],
             [
              0.3333333333333333,
              "#9c179e"
             ],
             [
              0.4444444444444444,
              "#bd3786"
             ],
             [
              0.5555555555555556,
              "#d8576b"
             ],
             [
              0.6666666666666666,
              "#ed7953"
             ],
             [
              0.7777777777777778,
              "#fb9f3a"
             ],
             [
              0.8888888888888888,
              "#fdca26"
             ],
             [
              1,
              "#f0f921"
             ]
            ],
            "type": "heatmapgl"
           }
          ],
          "histogram": [
           {
            "marker": {
             "pattern": {
              "fillmode": "overlay",
              "size": 10,
              "solidity": 0.2
             }
            },
            "type": "histogram"
           }
          ],
          "histogram2d": [
           {
            "colorbar": {
             "outlinewidth": 0,
             "ticks": ""
            },
            "colorscale": [
             [
              0,
              "#0d0887"
             ],
             [
              0.1111111111111111,
              "#46039f"
             ],
             [
              0.2222222222222222,
              "#7201a8"
             ],
             [
              0.3333333333333333,
              "#9c179e"
             ],
             [
              0.4444444444444444,
              "#bd3786"
             ],
             [
              0.5555555555555556,
              "#d8576b"
             ],
             [
              0.6666666666666666,
              "#ed7953"
             ],
             [
              0.7777777777777778,
              "#fb9f3a"
             ],
             [
              0.8888888888888888,
              "#fdca26"
             ],
             [
              1,
              "#f0f921"
             ]
            ],
            "type": "histogram2d"
           }
          ],
          "histogram2dcontour": [
           {
            "colorbar": {
             "outlinewidth": 0,
             "ticks": ""
            },
            "colorscale": [
             [
              0,
              "#0d0887"
             ],
             [
              0.1111111111111111,
              "#46039f"
             ],
             [
              0.2222222222222222,
              "#7201a8"
             ],
             [
              0.3333333333333333,
              "#9c179e"
             ],
             [
              0.4444444444444444,
              "#bd3786"
             ],
             [
              0.5555555555555556,
              "#d8576b"
             ],
             [
              0.6666666666666666,
              "#ed7953"
             ],
             [
              0.7777777777777778,
              "#fb9f3a"
             ],
             [
              0.8888888888888888,
              "#fdca26"
             ],
             [
              1,
              "#f0f921"
             ]
            ],
            "type": "histogram2dcontour"
           }
          ],
          "mesh3d": [
           {
            "colorbar": {
             "outlinewidth": 0,
             "ticks": ""
            },
            "type": "mesh3d"
           }
          ],
          "parcoords": [
           {
            "line": {
             "colorbar": {
              "outlinewidth": 0,
              "ticks": ""
             }
            },
            "type": "parcoords"
           }
          ],
          "pie": [
           {
            "automargin": true,
            "type": "pie"
           }
          ],
          "scatter": [
           {
            "fillpattern": {
             "fillmode": "overlay",
             "size": 10,
             "solidity": 0.2
            },
            "type": "scatter"
           }
          ],
          "scatter3d": [
           {
            "line": {
             "colorbar": {
              "outlinewidth": 0,
              "ticks": ""
             }
            },
            "marker": {
             "colorbar": {
              "outlinewidth": 0,
              "ticks": ""
             }
            },
            "type": "scatter3d"
           }
          ],
          "scattercarpet": [
           {
            "marker": {
             "colorbar": {
              "outlinewidth": 0,
              "ticks": ""
             }
            },
            "type": "scattercarpet"
           }
          ],
          "scattergeo": [
           {
            "marker": {
             "colorbar": {
              "outlinewidth": 0,
              "ticks": ""
             }
            },
            "type": "scattergeo"
           }
          ],
          "scattergl": [
           {
            "marker": {
             "colorbar": {
              "outlinewidth": 0,
              "ticks": ""
             }
            },
            "type": "scattergl"
           }
          ],
          "scattermapbox": [
           {
            "marker": {
             "colorbar": {
              "outlinewidth": 0,
              "ticks": ""
             }
            },
            "type": "scattermapbox"
           }
          ],
          "scatterpolar": [
           {
            "marker": {
             "colorbar": {
              "outlinewidth": 0,
              "ticks": ""
             }
            },
            "type": "scatterpolar"
           }
          ],
          "scatterpolargl": [
           {
            "marker": {
             "colorbar": {
              "outlinewidth": 0,
              "ticks": ""
             }
            },
            "type": "scatterpolargl"
           }
          ],
          "scatterternary": [
           {
            "marker": {
             "colorbar": {
              "outlinewidth": 0,
              "ticks": ""
             }
            },
            "type": "scatterternary"
           }
          ],
          "surface": [
           {
            "colorbar": {
             "outlinewidth": 0,
             "ticks": ""
            },
            "colorscale": [
             [
              0,
              "#0d0887"
             ],
             [
              0.1111111111111111,
              "#46039f"
             ],
             [
              0.2222222222222222,
              "#7201a8"
             ],
             [
              0.3333333333333333,
              "#9c179e"
             ],
             [
              0.4444444444444444,
              "#bd3786"
             ],
             [
              0.5555555555555556,
              "#d8576b"
             ],
             [
              0.6666666666666666,
              "#ed7953"
             ],
             [
              0.7777777777777778,
              "#fb9f3a"
             ],
             [
              0.8888888888888888,
              "#fdca26"
             ],
             [
              1,
              "#f0f921"
             ]
            ],
            "type": "surface"
           }
          ],
          "table": [
           {
            "cells": {
             "fill": {
              "color": "#EBF0F8"
             },
             "line": {
              "color": "white"
             }
            },
            "header": {
             "fill": {
              "color": "#C8D4E3"
             },
             "line": {
              "color": "white"
             }
            },
            "type": "table"
           }
          ]
         },
         "layout": {
          "annotationdefaults": {
           "arrowcolor": "#2a3f5f",
           "arrowhead": 0,
           "arrowwidth": 1
          },
          "autotypenumbers": "strict",
          "coloraxis": {
           "colorbar": {
            "outlinewidth": 0,
            "ticks": ""
           }
          },
          "colorscale": {
           "diverging": [
            [
             0,
             "#8e0152"
            ],
            [
             0.1,
             "#c51b7d"
            ],
            [
             0.2,
             "#de77ae"
            ],
            [
             0.3,
             "#f1b6da"
            ],
            [
             0.4,
             "#fde0ef"
            ],
            [
             0.5,
             "#f7f7f7"
            ],
            [
             0.6,
             "#e6f5d0"
            ],
            [
             0.7,
             "#b8e186"
            ],
            [
             0.8,
             "#7fbc41"
            ],
            [
             0.9,
             "#4d9221"
            ],
            [
             1,
             "#276419"
            ]
           ],
           "sequential": [
            [
             0,
             "#0d0887"
            ],
            [
             0.1111111111111111,
             "#46039f"
            ],
            [
             0.2222222222222222,
             "#7201a8"
            ],
            [
             0.3333333333333333,
             "#9c179e"
            ],
            [
             0.4444444444444444,
             "#bd3786"
            ],
            [
             0.5555555555555556,
             "#d8576b"
            ],
            [
             0.6666666666666666,
             "#ed7953"
            ],
            [
             0.7777777777777778,
             "#fb9f3a"
            ],
            [
             0.8888888888888888,
             "#fdca26"
            ],
            [
             1,
             "#f0f921"
            ]
           ],
           "sequentialminus": [
            [
             0,
             "#0d0887"
            ],
            [
             0.1111111111111111,
             "#46039f"
            ],
            [
             0.2222222222222222,
             "#7201a8"
            ],
            [
             0.3333333333333333,
             "#9c179e"
            ],
            [
             0.4444444444444444,
             "#bd3786"
            ],
            [
             0.5555555555555556,
             "#d8576b"
            ],
            [
             0.6666666666666666,
             "#ed7953"
            ],
            [
             0.7777777777777778,
             "#fb9f3a"
            ],
            [
             0.8888888888888888,
             "#fdca26"
            ],
            [
             1,
             "#f0f921"
            ]
           ]
          },
          "colorway": [
           "#636efa",
           "#EF553B",
           "#00cc96",
           "#ab63fa",
           "#FFA15A",
           "#19d3f3",
           "#FF6692",
           "#B6E880",
           "#FF97FF",
           "#FECB52"
          ],
          "font": {
           "color": "#2a3f5f"
          },
          "geo": {
           "bgcolor": "white",
           "lakecolor": "white",
           "landcolor": "#E5ECF6",
           "showlakes": true,
           "showland": true,
           "subunitcolor": "white"
          },
          "hoverlabel": {
           "align": "left"
          },
          "hovermode": "closest",
          "mapbox": {
           "style": "light"
          },
          "paper_bgcolor": "white",
          "plot_bgcolor": "#E5ECF6",
          "polar": {
           "angularaxis": {
            "gridcolor": "white",
            "linecolor": "white",
            "ticks": ""
           },
           "bgcolor": "#E5ECF6",
           "radialaxis": {
            "gridcolor": "white",
            "linecolor": "white",
            "ticks": ""
           }
          },
          "scene": {
           "xaxis": {
            "backgroundcolor": "#E5ECF6",
            "gridcolor": "white",
            "gridwidth": 2,
            "linecolor": "white",
            "showbackground": true,
            "ticks": "",
            "zerolinecolor": "white"
           },
           "yaxis": {
            "backgroundcolor": "#E5ECF6",
            "gridcolor": "white",
            "gridwidth": 2,
            "linecolor": "white",
            "showbackground": true,
            "ticks": "",
            "zerolinecolor": "white"
           },
           "zaxis": {
            "backgroundcolor": "#E5ECF6",
            "gridcolor": "white",
            "gridwidth": 2,
            "linecolor": "white",
            "showbackground": true,
            "ticks": "",
            "zerolinecolor": "white"
           }
          },
          "shapedefaults": {
           "line": {
            "color": "#2a3f5f"
           }
          },
          "ternary": {
           "aaxis": {
            "gridcolor": "white",
            "linecolor": "white",
            "ticks": ""
           },
           "baxis": {
            "gridcolor": "white",
            "linecolor": "white",
            "ticks": ""
           },
           "bgcolor": "#E5ECF6",
           "caxis": {
            "gridcolor": "white",
            "linecolor": "white",
            "ticks": ""
           }
          },
          "title": {
           "x": 0.05
          },
          "xaxis": {
           "automargin": true,
           "gridcolor": "white",
           "linecolor": "white",
           "ticks": "",
           "title": {
            "standoff": 15
           },
           "zerolinecolor": "white",
           "zerolinewidth": 2
          },
          "yaxis": {
           "automargin": true,
           "gridcolor": "white",
           "linecolor": "white",
           "ticks": "",
           "title": {
            "standoff": 15
           },
           "zerolinecolor": "white",
           "zerolinewidth": 2
          }
         }
        },
        "title": {
         "text": "Moving in Open Space"
        },
        "xaxis": {
         "anchor": "y",
         "domain": [
          0,
          1
         ],
         "title": {
          "text": "Northing (M)"
         }
        },
        "yaxis": {
         "anchor": "x",
         "domain": [
          0,
          1
         ],
         "title": {
          "text": "Easting (M)"
         }
        }
       }
      }
     },
     "metadata": {},
     "output_type": "display_data"
    }
   ],
   "source": [
    "fig = px.scatter(df_oc_w, x=\"modified_northing\", y=\"modified_easting\", labels={\"modified_northing\":\"Northing (M)\",\"modified_easting\": \"Easting (M)\"}, title=\"Moving in Open Space\")\n",
    "fig.show()"
   ]
  },
  {
   "cell_type": "code",
   "execution_count": 38,
   "metadata": {},
   "outputs": [
    {
     "data": {
      "application/vnd.plotly.v1+json": {
       "config": {
        "plotlyServerURL": "https://plot.ly"
       },
       "data": [
        {
         "hovertemplate": "Time in Seconds=%{x}<br>Altitude (M)=%{y}<extra></extra>",
         "legendgroup": "",
         "marker": {
          "color": "#636efa",
          "symbol": "circle"
         },
         "mode": "markers",
         "name": "",
         "orientation": "v",
         "showlegend": false,
         "type": "scatter",
         "x": [
          231444,
          231504,
          231506,
          231507,
          231508,
          231509,
          231510,
          231511,
          231512,
          231513,
          231514,
          231515,
          231516,
          231517,
          231518,
          231534,
          231535,
          231536,
          231537,
          231538,
          231539,
          231540,
          231541,
          231543,
          231544,
          231545,
          231546
         ],
         "xaxis": "x",
         "y": [
          18.100000381469727,
          20.200000762939453,
          20.299999237060547,
          20.5,
          20.5,
          20.700000762939453,
          20.399999618530277,
          20.200000762939453,
          20.200000762939453,
          21.100000381469727,
          22.100000381469727,
          22.399999618530277,
          22.700000762939453,
          22.799999237060547,
          22.799999237060547,
          24.799999237060547,
          24.299999237060547,
          24.299999237060547,
          24.200000762939453,
          24.200000762939453,
          24.5,
          25.399999618530277,
          25.700000762939453,
          26.700000762939453,
          26.700000762939453,
          26.899999618530277,
          26.899999618530277
         ],
         "yaxis": "y"
        }
       ],
       "layout": {
        "legend": {
         "tracegroupgap": 0
        },
        "template": {
         "data": {
          "bar": [
           {
            "error_x": {
             "color": "#2a3f5f"
            },
            "error_y": {
             "color": "#2a3f5f"
            },
            "marker": {
             "line": {
              "color": "#E5ECF6",
              "width": 0.5
             },
             "pattern": {
              "fillmode": "overlay",
              "size": 10,
              "solidity": 0.2
             }
            },
            "type": "bar"
           }
          ],
          "barpolar": [
           {
            "marker": {
             "line": {
              "color": "#E5ECF6",
              "width": 0.5
             },
             "pattern": {
              "fillmode": "overlay",
              "size": 10,
              "solidity": 0.2
             }
            },
            "type": "barpolar"
           }
          ],
          "carpet": [
           {
            "aaxis": {
             "endlinecolor": "#2a3f5f",
             "gridcolor": "white",
             "linecolor": "white",
             "minorgridcolor": "white",
             "startlinecolor": "#2a3f5f"
            },
            "baxis": {
             "endlinecolor": "#2a3f5f",
             "gridcolor": "white",
             "linecolor": "white",
             "minorgridcolor": "white",
             "startlinecolor": "#2a3f5f"
            },
            "type": "carpet"
           }
          ],
          "choropleth": [
           {
            "colorbar": {
             "outlinewidth": 0,
             "ticks": ""
            },
            "type": "choropleth"
           }
          ],
          "contour": [
           {
            "colorbar": {
             "outlinewidth": 0,
             "ticks": ""
            },
            "colorscale": [
             [
              0,
              "#0d0887"
             ],
             [
              0.1111111111111111,
              "#46039f"
             ],
             [
              0.2222222222222222,
              "#7201a8"
             ],
             [
              0.3333333333333333,
              "#9c179e"
             ],
             [
              0.4444444444444444,
              "#bd3786"
             ],
             [
              0.5555555555555556,
              "#d8576b"
             ],
             [
              0.6666666666666666,
              "#ed7953"
             ],
             [
              0.7777777777777778,
              "#fb9f3a"
             ],
             [
              0.8888888888888888,
              "#fdca26"
             ],
             [
              1,
              "#f0f921"
             ]
            ],
            "type": "contour"
           }
          ],
          "contourcarpet": [
           {
            "colorbar": {
             "outlinewidth": 0,
             "ticks": ""
            },
            "type": "contourcarpet"
           }
          ],
          "heatmap": [
           {
            "colorbar": {
             "outlinewidth": 0,
             "ticks": ""
            },
            "colorscale": [
             [
              0,
              "#0d0887"
             ],
             [
              0.1111111111111111,
              "#46039f"
             ],
             [
              0.2222222222222222,
              "#7201a8"
             ],
             [
              0.3333333333333333,
              "#9c179e"
             ],
             [
              0.4444444444444444,
              "#bd3786"
             ],
             [
              0.5555555555555556,
              "#d8576b"
             ],
             [
              0.6666666666666666,
              "#ed7953"
             ],
             [
              0.7777777777777778,
              "#fb9f3a"
             ],
             [
              0.8888888888888888,
              "#fdca26"
             ],
             [
              1,
              "#f0f921"
             ]
            ],
            "type": "heatmap"
           }
          ],
          "heatmapgl": [
           {
            "colorbar": {
             "outlinewidth": 0,
             "ticks": ""
            },
            "colorscale": [
             [
              0,
              "#0d0887"
             ],
             [
              0.1111111111111111,
              "#46039f"
             ],
             [
              0.2222222222222222,
              "#7201a8"
             ],
             [
              0.3333333333333333,
              "#9c179e"
             ],
             [
              0.4444444444444444,
              "#bd3786"
             ],
             [
              0.5555555555555556,
              "#d8576b"
             ],
             [
              0.6666666666666666,
              "#ed7953"
             ],
             [
              0.7777777777777778,
              "#fb9f3a"
             ],
             [
              0.8888888888888888,
              "#fdca26"
             ],
             [
              1,
              "#f0f921"
             ]
            ],
            "type": "heatmapgl"
           }
          ],
          "histogram": [
           {
            "marker": {
             "pattern": {
              "fillmode": "overlay",
              "size": 10,
              "solidity": 0.2
             }
            },
            "type": "histogram"
           }
          ],
          "histogram2d": [
           {
            "colorbar": {
             "outlinewidth": 0,
             "ticks": ""
            },
            "colorscale": [
             [
              0,
              "#0d0887"
             ],
             [
              0.1111111111111111,
              "#46039f"
             ],
             [
              0.2222222222222222,
              "#7201a8"
             ],
             [
              0.3333333333333333,
              "#9c179e"
             ],
             [
              0.4444444444444444,
              "#bd3786"
             ],
             [
              0.5555555555555556,
              "#d8576b"
             ],
             [
              0.6666666666666666,
              "#ed7953"
             ],
             [
              0.7777777777777778,
              "#fb9f3a"
             ],
             [
              0.8888888888888888,
              "#fdca26"
             ],
             [
              1,
              "#f0f921"
             ]
            ],
            "type": "histogram2d"
           }
          ],
          "histogram2dcontour": [
           {
            "colorbar": {
             "outlinewidth": 0,
             "ticks": ""
            },
            "colorscale": [
             [
              0,
              "#0d0887"
             ],
             [
              0.1111111111111111,
              "#46039f"
             ],
             [
              0.2222222222222222,
              "#7201a8"
             ],
             [
              0.3333333333333333,
              "#9c179e"
             ],
             [
              0.4444444444444444,
              "#bd3786"
             ],
             [
              0.5555555555555556,
              "#d8576b"
             ],
             [
              0.6666666666666666,
              "#ed7953"
             ],
             [
              0.7777777777777778,
              "#fb9f3a"
             ],
             [
              0.8888888888888888,
              "#fdca26"
             ],
             [
              1,
              "#f0f921"
             ]
            ],
            "type": "histogram2dcontour"
           }
          ],
          "mesh3d": [
           {
            "colorbar": {
             "outlinewidth": 0,
             "ticks": ""
            },
            "type": "mesh3d"
           }
          ],
          "parcoords": [
           {
            "line": {
             "colorbar": {
              "outlinewidth": 0,
              "ticks": ""
             }
            },
            "type": "parcoords"
           }
          ],
          "pie": [
           {
            "automargin": true,
            "type": "pie"
           }
          ],
          "scatter": [
           {
            "fillpattern": {
             "fillmode": "overlay",
             "size": 10,
             "solidity": 0.2
            },
            "type": "scatter"
           }
          ],
          "scatter3d": [
           {
            "line": {
             "colorbar": {
              "outlinewidth": 0,
              "ticks": ""
             }
            },
            "marker": {
             "colorbar": {
              "outlinewidth": 0,
              "ticks": ""
             }
            },
            "type": "scatter3d"
           }
          ],
          "scattercarpet": [
           {
            "marker": {
             "colorbar": {
              "outlinewidth": 0,
              "ticks": ""
             }
            },
            "type": "scattercarpet"
           }
          ],
          "scattergeo": [
           {
            "marker": {
             "colorbar": {
              "outlinewidth": 0,
              "ticks": ""
             }
            },
            "type": "scattergeo"
           }
          ],
          "scattergl": [
           {
            "marker": {
             "colorbar": {
              "outlinewidth": 0,
              "ticks": ""
             }
            },
            "type": "scattergl"
           }
          ],
          "scattermapbox": [
           {
            "marker": {
             "colorbar": {
              "outlinewidth": 0,
              "ticks": ""
             }
            },
            "type": "scattermapbox"
           }
          ],
          "scatterpolar": [
           {
            "marker": {
             "colorbar": {
              "outlinewidth": 0,
              "ticks": ""
             }
            },
            "type": "scatterpolar"
           }
          ],
          "scatterpolargl": [
           {
            "marker": {
             "colorbar": {
              "outlinewidth": 0,
              "ticks": ""
             }
            },
            "type": "scatterpolargl"
           }
          ],
          "scatterternary": [
           {
            "marker": {
             "colorbar": {
              "outlinewidth": 0,
              "ticks": ""
             }
            },
            "type": "scatterternary"
           }
          ],
          "surface": [
           {
            "colorbar": {
             "outlinewidth": 0,
             "ticks": ""
            },
            "colorscale": [
             [
              0,
              "#0d0887"
             ],
             [
              0.1111111111111111,
              "#46039f"
             ],
             [
              0.2222222222222222,
              "#7201a8"
             ],
             [
              0.3333333333333333,
              "#9c179e"
             ],
             [
              0.4444444444444444,
              "#bd3786"
             ],
             [
              0.5555555555555556,
              "#d8576b"
             ],
             [
              0.6666666666666666,
              "#ed7953"
             ],
             [
              0.7777777777777778,
              "#fb9f3a"
             ],
             [
              0.8888888888888888,
              "#fdca26"
             ],
             [
              1,
              "#f0f921"
             ]
            ],
            "type": "surface"
           }
          ],
          "table": [
           {
            "cells": {
             "fill": {
              "color": "#EBF0F8"
             },
             "line": {
              "color": "white"
             }
            },
            "header": {
             "fill": {
              "color": "#C8D4E3"
             },
             "line": {
              "color": "white"
             }
            },
            "type": "table"
           }
          ]
         },
         "layout": {
          "annotationdefaults": {
           "arrowcolor": "#2a3f5f",
           "arrowhead": 0,
           "arrowwidth": 1
          },
          "autotypenumbers": "strict",
          "coloraxis": {
           "colorbar": {
            "outlinewidth": 0,
            "ticks": ""
           }
          },
          "colorscale": {
           "diverging": [
            [
             0,
             "#8e0152"
            ],
            [
             0.1,
             "#c51b7d"
            ],
            [
             0.2,
             "#de77ae"
            ],
            [
             0.3,
             "#f1b6da"
            ],
            [
             0.4,
             "#fde0ef"
            ],
            [
             0.5,
             "#f7f7f7"
            ],
            [
             0.6,
             "#e6f5d0"
            ],
            [
             0.7,
             "#b8e186"
            ],
            [
             0.8,
             "#7fbc41"
            ],
            [
             0.9,
             "#4d9221"
            ],
            [
             1,
             "#276419"
            ]
           ],
           "sequential": [
            [
             0,
             "#0d0887"
            ],
            [
             0.1111111111111111,
             "#46039f"
            ],
            [
             0.2222222222222222,
             "#7201a8"
            ],
            [
             0.3333333333333333,
             "#9c179e"
            ],
            [
             0.4444444444444444,
             "#bd3786"
            ],
            [
             0.5555555555555556,
             "#d8576b"
            ],
            [
             0.6666666666666666,
             "#ed7953"
            ],
            [
             0.7777777777777778,
             "#fb9f3a"
            ],
            [
             0.8888888888888888,
             "#fdca26"
            ],
            [
             1,
             "#f0f921"
            ]
           ],
           "sequentialminus": [
            [
             0,
             "#0d0887"
            ],
            [
             0.1111111111111111,
             "#46039f"
            ],
            [
             0.2222222222222222,
             "#7201a8"
            ],
            [
             0.3333333333333333,
             "#9c179e"
            ],
            [
             0.4444444444444444,
             "#bd3786"
            ],
            [
             0.5555555555555556,
             "#d8576b"
            ],
            [
             0.6666666666666666,
             "#ed7953"
            ],
            [
             0.7777777777777778,
             "#fb9f3a"
            ],
            [
             0.8888888888888888,
             "#fdca26"
            ],
            [
             1,
             "#f0f921"
            ]
           ]
          },
          "colorway": [
           "#636efa",
           "#EF553B",
           "#00cc96",
           "#ab63fa",
           "#FFA15A",
           "#19d3f3",
           "#FF6692",
           "#B6E880",
           "#FF97FF",
           "#FECB52"
          ],
          "font": {
           "color": "#2a3f5f"
          },
          "geo": {
           "bgcolor": "white",
           "lakecolor": "white",
           "landcolor": "#E5ECF6",
           "showlakes": true,
           "showland": true,
           "subunitcolor": "white"
          },
          "hoverlabel": {
           "align": "left"
          },
          "hovermode": "closest",
          "mapbox": {
           "style": "light"
          },
          "paper_bgcolor": "white",
          "plot_bgcolor": "#E5ECF6",
          "polar": {
           "angularaxis": {
            "gridcolor": "white",
            "linecolor": "white",
            "ticks": ""
           },
           "bgcolor": "#E5ECF6",
           "radialaxis": {
            "gridcolor": "white",
            "linecolor": "white",
            "ticks": ""
           }
          },
          "scene": {
           "xaxis": {
            "backgroundcolor": "#E5ECF6",
            "gridcolor": "white",
            "gridwidth": 2,
            "linecolor": "white",
            "showbackground": true,
            "ticks": "",
            "zerolinecolor": "white"
           },
           "yaxis": {
            "backgroundcolor": "#E5ECF6",
            "gridcolor": "white",
            "gridwidth": 2,
            "linecolor": "white",
            "showbackground": true,
            "ticks": "",
            "zerolinecolor": "white"
           },
           "zaxis": {
            "backgroundcolor": "#E5ECF6",
            "gridcolor": "white",
            "gridwidth": 2,
            "linecolor": "white",
            "showbackground": true,
            "ticks": "",
            "zerolinecolor": "white"
           }
          },
          "shapedefaults": {
           "line": {
            "color": "#2a3f5f"
           }
          },
          "ternary": {
           "aaxis": {
            "gridcolor": "white",
            "linecolor": "white",
            "ticks": ""
           },
           "baxis": {
            "gridcolor": "white",
            "linecolor": "white",
            "ticks": ""
           },
           "bgcolor": "#E5ECF6",
           "caxis": {
            "gridcolor": "white",
            "linecolor": "white",
            "ticks": ""
           }
          },
          "title": {
           "x": 0.05
          },
          "xaxis": {
           "automargin": true,
           "gridcolor": "white",
           "linecolor": "white",
           "ticks": "",
           "title": {
            "standoff": 15
           },
           "zerolinecolor": "white",
           "zerolinewidth": 2
          },
          "yaxis": {
           "automargin": true,
           "gridcolor": "white",
           "linecolor": "white",
           "ticks": "",
           "title": {
            "standoff": 15
           },
           "zerolinecolor": "white",
           "zerolinewidth": 2
          }
         }
        },
        "title": {
         "text": "Walking"
        },
        "xaxis": {
         "anchor": "y",
         "domain": [
          0,
          1
         ],
         "title": {
          "text": "Time in Seconds"
         }
        },
        "yaxis": {
         "anchor": "x",
         "domain": [
          0,
          1
         ],
         "title": {
          "text": "Altitude (M)"
         }
        }
       }
      }
     },
     "metadata": {},
     "output_type": "display_data"
    }
   ],
   "source": [
    "\n",
    "fig_1 = px.scatter(df_oc_w, x=\"UTC\", y=\"Altitude\",labels={\"Altitude\": \"Altitude (M)\", \"UTC\": \"Time in Seconds\"}, title=\"Walking\")\n",
    "fig_1.show()"
   ]
  }
 ],
 "metadata": {
  "kernelspec": {
   "display_name": "Python 3",
   "language": "python",
   "name": "python3"
  },
  "language_info": {
   "codemirror_mode": {
    "name": "ipython",
    "version": 3
   },
   "file_extension": ".py",
   "mimetype": "text/x-python",
   "name": "python",
   "nbconvert_exporter": "python",
   "pygments_lexer": "ipython3",
   "version": "3.8.10"
  },
  "orig_nbformat": 4,
  "vscode": {
   "interpreter": {
    "hash": "916dbcbb3f70747c44a77c7bcd40155683ae19c65e1c03b4aa3499c5328201f1"
   }
  }
 },
 "nbformat": 4,
 "nbformat_minor": 2
}
