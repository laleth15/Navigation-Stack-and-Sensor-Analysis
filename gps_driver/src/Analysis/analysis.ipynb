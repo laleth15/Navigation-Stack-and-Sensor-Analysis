{
 "cells": [
  {
   "cell_type": "code",
   "execution_count": 1,
   "metadata": {},
   "outputs": [],
   "source": [
    "import bagpy\n",
    "from bagpy import bagreader"
   ]
  },
  {
   "cell_type": "code",
   "execution_count": 2,
   "metadata": {},
   "outputs": [],
   "source": [
    "#stationary_open = bagreader('./Data/stationary_open.bag')\n",
    "#stationary_occulded = bagreader('./Data/stationary_2023-02-03-16-46-11.bag')\n",
    "#walking_open = bagreader('./Data/walking.bag')"
   ]
  },
  {
   "cell_type": "code",
   "execution_count": 3,
   "metadata": {},
   "outputs": [],
   "source": [
    "#stationary_open.topic_table"
   ]
  },
  {
   "cell_type": "code",
   "execution_count": 4,
   "metadata": {},
   "outputs": [],
   "source": [
    "#gps_data_op = stationary_open.message_by_topic('/gps')\n",
    "#gps_data_oc = stationary_occulded.message_by_topic('/gps')\n",
    "#gps_data_wa = walking_open.message_by_topic('/gps')"
   ]
  },
  {
   "cell_type": "code",
   "execution_count": 5,
   "metadata": {},
   "outputs": [],
   "source": [
    "import pandas as pd\n",
    "gps_df_op = pd.read_csv('stationary_open/gps.csv')\n",
    "gps_df_oc = pd.read_csv('stationary_2023-02-03-16-46-11/gps.csv')\n",
    "gps_df_wa = pd.read_csv('walking/gps.csv')"
   ]
  },
  {
   "cell_type": "code",
   "execution_count": 6,
   "metadata": {},
   "outputs": [
    {
     "data": {
      "text/html": [
       "<div>\n",
       "<style scoped>\n",
       "    .dataframe tbody tr th:only-of-type {\n",
       "        vertical-align: middle;\n",
       "    }\n",
       "\n",
       "    .dataframe tbody tr th {\n",
       "        vertical-align: top;\n",
       "    }\n",
       "\n",
       "    .dataframe thead th {\n",
       "        text-align: right;\n",
       "    }\n",
       "</style>\n",
       "<table border=\"1\" class=\"dataframe\">\n",
       "  <thead>\n",
       "    <tr style=\"text-align: right;\">\n",
       "      <th></th>\n",
       "      <th>Time</th>\n",
       "      <th>Header.seq</th>\n",
       "      <th>Header.stamp.secs</th>\n",
       "      <th>Header.stamp.nsecs</th>\n",
       "      <th>Header.frame_id</th>\n",
       "      <th>Latitude</th>\n",
       "      <th>Longitude</th>\n",
       "      <th>Altitude</th>\n",
       "      <th>HDOP</th>\n",
       "      <th>UTM_easting</th>\n",
       "      <th>UTM_northing</th>\n",
       "      <th>UTC</th>\n",
       "      <th>Zone</th>\n",
       "      <th>Letter</th>\n",
       "    </tr>\n",
       "  </thead>\n",
       "  <tbody>\n",
       "    <tr>\n",
       "      <th>0</th>\n",
       "      <td>1.675378e+09</td>\n",
       "      <td>16</td>\n",
       "      <td>224739</td>\n",
       "      <td>0</td>\n",
       "      <td>GPS1_Frame</td>\n",
       "      <td>42.307503</td>\n",
       "      <td>-71.107712</td>\n",
       "      <td>19.2 M</td>\n",
       "      <td>1.2</td>\n",
       "      <td>326283.21875</td>\n",
       "      <td>4686070.0</td>\n",
       "      <td>224739.0</td>\n",
       "      <td>19</td>\n",
       "      <td>T</td>\n",
       "    </tr>\n",
       "    <tr>\n",
       "      <th>1</th>\n",
       "      <td>1.675378e+09</td>\n",
       "      <td>17</td>\n",
       "      <td>224740</td>\n",
       "      <td>0</td>\n",
       "      <td>GPS1_Frame</td>\n",
       "      <td>42.307503</td>\n",
       "      <td>-71.107712</td>\n",
       "      <td>19.2 M</td>\n",
       "      <td>1.2</td>\n",
       "      <td>326283.21875</td>\n",
       "      <td>4686070.0</td>\n",
       "      <td>224740.0</td>\n",
       "      <td>19</td>\n",
       "      <td>T</td>\n",
       "    </tr>\n",
       "    <tr>\n",
       "      <th>2</th>\n",
       "      <td>1.675378e+09</td>\n",
       "      <td>18</td>\n",
       "      <td>224741</td>\n",
       "      <td>0</td>\n",
       "      <td>GPS1_Frame</td>\n",
       "      <td>42.307503</td>\n",
       "      <td>-71.107712</td>\n",
       "      <td>19.2 M</td>\n",
       "      <td>1.2</td>\n",
       "      <td>326283.21875</td>\n",
       "      <td>4686070.0</td>\n",
       "      <td>224741.0</td>\n",
       "      <td>19</td>\n",
       "      <td>T</td>\n",
       "    </tr>\n",
       "    <tr>\n",
       "      <th>3</th>\n",
       "      <td>1.675378e+09</td>\n",
       "      <td>19</td>\n",
       "      <td>224742</td>\n",
       "      <td>0</td>\n",
       "      <td>GPS1_Frame</td>\n",
       "      <td>42.307503</td>\n",
       "      <td>-71.107712</td>\n",
       "      <td>19.2 M</td>\n",
       "      <td>1.2</td>\n",
       "      <td>326283.21875</td>\n",
       "      <td>4686070.0</td>\n",
       "      <td>224742.0</td>\n",
       "      <td>19</td>\n",
       "      <td>T</td>\n",
       "    </tr>\n",
       "    <tr>\n",
       "      <th>4</th>\n",
       "      <td>1.675378e+09</td>\n",
       "      <td>20</td>\n",
       "      <td>224743</td>\n",
       "      <td>0</td>\n",
       "      <td>GPS1_Frame</td>\n",
       "      <td>42.307503</td>\n",
       "      <td>-71.107712</td>\n",
       "      <td>19.2 M</td>\n",
       "      <td>1.2</td>\n",
       "      <td>326283.21875</td>\n",
       "      <td>4686070.0</td>\n",
       "      <td>224743.0</td>\n",
       "      <td>19</td>\n",
       "      <td>T</td>\n",
       "    </tr>\n",
       "  </tbody>\n",
       "</table>\n",
       "</div>"
      ],
      "text/plain": [
       "           Time  Header.seq  Header.stamp.secs  Header.stamp.nsecs  \\\n",
       "0  1.675378e+09          16             224739                   0   \n",
       "1  1.675378e+09          17             224740                   0   \n",
       "2  1.675378e+09          18             224741                   0   \n",
       "3  1.675378e+09          19             224742                   0   \n",
       "4  1.675378e+09          20             224743                   0   \n",
       "\n",
       "  Header.frame_id   Latitude  Longitude Altitude  HDOP   UTM_easting  \\\n",
       "0      GPS1_Frame  42.307503 -71.107712   19.2 M   1.2  326283.21875   \n",
       "1      GPS1_Frame  42.307503 -71.107712   19.2 M   1.2  326283.21875   \n",
       "2      GPS1_Frame  42.307503 -71.107712   19.2 M   1.2  326283.21875   \n",
       "3      GPS1_Frame  42.307503 -71.107712   19.2 M   1.2  326283.21875   \n",
       "4      GPS1_Frame  42.307503 -71.107712   19.2 M   1.2  326283.21875   \n",
       "\n",
       "   UTM_northing       UTC  Zone Letter  \n",
       "0     4686070.0  224739.0    19      T  \n",
       "1     4686070.0  224740.0    19      T  \n",
       "2     4686070.0  224741.0    19      T  \n",
       "3     4686070.0  224742.0    19      T  \n",
       "4     4686070.0  224743.0    19      T  "
      ]
     },
     "execution_count": 6,
     "metadata": {},
     "output_type": "execute_result"
    }
   ],
   "source": [
    "gps_df_op.head()"
   ]
  },
  {
   "attachments": {},
   "cell_type": "markdown",
   "metadata": {},
   "source": [
    "## Analysis of stationary data from open field\n",
    "Location - Scagnoli-Nihill Athletic Complex in Jamaica Plains\n",
    "\n",
    "From google maps -> lat = 42.30775, lon = -71.10752\n",
    "***"
   ]
  },
  {
   "cell_type": "code",
   "execution_count": 7,
   "metadata": {},
   "outputs": [],
   "source": [
    "# Location - Scagnoli-Nihill Athletic Complex in Jamaica Plains\n",
    "# From google maps -> lat = 42.30775, lon = -71.10752\n",
    "\n",
    "known_lat, known_lon = 42.30775, -71.10752\n",
    "\n",
    "import utm\n",
    "\n",
    "utm_converted = utm.from_latlon(42.30775,-71.10752)\n",
    "\n",
    "known_easting,known_northing,known_zone,known_letter = utm_converted[0],utm_converted[1],utm_converted[2],utm_converted[3]"
   ]
  },
  {
   "cell_type": "code",
   "execution_count": 8,
   "metadata": {},
   "outputs": [],
   "source": [
    "# Scaling data\n",
    "gps_df_op['modified_northing'] = gps_df_op['UTM_northing'] - gps_df_op.UTM_northing[0]\n",
    "gps_df_op['modified_easting'] = gps_df_op['UTM_easting'] - gps_df_op.UTM_easting[0]"
   ]
  },
  {
   "cell_type": "code",
   "execution_count": 9,
   "metadata": {},
   "outputs": [
    {
     "data": {
      "application/vnd.plotly.v1+json": {
       "config": {
        "plotlyServerURL": "https://plot.ly"
       },
       "data": [
        {
         "hovertemplate": "Northing (M)=%{x}<br>Easting (M)=%{y}<extra></extra>",
         "legendgroup": "",
         "marker": {
          "color": "#636efa",
          "symbol": "circle"
         },
         "mode": "markers",
         "name": "",
         "orientation": "v",
         "showlegend": false,
         "type": "scatter",
         "x": [
          0,
          0,
          0,
          0,
          0,
          0,
          0,
          0,
          0,
          0,
          0.5,
          0.5,
          0.5,
          0.5,
          0.5,
          0.5,
          0.5,
          0.5,
          0.5,
          0.5,
          0.5,
          0.5,
          0.5,
          0.5,
          0.5,
          0.5,
          0.5,
          0.5,
          0.5,
          0.5,
          0.5,
          0.5,
          0.5,
          0.5,
          0.5,
          0.5,
          0.5,
          0.5,
          0.5,
          0.5,
          0.5,
          0.5,
          0.5,
          0.5,
          0.5,
          0.5,
          0.5,
          0.5,
          0.5,
          0.5,
          0.5,
          0.5,
          0.5,
          0.5,
          0.5,
          0.5,
          0.5,
          0.5,
          0.5,
          0.5,
          0.5,
          0.5,
          0.5,
          0.5,
          0.5,
          0.5,
          0.5,
          0.5,
          0.5,
          0.5,
          0.5,
          0.5,
          0.5,
          0.5,
          0.5,
          0.5,
          0.5,
          0.5,
          0.5,
          0.5,
          0.5,
          0.5,
          0.5,
          0.5,
          0.5,
          0.5,
          0.5,
          0.5,
          0.5,
          0.5,
          0.5,
          0.5,
          0.5,
          0.5,
          0.5,
          0.5,
          0.5,
          0.5,
          0.5,
          0.5,
          0.5,
          0.5,
          0.5,
          0.5,
          0.5,
          0.5,
          0.5,
          0.5,
          0.5,
          0.5,
          0.5,
          0.5,
          0.5,
          0.5,
          0.5,
          0.5,
          0.5,
          0.5,
          0.5,
          0.5,
          0.5,
          0.5,
          0.5,
          0.5,
          0.5,
          0.5,
          0.5,
          0.5,
          0.5,
          0.5,
          0.5,
          0.5,
          0.5,
          0.5,
          0.5,
          0.5,
          0.5,
          0.5,
          0.5,
          0.5,
          0.5,
          0.5,
          0.5,
          0.5,
          0.5,
          0.5,
          0.5,
          0.5,
          0.5,
          0.5,
          0.5,
          0.5,
          0.5,
          0.5,
          0.5,
          0.5,
          0.5,
          0.5,
          0.5,
          0.5,
          0.5,
          0.5,
          0.5,
          0.5,
          0.5,
          0.5,
          0.5,
          0.5,
          0.5,
          0.5,
          0.5,
          0.5,
          0.5,
          0.5,
          0.5,
          0.5,
          0.5,
          0.5,
          0.5,
          0.5,
          0.5,
          0.5,
          0.5,
          0.5,
          0.5,
          0.5,
          0.5,
          0.5,
          0.5,
          0.5,
          0.5,
          0.5,
          0.5,
          0.5,
          0.5,
          0.5,
          0.5,
          0.5,
          0.5,
          0.5,
          0.5,
          0.5,
          0.5,
          0.5,
          0.5,
          0.5,
          0.5,
          0.5,
          0.5,
          0.5,
          0.5,
          0.5,
          0.5,
          0.5,
          0.5,
          0.5,
          0.5,
          0.5,
          0.5,
          0.5,
          0.5,
          0.5,
          0.5,
          0.5,
          1,
          1,
          1,
          1,
          1,
          1,
          1,
          1,
          1,
          1,
          1,
          1,
          1,
          1,
          1,
          1,
          1,
          1,
          1,
          1,
          1,
          1,
          1,
          1,
          1,
          1,
          1,
          1,
          1,
          1,
          1,
          1,
          1,
          1,
          1,
          1,
          1,
          1,
          1,
          1,
          1,
          1,
          1,
          1,
          1,
          1,
          1,
          1,
          1,
          1,
          1,
          1,
          1,
          1,
          1,
          1,
          1,
          1,
          1,
          1,
          1,
          1,
          1,
          1,
          1,
          1,
          1,
          1,
          1,
          1,
          1,
          1,
          1,
          1,
          1,
          1,
          1,
          1,
          1,
          1,
          1,
          1
         ],
         "xaxis": "x",
         "y": [
          0,
          0,
          0,
          0,
          0,
          0,
          0,
          0,
          0,
          0,
          0.03125,
          0.03125,
          0.03125,
          0.03125,
          0.03125,
          0.03125,
          0.03125,
          0.03125,
          0.03125,
          0.03125,
          0.03125,
          0.03125,
          0.03125,
          0.03125,
          0.03125,
          0.03125,
          0.03125,
          0.03125,
          0.03125,
          0.03125,
          0.03125,
          0.03125,
          0.03125,
          0.03125,
          0.03125,
          0.03125,
          0.03125,
          0.03125,
          0.03125,
          0.03125,
          0.03125,
          0.03125,
          0.03125,
          0.03125,
          0.03125,
          0.03125,
          0.03125,
          0.03125,
          0.03125,
          0.03125,
          0.03125,
          0.03125,
          0.03125,
          0.03125,
          0.03125,
          0.03125,
          0.03125,
          0.03125,
          0.03125,
          0.03125,
          0.03125,
          0.03125,
          0.03125,
          0.03125,
          0.03125,
          0.03125,
          0.03125,
          0.03125,
          0.03125,
          0.03125,
          0.03125,
          0.03125,
          0.03125,
          0.03125,
          0.03125,
          0.03125,
          0.03125,
          0.03125,
          0.03125,
          0.03125,
          0.03125,
          0.03125,
          0.03125,
          0.03125,
          0.03125,
          0.03125,
          0.03125,
          0.03125,
          0.03125,
          0.03125,
          0.03125,
          0.03125,
          0.03125,
          0.03125,
          0.03125,
          0.03125,
          0.03125,
          0.03125,
          0.03125,
          0.03125,
          0.03125,
          0.03125,
          0.03125,
          0.03125,
          0.03125,
          0.03125,
          0.03125,
          0.03125,
          0.03125,
          0.03125,
          0.03125,
          0.03125,
          0.03125,
          0.03125,
          0.03125,
          0.03125,
          0.03125,
          0.03125,
          0.03125,
          0.03125,
          0.03125,
          0.03125,
          0.03125,
          -0.125,
          -0.125,
          -0.125,
          -0.125,
          -0.125,
          -0.125,
          -0.125,
          -0.125,
          -0.125,
          -0.125,
          -0.125,
          -0.125,
          -0.125,
          -0.125,
          -0.125,
          -0.125,
          -0.125,
          -0.125,
          -0.125,
          -0.125,
          -0.125,
          -0.125,
          -0.125,
          -0.125,
          -0.125,
          -0.125,
          -0.125,
          -0.125,
          -0.125,
          -0.125,
          -0.125,
          -0.125,
          -0.125,
          -0.25,
          -0.25,
          -0.25,
          -0.25,
          -0.25,
          -0.25,
          -0.25,
          -0.25,
          -0.25,
          -0.25,
          -0.25,
          -0.25,
          -0.25,
          -0.25,
          -0.25,
          -0.25,
          -0.25,
          -0.25,
          -0.25,
          -0.25,
          -0.25,
          -0.25,
          -0.25,
          -0.25,
          -0.25,
          -0.25,
          -0.25,
          -0.25,
          -0.25,
          -0.25,
          -0.25,
          -0.25,
          -0.25,
          -0.25,
          -0.25,
          -0.25,
          -0.25,
          -0.25,
          -0.25,
          -0.25,
          -0.25,
          -0.25,
          -0.25,
          -0.25,
          -0.25,
          -0.25,
          -0.25,
          -0.25,
          -0.25,
          -0.25,
          -0.25,
          -0.25,
          -0.25,
          -0.25,
          -0.25,
          -0.25,
          -0.25,
          -0.25,
          -0.25,
          -0.25,
          -0.25,
          -0.25,
          -0.25,
          -0.25,
          -0.25,
          -0.25,
          -0.25,
          -0.25,
          -0.25,
          -0.25,
          -0.25,
          -0.25,
          -0.25,
          -0.25,
          -0.25,
          -0.25,
          -0.25,
          -0.25,
          -0.25,
          -0.25,
          -0.25,
          -0.25,
          -0.25,
          -0.25,
          -0.25,
          -0.25,
          -0.25,
          -0.25,
          -0.25,
          -0.25,
          -0.25,
          -0.25,
          -0.25,
          -0.25,
          -0.25,
          -0.25,
          -0.25,
          -0.25,
          -0.25,
          -0.25,
          -0.25,
          -0.25,
          -0.25,
          -0.25,
          -0.25,
          -0.25,
          -0.25,
          -0.25,
          -0.25,
          -0.25,
          -0.25,
          -0.25,
          -0.25,
          -0.25,
          -0.25,
          -0.25,
          -0.25,
          -0.25,
          -0.25,
          -0.25,
          -0.375,
          -0.375,
          -0.375,
          -0.375,
          -0.375,
          -0.375,
          -0.375,
          -0.375,
          -0.375,
          -0.375,
          -0.375,
          -0.375,
          -0.375,
          -0.375,
          -0.375,
          -0.375,
          -0.375,
          -0.375,
          -0.375,
          -0.375,
          -0.375,
          -0.375,
          -0.375,
          -0.375,
          -0.375,
          -0.375,
          -0.375,
          -0.375,
          -0.375,
          -0.375
         ],
         "yaxis": "y"
        }
       ],
       "layout": {
        "legend": {
         "tracegroupgap": 0
        },
        "template": {
         "data": {
          "bar": [
           {
            "error_x": {
             "color": "#2a3f5f"
            },
            "error_y": {
             "color": "#2a3f5f"
            },
            "marker": {
             "line": {
              "color": "#E5ECF6",
              "width": 0.5
             },
             "pattern": {
              "fillmode": "overlay",
              "size": 10,
              "solidity": 0.2
             }
            },
            "type": "bar"
           }
          ],
          "barpolar": [
           {
            "marker": {
             "line": {
              "color": "#E5ECF6",
              "width": 0.5
             },
             "pattern": {
              "fillmode": "overlay",
              "size": 10,
              "solidity": 0.2
             }
            },
            "type": "barpolar"
           }
          ],
          "carpet": [
           {
            "aaxis": {
             "endlinecolor": "#2a3f5f",
             "gridcolor": "white",
             "linecolor": "white",
             "minorgridcolor": "white",
             "startlinecolor": "#2a3f5f"
            },
            "baxis": {
             "endlinecolor": "#2a3f5f",
             "gridcolor": "white",
             "linecolor": "white",
             "minorgridcolor": "white",
             "startlinecolor": "#2a3f5f"
            },
            "type": "carpet"
           }
          ],
          "choropleth": [
           {
            "colorbar": {
             "outlinewidth": 0,
             "ticks": ""
            },
            "type": "choropleth"
           }
          ],
          "contour": [
           {
            "colorbar": {
             "outlinewidth": 0,
             "ticks": ""
            },
            "colorscale": [
             [
              0,
              "#0d0887"
             ],
             [
              0.1111111111111111,
              "#46039f"
             ],
             [
              0.2222222222222222,
              "#7201a8"
             ],
             [
              0.3333333333333333,
              "#9c179e"
             ],
             [
              0.4444444444444444,
              "#bd3786"
             ],
             [
              0.5555555555555556,
              "#d8576b"
             ],
             [
              0.6666666666666666,
              "#ed7953"
             ],
             [
              0.7777777777777778,
              "#fb9f3a"
             ],
             [
              0.8888888888888888,
              "#fdca26"
             ],
             [
              1,
              "#f0f921"
             ]
            ],
            "type": "contour"
           }
          ],
          "contourcarpet": [
           {
            "colorbar": {
             "outlinewidth": 0,
             "ticks": ""
            },
            "type": "contourcarpet"
           }
          ],
          "heatmap": [
           {
            "colorbar": {
             "outlinewidth": 0,
             "ticks": ""
            },
            "colorscale": [
             [
              0,
              "#0d0887"
             ],
             [
              0.1111111111111111,
              "#46039f"
             ],
             [
              0.2222222222222222,
              "#7201a8"
             ],
             [
              0.3333333333333333,
              "#9c179e"
             ],
             [
              0.4444444444444444,
              "#bd3786"
             ],
             [
              0.5555555555555556,
              "#d8576b"
             ],
             [
              0.6666666666666666,
              "#ed7953"
             ],
             [
              0.7777777777777778,
              "#fb9f3a"
             ],
             [
              0.8888888888888888,
              "#fdca26"
             ],
             [
              1,
              "#f0f921"
             ]
            ],
            "type": "heatmap"
           }
          ],
          "heatmapgl": [
           {
            "colorbar": {
             "outlinewidth": 0,
             "ticks": ""
            },
            "colorscale": [
             [
              0,
              "#0d0887"
             ],
             [
              0.1111111111111111,
              "#46039f"
             ],
             [
              0.2222222222222222,
              "#7201a8"
             ],
             [
              0.3333333333333333,
              "#9c179e"
             ],
             [
              0.4444444444444444,
              "#bd3786"
             ],
             [
              0.5555555555555556,
              "#d8576b"
             ],
             [
              0.6666666666666666,
              "#ed7953"
             ],
             [
              0.7777777777777778,
              "#fb9f3a"
             ],
             [
              0.8888888888888888,
              "#fdca26"
             ],
             [
              1,
              "#f0f921"
             ]
            ],
            "type": "heatmapgl"
           }
          ],
          "histogram": [
           {
            "marker": {
             "pattern": {
              "fillmode": "overlay",
              "size": 10,
              "solidity": 0.2
             }
            },
            "type": "histogram"
           }
          ],
          "histogram2d": [
           {
            "colorbar": {
             "outlinewidth": 0,
             "ticks": ""
            },
            "colorscale": [
             [
              0,
              "#0d0887"
             ],
             [
              0.1111111111111111,
              "#46039f"
             ],
             [
              0.2222222222222222,
              "#7201a8"
             ],
             [
              0.3333333333333333,
              "#9c179e"
             ],
             [
              0.4444444444444444,
              "#bd3786"
             ],
             [
              0.5555555555555556,
              "#d8576b"
             ],
             [
              0.6666666666666666,
              "#ed7953"
             ],
             [
              0.7777777777777778,
              "#fb9f3a"
             ],
             [
              0.8888888888888888,
              "#fdca26"
             ],
             [
              1,
              "#f0f921"
             ]
            ],
            "type": "histogram2d"
           }
          ],
          "histogram2dcontour": [
           {
            "colorbar": {
             "outlinewidth": 0,
             "ticks": ""
            },
            "colorscale": [
             [
              0,
              "#0d0887"
             ],
             [
              0.1111111111111111,
              "#46039f"
             ],
             [
              0.2222222222222222,
              "#7201a8"
             ],
             [
              0.3333333333333333,
              "#9c179e"
             ],
             [
              0.4444444444444444,
              "#bd3786"
             ],
             [
              0.5555555555555556,
              "#d8576b"
             ],
             [
              0.6666666666666666,
              "#ed7953"
             ],
             [
              0.7777777777777778,
              "#fb9f3a"
             ],
             [
              0.8888888888888888,
              "#fdca26"
             ],
             [
              1,
              "#f0f921"
             ]
            ],
            "type": "histogram2dcontour"
           }
          ],
          "mesh3d": [
           {
            "colorbar": {
             "outlinewidth": 0,
             "ticks": ""
            },
            "type": "mesh3d"
           }
          ],
          "parcoords": [
           {
            "line": {
             "colorbar": {
              "outlinewidth": 0,
              "ticks": ""
             }
            },
            "type": "parcoords"
           }
          ],
          "pie": [
           {
            "automargin": true,
            "type": "pie"
           }
          ],
          "scatter": [
           {
            "fillpattern": {
             "fillmode": "overlay",
             "size": 10,
             "solidity": 0.2
            },
            "type": "scatter"
           }
          ],
          "scatter3d": [
           {
            "line": {
             "colorbar": {
              "outlinewidth": 0,
              "ticks": ""
             }
            },
            "marker": {
             "colorbar": {
              "outlinewidth": 0,
              "ticks": ""
             }
            },
            "type": "scatter3d"
           }
          ],
          "scattercarpet": [
           {
            "marker": {
             "colorbar": {
              "outlinewidth": 0,
              "ticks": ""
             }
            },
            "type": "scattercarpet"
           }
          ],
          "scattergeo": [
           {
            "marker": {
             "colorbar": {
              "outlinewidth": 0,
              "ticks": ""
             }
            },
            "type": "scattergeo"
           }
          ],
          "scattergl": [
           {
            "marker": {
             "colorbar": {
              "outlinewidth": 0,
              "ticks": ""
             }
            },
            "type": "scattergl"
           }
          ],
          "scattermapbox": [
           {
            "marker": {
             "colorbar": {
              "outlinewidth": 0,
              "ticks": ""
             }
            },
            "type": "scattermapbox"
           }
          ],
          "scatterpolar": [
           {
            "marker": {
             "colorbar": {
              "outlinewidth": 0,
              "ticks": ""
             }
            },
            "type": "scatterpolar"
           }
          ],
          "scatterpolargl": [
           {
            "marker": {
             "colorbar": {
              "outlinewidth": 0,
              "ticks": ""
             }
            },
            "type": "scatterpolargl"
           }
          ],
          "scatterternary": [
           {
            "marker": {
             "colorbar": {
              "outlinewidth": 0,
              "ticks": ""
             }
            },
            "type": "scatterternary"
           }
          ],
          "surface": [
           {
            "colorbar": {
             "outlinewidth": 0,
             "ticks": ""
            },
            "colorscale": [
             [
              0,
              "#0d0887"
             ],
             [
              0.1111111111111111,
              "#46039f"
             ],
             [
              0.2222222222222222,
              "#7201a8"
             ],
             [
              0.3333333333333333,
              "#9c179e"
             ],
             [
              0.4444444444444444,
              "#bd3786"
             ],
             [
              0.5555555555555556,
              "#d8576b"
             ],
             [
              0.6666666666666666,
              "#ed7953"
             ],
             [
              0.7777777777777778,
              "#fb9f3a"
             ],
             [
              0.8888888888888888,
              "#fdca26"
             ],
             [
              1,
              "#f0f921"
             ]
            ],
            "type": "surface"
           }
          ],
          "table": [
           {
            "cells": {
             "fill": {
              "color": "#EBF0F8"
             },
             "line": {
              "color": "white"
             }
            },
            "header": {
             "fill": {
              "color": "#C8D4E3"
             },
             "line": {
              "color": "white"
             }
            },
            "type": "table"
           }
          ]
         },
         "layout": {
          "annotationdefaults": {
           "arrowcolor": "#2a3f5f",
           "arrowhead": 0,
           "arrowwidth": 1
          },
          "autotypenumbers": "strict",
          "coloraxis": {
           "colorbar": {
            "outlinewidth": 0,
            "ticks": ""
           }
          },
          "colorscale": {
           "diverging": [
            [
             0,
             "#8e0152"
            ],
            [
             0.1,
             "#c51b7d"
            ],
            [
             0.2,
             "#de77ae"
            ],
            [
             0.3,
             "#f1b6da"
            ],
            [
             0.4,
             "#fde0ef"
            ],
            [
             0.5,
             "#f7f7f7"
            ],
            [
             0.6,
             "#e6f5d0"
            ],
            [
             0.7,
             "#b8e186"
            ],
            [
             0.8,
             "#7fbc41"
            ],
            [
             0.9,
             "#4d9221"
            ],
            [
             1,
             "#276419"
            ]
           ],
           "sequential": [
            [
             0,
             "#0d0887"
            ],
            [
             0.1111111111111111,
             "#46039f"
            ],
            [
             0.2222222222222222,
             "#7201a8"
            ],
            [
             0.3333333333333333,
             "#9c179e"
            ],
            [
             0.4444444444444444,
             "#bd3786"
            ],
            [
             0.5555555555555556,
             "#d8576b"
            ],
            [
             0.6666666666666666,
             "#ed7953"
            ],
            [
             0.7777777777777778,
             "#fb9f3a"
            ],
            [
             0.8888888888888888,
             "#fdca26"
            ],
            [
             1,
             "#f0f921"
            ]
           ],
           "sequentialminus": [
            [
             0,
             "#0d0887"
            ],
            [
             0.1111111111111111,
             "#46039f"
            ],
            [
             0.2222222222222222,
             "#7201a8"
            ],
            [
             0.3333333333333333,
             "#9c179e"
            ],
            [
             0.4444444444444444,
             "#bd3786"
            ],
            [
             0.5555555555555556,
             "#d8576b"
            ],
            [
             0.6666666666666666,
             "#ed7953"
            ],
            [
             0.7777777777777778,
             "#fb9f3a"
            ],
            [
             0.8888888888888888,
             "#fdca26"
            ],
            [
             1,
             "#f0f921"
            ]
           ]
          },
          "colorway": [
           "#636efa",
           "#EF553B",
           "#00cc96",
           "#ab63fa",
           "#FFA15A",
           "#19d3f3",
           "#FF6692",
           "#B6E880",
           "#FF97FF",
           "#FECB52"
          ],
          "font": {
           "color": "#2a3f5f"
          },
          "geo": {
           "bgcolor": "white",
           "lakecolor": "white",
           "landcolor": "#E5ECF6",
           "showlakes": true,
           "showland": true,
           "subunitcolor": "white"
          },
          "hoverlabel": {
           "align": "left"
          },
          "hovermode": "closest",
          "mapbox": {
           "style": "light"
          },
          "paper_bgcolor": "white",
          "plot_bgcolor": "#E5ECF6",
          "polar": {
           "angularaxis": {
            "gridcolor": "white",
            "linecolor": "white",
            "ticks": ""
           },
           "bgcolor": "#E5ECF6",
           "radialaxis": {
            "gridcolor": "white",
            "linecolor": "white",
            "ticks": ""
           }
          },
          "scene": {
           "xaxis": {
            "backgroundcolor": "#E5ECF6",
            "gridcolor": "white",
            "gridwidth": 2,
            "linecolor": "white",
            "showbackground": true,
            "ticks": "",
            "zerolinecolor": "white"
           },
           "yaxis": {
            "backgroundcolor": "#E5ECF6",
            "gridcolor": "white",
            "gridwidth": 2,
            "linecolor": "white",
            "showbackground": true,
            "ticks": "",
            "zerolinecolor": "white"
           },
           "zaxis": {
            "backgroundcolor": "#E5ECF6",
            "gridcolor": "white",
            "gridwidth": 2,
            "linecolor": "white",
            "showbackground": true,
            "ticks": "",
            "zerolinecolor": "white"
           }
          },
          "shapedefaults": {
           "line": {
            "color": "#2a3f5f"
           }
          },
          "ternary": {
           "aaxis": {
            "gridcolor": "white",
            "linecolor": "white",
            "ticks": ""
           },
           "baxis": {
            "gridcolor": "white",
            "linecolor": "white",
            "ticks": ""
           },
           "bgcolor": "#E5ECF6",
           "caxis": {
            "gridcolor": "white",
            "linecolor": "white",
            "ticks": ""
           }
          },
          "title": {
           "x": 0.05
          },
          "xaxis": {
           "automargin": true,
           "gridcolor": "white",
           "linecolor": "white",
           "ticks": "",
           "title": {
            "standoff": 15
           },
           "zerolinecolor": "white",
           "zerolinewidth": 2
          },
          "yaxis": {
           "automargin": true,
           "gridcolor": "white",
           "linecolor": "white",
           "ticks": "",
           "title": {
            "standoff": 15
           },
           "zerolinecolor": "white",
           "zerolinewidth": 2
          }
         }
        },
        "title": {
         "text": "Open Space"
        },
        "xaxis": {
         "anchor": "y",
         "domain": [
          0,
          1
         ],
         "title": {
          "text": "Northing (M)"
         }
        },
        "yaxis": {
         "anchor": "x",
         "domain": [
          0,
          1
         ],
         "title": {
          "text": "Easting (M)"
         }
        }
       }
      }
     },
     "metadata": {},
     "output_type": "display_data"
    }
   ],
   "source": [
    "import plotly.express as px\n",
    "# Scatterplots of the Northing vs. Easting data\n",
    "fig = px.scatter(gps_df_op, x=\"modified_northing\", y=\"modified_easting\", labels={\"modified_northing\": \"Northing (M)\", \"modified_easting\": \"Easting (M)\"}, title=\"Open Space\")\n",
    "fig.show()"
   ]
  },
  {
   "attachments": {},
   "cell_type": "markdown",
   "metadata": {},
   "source": [
    "# Range of position\n",
    "northing - (0,1)\n",
    "easting - (-0.4,0)\n",
    "***"
   ]
  },
  {
   "cell_type": "code",
   "execution_count": 10,
   "metadata": {},
   "outputs": [
    {
     "data": {
      "application/vnd.plotly.v1+json": {
       "config": {
        "plotlyServerURL": "https://plot.ly"
       },
       "data": [
        {
         "hovertemplate": "Northing (M)=%{x}<br>Easting (M)=%{y}<extra></extra>",
         "legendgroup": "",
         "marker": {
          "color": "#636efa",
          "symbol": "circle"
         },
         "mode": "markers",
         "name": "",
         "orientation": "v",
         "showlegend": false,
         "type": "scatter",
         "x": [
          0,
          0,
          0,
          0,
          0,
          0,
          0,
          0,
          0,
          0,
          0.5,
          0.5,
          0.5,
          0.5,
          0.5,
          0.5,
          0.5,
          0.5,
          0.5,
          0.5,
          0.5,
          0.5,
          0.5,
          0.5,
          0.5,
          0.5,
          0.5,
          0.5,
          0.5,
          0.5,
          0.5,
          0.5,
          0.5,
          0.5,
          0.5,
          0.5,
          0.5,
          0.5,
          0.5,
          0.5,
          0.5,
          0.5,
          0.5,
          0.5,
          0.5,
          0.5,
          0.5,
          0.5,
          0.5,
          0.5,
          0.5,
          0.5,
          0.5,
          0.5,
          0.5,
          0.5,
          0.5,
          0.5,
          0.5,
          0.5,
          0.5,
          0.5,
          0.5,
          0.5,
          0.5,
          0.5,
          0.5,
          0.5,
          0.5,
          0.5,
          0.5,
          0.5,
          0.5,
          0.5,
          0.5,
          0.5,
          0.5,
          0.5,
          0.5,
          0.5,
          0.5,
          0.5,
          0.5,
          0.5,
          0.5,
          0.5,
          0.5,
          0.5,
          0.5,
          0.5,
          0.5,
          0.5,
          0.5,
          0.5,
          0.5,
          0.5,
          0.5,
          0.5,
          0.5,
          0.5,
          0.5,
          0.5,
          0.5,
          0.5,
          0.5,
          0.5,
          0.5,
          0.5,
          0.5,
          0.5,
          0.5,
          0.5,
          0.5,
          0.5,
          0.5,
          0.5,
          0.5,
          0.5,
          0.5,
          0.5,
          0.5,
          0.5,
          0.5,
          0.5,
          0.5,
          0.5,
          0.5,
          0.5,
          0.5,
          0.5,
          0.5,
          0.5,
          0.5,
          0.5,
          0.5,
          0.5,
          0.5,
          0.5,
          0.5,
          0.5,
          0.5,
          0.5,
          0.5,
          0.5,
          0.5,
          0.5,
          0.5,
          0.5,
          0.5,
          0.5,
          0.5,
          0.5,
          0.5,
          0.5,
          0.5,
          0.5,
          0.5,
          0.5,
          0.5,
          0.5,
          0.5,
          0.5,
          0.5,
          0.5,
          0.5,
          0.5,
          0.5,
          0.5,
          0.5,
          0.5,
          0.5,
          0.5,
          0.5,
          0.5,
          0.5,
          0.5,
          0.5,
          0.5,
          0.5,
          0.5,
          0.5,
          0.5,
          0.5,
          0.5,
          0.5,
          0.5,
          0.5,
          0.5,
          0.5,
          0.5,
          0.5,
          0.5,
          0.5,
          0.5,
          0.5,
          0.5,
          0.5,
          0.5,
          0.5,
          0.5,
          0.5,
          0.5,
          0.5,
          0.5,
          0.5,
          0.5,
          0.5,
          0.5,
          0.5,
          0.5,
          0.5,
          0.5,
          0.5,
          0.5,
          0.5,
          0.5,
          0.5,
          0.5,
          0.5,
          0.5,
          0.5,
          0.5,
          0.5,
          0.5,
          1,
          1,
          1,
          1,
          1,
          1,
          1,
          1,
          1,
          1,
          1,
          1,
          1,
          1,
          1,
          1,
          1,
          1,
          1,
          1,
          1,
          1,
          1,
          1,
          1,
          1,
          1,
          1,
          1,
          1,
          1,
          1,
          1,
          1,
          1,
          1,
          1,
          1,
          1,
          1,
          1,
          1,
          1,
          1,
          1,
          1,
          1,
          1,
          1,
          1,
          1,
          1,
          1,
          1,
          1,
          1,
          1,
          1,
          1,
          1,
          1,
          1,
          1,
          1,
          1,
          1,
          1,
          1,
          1,
          1,
          1,
          1,
          1,
          1,
          1,
          1,
          1,
          1,
          1,
          1,
          1,
          1
         ],
         "xaxis": "x",
         "y": [
          0,
          0,
          0,
          0,
          0,
          0,
          0,
          0,
          0,
          0,
          0.03125,
          0.03125,
          0.03125,
          0.03125,
          0.03125,
          0.03125,
          0.03125,
          0.03125,
          0.03125,
          0.03125,
          0.03125,
          0.03125,
          0.03125,
          0.03125,
          0.03125,
          0.03125,
          0.03125,
          0.03125,
          0.03125,
          0.03125,
          0.03125,
          0.03125,
          0.03125,
          0.03125,
          0.03125,
          0.03125,
          0.03125,
          0.03125,
          0.03125,
          0.03125,
          0.03125,
          0.03125,
          0.03125,
          0.03125,
          0.03125,
          0.03125,
          0.03125,
          0.03125,
          0.03125,
          0.03125,
          0.03125,
          0.03125,
          0.03125,
          0.03125,
          0.03125,
          0.03125,
          0.03125,
          0.03125,
          0.03125,
          0.03125,
          0.03125,
          0.03125,
          0.03125,
          0.03125,
          0.03125,
          0.03125,
          0.03125,
          0.03125,
          0.03125,
          0.03125,
          0.03125,
          0.03125,
          0.03125,
          0.03125,
          0.03125,
          0.03125,
          0.03125,
          0.03125,
          0.03125,
          0.03125,
          0.03125,
          0.03125,
          0.03125,
          0.03125,
          0.03125,
          0.03125,
          0.03125,
          0.03125,
          0.03125,
          0.03125,
          0.03125,
          0.03125,
          0.03125,
          0.03125,
          0.03125,
          0.03125,
          0.03125,
          0.03125,
          0.03125,
          0.03125,
          0.03125,
          0.03125,
          0.03125,
          0.03125,
          0.03125,
          0.03125,
          0.03125,
          0.03125,
          0.03125,
          0.03125,
          0.03125,
          0.03125,
          0.03125,
          0.03125,
          0.03125,
          0.03125,
          0.03125,
          0.03125,
          0.03125,
          0.03125,
          0.03125,
          0.03125,
          0.03125,
          -0.125,
          -0.125,
          -0.125,
          -0.125,
          -0.125,
          -0.125,
          -0.125,
          -0.125,
          -0.125,
          -0.125,
          -0.125,
          -0.125,
          -0.125,
          -0.125,
          -0.125,
          -0.125,
          -0.125,
          -0.125,
          -0.125,
          -0.125,
          -0.125,
          -0.125,
          -0.125,
          -0.125,
          -0.125,
          -0.125,
          -0.125,
          -0.125,
          -0.125,
          -0.125,
          -0.125,
          -0.125,
          -0.125,
          -0.25,
          -0.25,
          -0.25,
          -0.25,
          -0.25,
          -0.25,
          -0.25,
          -0.25,
          -0.25,
          -0.25,
          -0.25,
          -0.25,
          -0.25,
          -0.25,
          -0.25,
          -0.25,
          -0.25,
          -0.25,
          -0.25,
          -0.25,
          -0.25,
          -0.25,
          -0.25,
          -0.25,
          -0.25,
          -0.25,
          -0.25,
          -0.25,
          -0.25,
          -0.25,
          -0.25,
          -0.25,
          -0.25,
          -0.25,
          -0.25,
          -0.25,
          -0.25,
          -0.25,
          -0.25,
          -0.25,
          -0.25,
          -0.25,
          -0.25,
          -0.25,
          -0.25,
          -0.25,
          -0.25,
          -0.25,
          -0.25,
          -0.25,
          -0.25,
          -0.25,
          -0.25,
          -0.25,
          -0.25,
          -0.25,
          -0.25,
          -0.25,
          -0.25,
          -0.25,
          -0.25,
          -0.25,
          -0.25,
          -0.25,
          -0.25,
          -0.25,
          -0.25,
          -0.25,
          -0.25,
          -0.25,
          -0.25,
          -0.25,
          -0.25,
          -0.25,
          -0.25,
          -0.25,
          -0.25,
          -0.25,
          -0.25,
          -0.25,
          -0.25,
          -0.25,
          -0.25,
          -0.25,
          -0.25,
          -0.25,
          -0.25,
          -0.25,
          -0.25,
          -0.25,
          -0.25,
          -0.25,
          -0.25,
          -0.25,
          -0.25,
          -0.25,
          -0.25,
          -0.25,
          -0.25,
          -0.25,
          -0.25,
          -0.25,
          -0.25,
          -0.25,
          -0.25,
          -0.25,
          -0.25,
          -0.25,
          -0.25,
          -0.25,
          -0.25,
          -0.25,
          -0.25,
          -0.25,
          -0.25,
          -0.25,
          -0.25,
          -0.25,
          -0.25,
          -0.25,
          -0.375,
          -0.375,
          -0.375,
          -0.375,
          -0.375,
          -0.375,
          -0.375,
          -0.375,
          -0.375,
          -0.375,
          -0.375,
          -0.375,
          -0.375,
          -0.375,
          -0.375,
          -0.375,
          -0.375,
          -0.375,
          -0.375,
          -0.375,
          -0.375,
          -0.375,
          -0.375,
          -0.375,
          -0.375,
          -0.375,
          -0.375,
          -0.375,
          -0.375,
          -0.375
         ],
         "yaxis": "y"
        },
        {
         "name": "Actual position",
         "type": "scatter",
         "x": [
          27.12311747856438
         ],
         "y": [
          16.76398145512212
         ]
        }
       ],
       "layout": {
        "legend": {
         "tracegroupgap": 0
        },
        "template": {
         "data": {
          "bar": [
           {
            "error_x": {
             "color": "#2a3f5f"
            },
            "error_y": {
             "color": "#2a3f5f"
            },
            "marker": {
             "line": {
              "color": "#E5ECF6",
              "width": 0.5
             },
             "pattern": {
              "fillmode": "overlay",
              "size": 10,
              "solidity": 0.2
             }
            },
            "type": "bar"
           }
          ],
          "barpolar": [
           {
            "marker": {
             "line": {
              "color": "#E5ECF6",
              "width": 0.5
             },
             "pattern": {
              "fillmode": "overlay",
              "size": 10,
              "solidity": 0.2
             }
            },
            "type": "barpolar"
           }
          ],
          "carpet": [
           {
            "aaxis": {
             "endlinecolor": "#2a3f5f",
             "gridcolor": "white",
             "linecolor": "white",
             "minorgridcolor": "white",
             "startlinecolor": "#2a3f5f"
            },
            "baxis": {
             "endlinecolor": "#2a3f5f",
             "gridcolor": "white",
             "linecolor": "white",
             "minorgridcolor": "white",
             "startlinecolor": "#2a3f5f"
            },
            "type": "carpet"
           }
          ],
          "choropleth": [
           {
            "colorbar": {
             "outlinewidth": 0,
             "ticks": ""
            },
            "type": "choropleth"
           }
          ],
          "contour": [
           {
            "colorbar": {
             "outlinewidth": 0,
             "ticks": ""
            },
            "colorscale": [
             [
              0,
              "#0d0887"
             ],
             [
              0.1111111111111111,
              "#46039f"
             ],
             [
              0.2222222222222222,
              "#7201a8"
             ],
             [
              0.3333333333333333,
              "#9c179e"
             ],
             [
              0.4444444444444444,
              "#bd3786"
             ],
             [
              0.5555555555555556,
              "#d8576b"
             ],
             [
              0.6666666666666666,
              "#ed7953"
             ],
             [
              0.7777777777777778,
              "#fb9f3a"
             ],
             [
              0.8888888888888888,
              "#fdca26"
             ],
             [
              1,
              "#f0f921"
             ]
            ],
            "type": "contour"
           }
          ],
          "contourcarpet": [
           {
            "colorbar": {
             "outlinewidth": 0,
             "ticks": ""
            },
            "type": "contourcarpet"
           }
          ],
          "heatmap": [
           {
            "colorbar": {
             "outlinewidth": 0,
             "ticks": ""
            },
            "colorscale": [
             [
              0,
              "#0d0887"
             ],
             [
              0.1111111111111111,
              "#46039f"
             ],
             [
              0.2222222222222222,
              "#7201a8"
             ],
             [
              0.3333333333333333,
              "#9c179e"
             ],
             [
              0.4444444444444444,
              "#bd3786"
             ],
             [
              0.5555555555555556,
              "#d8576b"
             ],
             [
              0.6666666666666666,
              "#ed7953"
             ],
             [
              0.7777777777777778,
              "#fb9f3a"
             ],
             [
              0.8888888888888888,
              "#fdca26"
             ],
             [
              1,
              "#f0f921"
             ]
            ],
            "type": "heatmap"
           }
          ],
          "heatmapgl": [
           {
            "colorbar": {
             "outlinewidth": 0,
             "ticks": ""
            },
            "colorscale": [
             [
              0,
              "#0d0887"
             ],
             [
              0.1111111111111111,
              "#46039f"
             ],
             [
              0.2222222222222222,
              "#7201a8"
             ],
             [
              0.3333333333333333,
              "#9c179e"
             ],
             [
              0.4444444444444444,
              "#bd3786"
             ],
             [
              0.5555555555555556,
              "#d8576b"
             ],
             [
              0.6666666666666666,
              "#ed7953"
             ],
             [
              0.7777777777777778,
              "#fb9f3a"
             ],
             [
              0.8888888888888888,
              "#fdca26"
             ],
             [
              1,
              "#f0f921"
             ]
            ],
            "type": "heatmapgl"
           }
          ],
          "histogram": [
           {
            "marker": {
             "pattern": {
              "fillmode": "overlay",
              "size": 10,
              "solidity": 0.2
             }
            },
            "type": "histogram"
           }
          ],
          "histogram2d": [
           {
            "colorbar": {
             "outlinewidth": 0,
             "ticks": ""
            },
            "colorscale": [
             [
              0,
              "#0d0887"
             ],
             [
              0.1111111111111111,
              "#46039f"
             ],
             [
              0.2222222222222222,
              "#7201a8"
             ],
             [
              0.3333333333333333,
              "#9c179e"
             ],
             [
              0.4444444444444444,
              "#bd3786"
             ],
             [
              0.5555555555555556,
              "#d8576b"
             ],
             [
              0.6666666666666666,
              "#ed7953"
             ],
             [
              0.7777777777777778,
              "#fb9f3a"
             ],
             [
              0.8888888888888888,
              "#fdca26"
             ],
             [
              1,
              "#f0f921"
             ]
            ],
            "type": "histogram2d"
           }
          ],
          "histogram2dcontour": [
           {
            "colorbar": {
             "outlinewidth": 0,
             "ticks": ""
            },
            "colorscale": [
             [
              0,
              "#0d0887"
             ],
             [
              0.1111111111111111,
              "#46039f"
             ],
             [
              0.2222222222222222,
              "#7201a8"
             ],
             [
              0.3333333333333333,
              "#9c179e"
             ],
             [
              0.4444444444444444,
              "#bd3786"
             ],
             [
              0.5555555555555556,
              "#d8576b"
             ],
             [
              0.6666666666666666,
              "#ed7953"
             ],
             [
              0.7777777777777778,
              "#fb9f3a"
             ],
             [
              0.8888888888888888,
              "#fdca26"
             ],
             [
              1,
              "#f0f921"
             ]
            ],
            "type": "histogram2dcontour"
           }
          ],
          "mesh3d": [
           {
            "colorbar": {
             "outlinewidth": 0,
             "ticks": ""
            },
            "type": "mesh3d"
           }
          ],
          "parcoords": [
           {
            "line": {
             "colorbar": {
              "outlinewidth": 0,
              "ticks": ""
             }
            },
            "type": "parcoords"
           }
          ],
          "pie": [
           {
            "automargin": true,
            "type": "pie"
           }
          ],
          "scatter": [
           {
            "fillpattern": {
             "fillmode": "overlay",
             "size": 10,
             "solidity": 0.2
            },
            "type": "scatter"
           }
          ],
          "scatter3d": [
           {
            "line": {
             "colorbar": {
              "outlinewidth": 0,
              "ticks": ""
             }
            },
            "marker": {
             "colorbar": {
              "outlinewidth": 0,
              "ticks": ""
             }
            },
            "type": "scatter3d"
           }
          ],
          "scattercarpet": [
           {
            "marker": {
             "colorbar": {
              "outlinewidth": 0,
              "ticks": ""
             }
            },
            "type": "scattercarpet"
           }
          ],
          "scattergeo": [
           {
            "marker": {
             "colorbar": {
              "outlinewidth": 0,
              "ticks": ""
             }
            },
            "type": "scattergeo"
           }
          ],
          "scattergl": [
           {
            "marker": {
             "colorbar": {
              "outlinewidth": 0,
              "ticks": ""
             }
            },
            "type": "scattergl"
           }
          ],
          "scattermapbox": [
           {
            "marker": {
             "colorbar": {
              "outlinewidth": 0,
              "ticks": ""
             }
            },
            "type": "scattermapbox"
           }
          ],
          "scatterpolar": [
           {
            "marker": {
             "colorbar": {
              "outlinewidth": 0,
              "ticks": ""
             }
            },
            "type": "scatterpolar"
           }
          ],
          "scatterpolargl": [
           {
            "marker": {
             "colorbar": {
              "outlinewidth": 0,
              "ticks": ""
             }
            },
            "type": "scatterpolargl"
           }
          ],
          "scatterternary": [
           {
            "marker": {
             "colorbar": {
              "outlinewidth": 0,
              "ticks": ""
             }
            },
            "type": "scatterternary"
           }
          ],
          "surface": [
           {
            "colorbar": {
             "outlinewidth": 0,
             "ticks": ""
            },
            "colorscale": [
             [
              0,
              "#0d0887"
             ],
             [
              0.1111111111111111,
              "#46039f"
             ],
             [
              0.2222222222222222,
              "#7201a8"
             ],
             [
              0.3333333333333333,
              "#9c179e"
             ],
             [
              0.4444444444444444,
              "#bd3786"
             ],
             [
              0.5555555555555556,
              "#d8576b"
             ],
             [
              0.6666666666666666,
              "#ed7953"
             ],
             [
              0.7777777777777778,
              "#fb9f3a"
             ],
             [
              0.8888888888888888,
              "#fdca26"
             ],
             [
              1,
              "#f0f921"
             ]
            ],
            "type": "surface"
           }
          ],
          "table": [
           {
            "cells": {
             "fill": {
              "color": "#EBF0F8"
             },
             "line": {
              "color": "white"
             }
            },
            "header": {
             "fill": {
              "color": "#C8D4E3"
             },
             "line": {
              "color": "white"
             }
            },
            "type": "table"
           }
          ]
         },
         "layout": {
          "annotationdefaults": {
           "arrowcolor": "#2a3f5f",
           "arrowhead": 0,
           "arrowwidth": 1
          },
          "autotypenumbers": "strict",
          "coloraxis": {
           "colorbar": {
            "outlinewidth": 0,
            "ticks": ""
           }
          },
          "colorscale": {
           "diverging": [
            [
             0,
             "#8e0152"
            ],
            [
             0.1,
             "#c51b7d"
            ],
            [
             0.2,
             "#de77ae"
            ],
            [
             0.3,
             "#f1b6da"
            ],
            [
             0.4,
             "#fde0ef"
            ],
            [
             0.5,
             "#f7f7f7"
            ],
            [
             0.6,
             "#e6f5d0"
            ],
            [
             0.7,
             "#b8e186"
            ],
            [
             0.8,
             "#7fbc41"
            ],
            [
             0.9,
             "#4d9221"
            ],
            [
             1,
             "#276419"
            ]
           ],
           "sequential": [
            [
             0,
             "#0d0887"
            ],
            [
             0.1111111111111111,
             "#46039f"
            ],
            [
             0.2222222222222222,
             "#7201a8"
            ],
            [
             0.3333333333333333,
             "#9c179e"
            ],
            [
             0.4444444444444444,
             "#bd3786"
            ],
            [
             0.5555555555555556,
             "#d8576b"
            ],
            [
             0.6666666666666666,
             "#ed7953"
            ],
            [
             0.7777777777777778,
             "#fb9f3a"
            ],
            [
             0.8888888888888888,
             "#fdca26"
            ],
            [
             1,
             "#f0f921"
            ]
           ],
           "sequentialminus": [
            [
             0,
             "#0d0887"
            ],
            [
             0.1111111111111111,
             "#46039f"
            ],
            [
             0.2222222222222222,
             "#7201a8"
            ],
            [
             0.3333333333333333,
             "#9c179e"
            ],
            [
             0.4444444444444444,
             "#bd3786"
            ],
            [
             0.5555555555555556,
             "#d8576b"
            ],
            [
             0.6666666666666666,
             "#ed7953"
            ],
            [
             0.7777777777777778,
             "#fb9f3a"
            ],
            [
             0.8888888888888888,
             "#fdca26"
            ],
            [
             1,
             "#f0f921"
            ]
           ]
          },
          "colorway": [
           "#636efa",
           "#EF553B",
           "#00cc96",
           "#ab63fa",
           "#FFA15A",
           "#19d3f3",
           "#FF6692",
           "#B6E880",
           "#FF97FF",
           "#FECB52"
          ],
          "font": {
           "color": "#2a3f5f"
          },
          "geo": {
           "bgcolor": "white",
           "lakecolor": "white",
           "landcolor": "#E5ECF6",
           "showlakes": true,
           "showland": true,
           "subunitcolor": "white"
          },
          "hoverlabel": {
           "align": "left"
          },
          "hovermode": "closest",
          "mapbox": {
           "style": "light"
          },
          "paper_bgcolor": "white",
          "plot_bgcolor": "#E5ECF6",
          "polar": {
           "angularaxis": {
            "gridcolor": "white",
            "linecolor": "white",
            "ticks": ""
           },
           "bgcolor": "#E5ECF6",
           "radialaxis": {
            "gridcolor": "white",
            "linecolor": "white",
            "ticks": ""
           }
          },
          "scene": {
           "xaxis": {
            "backgroundcolor": "#E5ECF6",
            "gridcolor": "white",
            "gridwidth": 2,
            "linecolor": "white",
            "showbackground": true,
            "ticks": "",
            "zerolinecolor": "white"
           },
           "yaxis": {
            "backgroundcolor": "#E5ECF6",
            "gridcolor": "white",
            "gridwidth": 2,
            "linecolor": "white",
            "showbackground": true,
            "ticks": "",
            "zerolinecolor": "white"
           },
           "zaxis": {
            "backgroundcolor": "#E5ECF6",
            "gridcolor": "white",
            "gridwidth": 2,
            "linecolor": "white",
            "showbackground": true,
            "ticks": "",
            "zerolinecolor": "white"
           }
          },
          "shapedefaults": {
           "line": {
            "color": "#2a3f5f"
           }
          },
          "ternary": {
           "aaxis": {
            "gridcolor": "white",
            "linecolor": "white",
            "ticks": ""
           },
           "baxis": {
            "gridcolor": "white",
            "linecolor": "white",
            "ticks": ""
           },
           "bgcolor": "#E5ECF6",
           "caxis": {
            "gridcolor": "white",
            "linecolor": "white",
            "ticks": ""
           }
          },
          "title": {
           "x": 0.05
          },
          "xaxis": {
           "automargin": true,
           "gridcolor": "white",
           "linecolor": "white",
           "ticks": "",
           "title": {
            "standoff": 15
           },
           "zerolinecolor": "white",
           "zerolinewidth": 2
          },
          "yaxis": {
           "automargin": true,
           "gridcolor": "white",
           "linecolor": "white",
           "ticks": "",
           "title": {
            "standoff": 15
           },
           "zerolinecolor": "white",
           "zerolinewidth": 2
          }
         }
        },
        "title": {
         "text": "Open Space"
        },
        "xaxis": {
         "anchor": "y",
         "domain": [
          0,
          1
         ],
         "title": {
          "text": "Northing (M)"
         }
        },
        "yaxis": {
         "anchor": "x",
         "domain": [
          0,
          1
         ],
         "title": {
          "text": "Easting (M)"
         }
        }
       }
      }
     },
     "metadata": {},
     "output_type": "display_data"
    }
   ],
   "source": [
    "# Comparision between gps and google map position\n",
    "x = known_northing - gps_df_op.UTM_northing[0]\n",
    "y = known_easting - gps_df_op.UTM_easting[0]\n",
    "fig.add_scatter(x=[x],y=[y],name='Actual position')\n",
    "fig.show()"
   ]
  },
  {
   "attachments": {},
   "cell_type": "markdown",
   "metadata": {},
   "source": [
    "# HDOP value - 1.2"
   ]
  },
  {
   "cell_type": "code",
   "execution_count": 11,
   "metadata": {},
   "outputs": [
    {
     "data": {
      "text/plain": [
       "array([1.20000005])"
      ]
     },
     "execution_count": 11,
     "metadata": {},
     "output_type": "execute_result"
    }
   ],
   "source": [
    "gps_df_op['HDOP'].unique()"
   ]
  },
  {
   "cell_type": "code",
   "execution_count": 12,
   "metadata": {},
   "outputs": [
    {
     "data": {
      "text/plain": [
       "array([0. , 0.5, 1. ])"
      ]
     },
     "execution_count": 12,
     "metadata": {},
     "output_type": "execute_result"
    }
   ],
   "source": [
    "gps_df_op['modified_northing'].unique()"
   ]
  },
  {
   "cell_type": "code",
   "execution_count": 13,
   "metadata": {},
   "outputs": [
    {
     "data": {
      "text/plain": [
       "array([ 0.     ,  0.03125, -0.125  , -0.25   , -0.375  ])"
      ]
     },
     "execution_count": 13,
     "metadata": {},
     "output_type": "execute_result"
    }
   ],
   "source": [
    "gps_df_op['modified_easting'].unique()"
   ]
  },
  {
   "attachments": {},
   "cell_type": "markdown",
   "metadata": {},
   "source": [
    "From the scatter plot we can observe that the data collected from GPS puck has a decent precision in temrs of position. We can assume that, since the HDOP value was greater than 1 some error in precision may occur.\n",
    "***"
   ]
  },
  {
   "cell_type": "code",
   "execution_count": 14,
   "metadata": {},
   "outputs": [
    {
     "data": {
      "text/html": [
       "<div>\n",
       "<style scoped>\n",
       "    .dataframe tbody tr th:only-of-type {\n",
       "        vertical-align: middle;\n",
       "    }\n",
       "\n",
       "    .dataframe tbody tr th {\n",
       "        vertical-align: top;\n",
       "    }\n",
       "\n",
       "    .dataframe thead th {\n",
       "        text-align: right;\n",
       "    }\n",
       "</style>\n",
       "<table border=\"1\" class=\"dataframe\">\n",
       "  <thead>\n",
       "    <tr style=\"text-align: right;\">\n",
       "      <th></th>\n",
       "      <th>Time</th>\n",
       "      <th>Header.seq</th>\n",
       "      <th>Header.stamp.secs</th>\n",
       "      <th>Header.stamp.nsecs</th>\n",
       "      <th>Header.frame_id</th>\n",
       "      <th>Latitude</th>\n",
       "      <th>Longitude</th>\n",
       "      <th>Altitude</th>\n",
       "      <th>HDOP</th>\n",
       "      <th>UTM_easting</th>\n",
       "      <th>UTM_northing</th>\n",
       "      <th>UTC</th>\n",
       "      <th>Zone</th>\n",
       "      <th>Letter</th>\n",
       "      <th>modified_northing</th>\n",
       "      <th>modified_easting</th>\n",
       "      <th>error</th>\n",
       "    </tr>\n",
       "  </thead>\n",
       "  <tbody>\n",
       "    <tr>\n",
       "      <th>301</th>\n",
       "      <td>1.675378e+09</td>\n",
       "      <td>317</td>\n",
       "      <td>225240</td>\n",
       "      <td>0</td>\n",
       "      <td>GPS1_Frame</td>\n",
       "      <td>42.30751</td>\n",
       "      <td>-71.107719</td>\n",
       "      <td>18.3 M</td>\n",
       "      <td>1.2</td>\n",
       "      <td>326282.84375</td>\n",
       "      <td>4686071.0</td>\n",
       "      <td>225240.0</td>\n",
       "      <td>19</td>\n",
       "      <td>T</td>\n",
       "      <td>1.0</td>\n",
       "      <td>-0.375</td>\n",
       "      <td>31.243591</td>\n",
       "    </tr>\n",
       "    <tr>\n",
       "      <th>302</th>\n",
       "      <td>1.675378e+09</td>\n",
       "      <td>318</td>\n",
       "      <td>225241</td>\n",
       "      <td>0</td>\n",
       "      <td>GPS1_Frame</td>\n",
       "      <td>42.30751</td>\n",
       "      <td>-71.107719</td>\n",
       "      <td>18.3 M</td>\n",
       "      <td>1.2</td>\n",
       "      <td>326282.84375</td>\n",
       "      <td>4686071.0</td>\n",
       "      <td>225241.0</td>\n",
       "      <td>19</td>\n",
       "      <td>T</td>\n",
       "      <td>1.0</td>\n",
       "      <td>-0.375</td>\n",
       "      <td>31.243591</td>\n",
       "    </tr>\n",
       "    <tr>\n",
       "      <th>303</th>\n",
       "      <td>1.675378e+09</td>\n",
       "      <td>319</td>\n",
       "      <td>225242</td>\n",
       "      <td>0</td>\n",
       "      <td>GPS1_Frame</td>\n",
       "      <td>42.30751</td>\n",
       "      <td>-71.107719</td>\n",
       "      <td>18.3 M</td>\n",
       "      <td>1.2</td>\n",
       "      <td>326282.84375</td>\n",
       "      <td>4686071.0</td>\n",
       "      <td>225242.0</td>\n",
       "      <td>19</td>\n",
       "      <td>T</td>\n",
       "      <td>1.0</td>\n",
       "      <td>-0.375</td>\n",
       "      <td>31.243591</td>\n",
       "    </tr>\n",
       "    <tr>\n",
       "      <th>304</th>\n",
       "      <td>1.675378e+09</td>\n",
       "      <td>320</td>\n",
       "      <td>225243</td>\n",
       "      <td>0</td>\n",
       "      <td>GPS1_Frame</td>\n",
       "      <td>42.30751</td>\n",
       "      <td>-71.107719</td>\n",
       "      <td>18.3 M</td>\n",
       "      <td>1.2</td>\n",
       "      <td>326282.84375</td>\n",
       "      <td>4686071.0</td>\n",
       "      <td>225243.0</td>\n",
       "      <td>19</td>\n",
       "      <td>T</td>\n",
       "      <td>1.0</td>\n",
       "      <td>-0.375</td>\n",
       "      <td>31.243591</td>\n",
       "    </tr>\n",
       "    <tr>\n",
       "      <th>305</th>\n",
       "      <td>1.675378e+09</td>\n",
       "      <td>321</td>\n",
       "      <td>225244</td>\n",
       "      <td>0</td>\n",
       "      <td>GPS1_Frame</td>\n",
       "      <td>42.30751</td>\n",
       "      <td>-71.107719</td>\n",
       "      <td>18.3 M</td>\n",
       "      <td>1.2</td>\n",
       "      <td>326282.84375</td>\n",
       "      <td>4686071.0</td>\n",
       "      <td>225244.0</td>\n",
       "      <td>19</td>\n",
       "      <td>T</td>\n",
       "      <td>1.0</td>\n",
       "      <td>-0.375</td>\n",
       "      <td>31.243591</td>\n",
       "    </tr>\n",
       "  </tbody>\n",
       "</table>\n",
       "</div>"
      ],
      "text/plain": [
       "             Time  Header.seq  Header.stamp.secs  Header.stamp.nsecs  \\\n",
       "301  1.675378e+09         317             225240                   0   \n",
       "302  1.675378e+09         318             225241                   0   \n",
       "303  1.675378e+09         319             225242                   0   \n",
       "304  1.675378e+09         320             225243                   0   \n",
       "305  1.675378e+09         321             225244                   0   \n",
       "\n",
       "    Header.frame_id  Latitude  Longitude Altitude  HDOP   UTM_easting  \\\n",
       "301      GPS1_Frame  42.30751 -71.107719   18.3 M   1.2  326282.84375   \n",
       "302      GPS1_Frame  42.30751 -71.107719   18.3 M   1.2  326282.84375   \n",
       "303      GPS1_Frame  42.30751 -71.107719   18.3 M   1.2  326282.84375   \n",
       "304      GPS1_Frame  42.30751 -71.107719   18.3 M   1.2  326282.84375   \n",
       "305      GPS1_Frame  42.30751 -71.107719   18.3 M   1.2  326282.84375   \n",
       "\n",
       "     UTM_northing       UTC  Zone Letter  modified_northing  modified_easting  \\\n",
       "301     4686071.0  225240.0    19      T                1.0            -0.375   \n",
       "302     4686071.0  225241.0    19      T                1.0            -0.375   \n",
       "303     4686071.0  225242.0    19      T                1.0            -0.375   \n",
       "304     4686071.0  225243.0    19      T                1.0            -0.375   \n",
       "305     4686071.0  225244.0    19      T                1.0            -0.375   \n",
       "\n",
       "         error  \n",
       "301  31.243591  \n",
       "302  31.243591  \n",
       "303  31.243591  \n",
       "304  31.243591  \n",
       "305  31.243591  "
      ]
     },
     "execution_count": 14,
     "metadata": {},
     "output_type": "execute_result"
    }
   ],
   "source": [
    "# Calculating error in terms of position using eucledian distance\n",
    "import math\n",
    "gps_df_op['error'] = ((gps_df_op['modified_northing']-x)**2 + (gps_df_op['modified_easting']-y)**2)**(1/2)\n",
    "gps_df_op.tail()"
   ]
  },
  {
   "cell_type": "code",
   "execution_count": 15,
   "metadata": {},
   "outputs": [
    {
     "data": {
      "text/plain": [
       "array([[<matplotlib.axes._subplots.AxesSubplot object at 0x7f36b04bd0a0>]],\n",
       "      dtype=object)"
      ]
     },
     "execution_count": 15,
     "metadata": {},
     "output_type": "execute_result"
    },
    {
     "data": {
      "image/png": "[encoded data removed]",
      "text/plain": [
       "<Figure size 640x480 with 1 Axes>"
      ]
     },
     "metadata": {},
     "output_type": "display_data"
    }
   ],
   "source": [
    "gps_df_op.hist(column='error')"
   ]
  },
  {
   "attachments": {},
   "cell_type": "markdown",
   "metadata": {},
   "source": [
    "Observing the histogram we can see that the error in terms of distance from known position is in range between (31,32) which is pretty small. And we can also see that majority of the error is approximately the mean error. This may indicate that the location where the data was taken and the reference vlaues may not be the same. And the outliers may be causes due to the precision error.\n",
    "***"
   ]
  },
  {
   "cell_type": "code",
   "execution_count": 16,
   "metadata": {},
   "outputs": [
    {
     "data": {
      "text/plain": [
       "31.436110999204256"
      ]
     },
     "execution_count": 16,
     "metadata": {},
     "output_type": "execute_result"
    }
   ],
   "source": [
    "mean_error = gps_df_op['error'].mean()\n",
    "mean_error"
   ]
  },
  {
   "cell_type": "code",
   "execution_count": 17,
   "metadata": {},
   "outputs": [
    {
     "data": {
      "text/plain": [
       "31.444787902396058"
      ]
     },
     "execution_count": 17,
     "metadata": {},
     "output_type": "execute_result"
    }
   ],
   "source": [
    "medain = gps_df_op['error'].median()\n",
    "medain"
   ]
  },
  {
   "attachments": {},
   "cell_type": "markdown",
   "metadata": {},
   "source": [
    "The error in terms of position may occur due to the following two reasons:\n",
    "\n",
    "1. Because of HDOP value\n",
    "2. The reference laitude and longitude that is derived from google maps may not exactly be where the GPS data was recorded. \n",
    "***"
   ]
  },
  {
   "cell_type": "code",
   "execution_count": 18,
   "metadata": {},
   "outputs": [
    {
     "data": {
      "application/vnd.plotly.v1+json": {
       "config": {
        "plotlyServerURL": "https://plot.ly"
       },
       "data": [
        {
         "hovertemplate": "Time in UTC=%{x}<br>Altitude (M)=%{y}<extra></extra>",
         "legendgroup": "",
         "marker": {
          "color": "#636efa",
          "symbol": "circle"
         },
         "mode": "markers",
         "name": "",
         "orientation": "h",
         "showlegend": false,
         "type": "scatter",
         "x": [
          224739,
          224740,
          224741,
          224742,
          224743,
          224744,
          224745,
          224746,
          224747,
          224748,
          224749,
          224750,
          224751,
          224752,
          224753,
          224754,
          224755,
          224756,
          224757,
          224758,
          224759,
          224800,
          224801,
          224802,
          224803,
          224804,
          224805,
          224806,
          224807,
          224808,
          224809,
          224810,
          224811,
          224812,
          224813,
          224814,
          224815,
          224816,
          224817,
          224818,
          224819,
          224820,
          224821,
          224822,
          224823,
          224824,
          224825,
          224826,
          224827,
          224828,
          224829,
          224830,
          224831,
          224832,
          224833,
          224834,
          224835,
          224836,
          224837,
          224838,
          224839,
          224840,
          224841,
          224842,
          224843,
          224844,
          224845,
          224846,
          224847,
          224848,
          224849,
          224850,
          224851,
          224852,
          224853,
          224854,
          224855,
          224856,
          224857,
          224858,
          224859,
          224900,
          224901,
          224902,
          224903,
          224904,
          224905,
          224906,
          224907,
          224908,
          224909,
          224910,
          224911,
          224912,
          224913,
          224914,
          224915,
          224916,
          224917,
          224918,
          224919,
          224920,
          224921,
          224922,
          224923,
          224924,
          224925,
          224926,
          224927,
          224928,
          224929,
          224930,
          224931,
          224932,
          224933,
          224934,
          224935,
          224936,
          224937,
          224938,
          224939,
          224940,
          224941,
          224942,
          224943,
          224944,
          224945,
          224946,
          224947,
          224948,
          224949,
          224950,
          224951,
          224952,
          224953,
          224954,
          224955,
          224956,
          224957,
          224958,
          224959,
          225000,
          225001,
          225002,
          225003,
          225004,
          225005,
          225006,
          225007,
          225008,
          225009,
          225010,
          225011,
          225012,
          225013,
          225014,
          225015,
          225016,
          225017,
          225018,
          225019,
          225020,
          225021,
          225022,
          225023,
          225024,
          225025,
          225026,
          225027,
          225028,
          225029,
          225030,
          225031,
          225032,
          225033,
          225034,
          225035,
          225036,
          225037,
          225038,
          225039,
          225040,
          225041,
          225042,
          225043,
          225044,
          225045,
          225046,
          225047,
          225048,
          225049,
          225050,
          225051,
          225052,
          225053,
          225054,
          225055,
          225056,
          225057,
          225058,
          225059,
          225100,
          225101,
          225102,
          225103,
          225104,
          225105,
          225106,
          225107,
          225108,
          225109,
          225110,
          225111,
          225112,
          225113,
          225114,
          225115,
          225116,
          225117,
          225118,
          225119,
          225120,
          225121,
          225122,
          225123,
          225124,
          225125,
          225126,
          225127,
          225128,
          225129,
          225130,
          225131,
          225132,
          225133,
          225134,
          225135,
          225136,
          225137,
          225138,
          225139,
          225140,
          225141,
          225142,
          225143,
          225144,
          225145,
          225146,
          225147,
          225148,
          225149,
          225150,
          225151,
          225152,
          225153,
          225154,
          225155,
          225156,
          225157,
          225158,
          225159,
          225200,
          225201,
          225202,
          225203,
          225204,
          225205,
          225206,
          225207,
          225208,
          225209,
          225210,
          225211,
          225212,
          225213,
          225214,
          225215,
          225216,
          225217,
          225218,
          225219,
          225220,
          225221,
          225222,
          225223,
          225224,
          225225,
          225226,
          225227,
          225228,
          225229,
          225230,
          225231,
          225232,
          225233,
          225234,
          225235,
          225236,
          225237,
          225238,
          225239,
          225240,
          225241,
          225242,
          225243,
          225244
         ],
         "xaxis": "x",
         "y": [
          "19.2 M",
          "19.2 M",
          "19.2 M",
          "19.2 M",
          "19.2 M",
          "19.2 M",
          "19.2 M",
          "19.1 M",
          "19.1 M",
          "19.1 M",
          "19.1 M",
          "19.1 M",
          "19.1 M",
          "19.1 M",
          "19.1 M",
          "19.1 M",
          "19.1 M",
          "19.1 M",
          "19.1 M",
          "19.1 M",
          "19.1 M",
          "19.1 M",
          "19.1 M",
          "19.1 M",
          "19.1 M",
          "19.1 M",
          "19.1 M",
          "19.1 M",
          "19.1 M",
          "19.1 M",
          "19.1 M",
          "19.1 M",
          "19.1 M",
          "19.1 M",
          "19.1 M",
          "19.1 M",
          "19.1 M",
          "19.1 M",
          "19.1 M",
          "19.1 M",
          "19.1 M",
          "19.1 M",
          "19.1 M",
          "19.1 M",
          "19.1 M",
          "19.1 M",
          "19.1 M",
          "19.1 M",
          "19.1 M",
          "19.1 M",
          "19.1 M",
          "19.1 M",
          "19.1 M",
          "19.1 M",
          "19.1 M",
          "19.1 M",
          "19.1 M",
          "19.1 M",
          "19.1 M",
          "19.1 M",
          "19.1 M",
          "19.1 M",
          "19.1 M",
          "19.1 M",
          "19.1 M",
          "19.1 M",
          "19.1 M",
          "19.1 M",
          "19.1 M",
          "19.1 M",
          "19.1 M",
          "19.1 M",
          "19.1 M",
          "19.1 M",
          "19.1 M",
          "19.1 M",
          "19.1 M",
          "19.1 M",
          "19.1 M",
          "19.1 M",
          "19.1 M",
          "19.1 M",
          "19.1 M",
          "19.1 M",
          "19.1 M",
          "19.1 M",
          "19.1 M",
          "19.0 M",
          "19.0 M",
          "19.0 M",
          "19.0 M",
          "19.0 M",
          "19.0 M",
          "19.0 M",
          "19.0 M",
          "19.0 M",
          "19.0 M",
          "19.0 M",
          "19.0 M",
          "19.0 M",
          "19.0 M",
          "19.0 M",
          "19.0 M",
          "19.0 M",
          "19.0 M",
          "19.0 M",
          "19.0 M",
          "19.0 M",
          "19.0 M",
          "19.0 M",
          "19.0 M",
          "19.0 M",
          "19.0 M",
          "19.0 M",
          "19.0 M",
          "19.0 M",
          "19.0 M",
          "19.0 M",
          "19.0 M",
          "19.0 M",
          "19.0 M",
          "19.0 M",
          "19.0 M",
          "18.9 M",
          "18.9 M",
          "18.9 M",
          "18.9 M",
          "18.9 M",
          "18.9 M",
          "18.9 M",
          "18.9 M",
          "18.9 M",
          "18.9 M",
          "18.9 M",
          "18.9 M",
          "18.9 M",
          "18.8 M",
          "18.8 M",
          "18.8 M",
          "18.8 M",
          "18.8 M",
          "18.8 M",
          "18.8 M",
          "18.8 M",
          "18.8 M",
          "18.8 M",
          "18.8 M",
          "18.8 M",
          "18.8 M",
          "18.8 M",
          "18.8 M",
          "18.8 M",
          "18.8 M",
          "18.8 M",
          "18.8 M",
          "18.8 M",
          "18.7 M",
          "18.7 M",
          "18.7 M",
          "18.7 M",
          "18.7 M",
          "18.7 M",
          "18.7 M",
          "18.7 M",
          "18.7 M",
          "18.7 M",
          "18.7 M",
          "18.7 M",
          "18.7 M",
          "18.7 M",
          "18.7 M",
          "18.7 M",
          "18.7 M",
          "18.7 M",
          "18.7 M",
          "18.7 M",
          "18.7 M",
          "18.7 M",
          "18.7 M",
          "18.7 M",
          "18.7 M",
          "18.7 M",
          "18.7 M",
          "18.7 M",
          "18.7 M",
          "18.7 M",
          "18.7 M",
          "18.7 M",
          "18.7 M",
          "18.7 M",
          "18.7 M",
          "18.7 M",
          "18.7 M",
          "18.7 M",
          "18.7 M",
          "18.7 M",
          "18.7 M",
          "18.7 M",
          "18.7 M",
          "18.7 M",
          "18.7 M",
          "18.7 M",
          "18.7 M",
          "18.7 M",
          "18.7 M",
          "18.7 M",
          "18.7 M",
          "18.7 M",
          "18.7 M",
          "18.7 M",
          "18.7 M",
          "18.7 M",
          "18.7 M",
          "18.7 M",
          "18.7 M",
          "18.7 M",
          "18.7 M",
          "18.7 M",
          "18.7 M",
          "18.7 M",
          "18.7 M",
          "18.7 M",
          "18.7 M",
          "18.7 M",
          "18.6 M",
          "18.6 M",
          "18.6 M",
          "18.6 M",
          "18.6 M",
          "18.6 M",
          "18.6 M",
          "18.6 M",
          "18.6 M",
          "18.6 M",
          "18.6 M",
          "18.6 M",
          "18.6 M",
          "18.6 M",
          "18.6 M",
          "18.6 M",
          "18.6 M",
          "18.6 M",
          "18.6 M",
          "18.6 M",
          "18.6 M",
          "18.6 M",
          "18.5 M",
          "18.5 M",
          "18.5 M",
          "18.5 M",
          "18.5 M",
          "18.5 M",
          "18.5 M",
          "18.5 M",
          "18.5 M",
          "18.5 M",
          "18.5 M",
          "18.5 M",
          "18.5 M",
          "18.5 M",
          "18.5 M",
          "18.5 M",
          "18.5 M",
          "18.5 M",
          "18.5 M",
          "18.5 M",
          "18.5 M",
          "18.5 M",
          "18.5 M",
          "18.5 M",
          "18.5 M",
          "18.5 M",
          "18.5 M",
          "18.5 M",
          "18.5 M",
          "18.5 M",
          "18.4 M",
          "18.4 M",
          "18.4 M",
          "18.4 M",
          "18.4 M",
          "18.4 M",
          "18.4 M",
          "18.4 M",
          "18.4 M",
          "18.4 M",
          "18.4 M",
          "18.4 M",
          "18.4 M",
          "18.4 M",
          "18.4 M",
          "18.4 M",
          "18.4 M",
          "18.4 M",
          "18.4 M",
          "18.3 M",
          "18.3 M",
          "18.3 M",
          "18.3 M",
          "18.3 M",
          "18.3 M",
          "18.3 M",
          "18.3 M",
          "18.3 M",
          "18.3 M",
          "18.3 M"
         ],
         "yaxis": "y"
        }
       ],
       "layout": {
        "legend": {
         "tracegroupgap": 0
        },
        "template": {
         "data": {
          "bar": [
           {
            "error_x": {
             "color": "#2a3f5f"
            },
            "error_y": {
             "color": "#2a3f5f"
            },
            "marker": {
             "line": {
              "color": "#E5ECF6",
              "width": 0.5
             },
             "pattern": {
              "fillmode": "overlay",
              "size": 10,
              "solidity": 0.2
             }
            },
            "type": "bar"
           }
          ],
          "barpolar": [
           {
            "marker": {
             "line": {
              "color": "#E5ECF6",
              "width": 0.5
             },
             "pattern": {
              "fillmode": "overlay",
              "size": 10,
              "solidity": 0.2
             }
            },
            "type": "barpolar"
           }
          ],
          "carpet": [
           {
            "aaxis": {
             "endlinecolor": "#2a3f5f",
             "gridcolor": "white",
             "linecolor": "white",
             "minorgridcolor": "white",
             "startlinecolor": "#2a3f5f"
            },
            "baxis": {
             "endlinecolor": "#2a3f5f",
             "gridcolor": "white",
             "linecolor": "white",
             "minorgridcolor": "white",
             "startlinecolor": "#2a3f5f"
            },
            "type": "carpet"
           }
          ],
          "choropleth": [
           {
            "colorbar": {
             "outlinewidth": 0,
             "ticks": ""
            },
            "type": "choropleth"
           }
          ],
          "contour": [
           {
            "colorbar": {
             "outlinewidth": 0,
             "ticks": ""
            },
            "colorscale": [
             [
              0,
              "#0d0887"
             ],
             [
              0.1111111111111111,
              "#46039f"
             ],
             [
              0.2222222222222222,
              "#7201a8"
             ],
             [
              0.3333333333333333,
              "#9c179e"
             ],
             [
              0.4444444444444444,
              "#bd3786"
             ],
             [
              0.5555555555555556,
              "#d8576b"
             ],
             [
              0.6666666666666666,
              "#ed7953"
             ],
             [
              0.7777777777777778,
              "#fb9f3a"
             ],
             [
              0.8888888888888888,
              "#fdca26"
             ],
             [
              1,
              "#f0f921"
             ]
            ],
            "type": "contour"
           }
          ],
          "contourcarpet": [
           {
            "colorbar": {
             "outlinewidth": 0,
             "ticks": ""
            },
            "type": "contourcarpet"
           }
          ],
          "heatmap": [
           {
            "colorbar": {
             "outlinewidth": 0,
             "ticks": ""
            },
            "colorscale": [
             [
              0,
              "#0d0887"
             ],
             [
              0.1111111111111111,
              "#46039f"
             ],
             [
              0.2222222222222222,
              "#7201a8"
             ],
             [
              0.3333333333333333,
              "#9c179e"
             ],
             [
              0.4444444444444444,
              "#bd3786"
             ],
             [
              0.5555555555555556,
              "#d8576b"
             ],
             [
              0.6666666666666666,
              "#ed7953"
             ],
             [
              0.7777777777777778,
              "#fb9f3a"
             ],
             [
              0.8888888888888888,
              "#fdca26"
             ],
             [
              1,
              "#f0f921"
             ]
            ],
            "type": "heatmap"
           }
          ],
          "heatmapgl": [
           {
            "colorbar": {
             "outlinewidth": 0,
             "ticks": ""
            },
            "colorscale": [
             [
              0,
              "#0d0887"
             ],
             [
              0.1111111111111111,
              "#46039f"
             ],
             [
              0.2222222222222222,
              "#7201a8"
             ],
             [
              0.3333333333333333,
              "#9c179e"
             ],
             [
              0.4444444444444444,
              "#bd3786"
             ],
             [
              0.5555555555555556,
              "#d8576b"
             ],
             [
              0.6666666666666666,
              "#ed7953"
             ],
             [
              0.7777777777777778,
              "#fb9f3a"
             ],
             [
              0.8888888888888888,
              "#fdca26"
             ],
             [
              1,
              "#f0f921"
             ]
            ],
            "type": "heatmapgl"
           }
          ],
          "histogram": [
           {
            "marker": {
             "pattern": {
              "fillmode": "overlay",
              "size": 10,
              "solidity": 0.2
             }
            },
            "type": "histogram"
           }
          ],
          "histogram2d": [
           {
            "colorbar": {
             "outlinewidth": 0,
             "ticks": ""
            },
            "colorscale": [
             [
              0,
              "#0d0887"
             ],
             [
              0.1111111111111111,
              "#46039f"
             ],
             [
              0.2222222222222222,
              "#7201a8"
             ],
             [
              0.3333333333333333,
              "#9c179e"
             ],
             [
              0.4444444444444444,
              "#bd3786"
             ],
             [
              0.5555555555555556,
              "#d8576b"
             ],
             [
              0.6666666666666666,
              "#ed7953"
             ],
             [
              0.7777777777777778,
              "#fb9f3a"
             ],
             [
              0.8888888888888888,
              "#fdca26"
             ],
             [
              1,
              "#f0f921"
             ]
            ],
            "type": "histogram2d"
           }
          ],
          "histogram2dcontour": [
           {
            "colorbar": {
             "outlinewidth": 0,
             "ticks": ""
            },
            "colorscale": [
             [
              0,
              "#0d0887"
             ],
             [
              0.1111111111111111,
              "#46039f"
             ],
             [
              0.2222222222222222,
              "#7201a8"
             ],
             [
              0.3333333333333333,
              "#9c179e"
             ],
             [
              0.4444444444444444,
              "#bd3786"
             ],
             [
              0.5555555555555556,
              "#d8576b"
             ],
             [
              0.6666666666666666,
              "#ed7953"
             ],
             [
              0.7777777777777778,
              "#fb9f3a"
             ],
             [
              0.8888888888888888,
              "#fdca26"
             ],
             [
              1,
              "#f0f921"
             ]
            ],
            "type": "histogram2dcontour"
           }
          ],
          "mesh3d": [
           {
            "colorbar": {
             "outlinewidth": 0,
             "ticks": ""
            },
            "type": "mesh3d"
           }
          ],
          "parcoords": [
           {
            "line": {
             "colorbar": {
              "outlinewidth": 0,
              "ticks": ""
             }
            },
            "type": "parcoords"
           }
          ],
          "pie": [
           {
            "automargin": true,
            "type": "pie"
           }
          ],
          "scatter": [
           {
            "fillpattern": {
             "fillmode": "overlay",
             "size": 10,
             "solidity": 0.2
            },
            "type": "scatter"
           }
          ],
          "scatter3d": [
           {
            "line": {
             "colorbar": {
              "outlinewidth": 0,
              "ticks": ""
             }
            },
            "marker": {
             "colorbar": {
              "outlinewidth": 0,
              "ticks": ""
             }
            },
            "type": "scatter3d"
           }
          ],
          "scattercarpet": [
           {
            "marker": {
             "colorbar": {
              "outlinewidth": 0,
              "ticks": ""
             }
            },
            "type": "scattercarpet"
           }
          ],
          "scattergeo": [
           {
            "marker": {
             "colorbar": {
              "outlinewidth": 0,
              "ticks": ""
             }
            },
            "type": "scattergeo"
           }
          ],
          "scattergl": [
           {
            "marker": {
             "colorbar": {
              "outlinewidth": 0,
              "ticks": ""
             }
            },
            "type": "scattergl"
           }
          ],
          "scattermapbox": [
           {
            "marker": {
             "colorbar": {
              "outlinewidth": 0,
              "ticks": ""
             }
            },
            "type": "scattermapbox"
           }
          ],
          "scatterpolar": [
           {
            "marker": {
             "colorbar": {
              "outlinewidth": 0,
              "ticks": ""
             }
            },
            "type": "scatterpolar"
           }
          ],
          "scatterpolargl": [
           {
            "marker": {
             "colorbar": {
              "outlinewidth": 0,
              "ticks": ""
             }
            },
            "type": "scatterpolargl"
           }
          ],
          "scatterternary": [
           {
            "marker": {
             "colorbar": {
              "outlinewidth": 0,
              "ticks": ""
             }
            },
            "type": "scatterternary"
           }
          ],
          "surface": [
           {
            "colorbar": {
             "outlinewidth": 0,
             "ticks": ""
            },
            "colorscale": [
             [
              0,
              "#0d0887"
             ],
             [
              0.1111111111111111,
              "#46039f"
             ],
             [
              0.2222222222222222,
              "#7201a8"
             ],
             [
              0.3333333333333333,
              "#9c179e"
             ],
             [
              0.4444444444444444,
              "#bd3786"
             ],
             [
              0.5555555555555556,
              "#d8576b"
             ],
             [
              0.6666666666666666,
              "#ed7953"
             ],
             [
              0.7777777777777778,
              "#fb9f3a"
             ],
             [
              0.8888888888888888,
              "#fdca26"
             ],
             [
              1,
              "#f0f921"
             ]
            ],
            "type": "surface"
           }
          ],
          "table": [
           {
            "cells": {
             "fill": {
              "color": "#EBF0F8"
             },
             "line": {
              "color": "white"
             }
            },
            "header": {
             "fill": {
              "color": "#C8D4E3"
             },
             "line": {
              "color": "white"
             }
            },
            "type": "table"
           }
          ]
         },
         "layout": {
          "annotationdefaults": {
           "arrowcolor": "#2a3f5f",
           "arrowhead": 0,
           "arrowwidth": 1
          },
          "autotypenumbers": "strict",
          "coloraxis": {
           "colorbar": {
            "outlinewidth": 0,
            "ticks": ""
           }
          },
          "colorscale": {
           "diverging": [
            [
             0,
             "#8e0152"
            ],
            [
             0.1,
             "#c51b7d"
            ],
            [
             0.2,
             "#de77ae"
            ],
            [
             0.3,
             "#f1b6da"
            ],
            [
             0.4,
             "#fde0ef"
            ],
            [
             0.5,
             "#f7f7f7"
            ],
            [
             0.6,
             "#e6f5d0"
            ],
            [
             0.7,
             "#b8e186"
            ],
            [
             0.8,
             "#7fbc41"
            ],
            [
             0.9,
             "#4d9221"
            ],
            [
             1,
             "#276419"
            ]
           ],
           "sequential": [
            [
             0,
             "#0d0887"
            ],
            [
             0.1111111111111111,
             "#46039f"
            ],
            [
             0.2222222222222222,
             "#7201a8"
            ],
            [
             0.3333333333333333,
             "#9c179e"
            ],
            [
             0.4444444444444444,
             "#bd3786"
            ],
            [
             0.5555555555555556,
             "#d8576b"
            ],
            [
             0.6666666666666666,
             "#ed7953"
            ],
            [
             0.7777777777777778,
             "#fb9f3a"
            ],
            [
             0.8888888888888888,
             "#fdca26"
            ],
            [
             1,
             "#f0f921"
            ]
           ],
           "sequentialminus": [
            [
             0,
             "#0d0887"
            ],
            [
             0.1111111111111111,
             "#46039f"
            ],
            [
             0.2222222222222222,
             "#7201a8"
            ],
            [
             0.3333333333333333,
             "#9c179e"
            ],
            [
             0.4444444444444444,
             "#bd3786"
            ],
            [
             0.5555555555555556,
             "#d8576b"
            ],
            [
             0.6666666666666666,
             "#ed7953"
            ],
            [
             0.7777777777777778,
             "#fb9f3a"
            ],
            [
             0.8888888888888888,
             "#fdca26"
            ],
            [
             1,
             "#f0f921"
            ]
           ]
          },
          "colorway": [
           "#636efa",
           "#EF553B",
           "#00cc96",
           "#ab63fa",
           "#FFA15A",
           "#19d3f3",
           "#FF6692",
           "#B6E880",
           "#FF97FF",
           "#FECB52"
          ],
          "font": {
           "color": "#2a3f5f"
          },
          "geo": {
           "bgcolor": "white",
           "lakecolor": "white",
           "landcolor": "#E5ECF6",
           "showlakes": true,
           "showland": true,
           "subunitcolor": "white"
          },
          "hoverlabel": {
           "align": "left"
          },
          "hovermode": "closest",
          "mapbox": {
           "style": "light"
          },
          "paper_bgcolor": "white",
          "plot_bgcolor": "#E5ECF6",
          "polar": {
           "angularaxis": {
            "gridcolor": "white",
            "linecolor": "white",
            "ticks": ""
           },
           "bgcolor": "#E5ECF6",
           "radialaxis": {
            "gridcolor": "white",
            "linecolor": "white",
            "ticks": ""
           }
          },
          "scene": {
           "xaxis": {
            "backgroundcolor": "#E5ECF6",
            "gridcolor": "white",
            "gridwidth": 2,
            "linecolor": "white",
            "showbackground": true,
            "ticks": "",
            "zerolinecolor": "white"
           },
           "yaxis": {
            "backgroundcolor": "#E5ECF6",
            "gridcolor": "white",
            "gridwidth": 2,
            "linecolor": "white",
            "showbackground": true,
            "ticks": "",
            "zerolinecolor": "white"
           },
           "zaxis": {
            "backgroundcolor": "#E5ECF6",
            "gridcolor": "white",
            "gridwidth": 2,
            "linecolor": "white",
            "showbackground": true,
            "ticks": "",
            "zerolinecolor": "white"
           }
          },
          "shapedefaults": {
           "line": {
            "color": "#2a3f5f"
           }
          },
          "ternary": {
           "aaxis": {
            "gridcolor": "white",
            "linecolor": "white",
            "ticks": ""
           },
           "baxis": {
            "gridcolor": "white",
            "linecolor": "white",
            "ticks": ""
           },
           "bgcolor": "#E5ECF6",
           "caxis": {
            "gridcolor": "white",
            "linecolor": "white",
            "ticks": ""
           }
          },
          "title": {
           "x": 0.05
          },
          "xaxis": {
           "automargin": true,
           "gridcolor": "white",
           "linecolor": "white",
           "ticks": "",
           "title": {
            "standoff": 15
           },
           "zerolinecolor": "white",
           "zerolinewidth": 2
          },
          "yaxis": {
           "automargin": true,
           "gridcolor": "white",
           "linecolor": "white",
           "ticks": "",
           "title": {
            "standoff": 15
           },
           "zerolinecolor": "white",
           "zerolinewidth": 2
          }
         }
        },
        "title": {
         "text": "Open Space"
        },
        "xaxis": {
         "anchor": "y",
         "domain": [
          0,
          1
         ],
         "title": {
          "text": "Time in UTC"
         }
        },
        "yaxis": {
         "anchor": "x",
         "domain": [
          0,
          1
         ],
         "title": {
          "text": "Altitude (M)"
         }
        }
       }
      }
     },
     "metadata": {},
     "output_type": "display_data"
    }
   ],
   "source": [
    "# Scatter plot of altitude vs time\n",
    "\n",
    "fig_1 = px.scatter(gps_df_op, x=\"UTC\", y=\"Altitude\",labels={\"Altitude\": \"Altitude (M)\", \"UTC\": \"Time in UTC\"}, title=\"Open Space\")\n",
    "fig_1.show()"
   ]
  },
  {
   "attachments": {},
   "cell_type": "markdown",
   "metadata": {},
   "source": [
    "## Analysis of stationary data from occuled field\n",
    "Location - 3411 Washington Street, Jamaica Plains\n",
    "\n",
    "From google maps -> lat - 42.30835809421112, lon - -71.1060346304591\n",
    "***"
   ]
  },
  {
   "cell_type": "code",
   "execution_count": 19,
   "metadata": {},
   "outputs": [],
   "source": [
    "known_lat, known_lon = 42.30835809421112, -71.1060346304591\n",
    "\n",
    "\n",
    "utm_converted = utm.from_latlon(known_lat,known_lon)\n",
    "\n",
    "known_easting,known_northing,known_zone,known_letter = utm_converted[0],utm_converted[1],utm_converted[2],utm_converted[3]"
   ]
  },
  {
   "cell_type": "code",
   "execution_count": 20,
   "metadata": {},
   "outputs": [],
   "source": [
    "# Scaling data\n",
    "gps_df_oc['modified_northing'] = gps_df_oc['UTM_northing'] - gps_df_oc.UTM_northing[0]\n",
    "gps_df_oc['modified_easting'] = gps_df_oc['UTM_easting'] - gps_df_oc.UTM_easting[0]"
   ]
  },
  {
   "cell_type": "code",
   "execution_count": null,
   "metadata": {},
   "outputs": [],
   "source": []
  },
  {
   "cell_type": "code",
   "execution_count": 21,
   "metadata": {},
   "outputs": [
    {
     "data": {
      "application/vnd.plotly.v1+json": {
       "config": {
        "plotlyServerURL": "https://plot.ly"
       },
       "data": [
        {
         "hovertemplate": "Northing (M)=%{x}<br>Easting (M)=%{y}<br>HDOP=%{marker.color}<extra></extra>",
         "legendgroup": "",
         "marker": {
          "color": [
           1.100000023841858,
           1.100000023841858,
           1.100000023841858,
           1.100000023841858,
           1.100000023841858,
           1.100000023841858,
           1.100000023841858,
           1.100000023841858,
           1.100000023841858,
           1.100000023841858,
           1.100000023841858,
           1.100000023841858,
           1.100000023841858,
           1.100000023841858,
           1.100000023841858,
           1.100000023841858,
           1.100000023841858,
           1.100000023841858,
           1.100000023841858,
           1.100000023841858,
           1.100000023841858,
           1.100000023841858,
           1.100000023841858,
           1.100000023841858,
           1.100000023841858,
           1.100000023841858,
           1.100000023841858,
           1.100000023841858,
           1.100000023841858,
           1.100000023841858,
           1.100000023841858,
           1.100000023841858,
           1.100000023841858,
           1.100000023841858,
           1.100000023841858,
           1.100000023841858,
           1.100000023841858,
           1.100000023841858,
           1.100000023841858,
           1.100000023841858,
           1.100000023841858,
           1.100000023841858,
           1.100000023841858,
           1.100000023841858,
           1.100000023841858,
           1.100000023841858,
           1.100000023841858,
           1.100000023841858,
           1.100000023841858,
           1.100000023841858,
           1.100000023841858,
           1.100000023841858,
           1.100000023841858,
           1.100000023841858,
           1.100000023841858,
           1.100000023841858,
           1.100000023841858,
           1.100000023841858,
           1.100000023841858,
           1.100000023841858,
           1.100000023841858,
           1.100000023841858,
           1.100000023841858,
           1.100000023841858,
           1.100000023841858,
           1.100000023841858,
           1.100000023841858,
           1.100000023841858,
           1.100000023841858,
           1.100000023841858,
           1.100000023841858,
           1.100000023841858,
           1.100000023841858,
           1.100000023841858,
           1.100000023841858,
           1.100000023841858,
           1.100000023841858,
           1.100000023841858,
           1.100000023841858,
           1.100000023841858,
           1.100000023841858,
           1.100000023841858,
           1.100000023841858,
           1.100000023841858,
           1.100000023841858,
           1.100000023841858,
           1.100000023841858,
           1.100000023841858,
           1.100000023841858,
           1.100000023841858,
           1.100000023841858,
           1.100000023841858,
           1.100000023841858,
           1.100000023841858,
           1.100000023841858,
           1.100000023841858,
           1.100000023841858,
           1.100000023841858,
           1.100000023841858,
           1.100000023841858,
           1.100000023841858,
           1.100000023841858,
           1.100000023841858,
           1.100000023841858,
           1.100000023841858,
           1.100000023841858,
           1.100000023841858,
           1.100000023841858,
           1.100000023841858,
           1.100000023841858,
           1.100000023841858,
           1.100000023841858,
           1.100000023841858,
           1.100000023841858,
           1.100000023841858,
           1.100000023841858,
           1.100000023841858,
           1.2999999523162842,
           1.2999999523162842,
           1.2999999523162842,
           1.2999999523162842,
           1.2999999523162842,
           1.2999999523162842,
           1.2999999523162842,
           1.2999999523162842,
           1.2999999523162842,
           1.2999999523162842,
           1.2999999523162842,
           1.2999999523162842,
           1.2999999523162842,
           1.2999999523162842,
           1.2999999523162842,
           1.2999999523162842,
           1.2999999523162842,
           1.2999999523162842,
           1.2999999523162842,
           1.2999999523162842,
           1.2999999523162842,
           1.2999999523162842,
           1.2999999523162842,
           1.2999999523162842,
           1.2999999523162842,
           1.2999999523162842,
           1.2999999523162842,
           1.2999999523162842,
           1.2999999523162842,
           1.2999999523162842,
           1.2999999523162842,
           1.2999999523162842,
           1.2999999523162842,
           1.2999999523162842,
           1.2999999523162842,
           1.2999999523162842,
           1.2999999523162842,
           1.2999999523162842,
           1.2999999523162842,
           1.2999999523162842,
           1.5,
           1.5,
           1.2999999523162842,
           1.2999999523162842,
           1.2999999523162842,
           1.2999999523162842,
           1.2999999523162842,
           1.2999999523162842,
           1.2999999523162842,
           1.2999999523162842,
           1.2999999523162842,
           1.2999999523162842,
           1.100000023841858,
           1.100000023841858,
           1.100000023841858,
           1.100000023841858,
           1.100000023841858,
           1.100000023841858,
           1.100000023841858,
           1.100000023841858,
           1.100000023841858,
           1.100000023841858,
           1.100000023841858,
           1.100000023841858,
           1.100000023841858,
           1.100000023841858,
           1.100000023841858,
           1.100000023841858,
           1.100000023841858,
           1.100000023841858,
           1.100000023841858,
           1.100000023841858,
           1.100000023841858,
           1.100000023841858,
           1.100000023841858,
           1.100000023841858,
           1.100000023841858,
           1.100000023841858,
           1.100000023841858,
           1.100000023841858,
           1.100000023841858,
           1.100000023841858,
           1.100000023841858,
           1.100000023841858,
           1.100000023841858,
           1.100000023841858,
           1.100000023841858,
           1.100000023841858,
           1.100000023841858,
           1.100000023841858,
           1.100000023841858,
           1.100000023841858,
           1.100000023841858,
           1.100000023841858,
           1.100000023841858,
           1.100000023841858,
           1.100000023841858,
           1.100000023841858,
           1.100000023841858,
           1.100000023841858,
           1.100000023841858,
           1.100000023841858,
           1.100000023841858,
           1.100000023841858,
           1.100000023841858,
           1.100000023841858,
           1.100000023841858,
           1.100000023841858,
           1.100000023841858,
           1.100000023841858,
           1.100000023841858,
           1.100000023841858,
           1.100000023841858,
           1.100000023841858,
           1.100000023841858,
           1.100000023841858,
           1.100000023841858,
           1.100000023841858,
           1.100000023841858,
           1.100000023841858,
           1.100000023841858,
           1.100000023841858,
           1.100000023841858,
           1.100000023841858,
           1.100000023841858,
           1.100000023841858,
           1.100000023841858,
           1.100000023841858,
           1.2999999523162842,
           1.2999999523162842,
           1.2999999523162842,
           1.2999999523162842,
           1.2999999523162842,
           1.2999999523162842,
           1.2999999523162842,
           1.2999999523162842,
           1.100000023841858,
           1.100000023841858,
           1.100000023841858,
           1.100000023841858,
           1.100000023841858,
           1.100000023841858,
           1.100000023841858,
           1.100000023841858,
           1.100000023841858,
           1.100000023841858,
           1.100000023841858,
           1.100000023841858,
           1.100000023841858,
           1.100000023841858,
           1.100000023841858,
           1.100000023841858,
           1.100000023841858,
           1.100000023841858,
           1.100000023841858,
           1.100000023841858,
           1.100000023841858,
           1.100000023841858,
           1.100000023841858,
           1.100000023841858,
           1.100000023841858,
           1.100000023841858,
           1.100000023841858,
           1.100000023841858,
           1.100000023841858,
           1.100000023841858,
           1.100000023841858,
           1.100000023841858,
           1.100000023841858,
           1.100000023841858,
           1.100000023841858,
           1.100000023841858,
           1.100000023841858,
           1.100000023841858,
           1.100000023841858,
           1.100000023841858,
           1.100000023841858,
           1.100000023841858,
           1.100000023841858,
           1.100000023841858,
           1.100000023841858,
           1.100000023841858,
           1.100000023841858,
           1.100000023841858,
           1.100000023841858,
           1.100000023841858,
           1.100000023841858,
           1.100000023841858,
           1.100000023841858,
           1.100000023841858,
           1.100000023841858,
           1.100000023841858,
           1.100000023841858,
           1.100000023841858,
           1.100000023841858,
           1.100000023841858,
           1.100000023841858,
           1.100000023841858,
           1.100000023841858,
           1.100000023841858,
           1.100000023841858,
           1.100000023841858,
           1.100000023841858,
           1.100000023841858,
           1.100000023841858,
           1.100000023841858,
           1.100000023841858,
           1.100000023841858,
           1.100000023841858,
           1.100000023841858,
           1.100000023841858,
           1.100000023841858,
           1.100000023841858,
           1.100000023841858,
           1.100000023841858,
           1.100000023841858,
           1.100000023841858,
           1.100000023841858,
           1.100000023841858,
           1.100000023841858,
           1.100000023841858,
           1.100000023841858,
           1.100000023841858,
           1.100000023841858,
           1.100000023841858,
           1.100000023841858,
           1.100000023841858,
           1.100000023841858,
           1.100000023841858,
           1.100000023841858,
           1.100000023841858,
           1.100000023841858,
           1.100000023841858,
           1.100000023841858,
           1.100000023841858,
           1.100000023841858,
           1.100000023841858,
           1.100000023841858,
           1.100000023841858,
           1.100000023841858,
           1.100000023841858,
           1.100000023841858,
           1.100000023841858,
           1.100000023841858,
           1.100000023841858,
           1.100000023841858,
           1.100000023841858,
           1.100000023841858,
           1.100000023841858,
           1.100000023841858,
           1.100000023841858,
           1.100000023841858,
           1.100000023841858,
           1.100000023841858,
           1.100000023841858,
           1.100000023841858,
           1.100000023841858,
           1.100000023841858,
           1.100000023841858,
           1.100000023841858,
           1.100000023841858,
           1.100000023841858,
           1.100000023841858,
           1.100000023841858,
           1.100000023841858,
           1.100000023841858,
           1.100000023841858,
           1.100000023841858,
           1.100000023841858,
           1.100000023841858,
           1.100000023841858,
           1.100000023841858,
           1.100000023841858,
           1.100000023841858,
           1.100000023841858,
           1.100000023841858,
           1.100000023841858,
           1.100000023841858,
           1.100000023841858
          ],
          "coloraxis": "coloraxis",
          "symbol": "circle"
         },
         "mode": "markers",
         "name": "",
         "orientation": "v",
         "showlegend": false,
         "type": "scatter",
         "x": [
          0,
          0,
          0,
          0,
          0,
          0,
          0.5,
          0.5,
          0.5,
          0.5,
          0.5,
          0.5,
          0.5,
          0.5,
          0.5,
          -1.5,
          -2,
          -3,
          -3,
          -3,
          -3,
          -3,
          -3,
          -3,
          -3,
          -3,
          -3,
          -3,
          -3,
          -3,
          -3,
          -3,
          -3.5,
          -3.5,
          -3.5,
          -3.5,
          -3.5,
          -3.5,
          -3.5,
          -3.5,
          -3.5,
          -3.5,
          -3.5,
          -3.5,
          -3.5,
          -3.5,
          -3.5,
          -3.5,
          -3.5,
          -3.5,
          -3.5,
          -3.5,
          -3.5,
          -3.5,
          -3.5,
          -3.5,
          -3.5,
          -4,
          -4,
          -4,
          -4,
          -4,
          -4,
          -4.5,
          -4.5,
          -4.5,
          -4.5,
          -4.5,
          -4.5,
          -4.5,
          -4.5,
          -4.5,
          -5,
          -5,
          -5,
          -5,
          -5,
          -5,
          -5,
          -5,
          -5,
          -5,
          -5,
          -5,
          -5,
          -5,
          -5,
          -5,
          -5,
          -5,
          -5,
          -5,
          -5,
          -5,
          -5,
          -5,
          -5,
          -5,
          -5,
          -5,
          -5,
          -5,
          -5,
          -5,
          -5,
          -5,
          -5,
          -5,
          -5,
          -5,
          -5,
          -5,
          -5,
          -5,
          -4.5,
          -4.5,
          -4.5,
          -4.5,
          -4.5,
          -4.5,
          -4.5,
          -4.5,
          -4.5,
          -4.5,
          -4.5,
          -4.5,
          -4.5,
          -4.5,
          -4.5,
          -4.5,
          -4.5,
          -4,
          -4,
          -4,
          -4,
          -4,
          -4,
          -4,
          -4,
          -4,
          -4,
          -4,
          -4,
          -4,
          -4,
          -4,
          -4,
          -4,
          -4,
          -4,
          -4,
          -4,
          -4,
          -4,
          -4,
          -4,
          -4,
          -4,
          -4,
          -4,
          -4,
          -4,
          -4,
          -4,
          -4,
          -4,
          -4,
          -4,
          -4,
          -4,
          -4,
          -4,
          -4,
          -4,
          -4,
          -4,
          -4,
          -4,
          -4,
          -4,
          -4,
          -4,
          -4,
          -4,
          -4,
          -4,
          -4,
          -4,
          -4,
          -4,
          -4,
          -4,
          -4,
          -4,
          -4,
          -4,
          -4,
          -4,
          -4,
          -4,
          -4,
          -4,
          -4,
          -4,
          -4,
          -4,
          -4,
          -4,
          -4,
          -4,
          -4,
          -4,
          -4,
          -4,
          -4,
          -4,
          -4,
          -4,
          -4,
          -4,
          -4,
          -4,
          -4,
          -4,
          -4,
          -4,
          -4,
          -4,
          -4,
          -4,
          -4,
          -4,
          -3.5,
          -3.5,
          -3.5,
          -3.5,
          -3.5,
          -3.5,
          -3.5,
          -3.5,
          -3.5,
          -3.5,
          -3.5,
          -3.5,
          -3.5,
          -3.5,
          -3.5,
          -3.5,
          -3.5,
          -3.5,
          -3.5,
          -3.5,
          -3.5,
          -3.5,
          -3.5,
          -3.5,
          -3.5,
          -3.5,
          -3.5,
          -3.5,
          -3.5,
          -3.5,
          -3.5,
          -3.5,
          -3.5,
          -3.5,
          -3.5,
          -3.5,
          -3.5,
          -3.5,
          -3.5,
          -3.5,
          -3.5,
          -3.5,
          -3.5,
          -3.5,
          -3.5,
          -3.5,
          -3.5,
          -3.5,
          -3.5,
          -3.5,
          -3.5,
          -3.5,
          -3.5,
          -3.5,
          -3.5,
          -3.5,
          -3.5,
          -3.5,
          -3.5,
          -3.5,
          -3.5,
          -3.5,
          -3.5,
          -3.5,
          -3.5,
          -3.5,
          -3.5,
          -3.5,
          -3.5,
          -3.5,
          -3.5,
          -3.5,
          -3.5,
          -3.5,
          -3.5,
          -3.5,
          -3.5,
          -3.5,
          -3.5,
          -3.5,
          -3.5,
          -3.5,
          -3.5,
          -3.5,
          -3.5,
          -3.5,
          -3.5,
          -3.5,
          -3.5,
          -3.5,
          -3.5,
          -3.5,
          -3.5,
          -3.5,
          -3.5,
          -3.5,
          -3.5,
          -3.5,
          -3.5,
          -3.5,
          -3.5,
          -3.5,
          -3.5,
          -3.5,
          -3.5,
          -3.5,
          -3.5,
          -3.5,
          -3.5,
          -3.5,
          -3.5,
          -3.5,
          -3.5,
          -3.5,
          -3.5,
          -3.5,
          -3.5,
          -3.5,
          -3.5,
          -3.5,
          -3.5,
          -3.5,
          -3.5,
          -3.5,
          -3.5,
          -3.5,
          -3.5,
          -3.5,
          -3.5,
          -3.5,
          -3.5,
          -3.5,
          -3.5,
          -3.5,
          -3.5,
          -3.5,
          -3.5,
          -3.5,
          -3.5,
          -3.5,
          -3.5,
          -3.5,
          -3.5,
          -3.5,
          -3.5,
          -3.5,
          -3.5,
          -3.5,
          -3.5,
          -3.5,
          -3.5,
          -3.5,
          -3.5,
          -3.5,
          -3.5,
          -3.5,
          -3.5,
          -3,
          -3,
          -3,
          -3,
          -3,
          -3,
          -3
         ],
         "xaxis": "x",
         "y": [
          0,
          0,
          0,
          -0.15625,
          -0.15625,
          -0.15625,
          -0.6875,
          -0.6875,
          -0.6875,
          -0.6875,
          -0.6875,
          -0.6875,
          -0.6875,
          -0.6875,
          -0.6875,
          -0.03125,
          0.21875,
          0.1875,
          0.1875,
          0.1875,
          0.1875,
          0.1875,
          0.1875,
          0.1875,
          0.1875,
          0.1875,
          0.1875,
          0.1875,
          0.1875,
          0.1875,
          0.1875,
          0.1875,
          0.03125,
          0.03125,
          0.03125,
          0.03125,
          0.03125,
          0.03125,
          0.03125,
          0.03125,
          0.03125,
          0.03125,
          0.03125,
          0.03125,
          0.03125,
          0.03125,
          0.03125,
          0.03125,
          0.03125,
          0.03125,
          0.03125,
          0.03125,
          0.03125,
          0.03125,
          0.03125,
          0.03125,
          0.03125,
          0.03125,
          0.03125,
          0.03125,
          0.03125,
          0.03125,
          0.03125,
          -0.09375,
          -0.09375,
          -0.09375,
          -0.09375,
          -0.09375,
          -0.09375,
          -0.09375,
          -0.09375,
          -0.09375,
          -0.25,
          -0.25,
          -0.25,
          -0.25,
          -0.25,
          -0.25,
          -0.25,
          -0.25,
          -0.25,
          -0.25,
          -0.40625,
          -0.40625,
          -0.40625,
          -0.40625,
          -0.40625,
          -0.40625,
          -0.40625,
          -0.40625,
          -0.40625,
          -0.40625,
          -0.40625,
          -0.40625,
          -0.40625,
          -0.40625,
          -0.40625,
          -0.40625,
          -0.53125,
          -0.53125,
          -0.53125,
          -0.53125,
          -0.53125,
          -0.53125,
          -0.53125,
          -0.53125,
          -0.6875,
          -0.6875,
          -0.8125,
          -0.8125,
          -0.9375,
          -0.9375,
          -0.9375,
          -0.9375,
          -0.9375,
          -0.9375,
          -1.09375,
          -1.09375,
          -1.09375,
          -1.09375,
          -1.0625,
          -1.0625,
          -1.0625,
          -1.0625,
          -1.0625,
          -1.0625,
          -1.0625,
          -1.0625,
          -1.0625,
          -1.0625,
          -1.0625,
          -1.0625,
          -1.21875,
          -1.1875,
          -1.1875,
          -1.1875,
          -1.1875,
          -1.1875,
          -1.1875,
          -1.1875,
          -1.1875,
          -1.1875,
          -1.1875,
          -1.1875,
          -1.1875,
          -1.1875,
          -1.1875,
          -1.1875,
          -1.1875,
          -1.1875,
          -1.1875,
          -1.1875,
          -1.1875,
          -1.1875,
          -1.1875,
          -1.1875,
          -1.1875,
          -1.1875,
          -1.1875,
          -1.1875,
          -1.1875,
          -1.1875,
          -1.1875,
          -1.1875,
          -1.0625,
          -1.0625,
          -1.0625,
          -1.0625,
          -1.0625,
          -1.0625,
          -1.0625,
          -1.0625,
          -1.0625,
          -1.0625,
          -1.0625,
          -1.0625,
          -1.0625,
          -1.0625,
          -1.0625,
          -1.0625,
          -1.0625,
          -1.0625,
          -1.0625,
          -1.0625,
          -1.0625,
          -1.0625,
          -1.0625,
          -1.0625,
          -1.0625,
          -1.0625,
          -1.0625,
          -1.0625,
          -1.0625,
          -1.0625,
          -1.0625,
          -1.0625,
          -1.0625,
          -1.0625,
          -1.0625,
          -1.0625,
          -1.0625,
          -1.0625,
          -1.0625,
          -1.0625,
          -1.0625,
          -1.0625,
          -1.0625,
          -1.0625,
          -1.0625,
          -1.0625,
          -1.0625,
          -1.0625,
          -1.0625,
          -1.0625,
          -1.0625,
          -1.0625,
          -1.0625,
          -1.0625,
          -1.0625,
          -1.0625,
          -1.0625,
          -1.0625,
          -1.0625,
          -1.0625,
          -1.0625,
          -1.0625,
          -1.0625,
          -1.0625,
          -1.0625,
          -1.0625,
          -1.0625,
          -1.1875,
          -1.1875,
          -1.1875,
          -1.1875,
          -1.1875,
          -1.1875,
          -1.1875,
          -1.1875,
          -1.1875,
          -1.1875,
          -1.1875,
          -1.1875,
          -1.1875,
          -1.1875,
          -1.1875,
          -1.1875,
          -1.1875,
          -1.1875,
          -1.1875,
          -1.1875,
          -1.1875,
          -1.1875,
          -1.1875,
          -1.1875,
          -1.1875,
          -1.1875,
          -1.1875,
          -1.1875,
          -1.1875,
          -1.1875,
          -1.1875,
          -1.1875,
          -1.1875,
          -1.1875,
          -1.1875,
          -1.1875,
          -1.1875,
          -1.1875,
          -1.1875,
          -1.1875,
          -1.1875,
          -1.1875,
          -1.1875,
          -1.1875,
          -1.1875,
          -1.1875,
          -1.1875,
          -1.1875,
          -1.1875,
          -1.1875,
          -1.1875,
          -1.1875,
          -1.1875,
          -1.1875,
          -1.1875,
          -1.1875,
          -1.1875,
          -1.1875,
          -1.1875,
          -1.1875,
          -1.1875,
          -1.1875,
          -1.1875,
          -1.1875,
          -1.1875,
          -1.1875,
          -1.1875,
          -1.1875,
          -1.1875,
          -1.1875,
          -1.1875,
          -1.1875,
          -1.1875,
          -1.1875,
          -1.1875,
          -1.1875,
          -1.1875,
          -1.1875,
          -1.1875,
          -1.1875,
          -1.1875,
          -1.1875,
          -1.1875,
          -1.1875,
          -1.1875,
          -1.1875,
          -1.1875,
          -1.1875,
          -1.1875,
          -1.1875,
          -1.1875,
          -1.1875,
          -1.1875,
          -1.1875,
          -1.1875,
          -1.1875,
          -1.1875,
          -1.1875,
          -1.1875,
          -1.1875,
          -1.1875,
          -1.1875,
          -1.1875,
          -1.1875,
          -1.1875,
          -1.1875,
          -1.1875,
          -1.1875,
          -1.1875,
          -1.1875,
          -1.1875,
          -1.1875,
          -1.1875,
          -1.1875,
          -1.1875,
          -1.1875,
          -1.1875,
          -1.1875,
          -1.1875,
          -1.1875,
          -1.1875,
          -1.1875,
          -1.1875,
          -1.1875,
          -1.1875,
          -1.1875,
          -1.1875,
          -1.1875,
          -1.1875,
          -1.1875,
          -1.1875,
          -1.1875,
          -1.1875,
          -1.1875,
          -1.1875,
          -1.1875,
          -1.1875,
          -1.1875,
          -1.1875,
          -1.1875,
          -1.1875,
          -1.1875,
          -1.1875,
          -1.1875,
          -1.1875,
          -1.1875,
          -1.1875,
          -1.1875,
          -1.1875,
          -1.1875,
          -1.1875,
          -1.1875,
          -1.1875,
          -1.1875,
          -1.1875,
          -1.1875,
          -1.1875,
          -1.1875,
          -1.3125,
          -1.3125,
          -1.3125,
          -1.4375,
          -1.4375,
          -1.4375,
          -1.4375
         ],
         "yaxis": "y"
        }
       ],
       "layout": {
        "coloraxis": {
         "colorbar": {
          "title": {
           "text": "HDOP"
          }
         },
         "colorscale": [
          [
           0,
           "#0d0887"
          ],
          [
           0.1111111111111111,
           "#46039f"
          ],
          [
           0.2222222222222222,
           "#7201a8"
          ],
          [
           0.3333333333333333,
           "#9c179e"
          ],
          [
           0.4444444444444444,
           "#bd3786"
          ],
          [
           0.5555555555555556,
           "#d8576b"
          ],
          [
           0.6666666666666666,
           "#ed7953"
          ],
          [
           0.7777777777777778,
           "#fb9f3a"
          ],
          [
           0.8888888888888888,
           "#fdca26"
          ],
          [
           1,
           "#f0f921"
          ]
         ]
        },
        "legend": {
         "tracegroupgap": 0
        },
        "template": {
         "data": {
          "bar": [
           {
            "error_x": {
             "color": "#2a3f5f"
            },
            "error_y": {
             "color": "#2a3f5f"
            },
            "marker": {
             "line": {
              "color": "#E5ECF6",
              "width": 0.5
             },
             "pattern": {
              "fillmode": "overlay",
              "size": 10,
              "solidity": 0.2
             }
            },
            "type": "bar"
           }
          ],
          "barpolar": [
           {
            "marker": {
             "line": {
              "color": "#E5ECF6",
              "width": 0.5
             },
             "pattern": {
              "fillmode": "overlay",
              "size": 10,
              "solidity": 0.2
             }
            },
            "type": "barpolar"
           }
          ],
          "carpet": [
           {
            "aaxis": {
             "endlinecolor": "#2a3f5f",
             "gridcolor": "white",
             "linecolor": "white",
             "minorgridcolor": "white",
             "startlinecolor": "#2a3f5f"
            },
            "baxis": {
             "endlinecolor": "#2a3f5f",
             "gridcolor": "white",
             "linecolor": "white",
             "minorgridcolor": "white",
             "startlinecolor": "#2a3f5f"
            },
            "type": "carpet"
           }
          ],
          "choropleth": [
           {
            "colorbar": {
             "outlinewidth": 0,
             "ticks": ""
            },
            "type": "choropleth"
           }
          ],
          "contour": [
           {
            "colorbar": {
             "outlinewidth": 0,
             "ticks": ""
            },
            "colorscale": [
             [
              0,
              "#0d0887"
             ],
             [
              0.1111111111111111,
              "#46039f"
             ],
             [
              0.2222222222222222,
              "#7201a8"
             ],
             [
              0.3333333333333333,
              "#9c179e"
             ],
             [
              0.4444444444444444,
              "#bd3786"
             ],
             [
              0.5555555555555556,
              "#d8576b"
             ],
             [
              0.6666666666666666,
              "#ed7953"
             ],
             [
              0.7777777777777778,
              "#fb9f3a"
             ],
             [
              0.8888888888888888,
              "#fdca26"
             ],
             [
              1,
              "#f0f921"
             ]
            ],
            "type": "contour"
           }
          ],
          "contourcarpet": [
           {
            "colorbar": {
             "outlinewidth": 0,
             "ticks": ""
            },
            "type": "contourcarpet"
           }
          ],
          "heatmap": [
           {
            "colorbar": {
             "outlinewidth": 0,
             "ticks": ""
            },
            "colorscale": [
             [
              0,
              "#0d0887"
             ],
             [
              0.1111111111111111,
              "#46039f"
             ],
             [
              0.2222222222222222,
              "#7201a8"
             ],
             [
              0.3333333333333333,
              "#9c179e"
             ],
             [
              0.4444444444444444,
              "#bd3786"
             ],
             [
              0.5555555555555556,
              "#d8576b"
             ],
             [
              0.6666666666666666,
              "#ed7953"
             ],
             [
              0.7777777777777778,
              "#fb9f3a"
             ],
             [
              0.8888888888888888,
              "#fdca26"
             ],
             [
              1,
              "#f0f921"
             ]
            ],
            "type": "heatmap"
           }
          ],
          "heatmapgl": [
           {
            "colorbar": {
             "outlinewidth": 0,
             "ticks": ""
            },
            "colorscale": [
             [
              0,
              "#0d0887"
             ],
             [
              0.1111111111111111,
              "#46039f"
             ],
             [
              0.2222222222222222,
              "#7201a8"
             ],
             [
              0.3333333333333333,
              "#9c179e"
             ],
             [
              0.4444444444444444,
              "#bd3786"
             ],
             [
              0.5555555555555556,
              "#d8576b"
             ],
             [
              0.6666666666666666,
              "#ed7953"
             ],
             [
              0.7777777777777778,
              "#fb9f3a"
             ],
             [
              0.8888888888888888,
              "#fdca26"
             ],
             [
              1,
              "#f0f921"
             ]
            ],
            "type": "heatmapgl"
           }
          ],
          "histogram": [
           {
            "marker": {
             "pattern": {
              "fillmode": "overlay",
              "size": 10,
              "solidity": 0.2
             }
            },
            "type": "histogram"
           }
          ],
          "histogram2d": [
           {
            "colorbar": {
             "outlinewidth": 0,
             "ticks": ""
            },
            "colorscale": [
             [
              0,
              "#0d0887"
             ],
             [
              0.1111111111111111,
              "#46039f"
             ],
             [
              0.2222222222222222,
              "#7201a8"
             ],
             [
              0.3333333333333333,
              "#9c179e"
             ],
             [
              0.4444444444444444,
              "#bd3786"
             ],
             [
              0.5555555555555556,
              "#d8576b"
             ],
             [
              0.6666666666666666,
              "#ed7953"
             ],
             [
              0.7777777777777778,
              "#fb9f3a"
             ],
             [
              0.8888888888888888,
              "#fdca26"
             ],
             [
              1,
              "#f0f921"
             ]
            ],
            "type": "histogram2d"
           }
          ],
          "histogram2dcontour": [
           {
            "colorbar": {
             "outlinewidth": 0,
             "ticks": ""
            },
            "colorscale": [
             [
              0,
              "#0d0887"
             ],
             [
              0.1111111111111111,
              "#46039f"
             ],
             [
              0.2222222222222222,
              "#7201a8"
             ],
             [
              0.3333333333333333,
              "#9c179e"
             ],
             [
              0.4444444444444444,
              "#bd3786"
             ],
             [
              0.5555555555555556,
              "#d8576b"
             ],
             [
              0.6666666666666666,
              "#ed7953"
             ],
             [
              0.7777777777777778,
              "#fb9f3a"
             ],
             [
              0.8888888888888888,
              "#fdca26"
             ],
             [
              1,
              "#f0f921"
             ]
            ],
            "type": "histogram2dcontour"
           }
          ],
          "mesh3d": [
           {
            "colorbar": {
             "outlinewidth": 0,
             "ticks": ""
            },
            "type": "mesh3d"
           }
          ],
          "parcoords": [
           {
            "line": {
             "colorbar": {
              "outlinewidth": 0,
              "ticks": ""
             }
            },
            "type": "parcoords"
           }
          ],
          "pie": [
           {
            "automargin": true,
            "type": "pie"
           }
          ],
          "scatter": [
           {
            "fillpattern": {
             "fillmode": "overlay",
             "size": 10,
             "solidity": 0.2
            },
            "type": "scatter"
           }
          ],
          "scatter3d": [
           {
            "line": {
             "colorbar": {
              "outlinewidth": 0,
              "ticks": ""
             }
            },
            "marker": {
             "colorbar": {
              "outlinewidth": 0,
              "ticks": ""
             }
            },
            "type": "scatter3d"
           }
          ],
          "scattercarpet": [
           {
            "marker": {
             "colorbar": {
              "outlinewidth": 0,
              "ticks": ""
             }
            },
            "type": "scattercarpet"
           }
          ],
          "scattergeo": [
           {
            "marker": {
             "colorbar": {
              "outlinewidth": 0,
              "ticks": ""
             }
            },
            "type": "scattergeo"
           }
          ],
          "scattergl": [
           {
            "marker": {
             "colorbar": {
              "outlinewidth": 0,
              "ticks": ""
             }
            },
            "type": "scattergl"
           }
          ],
          "scattermapbox": [
           {
            "marker": {
             "colorbar": {
              "outlinewidth": 0,
              "ticks": ""
             }
            },
            "type": "scattermapbox"
           }
          ],
          "scatterpolar": [
           {
            "marker": {
             "colorbar": {
              "outlinewidth": 0,
              "ticks": ""
             }
            },
            "type": "scatterpolar"
           }
          ],
          "scatterpolargl": [
           {
            "marker": {
             "colorbar": {
              "outlinewidth": 0,
              "ticks": ""
             }
            },
            "type": "scatterpolargl"
           }
          ],
          "scatterternary": [
           {
            "marker": {
             "colorbar": {
              "outlinewidth": 0,
              "ticks": ""
             }
            },
            "type": "scatterternary"
           }
          ],
          "surface": [
           {
            "colorbar": {
             "outlinewidth": 0,
             "ticks": ""
            },
            "colorscale": [
             [
              0,
              "#0d0887"
             ],
             [
              0.1111111111111111,
              "#46039f"
             ],
             [
              0.2222222222222222,
              "#7201a8"
             ],
             [
              0.3333333333333333,
              "#9c179e"
             ],
             [
              0.4444444444444444,
              "#bd3786"
             ],
             [
              0.5555555555555556,
              "#d8576b"
             ],
             [
              0.6666666666666666,
              "#ed7953"
             ],
             [
              0.7777777777777778,
              "#fb9f3a"
             ],
             [
              0.8888888888888888,
              "#fdca26"
             ],
             [
              1,
              "#f0f921"
             ]
            ],
            "type": "surface"
           }
          ],
          "table": [
           {
            "cells": {
             "fill": {
              "color": "#EBF0F8"
             },
             "line": {
              "color": "white"
             }
            },
            "header": {
             "fill": {
              "color": "#C8D4E3"
             },
             "line": {
              "color": "white"
             }
            },
            "type": "table"
           }
          ]
         },
         "layout": {
          "annotationdefaults": {
           "arrowcolor": "#2a3f5f",
           "arrowhead": 0,
           "arrowwidth": 1
          },
          "autotypenumbers": "strict",
          "coloraxis": {
           "colorbar": {
            "outlinewidth": 0,
            "ticks": ""
           }
          },
          "colorscale": {
           "diverging": [
            [
             0,
             "#8e0152"
            ],
            [
             0.1,
             "#c51b7d"
            ],
            [
             0.2,
             "#de77ae"
            ],
            [
             0.3,
             "#f1b6da"
            ],
            [
             0.4,
             "#fde0ef"
            ],
            [
             0.5,
             "#f7f7f7"
            ],
            [
             0.6,
             "#e6f5d0"
            ],
            [
             0.7,
             "#b8e186"
            ],
            [
             0.8,
             "#7fbc41"
            ],
            [
             0.9,
             "#4d9221"
            ],
            [
             1,
             "#276419"
            ]
           ],
           "sequential": [
            [
             0,
             "#0d0887"
            ],
            [
             0.1111111111111111,
             "#46039f"
            ],
            [
             0.2222222222222222,
             "#7201a8"
            ],
            [
             0.3333333333333333,
             "#9c179e"
            ],
            [
             0.4444444444444444,
             "#bd3786"
            ],
            [
             0.5555555555555556,
             "#d8576b"
            ],
            [
             0.6666666666666666,
             "#ed7953"
            ],
            [
             0.7777777777777778,
             "#fb9f3a"
            ],
            [
             0.8888888888888888,
             "#fdca26"
            ],
            [
             1,
             "#f0f921"
            ]
           ],
           "sequentialminus": [
            [
             0,
             "#0d0887"
            ],
            [
             0.1111111111111111,
             "#46039f"
            ],
            [
             0.2222222222222222,
             "#7201a8"
            ],
            [
             0.3333333333333333,
             "#9c179e"
            ],
            [
             0.4444444444444444,
             "#bd3786"
            ],
            [
             0.5555555555555556,
             "#d8576b"
            ],
            [
             0.6666666666666666,
             "#ed7953"
            ],
            [
             0.7777777777777778,
             "#fb9f3a"
            ],
            [
             0.8888888888888888,
             "#fdca26"
            ],
            [
             1,
             "#f0f921"
            ]
           ]
          },
          "colorway": [
           "#636efa",
           "#EF553B",
           "#00cc96",
           "#ab63fa",
           "#FFA15A",
           "#19d3f3",
           "#FF6692",
           "#B6E880",
           "#FF97FF",
           "#FECB52"
          ],
          "font": {
           "color": "#2a3f5f"
          },
          "geo": {
           "bgcolor": "white",
           "lakecolor": "white",
           "landcolor": "#E5ECF6",
           "showlakes": true,
           "showland": true,
           "subunitcolor": "white"
          },
          "hoverlabel": {
           "align": "left"
          },
          "hovermode": "closest",
          "mapbox": {
           "style": "light"
          },
          "paper_bgcolor": "white",
          "plot_bgcolor": "#E5ECF6",
          "polar": {
           "angularaxis": {
            "gridcolor": "white",
            "linecolor": "white",
            "ticks": ""
           },
           "bgcolor": "#E5ECF6",
           "radialaxis": {
            "gridcolor": "white",
            "linecolor": "white",
            "ticks": ""
           }
          },
          "scene": {
           "xaxis": {
            "backgroundcolor": "#E5ECF6",
            "gridcolor": "white",
            "gridwidth": 2,
            "linecolor": "white",
            "showbackground": true,
            "ticks": "",
            "zerolinecolor": "white"
           },
           "yaxis": {
            "backgroundcolor": "#E5ECF6",
            "gridcolor": "white",
            "gridwidth": 2,
            "linecolor": "white",
            "showbackground": true,
            "ticks": "",
            "zerolinecolor": "white"
           },
           "zaxis": {
            "backgroundcolor": "#E5ECF6",
            "gridcolor": "white",
            "gridwidth": 2,
            "linecolor": "white",
            "showbackground": true,
            "ticks": "",
            "zerolinecolor": "white"
           }
          },
          "shapedefaults": {
           "line": {
            "color": "#2a3f5f"
           }
          },
          "ternary": {
           "aaxis": {
            "gridcolor": "white",
            "linecolor": "white",
            "ticks": ""
           },
           "baxis": {
            "gridcolor": "white",
            "linecolor": "white",
            "ticks": ""
           },
           "bgcolor": "#E5ECF6",
           "caxis": {
            "gridcolor": "white",
            "linecolor": "white",
            "ticks": ""
           }
          },
          "title": {
           "x": 0.05
          },
          "xaxis": {
           "automargin": true,
           "gridcolor": "white",
           "linecolor": "white",
           "ticks": "",
           "title": {
            "standoff": 15
           },
           "zerolinecolor": "white",
           "zerolinewidth": 2
          },
          "yaxis": {
           "automargin": true,
           "gridcolor": "white",
           "linecolor": "white",
           "ticks": "",
           "title": {
            "standoff": 15
           },
           "zerolinecolor": "white",
           "zerolinewidth": 2
          }
         }
        },
        "title": {
         "text": "Occluded Space"
        },
        "xaxis": {
         "anchor": "y",
         "domain": [
          0,
          1
         ],
         "title": {
          "text": "Northing (M)"
         }
        },
        "yaxis": {
         "anchor": "x",
         "domain": [
          0,
          1
         ],
         "title": {
          "text": "Easting (M)"
         }
        }
       }
      }
     },
     "metadata": {},
     "output_type": "display_data"
    }
   ],
   "source": [
    "fig = px.scatter(gps_df_oc, x=\"modified_northing\", y=\"modified_easting\", color=\"HDOP\",labels={\"modified_northing\": \"Northing (M)\", \"modified_easting\": \"Easting (M)\"}, title=\"Occluded Space\")\n",
    "fig.show()"
   ]
  },
  {
   "attachments": {},
   "cell_type": "markdown",
   "metadata": {},
   "source": [
    "# Range of position\n",
    "\n",
    "northing - (-5,0)\n",
    "eastng - (-1.5,0)\n",
    "\n",
    "Immediately we can see that the range of GPS data is larger than that one collected in an open field. This shows that in occuled space, the data may be more imprecise. This may be due to the multi-path effect caused by buildings reflecting GPS signals.\n",
    "***"
   ]
  },
  {
   "cell_type": "code",
   "execution_count": 22,
   "metadata": {},
   "outputs": [
    {
     "data": {
      "application/vnd.plotly.v1+json": {
       "config": {
        "plotlyServerURL": "https://plot.ly"
       },
       "data": [
        {
         "hovertemplate": "Northing (M)=%{x}<br>Easting (M)=%{y}<br>HDOP=%{marker.color}<extra></extra>",
         "legendgroup": "",
         "marker": {
          "color": [
           1.100000023841858,
           1.100000023841858,
           1.100000023841858,
           1.100000023841858,
           1.100000023841858,
           1.100000023841858,
           1.100000023841858,
           1.100000023841858,
           1.100000023841858,
           1.100000023841858,
           1.100000023841858,
           1.100000023841858,
           1.100000023841858,
           1.100000023841858,
           1.100000023841858,
           1.100000023841858,
           1.100000023841858,
           1.100000023841858,
           1.100000023841858,
           1.100000023841858,
           1.100000023841858,
           1.100000023841858,
           1.100000023841858,
           1.100000023841858,
           1.100000023841858,
           1.100000023841858,
           1.100000023841858,
           1.100000023841858,
           1.100000023841858,
           1.100000023841858,
           1.100000023841858,
           1.100000023841858,
           1.100000023841858,
           1.100000023841858,
           1.100000023841858,
           1.100000023841858,
           1.100000023841858,
           1.100000023841858,
           1.100000023841858,
           1.100000023841858,
           1.100000023841858,
           1.100000023841858,
           1.100000023841858,
           1.100000023841858,
           1.100000023841858,
           1.100000023841858,
           1.100000023841858,
           1.100000023841858,
           1.100000023841858,
           1.100000023841858,
           1.100000023841858,
           1.100000023841858,
           1.100000023841858,
           1.100000023841858,
           1.100000023841858,
           1.100000023841858,
           1.100000023841858,
           1.100000023841858,
           1.100000023841858,
           1.100000023841858,
           1.100000023841858,
           1.100000023841858,
           1.100000023841858,
           1.100000023841858,
           1.100000023841858,
           1.100000023841858,
           1.100000023841858,
           1.100000023841858,
           1.100000023841858,
           1.100000023841858,
           1.100000023841858,
           1.100000023841858,
           1.100000023841858,
           1.100000023841858,
           1.100000023841858,
           1.100000023841858,
           1.100000023841858,
           1.100000023841858,
           1.100000023841858,
           1.100000023841858,
           1.100000023841858,
           1.100000023841858,
           1.100000023841858,
           1.100000023841858,
           1.100000023841858,
           1.100000023841858,
           1.100000023841858,
           1.100000023841858,
           1.100000023841858,
           1.100000023841858,
           1.100000023841858,
           1.100000023841858,
           1.100000023841858,
           1.100000023841858,
           1.100000023841858,
           1.100000023841858,
           1.100000023841858,
           1.100000023841858,
           1.100000023841858,
           1.100000023841858,
           1.100000023841858,
           1.100000023841858,
           1.100000023841858,
           1.100000023841858,
           1.100000023841858,
           1.100000023841858,
           1.100000023841858,
           1.100000023841858,
           1.100000023841858,
           1.100000023841858,
           1.100000023841858,
           1.100000023841858,
           1.100000023841858,
           1.100000023841858,
           1.100000023841858,
           1.100000023841858,
           1.100000023841858,
           1.2999999523162842,
           1.2999999523162842,
           1.2999999523162842,
           1.2999999523162842,
           1.2999999523162842,
           1.2999999523162842,
           1.2999999523162842,
           1.2999999523162842,
           1.2999999523162842,
           1.2999999523162842,
           1.2999999523162842,
           1.2999999523162842,
           1.2999999523162842,
           1.2999999523162842,
           1.2999999523162842,
           1.2999999523162842,
           1.2999999523162842,
           1.2999999523162842,
           1.2999999523162842,
           1.2999999523162842,
           1.2999999523162842,
           1.2999999523162842,
           1.2999999523162842,
           1.2999999523162842,
           1.2999999523162842,
           1.2999999523162842,
           1.2999999523162842,
           1.2999999523162842,
           1.2999999523162842,
           1.2999999523162842,
           1.2999999523162842,
           1.2999999523162842,
           1.2999999523162842,
           1.2999999523162842,
           1.2999999523162842,
           1.2999999523162842,
           1.2999999523162842,
           1.2999999523162842,
           1.2999999523162842,
           1.2999999523162842,
           1.5,
           1.5,
           1.2999999523162842,
           1.2999999523162842,
           1.2999999523162842,
           1.2999999523162842,
           1.2999999523162842,
           1.2999999523162842,
           1.2999999523162842,
           1.2999999523162842,
           1.2999999523162842,
           1.2999999523162842,
           1.100000023841858,
           1.100000023841858,
           1.100000023841858,
           1.100000023841858,
           1.100000023841858,
           1.100000023841858,
           1.100000023841858,
           1.100000023841858,
           1.100000023841858,
           1.100000023841858,
           1.100000023841858,
           1.100000023841858,
           1.100000023841858,
           1.100000023841858,
           1.100000023841858,
           1.100000023841858,
           1.100000023841858,
           1.100000023841858,
           1.100000023841858,
           1.100000023841858,
           1.100000023841858,
           1.100000023841858,
           1.100000023841858,
           1.100000023841858,
           1.100000023841858,
           1.100000023841858,
           1.100000023841858,
           1.100000023841858,
           1.100000023841858,
           1.100000023841858,
           1.100000023841858,
           1.100000023841858,
           1.100000023841858,
           1.100000023841858,
           1.100000023841858,
           1.100000023841858,
           1.100000023841858,
           1.100000023841858,
           1.100000023841858,
           1.100000023841858,
           1.100000023841858,
           1.100000023841858,
           1.100000023841858,
           1.100000023841858,
           1.100000023841858,
           1.100000023841858,
           1.100000023841858,
           1.100000023841858,
           1.100000023841858,
           1.100000023841858,
           1.100000023841858,
           1.100000023841858,
           1.100000023841858,
           1.100000023841858,
           1.100000023841858,
           1.100000023841858,
           1.100000023841858,
           1.100000023841858,
           1.100000023841858,
           1.100000023841858,
           1.100000023841858,
           1.100000023841858,
           1.100000023841858,
           1.100000023841858,
           1.100000023841858,
           1.100000023841858,
           1.100000023841858,
           1.100000023841858,
           1.100000023841858,
           1.100000023841858,
           1.100000023841858,
           1.100000023841858,
           1.100000023841858,
           1.100000023841858,
           1.100000023841858,
           1.100000023841858,
           1.2999999523162842,
           1.2999999523162842,
           1.2999999523162842,
           1.2999999523162842,
           1.2999999523162842,
           1.2999999523162842,
           1.2999999523162842,
           1.2999999523162842,
           1.100000023841858,
           1.100000023841858,
           1.100000023841858,
           1.100000023841858,
           1.100000023841858,
           1.100000023841858,
           1.100000023841858,
           1.100000023841858,
           1.100000023841858,
           1.100000023841858,
           1.100000023841858,
           1.100000023841858,
           1.100000023841858,
           1.100000023841858,
           1.100000023841858,
           1.100000023841858,
           1.100000023841858,
           1.100000023841858,
           1.100000023841858,
           1.100000023841858,
           1.100000023841858,
           1.100000023841858,
           1.100000023841858,
           1.100000023841858,
           1.100000023841858,
           1.100000023841858,
           1.100000023841858,
           1.100000023841858,
           1.100000023841858,
           1.100000023841858,
           1.100000023841858,
           1.100000023841858,
           1.100000023841858,
           1.100000023841858,
           1.100000023841858,
           1.100000023841858,
           1.100000023841858,
           1.100000023841858,
           1.100000023841858,
           1.100000023841858,
           1.100000023841858,
           1.100000023841858,
           1.100000023841858,
           1.100000023841858,
           1.100000023841858,
           1.100000023841858,
           1.100000023841858,
           1.100000023841858,
           1.100000023841858,
           1.100000023841858,
           1.100000023841858,
           1.100000023841858,
           1.100000023841858,
           1.100000023841858,
           1.100000023841858,
           1.100000023841858,
           1.100000023841858,
           1.100000023841858,
           1.100000023841858,
           1.100000023841858,
           1.100000023841858,
           1.100000023841858,
           1.100000023841858,
           1.100000023841858,
           1.100000023841858,
           1.100000023841858,
           1.100000023841858,
           1.100000023841858,
           1.100000023841858,
           1.100000023841858,
           1.100000023841858,
           1.100000023841858,
           1.100000023841858,
           1.100000023841858,
           1.100000023841858,
           1.100000023841858,
           1.100000023841858,
           1.100000023841858,
           1.100000023841858,
           1.100000023841858,
           1.100000023841858,
           1.100000023841858,
           1.100000023841858,
           1.100000023841858,
           1.100000023841858,
           1.100000023841858,
           1.100000023841858,
           1.100000023841858,
           1.100000023841858,
           1.100000023841858,
           1.100000023841858,
           1.100000023841858,
           1.100000023841858,
           1.100000023841858,
           1.100000023841858,
           1.100000023841858,
           1.100000023841858,
           1.100000023841858,
           1.100000023841858,
           1.100000023841858,
           1.100000023841858,
           1.100000023841858,
           1.100000023841858,
           1.100000023841858,
           1.100000023841858,
           1.100000023841858,
           1.100000023841858,
           1.100000023841858,
           1.100000023841858,
           1.100000023841858,
           1.100000023841858,
           1.100000023841858,
           1.100000023841858,
           1.100000023841858,
           1.100000023841858,
           1.100000023841858,
           1.100000023841858,
           1.100000023841858,
           1.100000023841858,
           1.100000023841858,
           1.100000023841858,
           1.100000023841858,
           1.100000023841858,
           1.100000023841858,
           1.100000023841858,
           1.100000023841858,
           1.100000023841858,
           1.100000023841858,
           1.100000023841858,
           1.100000023841858,
           1.100000023841858,
           1.100000023841858,
           1.100000023841858,
           1.100000023841858,
           1.100000023841858,
           1.100000023841858,
           1.100000023841858,
           1.100000023841858,
           1.100000023841858,
           1.100000023841858,
           1.100000023841858,
           1.100000023841858,
           1.100000023841858
          ],
          "coloraxis": "coloraxis",
          "symbol": "circle"
         },
         "mode": "markers",
         "name": "",
         "orientation": "v",
         "showlegend": false,
         "type": "scatter",
         "x": [
          0,
          0,
          0,
          0,
          0,
          0,
          0.5,
          0.5,
          0.5,
          0.5,
          0.5,
          0.5,
          0.5,
          0.5,
          0.5,
          -1.5,
          -2,
          -3,
          -3,
          -3,
          -3,
          -3,
          -3,
          -3,
          -3,
          -3,
          -3,
          -3,
          -3,
          -3,
          -3,
          -3,
          -3.5,
          -3.5,
          -3.5,
          -3.5,
          -3.5,
          -3.5,
          -3.5,
          -3.5,
          -3.5,
          -3.5,
          -3.5,
          -3.5,
          -3.5,
          -3.5,
          -3.5,
          -3.5,
          -3.5,
          -3.5,
          -3.5,
          -3.5,
          -3.5,
          -3.5,
          -3.5,
          -3.5,
          -3.5,
          -4,
          -4,
          -4,
          -4,
          -4,
          -4,
          -4.5,
          -4.5,
          -4.5,
          -4.5,
          -4.5,
          -4.5,
          -4.5,
          -4.5,
          -4.5,
          -5,
          -5,
          -5,
          -5,
          -5,
          -5,
          -5,
          -5,
          -5,
          -5,
          -5,
          -5,
          -5,
          -5,
          -5,
          -5,
          -5,
          -5,
          -5,
          -5,
          -5,
          -5,
          -5,
          -5,
          -5,
          -5,
          -5,
          -5,
          -5,
          -5,
          -5,
          -5,
          -5,
          -5,
          -5,
          -5,
          -5,
          -5,
          -5,
          -5,
          -5,
          -5,
          -4.5,
          -4.5,
          -4.5,
          -4.5,
          -4.5,
          -4.5,
          -4.5,
          -4.5,
          -4.5,
          -4.5,
          -4.5,
          -4.5,
          -4.5,
          -4.5,
          -4.5,
          -4.5,
          -4.5,
          -4,
          -4,
          -4,
          -4,
          -4,
          -4,
          -4,
          -4,
          -4,
          -4,
          -4,
          -4,
          -4,
          -4,
          -4,
          -4,
          -4,
          -4,
          -4,
          -4,
          -4,
          -4,
          -4,
          -4,
          -4,
          -4,
          -4,
          -4,
          -4,
          -4,
          -4,
          -4,
          -4,
          -4,
          -4,
          -4,
          -4,
          -4,
          -4,
          -4,
          -4,
          -4,
          -4,
          -4,
          -4,
          -4,
          -4,
          -4,
          -4,
          -4,
          -4,
          -4,
          -4,
          -4,
          -4,
          -4,
          -4,
          -4,
          -4,
          -4,
          -4,
          -4,
          -4,
          -4,
          -4,
          -4,
          -4,
          -4,
          -4,
          -4,
          -4,
          -4,
          -4,
          -4,
          -4,
          -4,
          -4,
          -4,
          -4,
          -4,
          -4,
          -4,
          -4,
          -4,
          -4,
          -4,
          -4,
          -4,
          -4,
          -4,
          -4,
          -4,
          -4,
          -4,
          -4,
          -4,
          -4,
          -4,
          -4,
          -4,
          -4,
          -3.5,
          -3.5,
          -3.5,
          -3.5,
          -3.5,
          -3.5,
          -3.5,
          -3.5,
          -3.5,
          -3.5,
          -3.5,
          -3.5,
          -3.5,
          -3.5,
          -3.5,
          -3.5,
          -3.5,
          -3.5,
          -3.5,
          -3.5,
          -3.5,
          -3.5,
          -3.5,
          -3.5,
          -3.5,
          -3.5,
          -3.5,
          -3.5,
          -3.5,
          -3.5,
          -3.5,
          -3.5,
          -3.5,
          -3.5,
          -3.5,
          -3.5,
          -3.5,
          -3.5,
          -3.5,
          -3.5,
          -3.5,
          -3.5,
          -3.5,
          -3.5,
          -3.5,
          -3.5,
          -3.5,
          -3.5,
          -3.5,
          -3.5,
          -3.5,
          -3.5,
          -3.5,
          -3.5,
          -3.5,
          -3.5,
          -3.5,
          -3.5,
          -3.5,
          -3.5,
          -3.5,
          -3.5,
          -3.5,
          -3.5,
          -3.5,
          -3.5,
          -3.5,
          -3.5,
          -3.5,
          -3.5,
          -3.5,
          -3.5,
          -3.5,
          -3.5,
          -3.5,
          -3.5,
          -3.5,
          -3.5,
          -3.5,
          -3.5,
          -3.5,
          -3.5,
          -3.5,
          -3.5,
          -3.5,
          -3.5,
          -3.5,
          -3.5,
          -3.5,
          -3.5,
          -3.5,
          -3.5,
          -3.5,
          -3.5,
          -3.5,
          -3.5,
          -3.5,
          -3.5,
          -3.5,
          -3.5,
          -3.5,
          -3.5,
          -3.5,
          -3.5,
          -3.5,
          -3.5,
          -3.5,
          -3.5,
          -3.5,
          -3.5,
          -3.5,
          -3.5,
          -3.5,
          -3.5,
          -3.5,
          -3.5,
          -3.5,
          -3.5,
          -3.5,
          -3.5,
          -3.5,
          -3.5,
          -3.5,
          -3.5,
          -3.5,
          -3.5,
          -3.5,
          -3.5,
          -3.5,
          -3.5,
          -3.5,
          -3.5,
          -3.5,
          -3.5,
          -3.5,
          -3.5,
          -3.5,
          -3.5,
          -3.5,
          -3.5,
          -3.5,
          -3.5,
          -3.5,
          -3.5,
          -3.5,
          -3.5,
          -3.5,
          -3.5,
          -3.5,
          -3.5,
          -3.5,
          -3.5,
          -3.5,
          -3.5,
          -3.5,
          -3.5,
          -3.5,
          -3,
          -3,
          -3,
          -3,
          -3,
          -3,
          -3
         ],
         "xaxis": "x",
         "y": [
          0,
          0,
          0,
          -0.15625,
          -0.15625,
          -0.15625,
          -0.6875,
          -0.6875,
          -0.6875,
          -0.6875,
          -0.6875,
          -0.6875,
          -0.6875,
          -0.6875,
          -0.6875,
          -0.03125,
          0.21875,
          0.1875,
          0.1875,
          0.1875,
          0.1875,
          0.1875,
          0.1875,
          0.1875,
          0.1875,
          0.1875,
          0.1875,
          0.1875,
          0.1875,
          0.1875,
          0.1875,
          0.1875,
          0.03125,
          0.03125,
          0.03125,
          0.03125,
          0.03125,
          0.03125,
          0.03125,
          0.03125,
          0.03125,
          0.03125,
          0.03125,
          0.03125,
          0.03125,
          0.03125,
          0.03125,
          0.03125,
          0.03125,
          0.03125,
          0.03125,
          0.03125,
          0.03125,
          0.03125,
          0.03125,
          0.03125,
          0.03125,
          0.03125,
          0.03125,
          0.03125,
          0.03125,
          0.03125,
          0.03125,
          -0.09375,
          -0.09375,
          -0.09375,
          -0.09375,
          -0.09375,
          -0.09375,
          -0.09375,
          -0.09375,
          -0.09375,
          -0.25,
          -0.25,
          -0.25,
          -0.25,
          -0.25,
          -0.25,
          -0.25,
          -0.25,
          -0.25,
          -0.25,
          -0.40625,
          -0.40625,
          -0.40625,
          -0.40625,
          -0.40625,
          -0.40625,
          -0.40625,
          -0.40625,
          -0.40625,
          -0.40625,
          -0.40625,
          -0.40625,
          -0.40625,
          -0.40625,
          -0.40625,
          -0.40625,
          -0.53125,
          -0.53125,
          -0.53125,
          -0.53125,
          -0.53125,
          -0.53125,
          -0.53125,
          -0.53125,
          -0.6875,
          -0.6875,
          -0.8125,
          -0.8125,
          -0.9375,
          -0.9375,
          -0.9375,
          -0.9375,
          -0.9375,
          -0.9375,
          -1.09375,
          -1.09375,
          -1.09375,
          -1.09375,
          -1.0625,
          -1.0625,
          -1.0625,
          -1.0625,
          -1.0625,
          -1.0625,
          -1.0625,
          -1.0625,
          -1.0625,
          -1.0625,
          -1.0625,
          -1.0625,
          -1.21875,
          -1.1875,
          -1.1875,
          -1.1875,
          -1.1875,
          -1.1875,
          -1.1875,
          -1.1875,
          -1.1875,
          -1.1875,
          -1.1875,
          -1.1875,
          -1.1875,
          -1.1875,
          -1.1875,
          -1.1875,
          -1.1875,
          -1.1875,
          -1.1875,
          -1.1875,
          -1.1875,
          -1.1875,
          -1.1875,
          -1.1875,
          -1.1875,
          -1.1875,
          -1.1875,
          -1.1875,
          -1.1875,
          -1.1875,
          -1.1875,
          -1.1875,
          -1.0625,
          -1.0625,
          -1.0625,
          -1.0625,
          -1.0625,
          -1.0625,
          -1.0625,
          -1.0625,
          -1.0625,
          -1.0625,
          -1.0625,
          -1.0625,
          -1.0625,
          -1.0625,
          -1.0625,
          -1.0625,
          -1.0625,
          -1.0625,
          -1.0625,
          -1.0625,
          -1.0625,
          -1.0625,
          -1.0625,
          -1.0625,
          -1.0625,
          -1.0625,
          -1.0625,
          -1.0625,
          -1.0625,
          -1.0625,
          -1.0625,
          -1.0625,
          -1.0625,
          -1.0625,
          -1.0625,
          -1.0625,
          -1.0625,
          -1.0625,
          -1.0625,
          -1.0625,
          -1.0625,
          -1.0625,
          -1.0625,
          -1.0625,
          -1.0625,
          -1.0625,
          -1.0625,
          -1.0625,
          -1.0625,
          -1.0625,
          -1.0625,
          -1.0625,
          -1.0625,
          -1.0625,
          -1.0625,
          -1.0625,
          -1.0625,
          -1.0625,
          -1.0625,
          -1.0625,
          -1.0625,
          -1.0625,
          -1.0625,
          -1.0625,
          -1.0625,
          -1.0625,
          -1.0625,
          -1.1875,
          -1.1875,
          -1.1875,
          -1.1875,
          -1.1875,
          -1.1875,
          -1.1875,
          -1.1875,
          -1.1875,
          -1.1875,
          -1.1875,
          -1.1875,
          -1.1875,
          -1.1875,
          -1.1875,
          -1.1875,
          -1.1875,
          -1.1875,
          -1.1875,
          -1.1875,
          -1.1875,
          -1.1875,
          -1.1875,
          -1.1875,
          -1.1875,
          -1.1875,
          -1.1875,
          -1.1875,
          -1.1875,
          -1.1875,
          -1.1875,
          -1.1875,
          -1.1875,
          -1.1875,
          -1.1875,
          -1.1875,
          -1.1875,
          -1.1875,
          -1.1875,
          -1.1875,
          -1.1875,
          -1.1875,
          -1.1875,
          -1.1875,
          -1.1875,
          -1.1875,
          -1.1875,
          -1.1875,
          -1.1875,
          -1.1875,
          -1.1875,
          -1.1875,
          -1.1875,
          -1.1875,
          -1.1875,
          -1.1875,
          -1.1875,
          -1.1875,
          -1.1875,
          -1.1875,
          -1.1875,
          -1.1875,
          -1.1875,
          -1.1875,
          -1.1875,
          -1.1875,
          -1.1875,
          -1.1875,
          -1.1875,
          -1.1875,
          -1.1875,
          -1.1875,
          -1.1875,
          -1.1875,
          -1.1875,
          -1.1875,
          -1.1875,
          -1.1875,
          -1.1875,
          -1.1875,
          -1.1875,
          -1.1875,
          -1.1875,
          -1.1875,
          -1.1875,
          -1.1875,
          -1.1875,
          -1.1875,
          -1.1875,
          -1.1875,
          -1.1875,
          -1.1875,
          -1.1875,
          -1.1875,
          -1.1875,
          -1.1875,
          -1.1875,
          -1.1875,
          -1.1875,
          -1.1875,
          -1.1875,
          -1.1875,
          -1.1875,
          -1.1875,
          -1.1875,
          -1.1875,
          -1.1875,
          -1.1875,
          -1.1875,
          -1.1875,
          -1.1875,
          -1.1875,
          -1.1875,
          -1.1875,
          -1.1875,
          -1.1875,
          -1.1875,
          -1.1875,
          -1.1875,
          -1.1875,
          -1.1875,
          -1.1875,
          -1.1875,
          -1.1875,
          -1.1875,
          -1.1875,
          -1.1875,
          -1.1875,
          -1.1875,
          -1.1875,
          -1.1875,
          -1.1875,
          -1.1875,
          -1.1875,
          -1.1875,
          -1.1875,
          -1.1875,
          -1.1875,
          -1.1875,
          -1.1875,
          -1.1875,
          -1.1875,
          -1.1875,
          -1.1875,
          -1.1875,
          -1.1875,
          -1.1875,
          -1.1875,
          -1.1875,
          -1.1875,
          -1.1875,
          -1.1875,
          -1.1875,
          -1.1875,
          -1.1875,
          -1.1875,
          -1.1875,
          -1.1875,
          -1.3125,
          -1.3125,
          -1.3125,
          -1.4375,
          -1.4375,
          -1.4375,
          -1.4375
         ],
         "yaxis": "y"
        },
        {
         "name": "Actual position",
         "type": "scatter",
         "x": [
          15.115585557185113
         ],
         "y": [
          10.988579139229842
         ]
        }
       ],
       "layout": {
        "coloraxis": {
         "colorbar": {
          "title": {
           "text": "HDOP"
          }
         },
         "colorscale": [
          [
           0,
           "#0d0887"
          ],
          [
           0.1111111111111111,
           "#46039f"
          ],
          [
           0.2222222222222222,
           "#7201a8"
          ],
          [
           0.3333333333333333,
           "#9c179e"
          ],
          [
           0.4444444444444444,
           "#bd3786"
          ],
          [
           0.5555555555555556,
           "#d8576b"
          ],
          [
           0.6666666666666666,
           "#ed7953"
          ],
          [
           0.7777777777777778,
           "#fb9f3a"
          ],
          [
           0.8888888888888888,
           "#fdca26"
          ],
          [
           1,
           "#f0f921"
          ]
         ]
        },
        "legend": {
         "tracegroupgap": 0
        },
        "template": {
         "data": {
          "bar": [
           {
            "error_x": {
             "color": "#2a3f5f"
            },
            "error_y": {
             "color": "#2a3f5f"
            },
            "marker": {
             "line": {
              "color": "#E5ECF6",
              "width": 0.5
             },
             "pattern": {
              "fillmode": "overlay",
              "size": 10,
              "solidity": 0.2
             }
            },
            "type": "bar"
           }
          ],
          "barpolar": [
           {
            "marker": {
             "line": {
              "color": "#E5ECF6",
              "width": 0.5
             },
             "pattern": {
              "fillmode": "overlay",
              "size": 10,
              "solidity": 0.2
             }
            },
            "type": "barpolar"
           }
          ],
          "carpet": [
           {
            "aaxis": {
             "endlinecolor": "#2a3f5f",
             "gridcolor": "white",
             "linecolor": "white",
             "minorgridcolor": "white",
             "startlinecolor": "#2a3f5f"
            },
            "baxis": {
             "endlinecolor": "#2a3f5f",
             "gridcolor": "white",
             "linecolor": "white",
             "minorgridcolor": "white",
             "startlinecolor": "#2a3f5f"
            },
            "type": "carpet"
           }
          ],
          "choropleth": [
           {
            "colorbar": {
             "outlinewidth": 0,
             "ticks": ""
            },
            "type": "choropleth"
           }
          ],
          "contour": [
           {
            "colorbar": {
             "outlinewidth": 0,
             "ticks": ""
            },
            "colorscale": [
             [
              0,
              "#0d0887"
             ],
             [
              0.1111111111111111,
              "#46039f"
             ],
             [
              0.2222222222222222,
              "#7201a8"
             ],
             [
              0.3333333333333333,
              "#9c179e"
             ],
             [
              0.4444444444444444,
              "#bd3786"
             ],
             [
              0.5555555555555556,
              "#d8576b"
             ],
             [
              0.6666666666666666,
              "#ed7953"
             ],
             [
              0.7777777777777778,
              "#fb9f3a"
             ],
             [
              0.8888888888888888,
              "#fdca26"
             ],
             [
              1,
              "#f0f921"
             ]
            ],
            "type": "contour"
           }
          ],
          "contourcarpet": [
           {
            "colorbar": {
             "outlinewidth": 0,
             "ticks": ""
            },
            "type": "contourcarpet"
           }
          ],
          "heatmap": [
           {
            "colorbar": {
             "outlinewidth": 0,
             "ticks": ""
            },
            "colorscale": [
             [
              0,
              "#0d0887"
             ],
             [
              0.1111111111111111,
              "#46039f"
             ],
             [
              0.2222222222222222,
              "#7201a8"
             ],
             [
              0.3333333333333333,
              "#9c179e"
             ],
             [
              0.4444444444444444,
              "#bd3786"
             ],
             [
              0.5555555555555556,
              "#d8576b"
             ],
             [
              0.6666666666666666,
              "#ed7953"
             ],
             [
              0.7777777777777778,
              "#fb9f3a"
             ],
             [
              0.8888888888888888,
              "#fdca26"
             ],
             [
              1,
              "#f0f921"
             ]
            ],
            "type": "heatmap"
           }
          ],
          "heatmapgl": [
           {
            "colorbar": {
             "outlinewidth": 0,
             "ticks": ""
            },
            "colorscale": [
             [
              0,
              "#0d0887"
             ],
             [
              0.1111111111111111,
              "#46039f"
             ],
             [
              0.2222222222222222,
              "#7201a8"
             ],
             [
              0.3333333333333333,
              "#9c179e"
             ],
             [
              0.4444444444444444,
              "#bd3786"
             ],
             [
              0.5555555555555556,
              "#d8576b"
             ],
             [
              0.6666666666666666,
              "#ed7953"
             ],
             [
              0.7777777777777778,
              "#fb9f3a"
             ],
             [
              0.8888888888888888,
              "#fdca26"
             ],
             [
              1,
              "#f0f921"
             ]
            ],
            "type": "heatmapgl"
           }
          ],
          "histogram": [
           {
            "marker": {
             "pattern": {
              "fillmode": "overlay",
              "size": 10,
              "solidity": 0.2
             }
            },
            "type": "histogram"
           }
          ],
          "histogram2d": [
           {
            "colorbar": {
             "outlinewidth": 0,
             "ticks": ""
            },
            "colorscale": [
             [
              0,
              "#0d0887"
             ],
             [
              0.1111111111111111,
              "#46039f"
             ],
             [
              0.2222222222222222,
              "#7201a8"
             ],
             [
              0.3333333333333333,
              "#9c179e"
             ],
             [
              0.4444444444444444,
              "#bd3786"
             ],
             [
              0.5555555555555556,
              "#d8576b"
             ],
             [
              0.6666666666666666,
              "#ed7953"
             ],
             [
              0.7777777777777778,
              "#fb9f3a"
             ],
             [
              0.8888888888888888,
              "#fdca26"
             ],
             [
              1,
              "#f0f921"
             ]
            ],
            "type": "histogram2d"
           }
          ],
          "histogram2dcontour": [
           {
            "colorbar": {
             "outlinewidth": 0,
             "ticks": ""
            },
            "colorscale": [
             [
              0,
              "#0d0887"
             ],
             [
              0.1111111111111111,
              "#46039f"
             ],
             [
              0.2222222222222222,
              "#7201a8"
             ],
             [
              0.3333333333333333,
              "#9c179e"
             ],
             [
              0.4444444444444444,
              "#bd3786"
             ],
             [
              0.5555555555555556,
              "#d8576b"
             ],
             [
              0.6666666666666666,
              "#ed7953"
             ],
             [
              0.7777777777777778,
              "#fb9f3a"
             ],
             [
              0.8888888888888888,
              "#fdca26"
             ],
             [
              1,
              "#f0f921"
             ]
            ],
            "type": "histogram2dcontour"
           }
          ],
          "mesh3d": [
           {
            "colorbar": {
             "outlinewidth": 0,
             "ticks": ""
            },
            "type": "mesh3d"
           }
          ],
          "parcoords": [
           {
            "line": {
             "colorbar": {
              "outlinewidth": 0,
              "ticks": ""
             }
            },
            "type": "parcoords"
           }
          ],
          "pie": [
           {
            "automargin": true,
            "type": "pie"
           }
          ],
          "scatter": [
           {
            "fillpattern": {
             "fillmode": "overlay",
             "size": 10,
             "solidity": 0.2
            },
            "type": "scatter"
           }
          ],
          "scatter3d": [
           {
            "line": {
             "colorbar": {
              "outlinewidth": 0,
              "ticks": ""
             }
            },
            "marker": {
             "colorbar": {
              "outlinewidth": 0,
              "ticks": ""
             }
            },
            "type": "scatter3d"
           }
          ],
          "scattercarpet": [
           {
            "marker": {
             "colorbar": {
              "outlinewidth": 0,
              "ticks": ""
             }
            },
            "type": "scattercarpet"
           }
          ],
          "scattergeo": [
           {
            "marker": {
             "colorbar": {
              "outlinewidth": 0,
              "ticks": ""
             }
            },
            "type": "scattergeo"
           }
          ],
          "scattergl": [
           {
            "marker": {
             "colorbar": {
              "outlinewidth": 0,
              "ticks": ""
             }
            },
            "type": "scattergl"
           }
          ],
          "scattermapbox": [
           {
            "marker": {
             "colorbar": {
              "outlinewidth": 0,
              "ticks": ""
             }
            },
            "type": "scattermapbox"
           }
          ],
          "scatterpolar": [
           {
            "marker": {
             "colorbar": {
              "outlinewidth": 0,
              "ticks": ""
             }
            },
            "type": "scatterpolar"
           }
          ],
          "scatterpolargl": [
           {
            "marker": {
             "colorbar": {
              "outlinewidth": 0,
              "ticks": ""
             }
            },
            "type": "scatterpolargl"
           }
          ],
          "scatterternary": [
           {
            "marker": {
             "colorbar": {
              "outlinewidth": 0,
              "ticks": ""
             }
            },
            "type": "scatterternary"
           }
          ],
          "surface": [
           {
            "colorbar": {
             "outlinewidth": 0,
             "ticks": ""
            },
            "colorscale": [
             [
              0,
              "#0d0887"
             ],
             [
              0.1111111111111111,
              "#46039f"
             ],
             [
              0.2222222222222222,
              "#7201a8"
             ],
             [
              0.3333333333333333,
              "#9c179e"
             ],
             [
              0.4444444444444444,
              "#bd3786"
             ],
             [
              0.5555555555555556,
              "#d8576b"
             ],
             [
              0.6666666666666666,
              "#ed7953"
             ],
             [
              0.7777777777777778,
              "#fb9f3a"
             ],
             [
              0.8888888888888888,
              "#fdca26"
             ],
             [
              1,
              "#f0f921"
             ]
            ],
            "type": "surface"
           }
          ],
          "table": [
           {
            "cells": {
             "fill": {
              "color": "#EBF0F8"
             },
             "line": {
              "color": "white"
             }
            },
            "header": {
             "fill": {
              "color": "#C8D4E3"
             },
             "line": {
              "color": "white"
             }
            },
            "type": "table"
           }
          ]
         },
         "layout": {
          "annotationdefaults": {
           "arrowcolor": "#2a3f5f",
           "arrowhead": 0,
           "arrowwidth": 1
          },
          "autotypenumbers": "strict",
          "coloraxis": {
           "colorbar": {
            "outlinewidth": 0,
            "ticks": ""
           }
          },
          "colorscale": {
           "diverging": [
            [
             0,
             "#8e0152"
            ],
            [
             0.1,
             "#c51b7d"
            ],
            [
             0.2,
             "#de77ae"
            ],
            [
             0.3,
             "#f1b6da"
            ],
            [
             0.4,
             "#fde0ef"
            ],
            [
             0.5,
             "#f7f7f7"
            ],
            [
             0.6,
             "#e6f5d0"
            ],
            [
             0.7,
             "#b8e186"
            ],
            [
             0.8,
             "#7fbc41"
            ],
            [
             0.9,
             "#4d9221"
            ],
            [
             1,
             "#276419"
            ]
           ],
           "sequential": [
            [
             0,
             "#0d0887"
            ],
            [
             0.1111111111111111,
             "#46039f"
            ],
            [
             0.2222222222222222,
             "#7201a8"
            ],
            [
             0.3333333333333333,
             "#9c179e"
            ],
            [
             0.4444444444444444,
             "#bd3786"
            ],
            [
             0.5555555555555556,
             "#d8576b"
            ],
            [
             0.6666666666666666,
             "#ed7953"
            ],
            [
             0.7777777777777778,
             "#fb9f3a"
            ],
            [
             0.8888888888888888,
             "#fdca26"
            ],
            [
             1,
             "#f0f921"
            ]
           ],
           "sequentialminus": [
            [
             0,
             "#0d0887"
            ],
            [
             0.1111111111111111,
             "#46039f"
            ],
            [
             0.2222222222222222,
             "#7201a8"
            ],
            [
             0.3333333333333333,
             "#9c179e"
            ],
            [
             0.4444444444444444,
             "#bd3786"
            ],
            [
             0.5555555555555556,
             "#d8576b"
            ],
            [
             0.6666666666666666,
             "#ed7953"
            ],
            [
             0.7777777777777778,
             "#fb9f3a"
            ],
            [
             0.8888888888888888,
             "#fdca26"
            ],
            [
             1,
             "#f0f921"
            ]
           ]
          },
          "colorway": [
           "#636efa",
           "#EF553B",
           "#00cc96",
           "#ab63fa",
           "#FFA15A",
           "#19d3f3",
           "#FF6692",
           "#B6E880",
           "#FF97FF",
           "#FECB52"
          ],
          "font": {
           "color": "#2a3f5f"
          },
          "geo": {
           "bgcolor": "white",
           "lakecolor": "white",
           "landcolor": "#E5ECF6",
           "showlakes": true,
           "showland": true,
           "subunitcolor": "white"
          },
          "hoverlabel": {
           "align": "left"
          },
          "hovermode": "closest",
          "mapbox": {
           "style": "light"
          },
          "paper_bgcolor": "white",
          "plot_bgcolor": "#E5ECF6",
          "polar": {
           "angularaxis": {
            "gridcolor": "white",
            "linecolor": "white",
            "ticks": ""
           },
           "bgcolor": "#E5ECF6",
           "radialaxis": {
            "gridcolor": "white",
            "linecolor": "white",
            "ticks": ""
           }
          },
          "scene": {
           "xaxis": {
            "backgroundcolor": "#E5ECF6",
            "gridcolor": "white",
            "gridwidth": 2,
            "linecolor": "white",
            "showbackground": true,
            "ticks": "",
            "zerolinecolor": "white"
           },
           "yaxis": {
            "backgroundcolor": "#E5ECF6",
            "gridcolor": "white",
            "gridwidth": 2,
            "linecolor": "white",
            "showbackground": true,
            "ticks": "",
            "zerolinecolor": "white"
           },
           "zaxis": {
            "backgroundcolor": "#E5ECF6",
            "gridcolor": "white",
            "gridwidth": 2,
            "linecolor": "white",
            "showbackground": true,
            "ticks": "",
            "zerolinecolor": "white"
           }
          },
          "shapedefaults": {
           "line": {
            "color": "#2a3f5f"
           }
          },
          "ternary": {
           "aaxis": {
            "gridcolor": "white",
            "linecolor": "white",
            "ticks": ""
           },
           "baxis": {
            "gridcolor": "white",
            "linecolor": "white",
            "ticks": ""
           },
           "bgcolor": "#E5ECF6",
           "caxis": {
            "gridcolor": "white",
            "linecolor": "white",
            "ticks": ""
           }
          },
          "title": {
           "x": 0.05
          },
          "xaxis": {
           "automargin": true,
           "gridcolor": "white",
           "linecolor": "white",
           "ticks": "",
           "title": {
            "standoff": 15
           },
           "zerolinecolor": "white",
           "zerolinewidth": 2
          },
          "yaxis": {
           "automargin": true,
           "gridcolor": "white",
           "linecolor": "white",
           "ticks": "",
           "title": {
            "standoff": 15
           },
           "zerolinecolor": "white",
           "zerolinewidth": 2
          }
         }
        },
        "title": {
         "text": "Occluded Space"
        },
        "xaxis": {
         "anchor": "y",
         "domain": [
          0,
          1
         ],
         "title": {
          "text": "Northing (M)"
         }
        },
        "yaxis": {
         "anchor": "x",
         "domain": [
          0,
          1
         ],
         "title": {
          "text": "Easting (M)"
         }
        }
       }
      }
     },
     "metadata": {},
     "output_type": "display_data"
    }
   ],
   "source": [
    "# Comparision between gps and google map position\n",
    "x = known_northing - gps_df_oc.UTM_northing[0]\n",
    "y = known_easting - gps_df_oc.UTM_easting[0]\n",
    "fig.add_scatter(x=[x],y=[y],name='Actual position')\n",
    "fig.show()"
   ]
  },
  {
   "cell_type": "code",
   "execution_count": 23,
   "metadata": {},
   "outputs": [
    {
     "data": {
      "text/html": [
       "<div>\n",
       "<style scoped>\n",
       "    .dataframe tbody tr th:only-of-type {\n",
       "        vertical-align: middle;\n",
       "    }\n",
       "\n",
       "    .dataframe tbody tr th {\n",
       "        vertical-align: top;\n",
       "    }\n",
       "\n",
       "    .dataframe thead th {\n",
       "        text-align: right;\n",
       "    }\n",
       "</style>\n",
       "<table border=\"1\" class=\"dataframe\">\n",
       "  <thead>\n",
       "    <tr style=\"text-align: right;\">\n",
       "      <th></th>\n",
       "      <th>Time</th>\n",
       "      <th>Header.seq</th>\n",
       "      <th>Header.stamp.secs</th>\n",
       "      <th>Header.stamp.nsecs</th>\n",
       "      <th>Header.frame_id</th>\n",
       "      <th>Latitude</th>\n",
       "      <th>Longitude</th>\n",
       "      <th>Altitude</th>\n",
       "      <th>HDOP</th>\n",
       "      <th>UTM_easting</th>\n",
       "      <th>UTM_northing</th>\n",
       "      <th>UTC</th>\n",
       "      <th>Zone</th>\n",
       "      <th>Letter</th>\n",
       "      <th>modified_northing</th>\n",
       "      <th>modified_easting</th>\n",
       "      <th>error</th>\n",
       "    </tr>\n",
       "  </thead>\n",
       "  <tbody>\n",
       "    <tr>\n",
       "      <th>0</th>\n",
       "      <td>1.675461e+09</td>\n",
       "      <td>50</td>\n",
       "      <td>214613</td>\n",
       "      <td>0</td>\n",
       "      <td>GPS1_Frame</td>\n",
       "      <td>42.308220</td>\n",
       "      <td>-71.106163</td>\n",
       "      <td>36.2 M</td>\n",
       "      <td>1.1</td>\n",
       "      <td>326413.09375</td>\n",
       "      <td>4686146.5</td>\n",
       "      <td>214613.0</td>\n",
       "      <td>19</td>\n",
       "      <td>T</td>\n",
       "      <td>0.0</td>\n",
       "      <td>0.00000</td>\n",
       "      <td>18.687691</td>\n",
       "    </tr>\n",
       "    <tr>\n",
       "      <th>1</th>\n",
       "      <td>1.675461e+09</td>\n",
       "      <td>51</td>\n",
       "      <td>214614</td>\n",
       "      <td>0</td>\n",
       "      <td>GPS1_Frame</td>\n",
       "      <td>42.308220</td>\n",
       "      <td>-71.106163</td>\n",
       "      <td>36.2 M</td>\n",
       "      <td>1.1</td>\n",
       "      <td>326413.09375</td>\n",
       "      <td>4686146.5</td>\n",
       "      <td>214614.0</td>\n",
       "      <td>19</td>\n",
       "      <td>T</td>\n",
       "      <td>0.0</td>\n",
       "      <td>0.00000</td>\n",
       "      <td>18.687691</td>\n",
       "    </tr>\n",
       "    <tr>\n",
       "      <th>2</th>\n",
       "      <td>1.675461e+09</td>\n",
       "      <td>52</td>\n",
       "      <td>214615</td>\n",
       "      <td>0</td>\n",
       "      <td>GPS1_Frame</td>\n",
       "      <td>42.308220</td>\n",
       "      <td>-71.106163</td>\n",
       "      <td>36.2 M</td>\n",
       "      <td>1.1</td>\n",
       "      <td>326413.09375</td>\n",
       "      <td>4686146.5</td>\n",
       "      <td>214615.0</td>\n",
       "      <td>19</td>\n",
       "      <td>T</td>\n",
       "      <td>0.0</td>\n",
       "      <td>0.00000</td>\n",
       "      <td>18.687691</td>\n",
       "    </tr>\n",
       "    <tr>\n",
       "      <th>3</th>\n",
       "      <td>1.675461e+09</td>\n",
       "      <td>53</td>\n",
       "      <td>214616</td>\n",
       "      <td>0</td>\n",
       "      <td>GPS1_Frame</td>\n",
       "      <td>42.308220</td>\n",
       "      <td>-71.106163</td>\n",
       "      <td>36.1 M</td>\n",
       "      <td>1.1</td>\n",
       "      <td>326412.93750</td>\n",
       "      <td>4686146.5</td>\n",
       "      <td>214616.0</td>\n",
       "      <td>19</td>\n",
       "      <td>T</td>\n",
       "      <td>0.0</td>\n",
       "      <td>-0.15625</td>\n",
       "      <td>18.779993</td>\n",
       "    </tr>\n",
       "    <tr>\n",
       "      <th>4</th>\n",
       "      <td>1.675461e+09</td>\n",
       "      <td>54</td>\n",
       "      <td>214617</td>\n",
       "      <td>0</td>\n",
       "      <td>GPS1_Frame</td>\n",
       "      <td>42.308220</td>\n",
       "      <td>-71.106163</td>\n",
       "      <td>36.1 M</td>\n",
       "      <td>1.1</td>\n",
       "      <td>326412.93750</td>\n",
       "      <td>4686146.5</td>\n",
       "      <td>214617.0</td>\n",
       "      <td>19</td>\n",
       "      <td>T</td>\n",
       "      <td>0.0</td>\n",
       "      <td>-0.15625</td>\n",
       "      <td>18.779993</td>\n",
       "    </tr>\n",
       "    <tr>\n",
       "      <th>...</th>\n",
       "      <td>...</td>\n",
       "      <td>...</td>\n",
       "      <td>...</td>\n",
       "      <td>...</td>\n",
       "      <td>...</td>\n",
       "      <td>...</td>\n",
       "      <td>...</td>\n",
       "      <td>...</td>\n",
       "      <td>...</td>\n",
       "      <td>...</td>\n",
       "      <td>...</td>\n",
       "      <td>...</td>\n",
       "      <td>...</td>\n",
       "      <td>...</td>\n",
       "      <td>...</td>\n",
       "      <td>...</td>\n",
       "      <td>...</td>\n",
       "    </tr>\n",
       "    <tr>\n",
       "      <th>391</th>\n",
       "      <td>1.675461e+09</td>\n",
       "      <td>441</td>\n",
       "      <td>215243</td>\n",
       "      <td>0</td>\n",
       "      <td>GPS1_Frame</td>\n",
       "      <td>42.308193</td>\n",
       "      <td>-71.106178</td>\n",
       "      <td>13.6 M</td>\n",
       "      <td>1.1</td>\n",
       "      <td>326411.78125</td>\n",
       "      <td>4686143.5</td>\n",
       "      <td>215243.0</td>\n",
       "      <td>19</td>\n",
       "      <td>T</td>\n",
       "      <td>-3.0</td>\n",
       "      <td>-1.31250</td>\n",
       "      <td>21.897283</td>\n",
       "    </tr>\n",
       "    <tr>\n",
       "      <th>392</th>\n",
       "      <td>1.675461e+09</td>\n",
       "      <td>442</td>\n",
       "      <td>215244</td>\n",
       "      <td>0</td>\n",
       "      <td>GPS1_Frame</td>\n",
       "      <td>42.308193</td>\n",
       "      <td>-71.106178</td>\n",
       "      <td>13.5 M</td>\n",
       "      <td>1.1</td>\n",
       "      <td>326411.65625</td>\n",
       "      <td>4686143.5</td>\n",
       "      <td>215244.0</td>\n",
       "      <td>19</td>\n",
       "      <td>T</td>\n",
       "      <td>-3.0</td>\n",
       "      <td>-1.43750</td>\n",
       "      <td>21.967746</td>\n",
       "    </tr>\n",
       "    <tr>\n",
       "      <th>393</th>\n",
       "      <td>1.675461e+09</td>\n",
       "      <td>443</td>\n",
       "      <td>215245</td>\n",
       "      <td>0</td>\n",
       "      <td>GPS1_Frame</td>\n",
       "      <td>42.308193</td>\n",
       "      <td>-71.106178</td>\n",
       "      <td>13.5 M</td>\n",
       "      <td>1.1</td>\n",
       "      <td>326411.65625</td>\n",
       "      <td>4686143.5</td>\n",
       "      <td>215245.0</td>\n",
       "      <td>19</td>\n",
       "      <td>T</td>\n",
       "      <td>-3.0</td>\n",
       "      <td>-1.43750</td>\n",
       "      <td>21.967746</td>\n",
       "    </tr>\n",
       "    <tr>\n",
       "      <th>394</th>\n",
       "      <td>1.675461e+09</td>\n",
       "      <td>444</td>\n",
       "      <td>215246</td>\n",
       "      <td>0</td>\n",
       "      <td>GPS1_Frame</td>\n",
       "      <td>42.308193</td>\n",
       "      <td>-71.106178</td>\n",
       "      <td>13.5 M</td>\n",
       "      <td>1.1</td>\n",
       "      <td>326411.65625</td>\n",
       "      <td>4686143.5</td>\n",
       "      <td>215246.0</td>\n",
       "      <td>19</td>\n",
       "      <td>T</td>\n",
       "      <td>-3.0</td>\n",
       "      <td>-1.43750</td>\n",
       "      <td>21.967746</td>\n",
       "    </tr>\n",
       "    <tr>\n",
       "      <th>395</th>\n",
       "      <td>1.675461e+09</td>\n",
       "      <td>445</td>\n",
       "      <td>215247</td>\n",
       "      <td>0</td>\n",
       "      <td>GPS1_Frame</td>\n",
       "      <td>42.308193</td>\n",
       "      <td>-71.106178</td>\n",
       "      <td>13.5 M</td>\n",
       "      <td>1.1</td>\n",
       "      <td>326411.65625</td>\n",
       "      <td>4686143.5</td>\n",
       "      <td>215247.0</td>\n",
       "      <td>19</td>\n",
       "      <td>T</td>\n",
       "      <td>-3.0</td>\n",
       "      <td>-1.43750</td>\n",
       "      <td>21.967746</td>\n",
       "    </tr>\n",
       "  </tbody>\n",
       "</table>\n",
       "<p>396 rows × 17 columns</p>\n",
       "</div>"
      ],
      "text/plain": [
       "             Time  Header.seq  Header.stamp.secs  Header.stamp.nsecs  \\\n",
       "0    1.675461e+09          50             214613                   0   \n",
       "1    1.675461e+09          51             214614                   0   \n",
       "2    1.675461e+09          52             214615                   0   \n",
       "3    1.675461e+09          53             214616                   0   \n",
       "4    1.675461e+09          54             214617                   0   \n",
       "..            ...         ...                ...                 ...   \n",
       "391  1.675461e+09         441             215243                   0   \n",
       "392  1.675461e+09         442             215244                   0   \n",
       "393  1.675461e+09         443             215245                   0   \n",
       "394  1.675461e+09         444             215246                   0   \n",
       "395  1.675461e+09         445             215247                   0   \n",
       "\n",
       "    Header.frame_id   Latitude  Longitude Altitude  HDOP   UTM_easting  \\\n",
       "0        GPS1_Frame  42.308220 -71.106163   36.2 M   1.1  326413.09375   \n",
       "1        GPS1_Frame  42.308220 -71.106163   36.2 M   1.1  326413.09375   \n",
       "2        GPS1_Frame  42.308220 -71.106163   36.2 M   1.1  326413.09375   \n",
       "3        GPS1_Frame  42.308220 -71.106163   36.1 M   1.1  326412.93750   \n",
       "4        GPS1_Frame  42.308220 -71.106163   36.1 M   1.1  326412.93750   \n",
       "..              ...        ...        ...      ...   ...           ...   \n",
       "391      GPS1_Frame  42.308193 -71.106178   13.6 M   1.1  326411.78125   \n",
       "392      GPS1_Frame  42.308193 -71.106178   13.5 M   1.1  326411.65625   \n",
       "393      GPS1_Frame  42.308193 -71.106178   13.5 M   1.1  326411.65625   \n",
       "394      GPS1_Frame  42.308193 -71.106178   13.5 M   1.1  326411.65625   \n",
       "395      GPS1_Frame  42.308193 -71.106178   13.5 M   1.1  326411.65625   \n",
       "\n",
       "     UTM_northing       UTC  Zone Letter  modified_northing  modified_easting  \\\n",
       "0       4686146.5  214613.0    19      T                0.0           0.00000   \n",
       "1       4686146.5  214614.0    19      T                0.0           0.00000   \n",
       "2       4686146.5  214615.0    19      T                0.0           0.00000   \n",
       "3       4686146.5  214616.0    19      T                0.0          -0.15625   \n",
       "4       4686146.5  214617.0    19      T                0.0          -0.15625   \n",
       "..            ...       ...   ...    ...                ...               ...   \n",
       "391     4686143.5  215243.0    19      T               -3.0          -1.31250   \n",
       "392     4686143.5  215244.0    19      T               -3.0          -1.43750   \n",
       "393     4686143.5  215245.0    19      T               -3.0          -1.43750   \n",
       "394     4686143.5  215246.0    19      T               -3.0          -1.43750   \n",
       "395     4686143.5  215247.0    19      T               -3.0          -1.43750   \n",
       "\n",
       "         error  \n",
       "0    18.687691  \n",
       "1    18.687691  \n",
       "2    18.687691  \n",
       "3    18.779993  \n",
       "4    18.779993  \n",
       "..         ...  \n",
       "391  21.897283  \n",
       "392  21.967746  \n",
       "393  21.967746  \n",
       "394  21.967746  \n",
       "395  21.967746  \n",
       "\n",
       "[396 rows x 17 columns]"
      ]
     },
     "execution_count": 23,
     "metadata": {},
     "output_type": "execute_result"
    }
   ],
   "source": [
    "gps_df_oc['error'] = ((gps_df_oc['modified_northing']-x)**2 + (gps_df_oc['modified_easting']-y)**2)**(1/2)\n",
    "gps_df_oc"
   ]
  },
  {
   "cell_type": "code",
   "execution_count": 24,
   "metadata": {},
   "outputs": [
    {
     "data": {
      "text/plain": [
       "array([1.10000002, 1.29999995, 1.5       ])"
      ]
     },
     "execution_count": 24,
     "metadata": {},
     "output_type": "execute_result"
    }
   ],
   "source": [
    "gps_df_oc[\"HDOP\"].unique()"
   ]
  },
  {
   "attachments": {},
   "cell_type": "markdown",
   "metadata": {},
   "source": [
    "We can aslo see that in occulded space the data contains different HDOP values despite being taken in a stationary spot. This also affects the accuracy and precision of data.\n",
    "***"
   ]
  },
  {
   "cell_type": "code",
   "execution_count": 25,
   "metadata": {},
   "outputs": [
    {
     "data": {
      "text/plain": [
       "array([[<matplotlib.axes._subplots.AxesSubplot object at 0x7f36a53d39a0>]],\n",
       "      dtype=object)"
      ]
     },
     "execution_count": 25,
     "metadata": {},
     "output_type": "execute_result"
    },
    {
     "data": {
      "image/png": "[encoded data removed]",
      "text/plain": [
       "<Figure size 640x480 with 1 Axes>"
      ]
     },
     "metadata": {},
     "output_type": "display_data"
    }
   ],
   "source": [
    "gps_df_oc.hist(column='error')"
   ]
  },
  {
   "attachments": {},
   "cell_type": "markdown",
   "metadata": {},
   "source": [
    "We can see that the error histograms range is larger (19,23). But we can observe that most errors are in between the vlaue (22,23) which is less that that of one in the open field. This may be because the data values when HDOP was 1.1 was higher in number resulting in more precision than that one in open field where the HDOP was 1.2. Hence we can assume that the data received from GPS was more closer to the reference location. Still difference in actual positon where the data was recorded contributes to the error. And the large range of errors may be due to the difference in HDOP values.\n",
    "***"
   ]
  },
  {
   "cell_type": "code",
   "execution_count": 26,
   "metadata": {},
   "outputs": [
    {
     "data": {
      "text/plain": [
       "22.238581470804075"
      ]
     },
     "execution_count": 26,
     "metadata": {},
     "output_type": "execute_result"
    }
   ],
   "source": [
    "mean_error = gps_df_oc['error'].mean()\n",
    "mean_error"
   ]
  },
  {
   "cell_type": "code",
   "execution_count": 27,
   "metadata": {},
   "outputs": [
    {
     "data": {
      "text/plain": [
       "22.244031308233385"
      ]
     },
     "execution_count": 27,
     "metadata": {},
     "output_type": "execute_result"
    }
   ],
   "source": [
    "medain = gps_df_oc['error'].median()\n",
    "medain"
   ]
  },
  {
   "cell_type": "code",
   "execution_count": 28,
   "metadata": {},
   "outputs": [
    {
     "data": {
      "application/vnd.plotly.v1+json": {
       "config": {
        "plotlyServerURL": "https://plot.ly"
       },
       "data": [
        {
         "hovertemplate": "Time in UTC=%{x}<br>Altitude (M)=%{y}<extra></extra>",
         "legendgroup": "",
         "marker": {
          "color": "#636efa",
          "symbol": "circle"
         },
         "mode": "markers",
         "name": "",
         "orientation": "h",
         "showlegend": false,
         "type": "scatter",
         "x": [
          214613,
          214614,
          214615,
          214616,
          214617,
          214618,
          214619,
          214620,
          214621,
          214622,
          214623,
          214624,
          214625,
          214626,
          214627,
          214628,
          214629,
          214630,
          214631,
          214632,
          214633,
          214634,
          214635,
          214636,
          214637,
          214638,
          214639,
          214640,
          214641,
          214642,
          214643,
          214644,
          214645,
          214646,
          214647,
          214648,
          214649,
          214650,
          214651,
          214652,
          214653,
          214654,
          214655,
          214656,
          214657,
          214658,
          214659,
          214700,
          214701,
          214702,
          214703,
          214704,
          214705,
          214706,
          214707,
          214708,
          214709,
          214710,
          214711,
          214712,
          214713,
          214714,
          214715,
          214716,
          214717,
          214718,
          214719,
          214720,
          214721,
          214722,
          214723,
          214724,
          214725,
          214726,
          214727,
          214728,
          214729,
          214730,
          214731,
          214732,
          214733,
          214734,
          214735,
          214736,
          214737,
          214738,
          214739,
          214740,
          214741,
          214742,
          214743,
          214744,
          214745,
          214746,
          214747,
          214748,
          214749,
          214750,
          214751,
          214752,
          214753,
          214754,
          214755,
          214756,
          214757,
          214758,
          214759,
          214800,
          214801,
          214802,
          214803,
          214804,
          214805,
          214806,
          214807,
          214808,
          214809,
          214810,
          214811,
          214812,
          214813,
          214814,
          214815,
          214816,
          214817,
          214818,
          214819,
          214820,
          214821,
          214822,
          214823,
          214824,
          214825,
          214826,
          214827,
          214828,
          214829,
          214830,
          214831,
          214832,
          214833,
          214834,
          214835,
          214836,
          214836,
          214837,
          214838,
          214839,
          214840,
          214841,
          214842,
          214843,
          214844,
          214845,
          214846,
          214847,
          214848,
          214849,
          214850,
          214851,
          214852,
          214853,
          214854,
          214855,
          214856,
          214857,
          214858,
          214859,
          214900,
          214901,
          214902,
          214903,
          214904,
          214905,
          214906,
          214907,
          214908,
          214909,
          214910,
          214911,
          214912,
          214913,
          214914,
          214915,
          214916,
          214917,
          214918,
          214919,
          214920,
          214921,
          214922,
          214923,
          214924,
          214925,
          214926,
          214927,
          214928,
          214929,
          214930,
          214931,
          214932,
          214933,
          214934,
          214935,
          214936,
          214937,
          214938,
          214939,
          214940,
          214941,
          214942,
          214943,
          214944,
          214945,
          214946,
          214947,
          214948,
          214949,
          214950,
          214951,
          214952,
          214953,
          214954,
          214955,
          214956,
          214957,
          214958,
          214959,
          215000,
          215001,
          215002,
          215003,
          215004,
          215005,
          215006,
          215007,
          215008,
          215009,
          215010,
          215011,
          215012,
          215013,
          215014,
          215015,
          215016,
          215017,
          215018,
          215019,
          215020,
          215021,
          215022,
          215023,
          215024,
          215025,
          215026,
          215027,
          215028,
          215029,
          215030,
          215031,
          215032,
          215033,
          215034,
          215035,
          215036,
          215037,
          215038,
          215039,
          215040,
          215041,
          215042,
          215043,
          215044,
          215045,
          215046,
          215047,
          215048,
          215049,
          215050,
          215051,
          215052,
          215053,
          215054,
          215055,
          215056,
          215057,
          215058,
          215059,
          215100,
          215101,
          215102,
          215103,
          215104,
          215105,
          215106,
          215107,
          215108,
          215109,
          215110,
          215111,
          215112,
          215113,
          215114,
          215115,
          215116,
          215117,
          215118,
          215119,
          215120,
          215121,
          215122,
          215123,
          215124,
          215125,
          215126,
          215127,
          215128,
          215129,
          215130,
          215131,
          215132,
          215133,
          215134,
          215135,
          215136,
          215137,
          215138,
          215139,
          215140,
          215141,
          215142,
          215143,
          215144,
          215145,
          215146,
          215147,
          215148,
          215149,
          215150,
          215151,
          215152,
          215153,
          215154,
          215155,
          215156,
          215157,
          215158,
          215159,
          215200,
          215201,
          215202,
          215203,
          215204,
          215205,
          215206,
          215207,
          215208,
          215209,
          215210,
          215211,
          215212,
          215213,
          215214,
          215215,
          215216,
          215217,
          215218,
          215219,
          215220,
          215221,
          215222,
          215223,
          215224,
          215225,
          215226,
          215227,
          215228,
          215229,
          215230,
          215231,
          215232,
          215233,
          215234,
          215235,
          215236,
          215237,
          215238,
          215239,
          215240,
          215241,
          215242,
          215243,
          215244,
          215245,
          215246,
          215247
         ],
         "xaxis": "x",
         "y": [
          "36.2 M",
          "36.2 M",
          "36.2 M",
          "36.1 M",
          "36.1 M",
          "36.1 M",
          "33.0 M",
          "33.0 M",
          "32.9 M",
          "32.9 M",
          "32.8 M",
          "32.8 M",
          "32.7 M",
          "32.7 M",
          "32.6 M",
          "27.5 M",
          "24.8 M",
          "22.9 M",
          "22.9 M",
          "21.7 M",
          "21.7 M",
          "21.7 M",
          "21.6 M",
          "21.6 M",
          "21.6 M",
          "21.6 M",
          "21.6 M",
          "21.6 M",
          "21.6 M",
          "21.6 M",
          "21.6 M",
          "21.6 M",
          "21.0 M",
          "21.0 M",
          "21.0 M",
          "21.0 M",
          "21.0 M",
          "20.9 M",
          "20.9 M",
          "20.9 M",
          "20.9 M",
          "20.9 M",
          "20.9 M",
          "20.9 M",
          "20.9 M",
          "20.9 M",
          "20.9 M",
          "20.9 M",
          "20.9 M",
          "20.9 M",
          "20.8 M",
          "20.8 M",
          "20.8 M",
          "20.8 M",
          "20.8 M",
          "20.7 M",
          "20.7 M",
          "19.6 M",
          "19.5 M",
          "19.5 M",
          "19.5 M",
          "19.5 M",
          "19.5 M",
          "19.1 M",
          "19.1 M",
          "19.1 M",
          "19.1 M",
          "19.1 M",
          "19.1 M",
          "19.1 M",
          "19.1 M",
          "19.1 M",
          "19.2 M",
          "19.2 M",
          "19.2 M",
          "19.2 M",
          "19.2 M",
          "19.2 M",
          "19.2 M",
          "19.2 M",
          "19.2 M",
          "19.2 M",
          "19.2 M",
          "19.2 M",
          "19.2 M",
          "19.2 M",
          "19.2 M",
          "19.2 M",
          "19.2 M",
          "19.2 M",
          "19.2 M",
          "19.2 M",
          "19.2 M",
          "19.2 M",
          "19.2 M",
          "19.2 M",
          "19.2 M",
          "19.2 M",
          "18.9 M",
          "18.9 M",
          "18.9 M",
          "18.9 M",
          "18.9 M",
          "18.9 M",
          "18.9 M",
          "18.9 M",
          "18.4 M",
          "18.4 M",
          "17.7 M",
          "17.7 M",
          "17.0 M",
          "17.0 M",
          "17.0 M",
          "17.0 M",
          "16.5 M",
          "16.5 M",
          "16.1 M",
          "16.1 M",
          "16.1 M",
          "16.1 M",
          "15.9 M",
          "15.9 M",
          "15.9 M",
          "15.8 M",
          "15.8 M",
          "15.6 M",
          "15.6 M",
          "15.6 M",
          "15.4 M",
          "15.4 M",
          "15.4 M",
          "15.2 M",
          "15.2 M",
          "15.0 M",
          "15.0 M",
          "15.0 M",
          "15.0 M",
          "14.9 M",
          "14.9 M",
          "14.7 M",
          "14.7 M",
          "14.7 M",
          "14.6 M",
          "14.6 M",
          "14.6 M",
          "14.6 M",
          "14.6 M",
          "14.6 M",
          "14.6 M",
          "14.6 M",
          "14.6 M",
          "14.6 M",
          "14.6 M",
          "14.7 M",
          "14.7 M",
          "14.7 M",
          "14.7 M",
          "14.7 M",
          "14.7 M",
          "14.7 M",
          "14.7 M",
          "14.7 M",
          "14.7 M",
          "14.7 M",
          "14.7 M",
          "14.7 M",
          "14.7 M",
          "14.7 M",
          "14.7 M",
          "14.7 M",
          "14.7 M",
          "14.7 M",
          "14.7 M",
          "14.7 M",
          "14.7 M",
          "14.7 M",
          "14.7 M",
          "14.7 M",
          "14.7 M",
          "14.7 M",
          "14.7 M",
          "14.7 M",
          "14.7 M",
          "14.7 M",
          "14.7 M",
          "14.7 M",
          "14.7 M",
          "14.7 M",
          "14.7 M",
          "14.7 M",
          "14.7 M",
          "14.7 M",
          "14.7 M",
          "14.7 M",
          "14.7 M",
          "14.6 M",
          "14.6 M",
          "14.6 M",
          "14.6 M",
          "14.6 M",
          "14.6 M",
          "14.6 M",
          "14.6 M",
          "14.6 M",
          "14.6 M",
          "14.6 M",
          "14.6 M",
          "14.6 M",
          "14.6 M",
          "14.6 M",
          "14.6 M",
          "14.6 M",
          "14.5 M",
          "14.5 M",
          "14.5 M",
          "14.5 M",
          "14.5 M",
          "14.5 M",
          "14.5 M",
          "14.5 M",
          "14.5 M",
          "14.5 M",
          "14.5 M",
          "14.5 M",
          "14.5 M",
          "14.5 M",
          "14.4 M",
          "14.4 M",
          "14.4 M",
          "14.4 M",
          "14.4 M",
          "14.4 M",
          "14.4 M",
          "14.4 M",
          "14.4 M",
          "14.4 M",
          "14.4 M",
          "14.4 M",
          "14.4 M",
          "14.3 M",
          "14.3 M",
          "14.3 M",
          "14.3 M",
          "14.3 M",
          "14.3 M",
          "14.3 M",
          "14.3 M",
          "14.3 M",
          "14.3 M",
          "14.3 M",
          "14.3 M",
          "14.3 M",
          "14.3 M",
          "14.3 M",
          "14.3 M",
          "14.3 M",
          "14.3 M",
          "14.2 M",
          "14.2 M",
          "14.2 M",
          "14.2 M",
          "14.2 M",
          "14.2 M",
          "14.2 M",
          "14.2 M",
          "14.2 M",
          "14.2 M",
          "14.2 M",
          "14.2 M",
          "14.2 M",
          "14.2 M",
          "14.2 M",
          "14.2 M",
          "14.2 M",
          "14.2 M",
          "14.2 M",
          "14.2 M",
          "14.2 M",
          "14.2 M",
          "14.2 M",
          "14.2 M",
          "14.2 M",
          "14.2 M",
          "14.2 M",
          "14.2 M",
          "14.2 M",
          "14.2 M",
          "14.2 M",
          "14.2 M",
          "14.2 M",
          "14.2 M",
          "14.2 M",
          "14.2 M",
          "14.2 M",
          "14.2 M",
          "14.2 M",
          "14.2 M",
          "14.2 M",
          "14.2 M",
          "14.2 M",
          "14.2 M",
          "14.2 M",
          "14.2 M",
          "14.1 M",
          "14.1 M",
          "14.1 M",
          "14.1 M",
          "14.1 M",
          "14.1 M",
          "14.1 M",
          "14.1 M",
          "14.1 M",
          "14.1 M",
          "14.1 M",
          "14.1 M",
          "14.1 M",
          "14.1 M",
          "14.1 M",
          "14.1 M",
          "14.1 M",
          "14.1 M",
          "14.1 M",
          "14.1 M",
          "14.1 M",
          "14.1 M",
          "14.1 M",
          "14.1 M",
          "14.1 M",
          "14.1 M",
          "14.1 M",
          "14.1 M",
          "14.1 M",
          "14.1 M",
          "14.1 M",
          "14.1 M",
          "14.1 M",
          "14.1 M",
          "14.0 M",
          "14.0 M",
          "14.0 M",
          "14.0 M",
          "14.0 M",
          "14.0 M",
          "14.0 M",
          "14.0 M",
          "14.0 M",
          "14.0 M",
          "14.0 M",
          "14.0 M",
          "14.0 M",
          "14.0 M",
          "14.0 M",
          "14.0 M",
          "14.0 M",
          "14.0 M",
          "14.0 M",
          "14.0 M",
          "14.0 M",
          "14.0 M",
          "14.0 M",
          "14.0 M",
          "14.0 M",
          "14.0 M",
          "14.0 M",
          "14.0 M",
          "14.0 M",
          "14.0 M",
          "14.0 M",
          "14.0 M",
          "14.0 M",
          "14.0 M",
          "14.0 M",
          "14.0 M",
          "14.0 M",
          "14.0 M",
          "14.0 M",
          "14.0 M",
          "14.0 M",
          "14.0 M",
          "14.0 M",
          "14.0 M",
          "14.0 M",
          "14.0 M",
          "14.0 M",
          "14.0 M",
          "14.0 M",
          "14.0 M",
          "14.0 M",
          "14.0 M",
          "13.8 M",
          "13.6 M",
          "13.6 M",
          "13.5 M",
          "13.5 M",
          "13.5 M",
          "13.5 M"
         ],
         "yaxis": "y"
        }
       ],
       "layout": {
        "legend": {
         "tracegroupgap": 0
        },
        "template": {
         "data": {
          "bar": [
           {
            "error_x": {
             "color": "#2a3f5f"
            },
            "error_y": {
             "color": "#2a3f5f"
            },
            "marker": {
             "line": {
              "color": "#E5ECF6",
              "width": 0.5
             },
             "pattern": {
              "fillmode": "overlay",
              "size": 10,
              "solidity": 0.2
             }
            },
            "type": "bar"
           }
          ],
          "barpolar": [
           {
            "marker": {
             "line": {
              "color": "#E5ECF6",
              "width": 0.5
             },
             "pattern": {
              "fillmode": "overlay",
              "size": 10,
              "solidity": 0.2
             }
            },
            "type": "barpolar"
           }
          ],
          "carpet": [
           {
            "aaxis": {
             "endlinecolor": "#2a3f5f",
             "gridcolor": "white",
             "linecolor": "white",
             "minorgridcolor": "white",
             "startlinecolor": "#2a3f5f"
            },
            "baxis": {
             "endlinecolor": "#2a3f5f",
             "gridcolor": "white",
             "linecolor": "white",
             "minorgridcolor": "white",
             "startlinecolor": "#2a3f5f"
            },
            "type": "carpet"
           }
          ],
          "choropleth": [
           {
            "colorbar": {
             "outlinewidth": 0,
             "ticks": ""
            },
            "type": "choropleth"
           }
          ],
          "contour": [
           {
            "colorbar": {
             "outlinewidth": 0,
             "ticks": ""
            },
            "colorscale": [
             [
              0,
              "#0d0887"
             ],
             [
              0.1111111111111111,
              "#46039f"
             ],
             [
              0.2222222222222222,
              "#7201a8"
             ],
             [
              0.3333333333333333,
              "#9c179e"
             ],
             [
              0.4444444444444444,
              "#bd3786"
             ],
             [
              0.5555555555555556,
              "#d8576b"
             ],
             [
              0.6666666666666666,
              "#ed7953"
             ],
             [
              0.7777777777777778,
              "#fb9f3a"
             ],
             [
              0.8888888888888888,
              "#fdca26"
             ],
             [
              1,
              "#f0f921"
             ]
            ],
            "type": "contour"
           }
          ],
          "contourcarpet": [
           {
            "colorbar": {
             "outlinewidth": 0,
             "ticks": ""
            },
            "type": "contourcarpet"
           }
          ],
          "heatmap": [
           {
            "colorbar": {
             "outlinewidth": 0,
             "ticks": ""
            },
            "colorscale": [
             [
              0,
              "#0d0887"
             ],
             [
              0.1111111111111111,
              "#46039f"
             ],
             [
              0.2222222222222222,
              "#7201a8"
             ],
             [
              0.3333333333333333,
              "#9c179e"
             ],
             [
              0.4444444444444444,
              "#bd3786"
             ],
             [
              0.5555555555555556,
              "#d8576b"
             ],
             [
              0.6666666666666666,
              "#ed7953"
             ],
             [
              0.7777777777777778,
              "#fb9f3a"
             ],
             [
              0.8888888888888888,
              "#fdca26"
             ],
             [
              1,
              "#f0f921"
             ]
            ],
            "type": "heatmap"
           }
          ],
          "heatmapgl": [
           {
            "colorbar": {
             "outlinewidth": 0,
             "ticks": ""
            },
            "colorscale": [
             [
              0,
              "#0d0887"
             ],
             [
              0.1111111111111111,
              "#46039f"
             ],
             [
              0.2222222222222222,
              "#7201a8"
             ],
             [
              0.3333333333333333,
              "#9c179e"
             ],
             [
              0.4444444444444444,
              "#bd3786"
             ],
             [
              0.5555555555555556,
              "#d8576b"
             ],
             [
              0.6666666666666666,
              "#ed7953"
             ],
             [
              0.7777777777777778,
              "#fb9f3a"
             ],
             [
              0.8888888888888888,
              "#fdca26"
             ],
             [
              1,
              "#f0f921"
             ]
            ],
            "type": "heatmapgl"
           }
          ],
          "histogram": [
           {
            "marker": {
             "pattern": {
              "fillmode": "overlay",
              "size": 10,
              "solidity": 0.2
             }
            },
            "type": "histogram"
           }
          ],
          "histogram2d": [
           {
            "colorbar": {
             "outlinewidth": 0,
             "ticks": ""
            },
            "colorscale": [
             [
              0,
              "#0d0887"
             ],
             [
              0.1111111111111111,
              "#46039f"
             ],
             [
              0.2222222222222222,
              "#7201a8"
             ],
             [
              0.3333333333333333,
              "#9c179e"
             ],
             [
              0.4444444444444444,
              "#bd3786"
             ],
             [
              0.5555555555555556,
              "#d8576b"
             ],
             [
              0.6666666666666666,
              "#ed7953"
             ],
             [
              0.7777777777777778,
              "#fb9f3a"
             ],
             [
              0.8888888888888888,
              "#fdca26"
             ],
             [
              1,
              "#f0f921"
             ]
            ],
            "type": "histogram2d"
           }
          ],
          "histogram2dcontour": [
           {
            "colorbar": {
             "outlinewidth": 0,
             "ticks": ""
            },
            "colorscale": [
             [
              0,
              "#0d0887"
             ],
             [
              0.1111111111111111,
              "#46039f"
             ],
             [
              0.2222222222222222,
              "#7201a8"
             ],
             [
              0.3333333333333333,
              "#9c179e"
             ],
             [
              0.4444444444444444,
              "#bd3786"
             ],
             [
              0.5555555555555556,
              "#d8576b"
             ],
             [
              0.6666666666666666,
              "#ed7953"
             ],
             [
              0.7777777777777778,
              "#fb9f3a"
             ],
             [
              0.8888888888888888,
              "#fdca26"
             ],
             [
              1,
              "#f0f921"
             ]
            ],
            "type": "histogram2dcontour"
           }
          ],
          "mesh3d": [
           {
            "colorbar": {
             "outlinewidth": 0,
             "ticks": ""
            },
            "type": "mesh3d"
           }
          ],
          "parcoords": [
           {
            "line": {
             "colorbar": {
              "outlinewidth": 0,
              "ticks": ""
             }
            },
            "type": "parcoords"
           }
          ],
          "pie": [
           {
            "automargin": true,
            "type": "pie"
           }
          ],
          "scatter": [
           {
            "fillpattern": {
             "fillmode": "overlay",
             "size": 10,
             "solidity": 0.2
            },
            "type": "scatter"
           }
          ],
          "scatter3d": [
           {
            "line": {
             "colorbar": {
              "outlinewidth": 0,
              "ticks": ""
             }
            },
            "marker": {
             "colorbar": {
              "outlinewidth": 0,
              "ticks": ""
             }
            },
            "type": "scatter3d"
           }
          ],
          "scattercarpet": [
           {
            "marker": {
             "colorbar": {
              "outlinewidth": 0,
              "ticks": ""
             }
            },
            "type": "scattercarpet"
           }
          ],
          "scattergeo": [
           {
            "marker": {
             "colorbar": {
              "outlinewidth": 0,
              "ticks": ""
             }
            },
            "type": "scattergeo"
           }
          ],
          "scattergl": [
           {
            "marker": {
             "colorbar": {
              "outlinewidth": 0,
              "ticks": ""
             }
            },
            "type": "scattergl"
           }
          ],
          "scattermapbox": [
           {
            "marker": {
             "colorbar": {
              "outlinewidth": 0,
              "ticks": ""
             }
            },
            "type": "scattermapbox"
           }
          ],
          "scatterpolar": [
           {
            "marker": {
             "colorbar": {
              "outlinewidth": 0,
              "ticks": ""
             }
            },
            "type": "scatterpolar"
           }
          ],
          "scatterpolargl": [
           {
            "marker": {
             "colorbar": {
              "outlinewidth": 0,
              "ticks": ""
             }
            },
            "type": "scatterpolargl"
           }
          ],
          "scatterternary": [
           {
            "marker": {
             "colorbar": {
              "outlinewidth": 0,
              "ticks": ""
             }
            },
            "type": "scatterternary"
           }
          ],
          "surface": [
           {
            "colorbar": {
             "outlinewidth": 0,
             "ticks": ""
            },
            "colorscale": [
             [
              0,
              "#0d0887"
             ],
             [
              0.1111111111111111,
              "#46039f"
             ],
             [
              0.2222222222222222,
              "#7201a8"
             ],
             [
              0.3333333333333333,
              "#9c179e"
             ],
             [
              0.4444444444444444,
              "#bd3786"
             ],
             [
              0.5555555555555556,
              "#d8576b"
             ],
             [
              0.6666666666666666,
              "#ed7953"
             ],
             [
              0.7777777777777778,
              "#fb9f3a"
             ],
             [
              0.8888888888888888,
              "#fdca26"
             ],
             [
              1,
              "#f0f921"
             ]
            ],
            "type": "surface"
           }
          ],
          "table": [
           {
            "cells": {
             "fill": {
              "color": "#EBF0F8"
             },
             "line": {
              "color": "white"
             }
            },
            "header": {
             "fill": {
              "color": "#C8D4E3"
             },
             "line": {
              "color": "white"
             }
            },
            "type": "table"
           }
          ]
         },
         "layout": {
          "annotationdefaults": {
           "arrowcolor": "#2a3f5f",
           "arrowhead": 0,
           "arrowwidth": 1
          },
          "autotypenumbers": "strict",
          "coloraxis": {
           "colorbar": {
            "outlinewidth": 0,
            "ticks": ""
           }
          },
          "colorscale": {
           "diverging": [
            [
             0,
             "#8e0152"
            ],
            [
             0.1,
             "#c51b7d"
            ],
            [
             0.2,
             "#de77ae"
            ],
            [
             0.3,
             "#f1b6da"
            ],
            [
             0.4,
             "#fde0ef"
            ],
            [
             0.5,
             "#f7f7f7"
            ],
            [
             0.6,
             "#e6f5d0"
            ],
            [
             0.7,
             "#b8e186"
            ],
            [
             0.8,
             "#7fbc41"
            ],
            [
             0.9,
             "#4d9221"
            ],
            [
             1,
             "#276419"
            ]
           ],
           "sequential": [
            [
             0,
             "#0d0887"
            ],
            [
             0.1111111111111111,
             "#46039f"
            ],
            [
             0.2222222222222222,
             "#7201a8"
            ],
            [
             0.3333333333333333,
             "#9c179e"
            ],
            [
             0.4444444444444444,
             "#bd3786"
            ],
            [
             0.5555555555555556,
             "#d8576b"
            ],
            [
             0.6666666666666666,
             "#ed7953"
            ],
            [
             0.7777777777777778,
             "#fb9f3a"
            ],
            [
             0.8888888888888888,
             "#fdca26"
            ],
            [
             1,
             "#f0f921"
            ]
           ],
           "sequentialminus": [
            [
             0,
             "#0d0887"
            ],
            [
             0.1111111111111111,
             "#46039f"
            ],
            [
             0.2222222222222222,
             "#7201a8"
            ],
            [
             0.3333333333333333,
             "#9c179e"
            ],
            [
             0.4444444444444444,
             "#bd3786"
            ],
            [
             0.5555555555555556,
             "#d8576b"
            ],
            [
             0.6666666666666666,
             "#ed7953"
            ],
            [
             0.7777777777777778,
             "#fb9f3a"
            ],
            [
             0.8888888888888888,
             "#fdca26"
            ],
            [
             1,
             "#f0f921"
            ]
           ]
          },
          "colorway": [
           "#636efa",
           "#EF553B",
           "#00cc96",
           "#ab63fa",
           "#FFA15A",
           "#19d3f3",
           "#FF6692",
           "#B6E880",
           "#FF97FF",
           "#FECB52"
          ],
          "font": {
           "color": "#2a3f5f"
          },
          "geo": {
           "bgcolor": "white",
           "lakecolor": "white",
           "landcolor": "#E5ECF6",
           "showlakes": true,
           "showland": true,
           "subunitcolor": "white"
          },
          "hoverlabel": {
           "align": "left"
          },
          "hovermode": "closest",
          "mapbox": {
           "style": "light"
          },
          "paper_bgcolor": "white",
          "plot_bgcolor": "#E5ECF6",
          "polar": {
           "angularaxis": {
            "gridcolor": "white",
            "linecolor": "white",
            "ticks": ""
           },
           "bgcolor": "#E5ECF6",
           "radialaxis": {
            "gridcolor": "white",
            "linecolor": "white",
            "ticks": ""
           }
          },
          "scene": {
           "xaxis": {
            "backgroundcolor": "#E5ECF6",
            "gridcolor": "white",
            "gridwidth": 2,
            "linecolor": "white",
            "showbackground": true,
            "ticks": "",
            "zerolinecolor": "white"
           },
           "yaxis": {
            "backgroundcolor": "#E5ECF6",
            "gridcolor": "white",
            "gridwidth": 2,
            "linecolor": "white",
            "showbackground": true,
            "ticks": "",
            "zerolinecolor": "white"
           },
           "zaxis": {
            "backgroundcolor": "#E5ECF6",
            "gridcolor": "white",
            "gridwidth": 2,
            "linecolor": "white",
            "showbackground": true,
            "ticks": "",
            "zerolinecolor": "white"
           }
          },
          "shapedefaults": {
           "line": {
            "color": "#2a3f5f"
           }
          },
          "ternary": {
           "aaxis": {
            "gridcolor": "white",
            "linecolor": "white",
            "ticks": ""
           },
           "baxis": {
            "gridcolor": "white",
            "linecolor": "white",
            "ticks": ""
           },
           "bgcolor": "#E5ECF6",
           "caxis": {
            "gridcolor": "white",
            "linecolor": "white",
            "ticks": ""
           }
          },
          "title": {
           "x": 0.05
          },
          "xaxis": {
           "automargin": true,
           "gridcolor": "white",
           "linecolor": "white",
           "ticks": "",
           "title": {
            "standoff": 15
           },
           "zerolinecolor": "white",
           "zerolinewidth": 2
          },
          "yaxis": {
           "automargin": true,
           "gridcolor": "white",
           "linecolor": "white",
           "ticks": "",
           "title": {
            "standoff": 15
           },
           "zerolinecolor": "white",
           "zerolinewidth": 2
          }
         }
        },
        "title": {
         "text": "Occluded Space"
        },
        "xaxis": {
         "anchor": "y",
         "domain": [
          0,
          1
         ],
         "title": {
          "text": "Time in UTC"
         }
        },
        "yaxis": {
         "anchor": "x",
         "domain": [
          0,
          1
         ],
         "title": {
          "text": "Altitude (M)"
         }
        }
       }
      }
     },
     "metadata": {},
     "output_type": "display_data"
    }
   ],
   "source": [
    "# Scatter plot of altitude vs time\n",
    "\n",
    "fig_1 = px.scatter(gps_df_oc, x=\"UTC\", y=\"Altitude\",labels={\"Altitude\": \"Altitude (M)\", \"UTC\": \"Time in UTC\"}, title=\"Occluded Space\")\n",
    "fig_1.show()"
   ]
  },
  {
   "attachments": {},
   "cell_type": "markdown",
   "metadata": {},
   "source": [
    "## Analysis of walking data from open field\n",
    "Location - Scagnoli-Nihill Athletic Complex in Jamaica Plains\n",
    "\n",
    "From google maps -> lat = 42.30775, lon = -71.10752\n",
    "***"
   ]
  },
  {
   "cell_type": "code",
   "execution_count": 29,
   "metadata": {},
   "outputs": [
    {
     "data": {
      "text/html": [
       "<div>\n",
       "<style scoped>\n",
       "    .dataframe tbody tr th:only-of-type {\n",
       "        vertical-align: middle;\n",
       "    }\n",
       "\n",
       "    .dataframe tbody tr th {\n",
       "        vertical-align: top;\n",
       "    }\n",
       "\n",
       "    .dataframe thead th {\n",
       "        text-align: right;\n",
       "    }\n",
       "</style>\n",
       "<table border=\"1\" class=\"dataframe\">\n",
       "  <thead>\n",
       "    <tr style=\"text-align: right;\">\n",
       "      <th></th>\n",
       "      <th>Time</th>\n",
       "      <th>Header.seq</th>\n",
       "      <th>Header.stamp.secs</th>\n",
       "      <th>Header.stamp.nsecs</th>\n",
       "      <th>Header.frame_id</th>\n",
       "      <th>Latitude</th>\n",
       "      <th>Longitude</th>\n",
       "      <th>Altitude</th>\n",
       "      <th>HDOP</th>\n",
       "      <th>UTM_easting</th>\n",
       "      <th>UTM_northing</th>\n",
       "      <th>UTC</th>\n",
       "      <th>Zone</th>\n",
       "      <th>Letter</th>\n",
       "    </tr>\n",
       "  </thead>\n",
       "  <tbody>\n",
       "    <tr>\n",
       "      <th>0</th>\n",
       "      <td>1.675378e+09</td>\n",
       "      <td>4</td>\n",
       "      <td>224401</td>\n",
       "      <td>0</td>\n",
       "      <td>GPS1_Frame</td>\n",
       "      <td>42.307884</td>\n",
       "      <td>-71.107315</td>\n",
       "      <td>18.7 M</td>\n",
       "      <td>1.2</td>\n",
       "      <td>326317.09375</td>\n",
       "      <td>4686111.5</td>\n",
       "      <td>224401.0</td>\n",
       "      <td>19</td>\n",
       "      <td>T</td>\n",
       "    </tr>\n",
       "    <tr>\n",
       "      <th>1</th>\n",
       "      <td>1.675378e+09</td>\n",
       "      <td>5</td>\n",
       "      <td>224402</td>\n",
       "      <td>0</td>\n",
       "      <td>GPS1_Frame</td>\n",
       "      <td>42.307880</td>\n",
       "      <td>-71.107315</td>\n",
       "      <td>18.6 M</td>\n",
       "      <td>1.2</td>\n",
       "      <td>326316.96875</td>\n",
       "      <td>4686111.5</td>\n",
       "      <td>224402.0</td>\n",
       "      <td>19</td>\n",
       "      <td>T</td>\n",
       "    </tr>\n",
       "    <tr>\n",
       "      <th>2</th>\n",
       "      <td>1.675378e+09</td>\n",
       "      <td>6</td>\n",
       "      <td>224403</td>\n",
       "      <td>0</td>\n",
       "      <td>GPS1_Frame</td>\n",
       "      <td>42.307877</td>\n",
       "      <td>-71.107323</td>\n",
       "      <td>18.8 M</td>\n",
       "      <td>1.2</td>\n",
       "      <td>326316.53125</td>\n",
       "      <td>4686111.0</td>\n",
       "      <td>224403.0</td>\n",
       "      <td>19</td>\n",
       "      <td>T</td>\n",
       "    </tr>\n",
       "    <tr>\n",
       "      <th>3</th>\n",
       "      <td>1.675378e+09</td>\n",
       "      <td>7</td>\n",
       "      <td>224404</td>\n",
       "      <td>0</td>\n",
       "      <td>GPS1_Frame</td>\n",
       "      <td>42.307873</td>\n",
       "      <td>-71.107330</td>\n",
       "      <td>18.8 M</td>\n",
       "      <td>1.2</td>\n",
       "      <td>326316.12500</td>\n",
       "      <td>4686110.0</td>\n",
       "      <td>224404.0</td>\n",
       "      <td>19</td>\n",
       "      <td>T</td>\n",
       "    </tr>\n",
       "    <tr>\n",
       "      <th>4</th>\n",
       "      <td>1.675378e+09</td>\n",
       "      <td>8</td>\n",
       "      <td>224405</td>\n",
       "      <td>0</td>\n",
       "      <td>GPS1_Frame</td>\n",
       "      <td>42.307865</td>\n",
       "      <td>-71.107330</td>\n",
       "      <td>18.9 M</td>\n",
       "      <td>1.2</td>\n",
       "      <td>326315.81250</td>\n",
       "      <td>4686109.5</td>\n",
       "      <td>224405.0</td>\n",
       "      <td>19</td>\n",
       "      <td>T</td>\n",
       "    </tr>\n",
       "  </tbody>\n",
       "</table>\n",
       "</div>"
      ],
      "text/plain": [
       "           Time  Header.seq  Header.stamp.secs  Header.stamp.nsecs  \\\n",
       "0  1.675378e+09           4             224401                   0   \n",
       "1  1.675378e+09           5             224402                   0   \n",
       "2  1.675378e+09           6             224403                   0   \n",
       "3  1.675378e+09           7             224404                   0   \n",
       "4  1.675378e+09           8             224405                   0   \n",
       "\n",
       "  Header.frame_id   Latitude  Longitude Altitude  HDOP   UTM_easting  \\\n",
       "0      GPS1_Frame  42.307884 -71.107315   18.7 M   1.2  326317.09375   \n",
       "1      GPS1_Frame  42.307880 -71.107315   18.6 M   1.2  326316.96875   \n",
       "2      GPS1_Frame  42.307877 -71.107323   18.8 M   1.2  326316.53125   \n",
       "3      GPS1_Frame  42.307873 -71.107330   18.8 M   1.2  326316.12500   \n",
       "4      GPS1_Frame  42.307865 -71.107330   18.9 M   1.2  326315.81250   \n",
       "\n",
       "   UTM_northing       UTC  Zone Letter  \n",
       "0     4686111.5  224401.0    19      T  \n",
       "1     4686111.5  224402.0    19      T  \n",
       "2     4686111.0  224403.0    19      T  \n",
       "3     4686110.0  224404.0    19      T  \n",
       "4     4686109.5  224405.0    19      T  "
      ]
     },
     "execution_count": 29,
     "metadata": {},
     "output_type": "execute_result"
    }
   ],
   "source": [
    "\n",
    "known_lat, known_lon = 42.30775, -71.10752\n",
    "\n",
    "utm_converted = utm.from_latlon(42.30775,-71.10752)\n",
    "\n",
    "known_easting,known_northing,known_zone,known_letter = utm_converted[0],utm_converted[1],utm_converted[2],utm_converted[3]\n",
    "\n",
    "gps_df_wa.head()"
   ]
  },
  {
   "cell_type": "code",
   "execution_count": 30,
   "metadata": {},
   "outputs": [],
   "source": [
    "# Scaling data\n",
    "gps_df_wa['modified_northing'] = gps_df_wa['UTM_northing'] - gps_df_wa.UTM_northing[0]\n",
    "gps_df_wa['modified_easting'] = gps_df_wa['UTM_easting'] - gps_df_wa.UTM_easting[0]"
   ]
  },
  {
   "attachments": {},
   "cell_type": "markdown",
   "metadata": {},
   "source": [
    "# Mean square error - 0.999056\n",
    "\n",
    "Can be seen by hovering over the line in the plot\n",
    "***"
   ]
  },
  {
   "cell_type": "code",
   "execution_count": 31,
   "metadata": {},
   "outputs": [
    {
     "data": {
      "application/vnd.plotly.v1+json": {
       "config": {
        "plotlyServerURL": "https://plot.ly"
       },
       "data": [
        {
         "hovertemplate": "Northing (M)=%{x}<br>Easting (M)=%{y}<extra></extra>",
         "legendgroup": "",
         "marker": {
          "color": "#636efa",
          "symbol": "circle"
         },
         "mode": "markers",
         "name": "",
         "orientation": "v",
         "showlegend": false,
         "type": "scatter",
         "x": [
          0,
          0,
          -0.5,
          -1.5,
          -2,
          -2.5,
          -3,
          -3.5,
          -4,
          -4.5,
          -5,
          -5.5,
          -6,
          -6.5,
          -7.5,
          -8,
          -8.5,
          -9.5,
          -10,
          -10.5,
          -11.5,
          -12,
          -12.5,
          -13.5,
          -14,
          -15,
          -15.5,
          -16,
          -16.5,
          -17.5,
          -18,
          -18.5,
          -19.5,
          -20,
          -20.5,
          -21.5,
          -22,
          -22.5,
          -23.5,
          -24,
          -24.5,
          -25,
          -25.5,
          -26,
          -26.5,
          -27.5,
          -28,
          -28.5,
          -29,
          -29.5,
          -30,
          -30.5,
          -31.5,
          -32,
          -32.5,
          -33,
          -33.5,
          -34,
          -34.5,
          -35,
          -35.5,
          -36,
          -36.5,
          -37.5,
          -38,
          -38.5,
          -39,
          -39.5,
          -40,
          -41,
          -41.5,
          -42,
          -42.5,
          -43.5,
          -44,
          -44.5,
          -45,
          -45.5,
          -46,
          -46.5,
          -47,
          -47.5,
          -48,
          -48.5,
          -49,
          -49.5,
          -50,
          -51,
          -51.5,
          -52,
          -52.5,
          -53,
          -53.5,
          -54,
          -54.5,
          -55,
          -55.5,
          -56,
          -56.5,
          -57,
          -57.5,
          -58,
          -58.5,
          -59,
          -59.5,
          -60,
          -60.5,
          -61.5,
          -62,
          -62.5,
          -63,
          -63.5,
          -64,
          -64.5,
          -65.5,
          -66,
          -66.5,
          -67,
          -68,
          -68.5,
          -69,
          -69.5,
          -70,
          -70.5,
          -71.5,
          -72,
          -72.5,
          -73,
          -73.5,
          -74.5,
          -75,
          -75.5,
          -76,
          -77,
          -77.5,
          -78,
          -78.5,
          -79.5,
          -80,
          -80.5,
          -81,
          -81
         ],
         "xaxis": "x",
         "y": [
          0,
          -0.125,
          -0.5625,
          -0.96875,
          -1.28125,
          -1.5625,
          -1.84375,
          -2.28125,
          -2.5625,
          -3,
          -3.40625,
          -3.96875,
          -4.40625,
          -4.8125,
          -5.25,
          -5.6875,
          -6.125,
          -6.53125,
          -6.96875,
          -7.40625,
          -7.8125,
          -8.25,
          -8.6875,
          -9.25,
          -9.6875,
          -10.25,
          -10.8125,
          -11.25,
          -11.65625,
          -12.25,
          -12.65625,
          -13.09375,
          -13.65625,
          -14.09375,
          -14.53125,
          -15.09375,
          -15.5,
          -15.8125,
          -16.21875,
          -16.65625,
          -17.09375,
          -17.5,
          -17.9375,
          -18.375,
          -18.78125,
          -19.21875,
          -19.65625,
          -20.0625,
          -20.625,
          -21.0625,
          -21.5,
          -21.90625,
          -22.34375,
          -22.625,
          -23.0625,
          -23.5,
          -23.90625,
          -24.34375,
          -24.75,
          -25.1875,
          -25.46875,
          -25.90625,
          -26.3125,
          -26.75,
          -27.1875,
          -27.59375,
          -27.90625,
          -28.3125,
          -28.75,
          -29.03125,
          -29.34375,
          -29.625,
          -30.03125,
          -30.46875,
          -30.90625,
          -31.3125,
          -31.75,
          -32.03125,
          -32.46875,
          -32.75,
          -33.1875,
          -33.59375,
          -34.03125,
          -34.4375,
          -34.875,
          -35.15625,
          -35.59375,
          -35.875,
          -36.3125,
          -36.71875,
          -37.15625,
          -37.4375,
          -37.875,
          -38.15625,
          -38.59375,
          -39,
          -39.5625,
          -40.125,
          -40.6875,
          -41.25,
          -41.6875,
          -42.125,
          -42.53125,
          -43.09375,
          -43.53125,
          -44.09375,
          -44.5,
          -44.9375,
          -45.375,
          -45.9375,
          -46.34375,
          -46.78125,
          -47.21875,
          -47.625,
          -48.0625,
          -48.625,
          -48.90625,
          -49.34375,
          -49.90625,
          -50.34375,
          -50.90625,
          -51.3125,
          -51.75,
          -52.1875,
          -52.625,
          -53.03125,
          -53.59375,
          -54.03125,
          -54.46875,
          -55.03125,
          -55.4375,
          -55.875,
          -56.3125,
          -56.75,
          -57.15625,
          -57.59375,
          -57.875,
          -58.3125,
          -58.75,
          -59.3125,
          -59.71875,
          -59.71875
         ],
         "yaxis": "y"
        },
        {
         "hovertemplate": "<b>OLS trendline</b><br>modified_easting = 0.740382 * modified_northing + 0.74878<br>R<sup>2</sup>=0.999056<br><br>Northing (M)=%{x}<br>Easting (M)=%{y} <b>(trend)</b><extra></extra>",
         "legendgroup": "",
         "marker": {
          "color": "#636efa",
          "symbol": "circle"
         },
         "mode": "lines",
         "name": "",
         "showlegend": false,
         "type": "scatter",
         "x": [
          -81,
          -81,
          -80.5,
          -80,
          -79.5,
          -78.5,
          -78,
          -77.5,
          -77,
          -76,
          -75.5,
          -75,
          -74.5,
          -73.5,
          -73,
          -72.5,
          -72,
          -71.5,
          -70.5,
          -70,
          -69.5,
          -69,
          -68.5,
          -68,
          -67,
          -66.5,
          -66,
          -65.5,
          -64.5,
          -64,
          -63.5,
          -63,
          -62.5,
          -62,
          -61.5,
          -60.5,
          -60,
          -59.5,
          -59,
          -58.5,
          -58,
          -57.5,
          -57,
          -56.5,
          -56,
          -55.5,
          -55,
          -54.5,
          -54,
          -53.5,
          -53,
          -52.5,
          -52,
          -51.5,
          -51,
          -50,
          -49.5,
          -49,
          -48.5,
          -48,
          -47.5,
          -47,
          -46.5,
          -46,
          -45.5,
          -45,
          -44.5,
          -44,
          -43.5,
          -42.5,
          -42,
          -41.5,
          -41,
          -40,
          -39.5,
          -39,
          -38.5,
          -38,
          -37.5,
          -36.5,
          -36,
          -35.5,
          -35,
          -34.5,
          -34,
          -33.5,
          -33,
          -32.5,
          -32,
          -31.5,
          -30.5,
          -30,
          -29.5,
          -29,
          -28.5,
          -28,
          -27.5,
          -26.5,
          -26,
          -25.5,
          -25,
          -24.5,
          -24,
          -23.5,
          -22.5,
          -22,
          -21.5,
          -20.5,
          -20,
          -19.5,
          -18.5,
          -18,
          -17.5,
          -16.5,
          -16,
          -15.5,
          -15,
          -14,
          -13.5,
          -12.5,
          -12,
          -11.5,
          -10.5,
          -10,
          -9.5,
          -8.5,
          -8,
          -7.5,
          -6.5,
          -6,
          -5.5,
          -5,
          -4.5,
          -4,
          -3.5,
          -3,
          -2.5,
          -2,
          -1.5,
          -0.5,
          0,
          0
         ],
         "xaxis": "x",
         "y": [
          -59.22213722159434,
          -59.22213722159434,
          -58.85194637662548,
          -58.48175553165661,
          -58.11156468668775,
          -57.37118299675002,
          -57.00099215178116,
          -56.6308013068123,
          -56.26061046184344,
          -55.520228771905714,
          -55.150037926936854,
          -54.779847081967986,
          -54.409656236999126,
          -53.6692745470614,
          -53.29908370209254,
          -52.92889285712368,
          -52.55870201215482,
          -52.18851116718595,
          -51.44812947724823,
          -51.07793863227936,
          -50.7077477873105,
          -50.33755694234164,
          -49.96736609737278,
          -49.597175252403915,
          -48.856793562466194,
          -48.48660271749733,
          -48.11641187252847,
          -47.746221027559606,
          -47.00583933762188,
          -46.63564849265302,
          -46.26545764768416,
          -45.89526680271529,
          -45.52507595774643,
          -45.15488511277757,
          -44.78469426780871,
          -44.04431257787098,
          -43.67412173290212,
          -43.303930887933255,
          -42.933740042964395,
          -42.563549197995535,
          -42.193358353026674,
          -41.82316750805781,
          -41.45297666308895,
          -41.08278581812009,
          -40.71259497315122,
          -40.34240412818236,
          -39.9722132832135,
          -39.60202243824464,
          -39.23183159327577,
          -38.86164074830691,
          -38.49144990333805,
          -38.12125905836918,
          -37.75106821340032,
          -37.38087736843146,
          -37.010686523462596,
          -36.270304833524875,
          -35.900113988556015,
          -35.52992314358715,
          -35.15973229861829,
          -34.78954145364943,
          -34.41935060868056,
          -34.0491597637117,
          -33.67896891874284,
          -33.30877807377398,
          -32.93858722880511,
          -32.56839638383625,
          -32.19820553886739,
          -31.828014693898528,
          -31.457823848929667,
          -30.717442158991943,
          -30.347251314023083,
          -29.97706046905422,
          -29.606869624085355,
          -28.86648793414763,
          -28.49629708917877,
          -28.126106244209907,
          -27.755915399241047,
          -27.385724554272183,
          -27.01553370930332,
          -26.275152019365596,
          -25.904961174396735,
          -25.53477032942787,
          -25.164579484459008,
          -24.794388639490148,
          -24.424197794521284,
          -24.054006949552424,
          -23.68381610458356,
          -23.3136252596147,
          -22.943434414645836,
          -22.573243569676972,
          -21.832861879739248,
          -21.462671034770388,
          -21.092480189801524,
          -20.722289344832664,
          -20.3520984998638,
          -19.981907654894936,
          -19.611716809926076,
          -18.871335119988352,
          -18.501144275019488,
          -18.130953430050624,
          -17.760762585081764,
          -17.3905717401129,
          -17.02038089514404,
          -16.650190050175176,
          -15.909808360237452,
          -15.539617515268588,
          -15.169426670299728,
          -14.429044980362002,
          -14.05885413539314,
          -13.688663290424278,
          -12.948281600486554,
          -12.578090755517692,
          -12.207899910548829,
          -11.467518220611105,
          -11.097327375642243,
          -10.72713653067338,
          -10.356945685704519,
          -9.616563995766793,
          -9.24637315079793,
          -8.505991460860207,
          -8.135800615891345,
          -7.765609770922482,
          -7.025228080984757,
          -6.655037236015894,
          -6.284846391047032,
          -5.544464701109307,
          -5.174273856140445,
          -4.804083011171583,
          -4.063701321233858,
          -3.693510476264996,
          -3.3233196312961333,
          -2.9531287863272713,
          -2.5829379413584093,
          -2.2127470963895473,
          -1.8425562514206846,
          -1.4723654064518226,
          -1.1021745614829601,
          -0.7319837165140979,
          -0.36179287154523565,
          0.378588818392489,
          0.7487796633613513,
          0.7487796633613513
         ],
         "yaxis": "y"
        }
       ],
       "layout": {
        "legend": {
         "tracegroupgap": 0
        },
        "template": {
         "data": {
          "bar": [
           {
            "error_x": {
             "color": "#2a3f5f"
            },
            "error_y": {
             "color": "#2a3f5f"
            },
            "marker": {
             "line": {
              "color": "#E5ECF6",
              "width": 0.5
             },
             "pattern": {
              "fillmode": "overlay",
              "size": 10,
              "solidity": 0.2
             }
            },
            "type": "bar"
           }
          ],
          "barpolar": [
           {
            "marker": {
             "line": {
              "color": "#E5ECF6",
              "width": 0.5
             },
             "pattern": {
              "fillmode": "overlay",
              "size": 10,
              "solidity": 0.2
             }
            },
            "type": "barpolar"
           }
          ],
          "carpet": [
           {
            "aaxis": {
             "endlinecolor": "#2a3f5f",
             "gridcolor": "white",
             "linecolor": "white",
             "minorgridcolor": "white",
             "startlinecolor": "#2a3f5f"
            },
            "baxis": {
             "endlinecolor": "#2a3f5f",
             "gridcolor": "white",
             "linecolor": "white",
             "minorgridcolor": "white",
             "startlinecolor": "#2a3f5f"
            },
            "type": "carpet"
           }
          ],
          "choropleth": [
           {
            "colorbar": {
             "outlinewidth": 0,
             "ticks": ""
            },
            "type": "choropleth"
           }
          ],
          "contour": [
           {
            "colorbar": {
             "outlinewidth": 0,
             "ticks": ""
            },
            "colorscale": [
             [
              0,
              "#0d0887"
             ],
             [
              0.1111111111111111,
              "#46039f"
             ],
             [
              0.2222222222222222,
              "#7201a8"
             ],
             [
              0.3333333333333333,
              "#9c179e"
             ],
             [
              0.4444444444444444,
              "#bd3786"
             ],
             [
              0.5555555555555556,
              "#d8576b"
             ],
             [
              0.6666666666666666,
              "#ed7953"
             ],
             [
              0.7777777777777778,
              "#fb9f3a"
             ],
             [
              0.8888888888888888,
              "#fdca26"
             ],
             [
              1,
              "#f0f921"
             ]
            ],
            "type": "contour"
           }
          ],
          "contourcarpet": [
           {
            "colorbar": {
             "outlinewidth": 0,
             "ticks": ""
            },
            "type": "contourcarpet"
           }
          ],
          "heatmap": [
           {
            "colorbar": {
             "outlinewidth": 0,
             "ticks": ""
            },
            "colorscale": [
             [
              0,
              "#0d0887"
             ],
             [
              0.1111111111111111,
              "#46039f"
             ],
             [
              0.2222222222222222,
              "#7201a8"
             ],
             [
              0.3333333333333333,
              "#9c179e"
             ],
             [
              0.4444444444444444,
              "#bd3786"
             ],
             [
              0.5555555555555556,
              "#d8576b"
             ],
             [
              0.6666666666666666,
              "#ed7953"
             ],
             [
              0.7777777777777778,
              "#fb9f3a"
             ],
             [
              0.8888888888888888,
              "#fdca26"
             ],
             [
              1,
              "#f0f921"
             ]
            ],
            "type": "heatmap"
           }
          ],
          "heatmapgl": [
           {
            "colorbar": {
             "outlinewidth": 0,
             "ticks": ""
            },
            "colorscale": [
             [
              0,
              "#0d0887"
             ],
             [
              0.1111111111111111,
              "#46039f"
             ],
             [
              0.2222222222222222,
              "#7201a8"
             ],
             [
              0.3333333333333333,
              "#9c179e"
             ],
             [
              0.4444444444444444,
              "#bd3786"
             ],
             [
              0.5555555555555556,
              "#d8576b"
             ],
             [
              0.6666666666666666,
              "#ed7953"
             ],
             [
              0.7777777777777778,
              "#fb9f3a"
             ],
             [
              0.8888888888888888,
              "#fdca26"
             ],
             [
              1,
              "#f0f921"
             ]
            ],
            "type": "heatmapgl"
           }
          ],
          "histogram": [
           {
            "marker": {
             "pattern": {
              "fillmode": "overlay",
              "size": 10,
              "solidity": 0.2
             }
            },
            "type": "histogram"
           }
          ],
          "histogram2d": [
           {
            "colorbar": {
             "outlinewidth": 0,
             "ticks": ""
            },
            "colorscale": [
             [
              0,
              "#0d0887"
             ],
             [
              0.1111111111111111,
              "#46039f"
             ],
             [
              0.2222222222222222,
              "#7201a8"
             ],
             [
              0.3333333333333333,
              "#9c179e"
             ],
             [
              0.4444444444444444,
              "#bd3786"
             ],
             [
              0.5555555555555556,
              "#d8576b"
             ],
             [
              0.6666666666666666,
              "#ed7953"
             ],
             [
              0.7777777777777778,
              "#fb9f3a"
             ],
             [
              0.8888888888888888,
              "#fdca26"
             ],
             [
              1,
              "#f0f921"
             ]
            ],
            "type": "histogram2d"
           }
          ],
          "histogram2dcontour": [
           {
            "colorbar": {
             "outlinewidth": 0,
             "ticks": ""
            },
            "colorscale": [
             [
              0,
              "#0d0887"
             ],
             [
              0.1111111111111111,
              "#46039f"
             ],
             [
              0.2222222222222222,
              "#7201a8"
             ],
             [
              0.3333333333333333,
              "#9c179e"
             ],
             [
              0.4444444444444444,
              "#bd3786"
             ],
             [
              0.5555555555555556,
              "#d8576b"
             ],
             [
              0.6666666666666666,
              "#ed7953"
             ],
             [
              0.7777777777777778,
              "#fb9f3a"
             ],
             [
              0.8888888888888888,
              "#fdca26"
             ],
             [
              1,
              "#f0f921"
             ]
            ],
            "type": "histogram2dcontour"
           }
          ],
          "mesh3d": [
           {
            "colorbar": {
             "outlinewidth": 0,
             "ticks": ""
            },
            "type": "mesh3d"
           }
          ],
          "parcoords": [
           {
            "line": {
             "colorbar": {
              "outlinewidth": 0,
              "ticks": ""
             }
            },
            "type": "parcoords"
           }
          ],
          "pie": [
           {
            "automargin": true,
            "type": "pie"
           }
          ],
          "scatter": [
           {
            "fillpattern": {
             "fillmode": "overlay",
             "size": 10,
             "solidity": 0.2
            },
            "type": "scatter"
           }
          ],
          "scatter3d": [
           {
            "line": {
             "colorbar": {
              "outlinewidth": 0,
              "ticks": ""
             }
            },
            "marker": {
             "colorbar": {
              "outlinewidth": 0,
              "ticks": ""
             }
            },
            "type": "scatter3d"
           }
          ],
          "scattercarpet": [
           {
            "marker": {
             "colorbar": {
              "outlinewidth": 0,
              "ticks": ""
             }
            },
            "type": "scattercarpet"
           }
          ],
          "scattergeo": [
           {
            "marker": {
             "colorbar": {
              "outlinewidth": 0,
              "ticks": ""
             }
            },
            "type": "scattergeo"
           }
          ],
          "scattergl": [
           {
            "marker": {
             "colorbar": {
              "outlinewidth": 0,
              "ticks": ""
             }
            },
            "type": "scattergl"
           }
          ],
          "scattermapbox": [
           {
            "marker": {
             "colorbar": {
              "outlinewidth": 0,
              "ticks": ""
             }
            },
            "type": "scattermapbox"
           }
          ],
          "scatterpolar": [
           {
            "marker": {
             "colorbar": {
              "outlinewidth": 0,
              "ticks": ""
             }
            },
            "type": "scatterpolar"
           }
          ],
          "scatterpolargl": [
           {
            "marker": {
             "colorbar": {
              "outlinewidth": 0,
              "ticks": ""
             }
            },
            "type": "scatterpolargl"
           }
          ],
          "scatterternary": [
           {
            "marker": {
             "colorbar": {
              "outlinewidth": 0,
              "ticks": ""
             }
            },
            "type": "scatterternary"
           }
          ],
          "surface": [
           {
            "colorbar": {
             "outlinewidth": 0,
             "ticks": ""
            },
            "colorscale": [
             [
              0,
              "#0d0887"
             ],
             [
              0.1111111111111111,
              "#46039f"
             ],
             [
              0.2222222222222222,
              "#7201a8"
             ],
             [
              0.3333333333333333,
              "#9c179e"
             ],
             [
              0.4444444444444444,
              "#bd3786"
             ],
             [
              0.5555555555555556,
              "#d8576b"
             ],
             [
              0.6666666666666666,
              "#ed7953"
             ],
             [
              0.7777777777777778,
              "#fb9f3a"
             ],
             [
              0.8888888888888888,
              "#fdca26"
             ],
             [
              1,
              "#f0f921"
             ]
            ],
            "type": "surface"
           }
          ],
          "table": [
           {
            "cells": {
             "fill": {
              "color": "#EBF0F8"
             },
             "line": {
              "color": "white"
             }
            },
            "header": {
             "fill": {
              "color": "#C8D4E3"
             },
             "line": {
              "color": "white"
             }
            },
            "type": "table"
           }
          ]
         },
         "layout": {
          "annotationdefaults": {
           "arrowcolor": "#2a3f5f",
           "arrowhead": 0,
           "arrowwidth": 1
          },
          "autotypenumbers": "strict",
          "coloraxis": {
           "colorbar": {
            "outlinewidth": 0,
            "ticks": ""
           }
          },
          "colorscale": {
           "diverging": [
            [
             0,
             "#8e0152"
            ],
            [
             0.1,
             "#c51b7d"
            ],
            [
             0.2,
             "#de77ae"
            ],
            [
             0.3,
             "#f1b6da"
            ],
            [
             0.4,
             "#fde0ef"
            ],
            [
             0.5,
             "#f7f7f7"
            ],
            [
             0.6,
             "#e6f5d0"
            ],
            [
             0.7,
             "#b8e186"
            ],
            [
             0.8,
             "#7fbc41"
            ],
            [
             0.9,
             "#4d9221"
            ],
            [
             1,
             "#276419"
            ]
           ],
           "sequential": [
            [
             0,
             "#0d0887"
            ],
            [
             0.1111111111111111,
             "#46039f"
            ],
            [
             0.2222222222222222,
             "#7201a8"
            ],
            [
             0.3333333333333333,
             "#9c179e"
            ],
            [
             0.4444444444444444,
             "#bd3786"
            ],
            [
             0.5555555555555556,
             "#d8576b"
            ],
            [
             0.6666666666666666,
             "#ed7953"
            ],
            [
             0.7777777777777778,
             "#fb9f3a"
            ],
            [
             0.8888888888888888,
             "#fdca26"
            ],
            [
             1,
             "#f0f921"
            ]
           ],
           "sequentialminus": [
            [
             0,
             "#0d0887"
            ],
            [
             0.1111111111111111,
             "#46039f"
            ],
            [
             0.2222222222222222,
             "#7201a8"
            ],
            [
             0.3333333333333333,
             "#9c179e"
            ],
            [
             0.4444444444444444,
             "#bd3786"
            ],
            [
             0.5555555555555556,
             "#d8576b"
            ],
            [
             0.6666666666666666,
             "#ed7953"
            ],
            [
             0.7777777777777778,
             "#fb9f3a"
            ],
            [
             0.8888888888888888,
             "#fdca26"
            ],
            [
             1,
             "#f0f921"
            ]
           ]
          },
          "colorway": [
           "#636efa",
           "#EF553B",
           "#00cc96",
           "#ab63fa",
           "#FFA15A",
           "#19d3f3",
           "#FF6692",
           "#B6E880",
           "#FF97FF",
           "#FECB52"
          ],
          "font": {
           "color": "#2a3f5f"
          },
          "geo": {
           "bgcolor": "white",
           "lakecolor": "white",
           "landcolor": "#E5ECF6",
           "showlakes": true,
           "showland": true,
           "subunitcolor": "white"
          },
          "hoverlabel": {
           "align": "left"
          },
          "hovermode": "closest",
          "mapbox": {
           "style": "light"
          },
          "paper_bgcolor": "white",
          "plot_bgcolor": "#E5ECF6",
          "polar": {
           "angularaxis": {
            "gridcolor": "white",
            "linecolor": "white",
            "ticks": ""
           },
           "bgcolor": "#E5ECF6",
           "radialaxis": {
            "gridcolor": "white",
            "linecolor": "white",
            "ticks": ""
           }
          },
          "scene": {
           "xaxis": {
            "backgroundcolor": "#E5ECF6",
            "gridcolor": "white",
            "gridwidth": 2,
            "linecolor": "white",
            "showbackground": true,
            "ticks": "",
            "zerolinecolor": "white"
           },
           "yaxis": {
            "backgroundcolor": "#E5ECF6",
            "gridcolor": "white",
            "gridwidth": 2,
            "linecolor": "white",
            "showbackground": true,
            "ticks": "",
            "zerolinecolor": "white"
           },
           "zaxis": {
            "backgroundcolor": "#E5ECF6",
            "gridcolor": "white",
            "gridwidth": 2,
            "linecolor": "white",
            "showbackground": true,
            "ticks": "",
            "zerolinecolor": "white"
           }
          },
          "shapedefaults": {
           "line": {
            "color": "#2a3f5f"
           }
          },
          "ternary": {
           "aaxis": {
            "gridcolor": "white",
            "linecolor": "white",
            "ticks": ""
           },
           "baxis": {
            "gridcolor": "white",
            "linecolor": "white",
            "ticks": ""
           },
           "bgcolor": "#E5ECF6",
           "caxis": {
            "gridcolor": "white",
            "linecolor": "white",
            "ticks": ""
           }
          },
          "title": {
           "x": 0.05
          },
          "xaxis": {
           "automargin": true,
           "gridcolor": "white",
           "linecolor": "white",
           "ticks": "",
           "title": {
            "standoff": 15
           },
           "zerolinecolor": "white",
           "zerolinewidth": 2
          },
          "yaxis": {
           "automargin": true,
           "gridcolor": "white",
           "linecolor": "white",
           "ticks": "",
           "title": {
            "standoff": 15
           },
           "zerolinecolor": "white",
           "zerolinewidth": 2
          }
         }
        },
        "title": {
         "text": "Moving in Open Space"
        },
        "xaxis": {
         "anchor": "y",
         "domain": [
          0,
          1
         ],
         "title": {
          "text": "Northing (M)"
         }
        },
        "yaxis": {
         "anchor": "x",
         "domain": [
          0,
          1
         ],
         "title": {
          "text": "Easting (M)"
         }
        }
       }
      }
     },
     "metadata": {},
     "output_type": "display_data"
    }
   ],
   "source": [
    "# Scatter plot of nothing vs easting along with the best fit line\n",
    "\n",
    "fig = px.scatter(gps_df_wa, x=\"modified_northing\", y=\"modified_easting\",trendline='ols', labels={\"modified_northing\":\"Northing (M)\",\"modified_easting\": \"Easting (M)\"}, title=\"Moving in Open Space\")\n",
    "fig.show()"
   ]
  },
  {
   "cell_type": "code",
   "execution_count": 32,
   "metadata": {},
   "outputs": [
    {
     "data": {
      "application/vnd.plotly.v1+json": {
       "config": {
        "plotlyServerURL": "https://plot.ly"
       },
       "data": [
        {
         "hovertemplate": "Time in UTC=%{x}<br>Altitude (M)=%{y}<extra></extra>",
         "legendgroup": "",
         "marker": {
          "color": "#636efa",
          "symbol": "circle"
         },
         "mode": "markers",
         "name": "",
         "orientation": "h",
         "showlegend": false,
         "type": "scatter",
         "x": [
          224401,
          224402,
          224403,
          224404,
          224405,
          224406,
          224407,
          224408,
          224409,
          224410,
          224411,
          224412,
          224413,
          224414,
          224415,
          224416,
          224417,
          224418,
          224419,
          224420,
          224421,
          224422,
          224423,
          224424,
          224425,
          224426,
          224427,
          224428,
          224429,
          224430,
          224431,
          224432,
          224433,
          224434,
          224435,
          224436,
          224437,
          224438,
          224439,
          224440,
          224441,
          224442,
          224443,
          224444,
          224445,
          224446,
          224447,
          224448,
          224449,
          224450,
          224451,
          224452,
          224453,
          224454,
          224455,
          224456,
          224457,
          224458,
          224459,
          224500,
          224501,
          224502,
          224503,
          224504,
          224505,
          224506,
          224507,
          224508,
          224509,
          224510,
          224511,
          224512,
          224513,
          224514,
          224515,
          224516,
          224517,
          224518,
          224519,
          224520,
          224521,
          224522,
          224523,
          224524,
          224525,
          224526,
          224527,
          224528,
          224529,
          224530,
          224531,
          224532,
          224533,
          224534,
          224535,
          224536,
          224537,
          224538,
          224539,
          224540,
          224541,
          224542,
          224543,
          224544,
          224545,
          224546,
          224547,
          224548,
          224549,
          224550,
          224551,
          224552,
          224553,
          224554,
          224555,
          224556,
          224557,
          224558,
          224559,
          224600,
          224601,
          224602,
          224603,
          224604,
          224605,
          224606,
          224607,
          224608,
          224609,
          224610,
          224611,
          224612,
          224613,
          224614,
          224615,
          224616,
          224617,
          224618,
          224619,
          224620,
          224621,
          224622
         ],
         "xaxis": "x",
         "y": [
          "18.7 M",
          "18.6 M",
          "18.8 M",
          "18.8 M",
          "18.9 M",
          "18.9 M",
          "18.9 M",
          "19.0 M",
          "19.0 M",
          "19.0 M",
          "19.0 M",
          "19.1 M",
          "19.1 M",
          "19.1 M",
          "19.2 M",
          "19.2 M",
          "19.3 M",
          "19.3 M",
          "19.3 M",
          "19.3 M",
          "19.3 M",
          "19.3 M",
          "19.4 M",
          "19.4 M",
          "19.4 M",
          "19.5 M",
          "19.5 M",
          "19.5 M",
          "19.5 M",
          "19.5 M",
          "19.6 M",
          "19.6 M",
          "19.6 M",
          "19.6 M",
          "19.6 M",
          "19.6 M",
          "19.6 M",
          "19.6 M",
          "19.6 M",
          "19.6 M",
          "19.6 M",
          "19.6 M",
          "19.5 M",
          "19.5 M",
          "19.5 M",
          "19.5 M",
          "19.5 M",
          "19.6 M",
          "19.6 M",
          "19.6 M",
          "19.7 M",
          "19.7 M",
          "19.7 M",
          "19.7 M",
          "19.7 M",
          "19.7 M",
          "19.7 M",
          "19.7 M",
          "19.7 M",
          "19.8 M",
          "19.8 M",
          "19.8 M",
          "19.8 M",
          "19.8 M",
          "19.8 M",
          "19.8 M",
          "19.7 M",
          "19.7 M",
          "19.6 M",
          "19.6 M",
          "19.5 M",
          "19.5 M",
          "19.4 M",
          "19.4 M",
          "19.3 M",
          "19.3 M",
          "19.3 M",
          "19.3 M",
          "19.2 M",
          "19.3 M",
          "19.3 M",
          "19.3 M",
          "19.3 M",
          "19.3 M",
          "19.4 M",
          "19.4 M",
          "19.4 M",
          "19.4 M",
          "19.4 M",
          "19.4 M",
          "19.4 M",
          "19.4 M",
          "19.4 M",
          "19.4 M",
          "19.4 M",
          "19.4 M",
          "19.4 M",
          "19.4 M",
          "19.4 M",
          "19.4 M",
          "19.4 M",
          "19.4 M",
          "19.3 M",
          "19.3 M",
          "19.4 M",
          "19.5 M",
          "19.5 M",
          "19.5 M",
          "19.5 M",
          "19.6 M",
          "19.6 M",
          "19.6 M",
          "19.7 M",
          "19.7 M",
          "19.7 M",
          "19.7 M",
          "19.8 M",
          "19.8 M",
          "19.8 M",
          "19.8 M",
          "19.8 M",
          "19.9 M",
          "19.9 M",
          "19.9 M",
          "19.9 M",
          "19.9 M",
          "19.9 M",
          "19.9 M",
          "19.9 M",
          "20.0 M",
          "20.0 M",
          "20.0 M",
          "20.0 M",
          "20.1 M",
          "20.1 M",
          "20.1 M",
          "20.0 M",
          "20.0 M",
          "19.9 M",
          "19.9 M",
          "19.9 M",
          "19.8 M"
         ],
         "yaxis": "y"
        }
       ],
       "layout": {
        "legend": {
         "tracegroupgap": 0
        },
        "template": {
         "data": {
          "bar": [
           {
            "error_x": {
             "color": "#2a3f5f"
            },
            "error_y": {
             "color": "#2a3f5f"
            },
            "marker": {
             "line": {
              "color": "#E5ECF6",
              "width": 0.5
             },
             "pattern": {
              "fillmode": "overlay",
              "size": 10,
              "solidity": 0.2
             }
            },
            "type": "bar"
           }
          ],
          "barpolar": [
           {
            "marker": {
             "line": {
              "color": "#E5ECF6",
              "width": 0.5
             },
             "pattern": {
              "fillmode": "overlay",
              "size": 10,
              "solidity": 0.2
             }
            },
            "type": "barpolar"
           }
          ],
          "carpet": [
           {
            "aaxis": {
             "endlinecolor": "#2a3f5f",
             "gridcolor": "white",
             "linecolor": "white",
             "minorgridcolor": "white",
             "startlinecolor": "#2a3f5f"
            },
            "baxis": {
             "endlinecolor": "#2a3f5f",
             "gridcolor": "white",
             "linecolor": "white",
             "minorgridcolor": "white",
             "startlinecolor": "#2a3f5f"
            },
            "type": "carpet"
           }
          ],
          "choropleth": [
           {
            "colorbar": {
             "outlinewidth": 0,
             "ticks": ""
            },
            "type": "choropleth"
           }
          ],
          "contour": [
           {
            "colorbar": {
             "outlinewidth": 0,
             "ticks": ""
            },
            "colorscale": [
             [
              0,
              "#0d0887"
             ],
             [
              0.1111111111111111,
              "#46039f"
             ],
             [
              0.2222222222222222,
              "#7201a8"
             ],
             [
              0.3333333333333333,
              "#9c179e"
             ],
             [
              0.4444444444444444,
              "#bd3786"
             ],
             [
              0.5555555555555556,
              "#d8576b"
             ],
             [
              0.6666666666666666,
              "#ed7953"
             ],
             [
              0.7777777777777778,
              "#fb9f3a"
             ],
             [
              0.8888888888888888,
              "#fdca26"
             ],
             [
              1,
              "#f0f921"
             ]
            ],
            "type": "contour"
           }
          ],
          "contourcarpet": [
           {
            "colorbar": {
             "outlinewidth": 0,
             "ticks": ""
            },
            "type": "contourcarpet"
           }
          ],
          "heatmap": [
           {
            "colorbar": {
             "outlinewidth": 0,
             "ticks": ""
            },
            "colorscale": [
             [
              0,
              "#0d0887"
             ],
             [
              0.1111111111111111,
              "#46039f"
             ],
             [
              0.2222222222222222,
              "#7201a8"
             ],
             [
              0.3333333333333333,
              "#9c179e"
             ],
             [
              0.4444444444444444,
              "#bd3786"
             ],
             [
              0.5555555555555556,
              "#d8576b"
             ],
             [
              0.6666666666666666,
              "#ed7953"
             ],
             [
              0.7777777777777778,
              "#fb9f3a"
             ],
             [
              0.8888888888888888,
              "#fdca26"
             ],
             [
              1,
              "#f0f921"
             ]
            ],
            "type": "heatmap"
           }
          ],
          "heatmapgl": [
           {
            "colorbar": {
             "outlinewidth": 0,
             "ticks": ""
            },
            "colorscale": [
             [
              0,
              "#0d0887"
             ],
             [
              0.1111111111111111,
              "#46039f"
             ],
             [
              0.2222222222222222,
              "#7201a8"
             ],
             [
              0.3333333333333333,
              "#9c179e"
             ],
             [
              0.4444444444444444,
              "#bd3786"
             ],
             [
              0.5555555555555556,
              "#d8576b"
             ],
             [
              0.6666666666666666,
              "#ed7953"
             ],
             [
              0.7777777777777778,
              "#fb9f3a"
             ],
             [
              0.8888888888888888,
              "#fdca26"
             ],
             [
              1,
              "#f0f921"
             ]
            ],
            "type": "heatmapgl"
           }
          ],
          "histogram": [
           {
            "marker": {
             "pattern": {
              "fillmode": "overlay",
              "size": 10,
              "solidity": 0.2
             }
            },
            "type": "histogram"
           }
          ],
          "histogram2d": [
           {
            "colorbar": {
             "outlinewidth": 0,
             "ticks": ""
            },
            "colorscale": [
             [
              0,
              "#0d0887"
             ],
             [
              0.1111111111111111,
              "#46039f"
             ],
             [
              0.2222222222222222,
              "#7201a8"
             ],
             [
              0.3333333333333333,
              "#9c179e"
             ],
             [
              0.4444444444444444,
              "#bd3786"
             ],
             [
              0.5555555555555556,
              "#d8576b"
             ],
             [
              0.6666666666666666,
              "#ed7953"
             ],
             [
              0.7777777777777778,
              "#fb9f3a"
             ],
             [
              0.8888888888888888,
              "#fdca26"
             ],
             [
              1,
              "#f0f921"
             ]
            ],
            "type": "histogram2d"
           }
          ],
          "histogram2dcontour": [
           {
            "colorbar": {
             "outlinewidth": 0,
             "ticks": ""
            },
            "colorscale": [
             [
              0,
              "#0d0887"
             ],
             [
              0.1111111111111111,
              "#46039f"
             ],
             [
              0.2222222222222222,
              "#7201a8"
             ],
             [
              0.3333333333333333,
              "#9c179e"
             ],
             [
              0.4444444444444444,
              "#bd3786"
             ],
             [
              0.5555555555555556,
              "#d8576b"
             ],
             [
              0.6666666666666666,
              "#ed7953"
             ],
             [
              0.7777777777777778,
              "#fb9f3a"
             ],
             [
              0.8888888888888888,
              "#fdca26"
             ],
             [
              1,
              "#f0f921"
             ]
            ],
            "type": "histogram2dcontour"
           }
          ],
          "mesh3d": [
           {
            "colorbar": {
             "outlinewidth": 0,
             "ticks": ""
            },
            "type": "mesh3d"
           }
          ],
          "parcoords": [
           {
            "line": {
             "colorbar": {
              "outlinewidth": 0,
              "ticks": ""
             }
            },
            "type": "parcoords"
           }
          ],
          "pie": [
           {
            "automargin": true,
            "type": "pie"
           }
          ],
          "scatter": [
           {
            "fillpattern": {
             "fillmode": "overlay",
             "size": 10,
             "solidity": 0.2
            },
            "type": "scatter"
           }
          ],
          "scatter3d": [
           {
            "line": {
             "colorbar": {
              "outlinewidth": 0,
              "ticks": ""
             }
            },
            "marker": {
             "colorbar": {
              "outlinewidth": 0,
              "ticks": ""
             }
            },
            "type": "scatter3d"
           }
          ],
          "scattercarpet": [
           {
            "marker": {
             "colorbar": {
              "outlinewidth": 0,
              "ticks": ""
             }
            },
            "type": "scattercarpet"
           }
          ],
          "scattergeo": [
           {
            "marker": {
             "colorbar": {
              "outlinewidth": 0,
              "ticks": ""
             }
            },
            "type": "scattergeo"
           }
          ],
          "scattergl": [
           {
            "marker": {
             "colorbar": {
              "outlinewidth": 0,
              "ticks": ""
             }
            },
            "type": "scattergl"
           }
          ],
          "scattermapbox": [
           {
            "marker": {
             "colorbar": {
              "outlinewidth": 0,
              "ticks": ""
             }
            },
            "type": "scattermapbox"
           }
          ],
          "scatterpolar": [
           {
            "marker": {
             "colorbar": {
              "outlinewidth": 0,
              "ticks": ""
             }
            },
            "type": "scatterpolar"
           }
          ],
          "scatterpolargl": [
           {
            "marker": {
             "colorbar": {
              "outlinewidth": 0,
              "ticks": ""
             }
            },
            "type": "scatterpolargl"
           }
          ],
          "scatterternary": [
           {
            "marker": {
             "colorbar": {
              "outlinewidth": 0,
              "ticks": ""
             }
            },
            "type": "scatterternary"
           }
          ],
          "surface": [
           {
            "colorbar": {
             "outlinewidth": 0,
             "ticks": ""
            },
            "colorscale": [
             [
              0,
              "#0d0887"
             ],
             [
              0.1111111111111111,
              "#46039f"
             ],
             [
              0.2222222222222222,
              "#7201a8"
             ],
             [
              0.3333333333333333,
              "#9c179e"
             ],
             [
              0.4444444444444444,
              "#bd3786"
             ],
             [
              0.5555555555555556,
              "#d8576b"
             ],
             [
              0.6666666666666666,
              "#ed7953"
             ],
             [
              0.7777777777777778,
              "#fb9f3a"
             ],
             [
              0.8888888888888888,
              "#fdca26"
             ],
             [
              1,
              "#f0f921"
             ]
            ],
            "type": "surface"
           }
          ],
          "table": [
           {
            "cells": {
             "fill": {
              "color": "#EBF0F8"
             },
             "line": {
              "color": "white"
             }
            },
            "header": {
             "fill": {
              "color": "#C8D4E3"
             },
             "line": {
              "color": "white"
             }
            },
            "type": "table"
           }
          ]
         },
         "layout": {
          "annotationdefaults": {
           "arrowcolor": "#2a3f5f",
           "arrowhead": 0,
           "arrowwidth": 1
          },
          "autotypenumbers": "strict",
          "coloraxis": {
           "colorbar": {
            "outlinewidth": 0,
            "ticks": ""
           }
          },
          "colorscale": {
           "diverging": [
            [
             0,
             "#8e0152"
            ],
            [
             0.1,
             "#c51b7d"
            ],
            [
             0.2,
             "#de77ae"
            ],
            [
             0.3,
             "#f1b6da"
            ],
            [
             0.4,
             "#fde0ef"
            ],
            [
             0.5,
             "#f7f7f7"
            ],
            [
             0.6,
             "#e6f5d0"
            ],
            [
             0.7,
             "#b8e186"
            ],
            [
             0.8,
             "#7fbc41"
            ],
            [
             0.9,
             "#4d9221"
            ],
            [
             1,
             "#276419"
            ]
           ],
           "sequential": [
            [
             0,
             "#0d0887"
            ],
            [
             0.1111111111111111,
             "#46039f"
            ],
            [
             0.2222222222222222,
             "#7201a8"
            ],
            [
             0.3333333333333333,
             "#9c179e"
            ],
            [
             0.4444444444444444,
             "#bd3786"
            ],
            [
             0.5555555555555556,
             "#d8576b"
            ],
            [
             0.6666666666666666,
             "#ed7953"
            ],
            [
             0.7777777777777778,
             "#fb9f3a"
            ],
            [
             0.8888888888888888,
             "#fdca26"
            ],
            [
             1,
             "#f0f921"
            ]
           ],
           "sequentialminus": [
            [
             0,
             "#0d0887"
            ],
            [
             0.1111111111111111,
             "#46039f"
            ],
            [
             0.2222222222222222,
             "#7201a8"
            ],
            [
             0.3333333333333333,
             "#9c179e"
            ],
            [
             0.4444444444444444,
             "#bd3786"
            ],
            [
             0.5555555555555556,
             "#d8576b"
            ],
            [
             0.6666666666666666,
             "#ed7953"
            ],
            [
             0.7777777777777778,
             "#fb9f3a"
            ],
            [
             0.8888888888888888,
             "#fdca26"
            ],
            [
             1,
             "#f0f921"
            ]
           ]
          },
          "colorway": [
           "#636efa",
           "#EF553B",
           "#00cc96",
           "#ab63fa",
           "#FFA15A",
           "#19d3f3",
           "#FF6692",
           "#B6E880",
           "#FF97FF",
           "#FECB52"
          ],
          "font": {
           "color": "#2a3f5f"
          },
          "geo": {
           "bgcolor": "white",
           "lakecolor": "white",
           "landcolor": "#E5ECF6",
           "showlakes": true,
           "showland": true,
           "subunitcolor": "white"
          },
          "hoverlabel": {
           "align": "left"
          },
          "hovermode": "closest",
          "mapbox": {
           "style": "light"
          },
          "paper_bgcolor": "white",
          "plot_bgcolor": "#E5ECF6",
          "polar": {
           "angularaxis": {
            "gridcolor": "white",
            "linecolor": "white",
            "ticks": ""
           },
           "bgcolor": "#E5ECF6",
           "radialaxis": {
            "gridcolor": "white",
            "linecolor": "white",
            "ticks": ""
           }
          },
          "scene": {
           "xaxis": {
            "backgroundcolor": "#E5ECF6",
            "gridcolor": "white",
            "gridwidth": 2,
            "linecolor": "white",
            "showbackground": true,
            "ticks": "",
            "zerolinecolor": "white"
           },
           "yaxis": {
            "backgroundcolor": "#E5ECF6",
            "gridcolor": "white",
            "gridwidth": 2,
            "linecolor": "white",
            "showbackground": true,
            "ticks": "",
            "zerolinecolor": "white"
           },
           "zaxis": {
            "backgroundcolor": "#E5ECF6",
            "gridcolor": "white",
            "gridwidth": 2,
            "linecolor": "white",
            "showbackground": true,
            "ticks": "",
            "zerolinecolor": "white"
           }
          },
          "shapedefaults": {
           "line": {
            "color": "#2a3f5f"
           }
          },
          "ternary": {
           "aaxis": {
            "gridcolor": "white",
            "linecolor": "white",
            "ticks": ""
           },
           "baxis": {
            "gridcolor": "white",
            "linecolor": "white",
            "ticks": ""
           },
           "bgcolor": "#E5ECF6",
           "caxis": {
            "gridcolor": "white",
            "linecolor": "white",
            "ticks": ""
           }
          },
          "title": {
           "x": 0.05
          },
          "xaxis": {
           "automargin": true,
           "gridcolor": "white",
           "linecolor": "white",
           "ticks": "",
           "title": {
            "standoff": 15
           },
           "zerolinecolor": "white",
           "zerolinewidth": 2
          },
          "yaxis": {
           "automargin": true,
           "gridcolor": "white",
           "linecolor": "white",
           "ticks": "",
           "title": {
            "standoff": 15
           },
           "zerolinecolor": "white",
           "zerolinewidth": 2
          }
         }
        },
        "title": {
         "text": "Walking"
        },
        "xaxis": {
         "anchor": "y",
         "domain": [
          0,
          1
         ],
         "title": {
          "text": "Time in UTC"
         }
        },
        "yaxis": {
         "anchor": "x",
         "domain": [
          0,
          1
         ],
         "title": {
          "text": "Altitude (M)"
         }
        }
       }
      }
     },
     "metadata": {},
     "output_type": "display_data"
    }
   ],
   "source": [
    "# Scatter plot of altitude vs time\n",
    "\n",
    "fig_1 = px.scatter(gps_df_wa, x=\"UTC\", y=\"Altitude\",labels={\"Altitude\": \"Altitude (M)\", \"UTC\": \"Time in UTC\"}, title=\"Walking\")\n",
    "fig_1.show()"
   ]
  },
  {
   "attachments": {},
   "cell_type": "markdown",
   "metadata": {},
   "source": [
    "***\n",
    "# How do your estimated error values change for stationary vs. moving data?\n",
    "For stationary data I calculated the eucledian distance between the position from GPS and the reference value. For moving data I used Plotly's inbuilt trendline that uses Add linear Ordinary Least Squares (OLS) regression trendlines which calculates the root mean square error and provides a best fit line.\n",
    "***"
   ]
  },
  {
   "attachments": {},
   "cell_type": "markdown",
   "metadata": {},
   "source": [
    "# Can you explain why this result is the case? What does this say about GPS navigation when moving for our receiver?\n",
    "\n",
    "From the data I collected from GPS, I can see that the GPS can be accurate in representing the direction of movement. Since the data overlaps pretty well with the best fit line with RMSE of 0.99. But that does not show the accuracy of the position data. And as we can see because of HDOP value the precision drops, hence there is no perfect overlap.\n",
    "***"
   ]
  },
  {
   "attachments": {},
   "cell_type": "markdown",
   "metadata": {},
   "source": [
    "# What are physically likely source(s) of error in these data sets?\n",
    "\n",
    "1. Difference in reference data got from google maps and the position where the GPS data was recorded. We should be in exactly in the same location where the google map marked the position to get the actual error.\n",
    "2. Radio emissions in nearby bands \n",
    "3. Atmospheric conditions (less likely since the sky was clear, but included becuase of atmospheric refractions)\n",
    "4. GPS receiver design feautres/quality\n",
    "5. Buildings and trees that may cause multi-path effect\n",
    "***"
   ]
  },
  {
   "cell_type": "code",
   "execution_count": null,
   "metadata": {},
   "outputs": [],
   "source": []
  }
 ],
 "metadata": {
  "kernelspec": {
   "display_name": "Python 3",
   "language": "python",
   "name": "python3"
  },
  "language_info": {
   "codemirror_mode": {
    "name": "ipython",
    "version": 3
   },
   "file_extension": ".py",
   "mimetype": "text/x-python",
   "name": "python",
   "nbconvert_exporter": "python",
   "pygments_lexer": "ipython3",
   "version": "3.8.10"
  },
  "orig_nbformat": 4,
  "vscode": {
   "interpreter": {
    "hash": "916dbcbb3f70747c44a77c7bcd40155683ae19c65e1c03b4aa3499c5328201f1"
   }
  }
 },
 "nbformat": 4,
 "nbformat_minor": 2
}
